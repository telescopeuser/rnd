{
 "cells": [
  {
   "cell_type": "markdown",
   "metadata": {},
   "source": [
    "# Text Translation - Support Both English & Chinese Inputs\n",
    "### www.KudosData.com\n",
    "#### By: Sam GU Zhan\n",
    "#### March, 2017"
   ]
  },
  {
   "cell_type": "markdown",
   "metadata": {},
   "source": [
    "# Imports"
   ]
  },
  {
   "cell_type": "code",
   "execution_count": 6,
   "metadata": {
    "collapsed": true
   },
   "outputs": [],
   "source": [
    "# coding=UTF-8\n",
    "from __future__ import division\n",
    "import re\n",
    "\n",
    "# Python2 unicode & float-division support:\n",
    "# from __future__ import unicode_literals, division"
   ]
  },
  {
   "cell_type": "code",
   "execution_count": null,
   "metadata": {
    "collapsed": true
   },
   "outputs": [],
   "source": []
  },
  {
   "cell_type": "code",
   "execution_count": 4,
   "metadata": {
    "collapsed": true
   },
   "outputs": [],
   "source": [
    "%matplotlib inline\n",
    "import pandas as pd\n",
    "import numpy as np\n",
    "import matplotlib.pyplot as plt\n",
    "\n",
    "import io\n",
    "\n",
    "# 中文字符和语言处理库\n",
    "import jieba\n",
    "\n",
    "# 机器学习库 sklearn 分类学习模型库\n",
    "#from sklearn import linear_model\n",
    "from sklearn.feature_extraction import DictVectorizer # 数据结构变换：把 Dict 转换为 稀疏矩阵\n",
    "# from sklearn.linear_model import LogisticRegression  # 逻辑回归分类模型\n",
    "# from sklearn.pipeline import make_pipeline # 封装机器学习模型流程\n",
    "# from sklearn.metrics import confusion_matrix, roc_curve, auc\n",
    "\n",
    "# 中文显示设置\n",
    "from pylab import *  \n",
    "mpl.rcParams['font.sans-serif'] = ['SimHei'] # 指定默认字体  \n",
    "mpl.rcParams['axes.unicode_minus'] = False # 解决保存图像是负号'-'显示为方块的问题 \n",
    "mpl.rcParams['font.size'] = 14 # 设置字体大小\n",
    "\n",
    "np.random.seed(88)"
   ]
  },
  {
   "cell_type": "markdown",
   "metadata": {},
   "source": [
    "# Define Functions"
   ]
  },
  {
   "cell_type": "code",
   "execution_count": 8,
   "metadata": {
    "collapsed": true
   },
   "outputs": [],
   "source": [
    "# Python3\n",
    "# 中文分词功能小函数， 输出 字符串， 各词组由空格分隔\n",
    "def KudosData_word_tokenizer(foo):\n",
    "    # remove lead & tail spaces firstly:\n",
    "    foo = foo.strip()\n",
    "    seg_token = jieba.cut(str(foo), cut_all=True)\n",
    "    seg_str = str(' '.join(seg_token)).strip()\n",
    "\n",
    "    return seg_str\n",
    "# Python2\n",
    "# 中文分词功能小函数， 输出 字符串， 各词组由空格分隔\n",
    "# def KudosData_word_tokenizer(foo):\n",
    "#     seg_token = jieba.cut(foo, cut_all=True)\n",
    "#     seg_str = ' '.join(seg_token)\n",
    "#     return seg_str"
   ]
  },
  {
   "cell_type": "code",
   "execution_count": 5,
   "metadata": {
    "collapsed": true
   },
   "outputs": [],
   "source": [
    "# Python3\n",
    "# 中文分词功能小函数， 输出 字符串， 各词组由空格分隔\n",
    "def KudosData_word_count(foo):\n",
    "    # remove lead & tail spaces firstly:\n",
    "    foo = foo.strip()\n",
    "    seg_token = jieba.cut(str(foo), cut_all=True)\n",
    "    seg_str = str(' '.join(seg_token)).strip()\n",
    "    seg_count = pd.value_counts(str(seg_str).lower().split(' '))\n",
    "    seg_count = seg_count.to_dict() \n",
    "    seg_count.pop('', None) # remove EMPTY dict key: ''\n",
    "#     输出 dictionary： { key 词组， value 计数 }\n",
    "    #     return seg_count.to_dict()\n",
    "    return seg_count\n",
    "\n",
    "# Python2\n",
    "# 中文分词功能小函数， 输出 dictionary： { key 词组， value 计数 }\n",
    "# def KudosData_word_count(foo):\n",
    "#     seg_token = jieba.cut(foo, cut_all=True)\n",
    "#     seg_str = '^'.join(seg_token)\n",
    "#     seg_count = pd.value_counts(seg_str.lower().split('^'))\n",
    "#     return seg_count.to_dict()\n"
   ]
  },
  {
   "cell_type": "markdown",
   "metadata": {},
   "source": [
    "# Input text"
   ]
  },
  {
   "cell_type": "code",
   "execution_count": 6,
   "metadata": {
    "collapsed": false
   },
   "outputs": [],
   "source": [
    "# process Unicode text input\n",
    "with io.open('output_topic_summary.txt','r',encoding='utf8') as f:\n",
    "    content = f.read()\n",
    "\n",
    "title = '''\n",
    "<Dummy Title>\n",
    "'''"
   ]
  },
  {
   "cell_type": "code",
   "execution_count": 7,
   "metadata": {
    "collapsed": false,
    "scrolled": false
   },
   "outputs": [
    {
     "data": {
      "text/plain": [
       "'No. Paragraphs  : 213\\nOriginal Length : 32378\\nSummary  Length : 143\\nSummary  Ratio  : 0.44 %\\n\\nTitle of Article: 《黄金时代》 王小波\\n\\n可是她说，快，混蛋，还拧我的腿。\\n\\nGolden Age 《黄金时代》\\nWang xiaobo 王小波\\n \\n \\none  一  \\n \\nWhen I was twenty years old, I was \"jumping\" in Yunnan. \\u3000\\u3000我二十一岁时，正在云南“插队”。\\n Chen Ching-yang was twenty-six years old, just when I jumped into the team as a doctor. 陈清扬当时二十六岁，就在我插队的地方当医生。\\n I am under the foot of the fourteen teams in the mountains, she fifteen teams in the mountains. 我在山下十四队，她在山上十五队。\\n One day she came down from the mountain, and I discussed her not the \\'broken shoes\\'. 有一天她从山上下来，和我讨论她不是‘破鞋’的问题。\\n At that time I did not know her, can only say that little know. 那时我还不大认识她，只能说有一点知道。\\n The thing she wants to discuss is this: though all the people say she is a broken shoe, but she thinks she is not. 她要讨论的事是这祥的：虽然所有的人都说她是一个破鞋，但她以为自己不是的。\\n Because the broken shoes to steal Han, and she did not laugh Han. 因为破鞋偷汉，而她没有愉过汉。\\n Although her husband had lived for one year, she had not stolen. 虽然她丈夫已经住了一年监狱，但她没有偷过汉。\\n Before this did not steal Han. 在此之前也未偷过汉。\\n So she simply do not understand why people say she is broken shoes. 所以她简直不明白，人们为什么要说她是破鞋。\\n If I want to comfort her, it is not difficult. 如果我要安慰她，并不困难。\\n I can logically prove that she is not breaking shoes. 我可以从逻辑上证明她不是破鞋。\\n If Chen Qingyang is broken shoes, that Chen Qingyang steal Han, then at least one of them stolen for it. 如果陈清扬是破鞋，即陈清扬偷汉，则起码有一个某人为其所偷。\\n Now can not point out someone, so Chen Qingyang can not be established. 如今不能指出某人，所以陈清扬偷汉不能成立。\\n But I say, Chen Qiangyang is broken shoes, and this is no doubt. 但是我偏说，陈清扬就是破鞋，而且这一点毋庸置疑。\\n '"
      ]
     },
     "execution_count": 7,
     "metadata": {},
     "output_type": "execute_result"
    }
   ],
   "source": [
    "content"
   ]
  },
  {
   "cell_type": "code",
   "execution_count": null,
   "metadata": {
    "collapsed": true
   },
   "outputs": [],
   "source": []
  },
  {
   "cell_type": "markdown",
   "metadata": {},
   "source": [
    "https://pypi.python.org/pypi/translate"
   ]
  },
  {
   "cell_type": "code",
   "execution_count": 8,
   "metadata": {
    "collapsed": false
   },
   "outputs": [],
   "source": [
    "import translate"
   ]
  },
  {
   "cell_type": "code",
   "execution_count": 10,
   "metadata": {
    "collapsed": false
   },
   "outputs": [
    {
     "ename": "HTTPError",
     "evalue": "503 Server Error: Service Unavailable for url: https://translate.google.com/translate_a/single?dt=t&client=a&ie=utf-8&sl=en&tl=zh&oe=utf-8&q=No.+Paragraphs++%3A+213%0AOriginal+Length+%3A+32378%0ASummary++Length+%3A+143%0ASummary++Ratio++%3A+0.44+%25%0A%0ATitle+of+Article%3A+%E3%80%8A%E9%BB%84%E9%87%91%E6%97%B6%E4%BB%A3%E3%80%8B+%E7%8E%8B%E5%B0%8F%E6%B3%A2%0A%0A%E5%8F%AF%E6%98%AF%E5%A5%B9%E8%AF%B4%EF%BC%8C%E5%BF%AB%EF%BC%8C%E6%B7%B7%E8%9B%8B%EF%BC%8C%E8%BF%98%E6%8B%A7%E6%88%91%E7%9A%84%E8%85%BF%E3%80%82%0A%0AGolden+Age+%E3%80%8A%E9%BB%84%E9%87%91%E6%97%B6%E4%BB%A3%E3%80%8B%0AWang+xiaobo+%E7%8E%8B%E5%B0%8F%E6%B3%A2%0A+%0A+%0Aone++%E4%B8%80++%0A+%0AWhen+I+was+twenty+years+old%2C+I+was+%22jumping%22+in+Yunnan.+%E3%80%80%E3%80%80%E6%88%91%E4%BA%8C%E5%8D%81%E4%B8%80%E5%B2%81%E6%97%B6%EF%BC%8C%E6%AD%A3%E5%9C%A8%E4%BA%91%E5%8D%97%E2%80%9C%E6%8F%92%E9%98%9F%E2%80%9D%E3%80%82%0A+Chen+Ching-yang+was+twenty-six+years+old%2C+just+when+I+jumped+into+the+team+as+a+doctor.+%E9%99%88%E6%B8%85%E6%89%AC%E5%BD%93%E6%97%B6%E4%BA%8C%E5%8D%81%E5%85%AD%E5%B2%81%EF%BC%8C%E5%B0%B1%E5%9C%A8%E6%88%91%E6%8F%92%E9%98%9F%E7%9A%84%E5%9C%B0%E6%96%B9%E5%BD%93%E5%8C%BB%E7%94%9F%E3%80%82%0A+I+am+under+the+foot+of+the+fourteen+teams+in+the+mountains%2C+she+fifteen+teams+in+the+mountains.+%E6%88%91%E5%9C%A8%E5%B1%B1%E4%B8%8B%E5%8D%81%E5%9B%9B%E9%98%9F%EF%BC%8C%E5%A5%B9%E5%9C%A8%E5%B1%B1%E4%B8%8A%E5%8D%81%E4%BA%94%E9%98%9F%E3%80%82%0A+One+day+she+came+down+from+the+mountain%2C+and+I+discussed+her+not+the+%27broken+shoes%27.+%E6%9C%89%E4%B8%80%E5%A4%A9%E5%A5%B9%E4%BB%8E%E5%B1%B1%E4%B8%8A%E4%B8%8B%E6%9D%A5%EF%BC%8C%E5%92%8C%E6%88%91%E8%AE%A8%E8%AE%BA%E5%A5%B9%E4%B8%8D%E6%98%AF%E2%80%98%E7%A0%B4%E9%9E%8B%E2%80%99%E7%9A%84%E9%97%AE%E9%A2%98%E3%80%82%0A+At+that+time+I+did+not+know+her%2C+can+only+say+that+little+know.+%E9%82%A3%E6%97%B6%E6%88%91%E8%BF%98%E4%B8%8D%E5%A4%A7%E8%AE%A4%E8%AF%86%E5%A5%B9%EF%BC%8C%E5%8F%AA%E8%83%BD%E8%AF%B4%E6%9C%89%E4%B8%80%E7%82%B9%E7%9F%A5%E9%81%93%E3%80%82%0A+The+thing+she+wants+to+discuss+is+this%3A+though+all+the+people+say+she+is+a+broken+shoe%2C+but+she+thinks+she+is+not.+%E5%A5%B9%E8%A6%81%E8%AE%A8%E8%AE%BA%E7%9A%84%E4%BA%8B%E6%98%AF%E8%BF%99%E7%A5%A5%E7%9A%84%EF%BC%9A%E8%99%BD%E7%84%B6%E6%89%80%E6%9C%89%E7%9A%84%E4%BA%BA%E9%83%BD%E8%AF%B4%E5%A5%B9%E6%98%AF%E4%B8%80%E4%B8%AA%E7%A0%B4%E9%9E%8B%EF%BC%8C%E4%BD%86%E5%A5%B9%E4%BB%A5%E4%B8%BA%E8%87%AA%E5%B7%B1%E4%B8%8D%E6%98%AF%E7%9A%84%E3%80%82%0A+Because+the+broken+shoes+to+steal+Han%2C+and+she+did+not+laugh+Han.+%E5%9B%A0%E4%B8%BA%E7%A0%B4%E9%9E%8B%E5%81%B7%E6%B1%89%EF%BC%8C%E8%80%8C%E5%A5%B9%E6%B2%A1%E6%9C%89%E6%84%89%E8%BF%87%E6%B1%89%E3%80%82%0A+Although+her+husband+had+lived+for+one+year%2C+she+had+not+stolen.+%E8%99%BD%E7%84%B6%E5%A5%B9%E4%B8%88%E5%A4%AB%E5%B7%B2%E7%BB%8F%E4%BD%8F%E4%BA%86%E4%B8%80%E5%B9%B4%E7%9B%91%E7%8B%B1%EF%BC%8C%E4%BD%86%E5%A5%B9%E6%B2%A1%E6%9C%89%E5%81%B7%E8%BF%87%E6%B1%89%E3%80%82%0A+Before+this+did+not+steal+Han.+%E5%9C%A8%E6%AD%A4%E4%B9%8B%E5%89%8D%E4%B9%9F%E6%9C%AA%E5%81%B7%E8%BF%87%E6%B1%89%E3%80%82%0A+So+she+simply+do+not+understand+why+people+say+she+is+broken+shoes.+%E6%89%80%E4%BB%A5%E5%A5%B9%E7%AE%80%E7%9B%B4%E4%B8%8D%E6%98%8E%E7%99%BD%EF%BC%8C%E4%BA%BA%E4%BB%AC%E4%B8%BA%E4%BB%80%E4%B9%88%E8%A6%81%E8%AF%B4%E5%A5%B9%E6%98%AF%E7%A0%B4%E9%9E%8B%E3%80%82%0A+If+I+want+to+comfort+her%2C+it+is+not+difficult.+%E5%A6%82%E6%9E%9C%E6%88%91%E8%A6%81%E5%AE%89%E6%85%B0%E5%A5%B9%EF%BC%8C%E5%B9%B6%E4%B8%8D%E5%9B%B0%E9%9A%BE%E3%80%82%0A+I+can+logically+prove+that+she+is+not+breaking+shoes.+%E6%88%91%E5%8F%AF%E4%BB%A5%E4%BB%8E%E9%80%BB%E8%BE%91%E4%B8%8A%E8%AF%81%E6%98%8E%E5%A5%B9%E4%B8%8D%E6%98%AF%E7%A0%B4%E9%9E%8B%E3%80%82%0A+If+Chen+Qingyang+is+broken+shoes%2C+that+Chen+Qingyang+steal+Han%2C+then+at+least+one+of+them+stolen+for+it.+%E5%A6%82%E6%9E%9C%E9%99%88%E6%B8%85%E6%89%AC%E6%98%AF%E7%A0%B4%E9%9E%8B%EF%BC%8C%E5%8D%B3%E9%99%88%E6%B8%85%E6%89%AC%E5%81%B7%E6%B1%89%EF%BC%8C%E5%88%99%E8%B5%B7%E7%A0%81%E6%9C%89%E4%B8%80%E4%B8%AA%E6%9F%90%E4%BA%BA%E4%B8%BA%E5%85%B6%E6%89%80%E5%81%B7%E3%80%82%0A+Now+can+not+point+out+someone%2C+so+Chen+Qingyang+can+not+be+established.+%E5%A6%82%E4%BB%8A%E4%B8%8D%E8%83%BD%E6%8C%87%E5%87%BA%E6%9F%90%E4%BA%BA%EF%BC%8C%E6%89%80%E4%BB%A5%E9%99%88%E6%B8%85%E6%89%AC%E5%81%B7%E6%B1%89%E4%B8%8D%E8%83%BD%E6%88%90%E7%AB%8B%E3%80%82%0A+But+I+say%2C+Chen+Qiangyang+is+broken+shoes%2C+and+this+is+no+doubt.+%E4%BD%86%E6%98%AF%E6%88%91%E5%81%8F%E8%AF%B4%EF%BC%8C%E9%99%88%E6%B8%85%E6%89%AC%E5%B0%B1%E6%98%AF%E7%A0%B4%E9%9E%8B%EF%BC%8C%E8%80%8C%E4%B8%94%E8%BF%99%E4%B8%80%E7%82%B9%E6%AF%8B%E5%BA%B8%E7%BD%AE%E7%96%91%E3%80%82%0A+",
     "output_type": "error",
     "traceback": [
      "\u001b[1;31m---------------------------------------------------------------------------\u001b[0m",
      "\u001b[1;31mHTTPError\u001b[0m                                 Traceback (most recent call last)",
      "\u001b[1;32m<ipython-input-10-de8b4f2d70fc>\u001b[0m in \u001b[0;36m<module>\u001b[1;34m()\u001b[0m\n\u001b[1;32m----> 1\u001b[1;33m \u001b[0mtranslate\u001b[0m\u001b[1;33m.\u001b[0m\u001b[0mtranslator\u001b[0m\u001b[1;33m(\u001b[0m\u001b[1;34m'en'\u001b[0m\u001b[1;33m,\u001b[0m \u001b[1;34m'zh'\u001b[0m\u001b[1;33m,\u001b[0m \u001b[0mcontent\u001b[0m\u001b[1;33m)\u001b[0m\u001b[1;33m\u001b[0m\u001b[0m\n\u001b[0m",
      "\u001b[1;32mG:\\Tool_PGM\\Anaconda3\\lib\\site-packages\\translate\\translator.py\u001b[0m in \u001b[0;36mconnection\u001b[1;34m(*args, **kwargs)\u001b[0m\n\u001b[0;32m     49\u001b[0m \u001b[1;33m\u001b[0m\u001b[0m\n\u001b[0;32m     50\u001b[0m         \u001b[1;32mif\u001b[0m \u001b[0mresponse\u001b[0m\u001b[1;33m.\u001b[0m\u001b[0mstatus_code\u001b[0m \u001b[1;33m!=\u001b[0m \u001b[0mrequests\u001b[0m\u001b[1;33m.\u001b[0m\u001b[0mcodes\u001b[0m\u001b[1;33m.\u001b[0m\u001b[0mok\u001b[0m\u001b[1;33m:\u001b[0m\u001b[1;33m\u001b[0m\u001b[0m\n\u001b[1;32m---> 51\u001b[1;33m             \u001b[0mresponse\u001b[0m\u001b[1;33m.\u001b[0m\u001b[0mraise_for_status\u001b[0m\u001b[1;33m(\u001b[0m\u001b[1;33m)\u001b[0m\u001b[1;33m\u001b[0m\u001b[0m\n\u001b[0m\u001b[0;32m     52\u001b[0m \u001b[1;33m\u001b[0m\u001b[0m\n\u001b[0;32m     53\u001b[0m         \u001b[0mcleanup\u001b[0m \u001b[1;33m=\u001b[0m \u001b[0mre\u001b[0m\u001b[1;33m.\u001b[0m\u001b[0msubn\u001b[0m\u001b[1;33m(\u001b[0m\u001b[1;34mr',(?=,)'\u001b[0m\u001b[1;33m,\u001b[0m \u001b[1;34m''\u001b[0m\u001b[1;33m,\u001b[0m \u001b[0mresponse\u001b[0m\u001b[1;33m.\u001b[0m\u001b[0mcontent\u001b[0m\u001b[1;33m.\u001b[0m\u001b[0mdecode\u001b[0m\u001b[1;33m(\u001b[0m\u001b[1;34m'utf-8'\u001b[0m\u001b[1;33m)\u001b[0m\u001b[1;33m)\u001b[0m\u001b[1;33m[\u001b[0m\u001b[1;36m0\u001b[0m\u001b[1;33m]\u001b[0m\u001b[1;33m\u001b[0m\u001b[0m\n",
      "\u001b[1;32mG:\\Tool_PGM\\Anaconda3\\lib\\site-packages\\requests\\models.py\u001b[0m in \u001b[0;36mraise_for_status\u001b[1;34m(self)\u001b[0m\n\u001b[0;32m    838\u001b[0m \u001b[1;33m\u001b[0m\u001b[0m\n\u001b[0;32m    839\u001b[0m         \u001b[1;32mif\u001b[0m \u001b[0mhttp_error_msg\u001b[0m\u001b[1;33m:\u001b[0m\u001b[1;33m\u001b[0m\u001b[0m\n\u001b[1;32m--> 840\u001b[1;33m             \u001b[1;32mraise\u001b[0m \u001b[0mHTTPError\u001b[0m\u001b[1;33m(\u001b[0m\u001b[0mhttp_error_msg\u001b[0m\u001b[1;33m,\u001b[0m \u001b[0mresponse\u001b[0m\u001b[1;33m=\u001b[0m\u001b[0mself\u001b[0m\u001b[1;33m)\u001b[0m\u001b[1;33m\u001b[0m\u001b[0m\n\u001b[0m\u001b[0;32m    841\u001b[0m \u001b[1;33m\u001b[0m\u001b[0m\n\u001b[0;32m    842\u001b[0m     \u001b[1;32mdef\u001b[0m \u001b[0mclose\u001b[0m\u001b[1;33m(\u001b[0m\u001b[0mself\u001b[0m\u001b[1;33m)\u001b[0m\u001b[1;33m:\u001b[0m\u001b[1;33m\u001b[0m\u001b[0m\n",
      "\u001b[1;31mHTTPError\u001b[0m: 503 Server Error: Service Unavailable for url: https://translate.google.com/translate_a/single?dt=t&client=a&ie=utf-8&sl=en&tl=zh&oe=utf-8&q=No.+Paragraphs++%3A+213%0AOriginal+Length+%3A+32378%0ASummary++Length+%3A+143%0ASummary++Ratio++%3A+0.44+%25%0A%0ATitle+of+Article%3A+%E3%80%8A%E9%BB%84%E9%87%91%E6%97%B6%E4%BB%A3%E3%80%8B+%E7%8E%8B%E5%B0%8F%E6%B3%A2%0A%0A%E5%8F%AF%E6%98%AF%E5%A5%B9%E8%AF%B4%EF%BC%8C%E5%BF%AB%EF%BC%8C%E6%B7%B7%E8%9B%8B%EF%BC%8C%E8%BF%98%E6%8B%A7%E6%88%91%E7%9A%84%E8%85%BF%E3%80%82%0A%0AGolden+Age+%E3%80%8A%E9%BB%84%E9%87%91%E6%97%B6%E4%BB%A3%E3%80%8B%0AWang+xiaobo+%E7%8E%8B%E5%B0%8F%E6%B3%A2%0A+%0A+%0Aone++%E4%B8%80++%0A+%0AWhen+I+was+twenty+years+old%2C+I+was+%22jumping%22+in+Yunnan.+%E3%80%80%E3%80%80%E6%88%91%E4%BA%8C%E5%8D%81%E4%B8%80%E5%B2%81%E6%97%B6%EF%BC%8C%E6%AD%A3%E5%9C%A8%E4%BA%91%E5%8D%97%E2%80%9C%E6%8F%92%E9%98%9F%E2%80%9D%E3%80%82%0A+Chen+Ching-yang+was+twenty-six+years+old%2C+just+when+I+jumped+into+the+team+as+a+doctor.+%E9%99%88%E6%B8%85%E6%89%AC%E5%BD%93%E6%97%B6%E4%BA%8C%E5%8D%81%E5%85%AD%E5%B2%81%EF%BC%8C%E5%B0%B1%E5%9C%A8%E6%88%91%E6%8F%92%E9%98%9F%E7%9A%84%E5%9C%B0%E6%96%B9%E5%BD%93%E5%8C%BB%E7%94%9F%E3%80%82%0A+I+am+under+the+foot+of+the+fourteen+teams+in+the+mountains%2C+she+fifteen+teams+in+the+mountains.+%E6%88%91%E5%9C%A8%E5%B1%B1%E4%B8%8B%E5%8D%81%E5%9B%9B%E9%98%9F%EF%BC%8C%E5%A5%B9%E5%9C%A8%E5%B1%B1%E4%B8%8A%E5%8D%81%E4%BA%94%E9%98%9F%E3%80%82%0A+One+day+she+came+down+from+the+mountain%2C+and+I+discussed+her+not+the+%27broken+shoes%27.+%E6%9C%89%E4%B8%80%E5%A4%A9%E5%A5%B9%E4%BB%8E%E5%B1%B1%E4%B8%8A%E4%B8%8B%E6%9D%A5%EF%BC%8C%E5%92%8C%E6%88%91%E8%AE%A8%E8%AE%BA%E5%A5%B9%E4%B8%8D%E6%98%AF%E2%80%98%E7%A0%B4%E9%9E%8B%E2%80%99%E7%9A%84%E9%97%AE%E9%A2%98%E3%80%82%0A+At+that+time+I+did+not+know+her%2C+can+only+say+that+little+know.+%E9%82%A3%E6%97%B6%E6%88%91%E8%BF%98%E4%B8%8D%E5%A4%A7%E8%AE%A4%E8%AF%86%E5%A5%B9%EF%BC%8C%E5%8F%AA%E8%83%BD%E8%AF%B4%E6%9C%89%E4%B8%80%E7%82%B9%E7%9F%A5%E9%81%93%E3%80%82%0A+The+thing+she+wants+to+discuss+is+this%3A+though+all+the+people+say+she+is+a+broken+shoe%2C+but+she+thinks+she+is+not.+%E5%A5%B9%E8%A6%81%E8%AE%A8%E8%AE%BA%E7%9A%84%E4%BA%8B%E6%98%AF%E8%BF%99%E7%A5%A5%E7%9A%84%EF%BC%9A%E8%99%BD%E7%84%B6%E6%89%80%E6%9C%89%E7%9A%84%E4%BA%BA%E9%83%BD%E8%AF%B4%E5%A5%B9%E6%98%AF%E4%B8%80%E4%B8%AA%E7%A0%B4%E9%9E%8B%EF%BC%8C%E4%BD%86%E5%A5%B9%E4%BB%A5%E4%B8%BA%E8%87%AA%E5%B7%B1%E4%B8%8D%E6%98%AF%E7%9A%84%E3%80%82%0A+Because+the+broken+shoes+to+steal+Han%2C+and+she+did+not+laugh+Han.+%E5%9B%A0%E4%B8%BA%E7%A0%B4%E9%9E%8B%E5%81%B7%E6%B1%89%EF%BC%8C%E8%80%8C%E5%A5%B9%E6%B2%A1%E6%9C%89%E6%84%89%E8%BF%87%E6%B1%89%E3%80%82%0A+Although+her+husband+had+lived+for+one+year%2C+she+had+not+stolen.+%E8%99%BD%E7%84%B6%E5%A5%B9%E4%B8%88%E5%A4%AB%E5%B7%B2%E7%BB%8F%E4%BD%8F%E4%BA%86%E4%B8%80%E5%B9%B4%E7%9B%91%E7%8B%B1%EF%BC%8C%E4%BD%86%E5%A5%B9%E6%B2%A1%E6%9C%89%E5%81%B7%E8%BF%87%E6%B1%89%E3%80%82%0A+Before+this+did+not+steal+Han.+%E5%9C%A8%E6%AD%A4%E4%B9%8B%E5%89%8D%E4%B9%9F%E6%9C%AA%E5%81%B7%E8%BF%87%E6%B1%89%E3%80%82%0A+So+she+simply+do+not+understand+why+people+say+she+is+broken+shoes.+%E6%89%80%E4%BB%A5%E5%A5%B9%E7%AE%80%E7%9B%B4%E4%B8%8D%E6%98%8E%E7%99%BD%EF%BC%8C%E4%BA%BA%E4%BB%AC%E4%B8%BA%E4%BB%80%E4%B9%88%E8%A6%81%E8%AF%B4%E5%A5%B9%E6%98%AF%E7%A0%B4%E9%9E%8B%E3%80%82%0A+If+I+want+to+comfort+her%2C+it+is+not+difficult.+%E5%A6%82%E6%9E%9C%E6%88%91%E8%A6%81%E5%AE%89%E6%85%B0%E5%A5%B9%EF%BC%8C%E5%B9%B6%E4%B8%8D%E5%9B%B0%E9%9A%BE%E3%80%82%0A+I+can+logically+prove+that+she+is+not+breaking+shoes.+%E6%88%91%E5%8F%AF%E4%BB%A5%E4%BB%8E%E9%80%BB%E8%BE%91%E4%B8%8A%E8%AF%81%E6%98%8E%E5%A5%B9%E4%B8%8D%E6%98%AF%E7%A0%B4%E9%9E%8B%E3%80%82%0A+If+Chen+Qingyang+is+broken+shoes%2C+that+Chen+Qingyang+steal+Han%2C+then+at+least+one+of+them+stolen+for+it.+%E5%A6%82%E6%9E%9C%E9%99%88%E6%B8%85%E6%89%AC%E6%98%AF%E7%A0%B4%E9%9E%8B%EF%BC%8C%E5%8D%B3%E9%99%88%E6%B8%85%E6%89%AC%E5%81%B7%E6%B1%89%EF%BC%8C%E5%88%99%E8%B5%B7%E7%A0%81%E6%9C%89%E4%B8%80%E4%B8%AA%E6%9F%90%E4%BA%BA%E4%B8%BA%E5%85%B6%E6%89%80%E5%81%B7%E3%80%82%0A+Now+can+not+point+out+someone%2C+so+Chen+Qingyang+can+not+be+established.+%E5%A6%82%E4%BB%8A%E4%B8%8D%E8%83%BD%E6%8C%87%E5%87%BA%E6%9F%90%E4%BA%BA%EF%BC%8C%E6%89%80%E4%BB%A5%E9%99%88%E6%B8%85%E6%89%AC%E5%81%B7%E6%B1%89%E4%B8%8D%E8%83%BD%E6%88%90%E7%AB%8B%E3%80%82%0A+But+I+say%2C+Chen+Qiangyang+is+broken+shoes%2C+and+this+is+no+doubt.+%E4%BD%86%E6%98%AF%E6%88%91%E5%81%8F%E8%AF%B4%EF%BC%8C%E9%99%88%E6%B8%85%E6%89%AC%E5%B0%B1%E6%98%AF%E7%A0%B4%E9%9E%8B%EF%BC%8C%E8%80%8C%E4%B8%94%E8%BF%99%E4%B8%80%E7%82%B9%E6%AF%8B%E5%BA%B8%E7%BD%AE%E7%96%91%E3%80%82%0A+"
     ]
    }
   ],
   "source": [
    "translate.translator('en', 'zh', content)"
   ]
  },
  {
   "cell_type": "code",
   "execution_count": null,
   "metadata": {
    "collapsed": true
   },
   "outputs": [],
   "source": []
  },
  {
   "cell_type": "code",
   "execution_count": null,
   "metadata": {
    "collapsed": true
   },
   "outputs": [],
   "source": []
  }
 ],
 "metadata": {
  "kernelspec": {
   "display_name": "Python 3",
   "language": "python",
   "name": "python3"
  },
  "language_info": {
   "codemirror_mode": {
    "name": "ipython",
    "version": 3
   },
   "file_extension": ".py",
   "mimetype": "text/x-python",
   "name": "python",
   "nbconvert_exporter": "python",
   "pygments_lexer": "ipython3",
   "version": "3.5.1"
  }
 },
 "nbformat": 4,
 "nbformat_minor": 2
}
