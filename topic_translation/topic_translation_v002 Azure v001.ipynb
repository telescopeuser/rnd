{
 "cells": [
  {
   "cell_type": "markdown",
   "metadata": {},
   "source": [
    "# KudosData Intelligent Translator - MS Azure Text Translator API\n",
    "### www.KudosData.com\n",
    "#### By: Sam GU Zhan\n",
    "#### March, 2017"
   ]
  },
  {
   "cell_type": "markdown",
   "metadata": {},
   "source": [
    "https://github.com/MicrosoftTranslator/PythonConsole/blob/master/MTPythonSampleCode/MTPythonSampleCode.py"
   ]
  },
  {
   "cell_type": "code",
   "execution_count": 3,
   "metadata": {
    "collapsed": false
   },
   "outputs": [],
   "source": [
    "import json\n",
    "import requests\n",
    "import urllib\n",
    "\n",
    "from xml.etree import ElementTree\n",
    "\n",
    "# Python3 issue\n",
    "# solution: created tread.py file\n",
    "# http://stackoverflow.com/questions/36809788/importerror-no-module-named-thread\n",
    "# import thread\n",
    "\n",
    "# python 2\n",
    "# import StringIO\n",
    "# python 3\n",
    "# from io import StringIO\n",
    "\n",
    "# import websocket\n",
    "# import wave\n",
    "# import audioop\n",
    "# from time import sleep\n",
    "# import struct\n",
    "# import sys\n",
    "# import codecs"
   ]
  },
  {
   "cell_type": "code",
   "execution_count": 7,
   "metadata": {
    "collapsed": false
   },
   "outputs": [],
   "source": [
    "# # process Unicode text input for translation\n",
    "\n",
    "# import io\n",
    "# with io.open('output_topic_summary.txt','r',encoding='utf8') as f:\n",
    "#     content = f.read()"
   ]
  },
  {
   "cell_type": "code",
   "execution_count": 69,
   "metadata": {
    "collapsed": false
   },
   "outputs": [],
   "source": [
    "def GetToken(): #Get the access token from ADM, token is good for 10 minutes\n",
    "    client_secret = '45639ea7f20b42b796c2d8b71ee56bb3'\n",
    "    url = 'https://api.cognitive.microsoft.com/sts/v1.0/issueToken?Subscription-Key='\n",
    "    url_key = url + client_secret\n",
    "    \n",
    "    try:\n",
    "        oauthToken = requests.post(url_key, data='').content.decode('utf-8')\n",
    "        finalToken = \"Bearer \" + oauthToken #prepare the token\n",
    "    except OSError:\n",
    "        pass\n",
    "\n",
    "    return finalToken\n",
    "#End GetToken"
   ]
  },
  {
   "cell_type": "code",
   "execution_count": 70,
   "metadata": {
    "collapsed": false,
    "scrolled": true
   },
   "outputs": [],
   "source": [
    "finalToken = GetToken()\n",
    "# print(finalToken)"
   ]
  },
  {
   "cell_type": "code",
   "execution_count": 79,
   "metadata": {
    "collapsed": true
   },
   "outputs": [],
   "source": [
    "# textToTranslate = content\n",
    "textToTranslate = 'This is KudosData.com\\'s intelligent translator debut! 这是KudosData.com智能翻译器的首次亮相！'"
   ]
  },
  {
   "cell_type": "code",
   "execution_count": 80,
   "metadata": {
    "collapsed": true
   },
   "outputs": [],
   "source": [
    "fromLangCode = 'zh'"
   ]
  },
  {
   "cell_type": "code",
   "execution_count": 81,
   "metadata": {
    "collapsed": true
   },
   "outputs": [],
   "source": [
    "toLangCode = 'en'"
   ]
  },
  {
   "cell_type": "code",
   "execution_count": 82,
   "metadata": {
    "collapsed": true
   },
   "outputs": [],
   "source": [
    "headers = {\"Authorization \": finalToken}"
   ]
  },
  {
   "cell_type": "code",
   "execution_count": 83,
   "metadata": {
    "collapsed": false
   },
   "outputs": [],
   "source": [
    "# translateUrl = \"http://api.microsofttranslator.com/v2/Http.svc/Translate?text={}&to={}\".format(textToTranslate, toLangCode)\n",
    "translateUrl = \"http://api.microsofttranslator.com/v2/Http.svc/Translate?text={}&from={}&to={}\".format(textToTranslate, \n",
    "                                                                                                       fromLangCode, \n",
    "                                                                                                       toLangCode)\n"
   ]
  },
  {
   "cell_type": "code",
   "execution_count": 84,
   "metadata": {
    "collapsed": false
   },
   "outputs": [],
   "source": [
    "translationData = requests.get(translateUrl, headers = headers) #make request"
   ]
  },
  {
   "cell_type": "code",
   "execution_count": 85,
   "metadata": {
    "collapsed": false
   },
   "outputs": [],
   "source": [
    "translation = ElementTree.fromstring(translationData.text.encode('utf-8')) # parse xml return values"
   ]
  },
  {
   "cell_type": "code",
   "execution_count": 86,
   "metadata": {
    "collapsed": false
   },
   "outputs": [
    {
     "name": "stdout",
     "output_type": "stream",
     "text": [
      "The translation is --->  This is KudosData.com's intelligent translator debut! This is the debut of KudosData.com intelligent translator!\n"
     ]
    }
   ],
   "source": [
    "print(\"The translation is ---> \", translation.text) #display translation"
   ]
  },
  {
   "cell_type": "code",
   "execution_count": null,
   "metadata": {
    "collapsed": true
   },
   "outputs": [],
   "source": []
  },
  {
   "cell_type": "code",
   "execution_count": null,
   "metadata": {
    "collapsed": true
   },
   "outputs": [],
   "source": []
  },
  {
   "cell_type": "code",
   "execution_count": null,
   "metadata": {
    "collapsed": true
   },
   "outputs": [],
   "source": []
  }
 ],
 "metadata": {
  "kernelspec": {
   "display_name": "Python 3",
   "language": "python",
   "name": "python3"
  },
  "language_info": {
   "codemirror_mode": {
    "name": "ipython",
    "version": 3
   },
   "file_extension": ".py",
   "mimetype": "text/x-python",
   "name": "python",
   "nbconvert_exporter": "python",
   "pygments_lexer": "ipython3",
   "version": "3.5.1"
  }
 },
 "nbformat": 4,
 "nbformat_minor": 2
}
