{
 "cells": [
  {
   "cell_type": "code",
   "execution_count": 4,
   "metadata": {
    "collapsed": false
   },
   "outputs": [
    {
     "name": "stdout",
     "output_type": "stream",
     "text": [
      "Updating c628127..faa92b6\n",
      "Fast-forward\n",
      " uat_wechat/wechat_tool_testing/itchat.pkl          |  Bin \u001b[31m0\u001b[m -> \u001b[32m22351\u001b[m bytes\n",
      " .../lesson_z_test_v002_vm_turing_v001.ipynb        | 1327 \u001b[32m+++++++++++++++++++\u001b[m\n",
      " .../lesson_z_test_v002_vm_turing_v002.ipynb        | 1345 \u001b[32m++++++++++++++++++++\u001b[m\n",
      " 3 files changed, 2672 insertions(+)\n",
      " create mode 100644 uat_wechat/wechat_tool_testing/itchat.pkl\n",
      " create mode 100644 uat_wechat/wechat_tool_testing/lesson_z_test_v002_vm_turing_v001.ipynb\n",
      " create mode 100644 uat_wechat/wechat_tool_testing/lesson_z_test_v002_vm_turing_v002.ipynb\n"
     ]
    }
   ],
   "source": [
    "!git pull"
   ]
  },
  {
   "cell_type": "code",
   "execution_count": 5,
   "metadata": {
    "collapsed": false
   },
   "outputs": [
    {
     "name": "stdout",
     "output_type": "stream",
     "text": [
      "Already up-to-date.\r\n"
     ]
    }
   ],
   "source": [
    "!git pull"
   ]
  },
  {
   "cell_type": "code",
   "execution_count": null,
   "metadata": {
    "collapsed": true
   },
   "outputs": [],
   "source": []
  }
 ],
 "metadata": {
  "kernelspec": {
   "display_name": "Python 2",
   "language": "python",
   "name": "python2"
  },
  "language_info": {
   "codemirror_mode": {
    "name": "ipython",
    "version": 2
   },
   "file_extension": ".py",
   "mimetype": "text/x-python",
   "name": "python",
   "nbconvert_exporter": "python",
   "pygments_lexer": "ipython2",
   "version": "2.7.9"
  }
 },
 "nbformat": 4,
 "nbformat_minor": 2
}
