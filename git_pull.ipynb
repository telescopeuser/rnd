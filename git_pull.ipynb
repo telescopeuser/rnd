{
 "cells": [
  {
   "cell_type": "code",
   "execution_count": 1,
   "metadata": {},
   "outputs": [
    {
     "name": "stdout",
     "output_type": "stream",
     "text": [
      "remote: Counting objects: 7, done.\u001b[K\n",
      "remote: Total 7 (delta 5), reused 5 (delta 5), pack-reused 2\u001b[K\n",
      "Unpacking objects: 100% (7/7), done.\n",
      "From https://github.com/telescopeuser/rnd\n",
      "   6344221..9fff685  master     -> origin/master\n",
      "Updating 6344221..9fff685\n",
      "Fast-forward\n",
      " .../.ipynb_checkpoints/README-checkpoint.ipynb     |  302 \u001b[31m-----\u001b[m\n",
      " uat_wechat/README.ipynb                            |   12 \u001b[32m+\u001b[m\u001b[31m-\u001b[m\n",
      " uat_wechat/README.md                               |   10 \u001b[32m+\u001b[m\u001b[31m-\u001b[m\n",
      " uat_wechat/git_pull.ipynb                          |  106 \u001b[32m++\u001b[m\n",
      " .../.ipynb_checkpoints/lesson_5-checkpoint.ipynb   | 1041 \u001b[31m-----------------\u001b[m\n",
      " uat_wechat/wechat_tool/lesson_5.ipynb              | 1164 \u001b[32m++++++++++++++++\u001b[m\u001b[31m----\u001b[m\n",
      " 6 files changed, 1094 insertions(+), 1541 deletions(-)\n",
      " delete mode 100644 uat_wechat/.ipynb_checkpoints/README-checkpoint.ipynb\n",
      " create mode 100644 uat_wechat/git_pull.ipynb\n",
      " delete mode 100644 uat_wechat/wechat_tool/.ipynb_checkpoints/lesson_5-checkpoint.ipynb\n"
     ]
    }
   ],
   "source": [
    "!git pull"
   ]
  },
  {
   "cell_type": "code",
   "execution_count": 2,
   "metadata": {},
   "outputs": [
    {
     "name": "stdout",
     "output_type": "stream",
     "text": [
      "Already up-to-date.\r\n"
     ]
    }
   ],
   "source": [
    "!git pull"
   ]
  },
  {
   "cell_type": "code",
   "execution_count": null,
   "metadata": {
    "collapsed": true
   },
   "outputs": [],
   "source": []
  }
 ],
 "metadata": {
  "kernelspec": {
   "display_name": "Python 3",
   "language": "python",
   "name": "python3"
  },
  "language_info": {
   "codemirror_mode": {
    "name": "ipython",
    "version": 3
   },
   "file_extension": ".py",
   "mimetype": "text/x-python",
   "name": "python",
   "nbconvert_exporter": "python",
   "pygments_lexer": "ipython3",
   "version": "3.5.1"
  }
 },
 "nbformat": 4,
 "nbformat_minor": 2
}
