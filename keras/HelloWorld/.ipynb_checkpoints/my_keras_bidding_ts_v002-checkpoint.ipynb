{
 "cells": [
  {
   "cell_type": "markdown",
   "metadata": {},
   "source": [
    "### Develop Your First Neural Network in Python With Keras Step-By-Step\n",
    "\n",
    "by Jason Brownlee on May 24, 2016 in Deep Learning"
   ]
  },
  {
   "cell_type": "markdown",
   "metadata": {},
   "source": [
    "http://machinelearningmastery.com/tutorial-first-neural-network-python-keras/"
   ]
  },
  {
   "cell_type": "code",
   "execution_count": 1,
   "metadata": {},
   "outputs": [
    {
     "name": "stderr",
     "output_type": "stream",
     "text": [
      "Using TensorFlow backend.\n"
     ]
    }
   ],
   "source": [
    "from keras.models import Sequential\n",
    "from keras.layers import Dense\n",
    "import numpy\n",
    "# fix random seed for reproducibility\n",
    "numpy.random.seed(7)"
   ]
  },
  {
   "cell_type": "code",
   "execution_count": 2,
   "metadata": {},
   "outputs": [
    {
     "name": "stdout",
     "output_type": "stream",
     "text": [
      "total 444\r\n",
      "-rw-r--r--. 1 user user   9770 Jul 31 02:19 bid_v007_ReScale_ts.csv\r\n",
      "-rw-r--r--. 1 user user  36608 Jul 31 02:55 bid_v010_ts.csv\r\n",
      "-rw-r--r--. 1 user user    667 Aug  1 02:13 indicative-price.csv\r\n",
      "-rw-r--r--. 1 user user   2334 Jul 18 15:13 international-airline-passengers.csv\r\n",
      "-rw-r--r--. 1 user user 135581 Aug  1 02:13 my_keras_bidding_ts-Copy1.ipynb\r\n",
      "-rw-r--r--. 1 user user 135581 Jul 31 03:48 my_keras_bidding_ts_v002.ipynb\r\n",
      "-rw-r--r--. 1 user user  93162 Jul 18 16:22 my_keras_HelloWorld.ipynb\r\n",
      "-rw-r--r--. 1 user user  23279 Jul 17 15:01 pima-indians-diabetes.csv\r\n"
     ]
    }
   ],
   "source": [
    "!ls -l"
   ]
  },
  {
   "cell_type": "code",
   "execution_count": 3,
   "metadata": {
    "collapsed": true
   },
   "outputs": [],
   "source": [
    "# load pima indians dataset\n",
    "dataset = numpy.loadtxt(\"pima-indians-diabetes.csv\", delimiter=\",\")\n",
    "# split into input (X) and output (Y) variables\n",
    "X = dataset[:,0:8]\n",
    "Y = dataset[:,8]"
   ]
  },
  {
   "cell_type": "code",
   "execution_count": 4,
   "metadata": {
    "collapsed": true
   },
   "outputs": [],
   "source": [
    "# create model\n",
    "model = Sequential()\n",
    "model.add(Dense(12, input_dim=8, activation='relu'))\n",
    "model.add(Dense(8, activation='relu'))\n",
    "model.add(Dense(1, activation='sigmoid'))"
   ]
  },
  {
   "cell_type": "code",
   "execution_count": 5,
   "metadata": {
    "collapsed": true
   },
   "outputs": [],
   "source": [
    "# Compile model\n",
    "model.compile(loss='binary_crossentropy', optimizer='adam', metrics=['accuracy'])"
   ]
  },
  {
   "cell_type": "code",
   "execution_count": 6,
   "metadata": {
    "scrolled": true
   },
   "outputs": [
    {
     "name": "stdout",
     "output_type": "stream",
     "text": [
      "Epoch 1/150\n",
      "768/768 [==============================] - 1s - loss: 3.7507 - acc: 0.6003     \n",
      "Epoch 2/150\n",
      "768/768 [==============================] - 0s - loss: 0.9437 - acc: 0.5938     \n",
      "Epoch 3/150\n",
      "768/768 [==============================] - 0s - loss: 0.7515 - acc: 0.6380     \n",
      "Epoch 4/150\n",
      "768/768 [==============================] - 0s - loss: 0.7133 - acc: 0.6549     \n",
      "Epoch 5/150\n",
      "768/768 [==============================] - 0s - loss: 0.6830 - acc: 0.6732     \n",
      "Epoch 6/150\n",
      "768/768 [==============================] - 0s - loss: 0.6517 - acc: 0.6797     \n",
      "Epoch 7/150\n",
      "768/768 [==============================] - 0s - loss: 0.6502 - acc: 0.6771     \n",
      "Epoch 8/150\n",
      "768/768 [==============================] - 0s - loss: 0.6384 - acc: 0.6836     \n",
      "Epoch 9/150\n",
      "768/768 [==============================] - 0s - loss: 0.6252 - acc: 0.6940     \n",
      "Epoch 10/150\n",
      "768/768 [==============================] - 0s - loss: 0.6318 - acc: 0.6758     \n",
      "Epoch 11/150\n",
      "768/768 [==============================] - 0s - loss: 0.6498 - acc: 0.6719     \n",
      "Epoch 12/150\n",
      "768/768 [==============================] - 0s - loss: 0.6406 - acc: 0.6784     \n",
      "Epoch 13/150\n",
      "768/768 [==============================] - 0s - loss: 0.6264 - acc: 0.6810     \n",
      "Epoch 14/150\n",
      "768/768 [==============================] - 1s - loss: 0.6198 - acc: 0.6953     \n",
      "Epoch 15/150\n",
      "768/768 [==============================] - 0s - loss: 0.6033 - acc: 0.6901     \n",
      "Epoch 16/150\n",
      "768/768 [==============================] - 1s - loss: 0.5883 - acc: 0.6966     \n",
      "Epoch 17/150\n",
      "768/768 [==============================] - 1s - loss: 0.5851 - acc: 0.7005     \n",
      "Epoch 18/150\n",
      "768/768 [==============================] - 0s - loss: 0.6010 - acc: 0.6888     \n",
      "Epoch 19/150\n",
      "768/768 [==============================] - 0s - loss: 0.5803 - acc: 0.7096     - ETA: 0s - loss: 0.55\n",
      "Epoch 20/150\n",
      "768/768 [==============================] - 0s - loss: 0.5802 - acc: 0.7201     \n",
      "Epoch 21/150\n",
      "768/768 [==============================] - 0s - loss: 0.5684 - acc: 0.7161     \n",
      "Epoch 22/150\n",
      "768/768 [==============================] - 0s - loss: 0.5828 - acc: 0.6940     \n",
      "Epoch 23/150\n",
      "768/768 [==============================] - 0s - loss: 0.5736 - acc: 0.7122     \n",
      "Epoch 24/150\n",
      "768/768 [==============================] - 0s - loss: 0.5672 - acc: 0.7305     \n",
      "Epoch 25/150\n",
      "768/768 [==============================] - 0s - loss: 0.5573 - acc: 0.7357     - ETA: 0s - loss: 0.5074 - acc: 0.775 - ETA: 0s - loss: 0.5245 - a\n",
      "Epoch 26/150\n",
      "768/768 [==============================] - 0s - loss: 0.5706 - acc: 0.7057     \n",
      "Epoch 27/150\n",
      "768/768 [==============================] - 0s - loss: 0.5559 - acc: 0.7227     \n",
      "Epoch 28/150\n",
      "768/768 [==============================] - 0s - loss: 0.5555 - acc: 0.7292     \n",
      "Epoch 29/150\n",
      "768/768 [==============================] - 0s - loss: 0.5742 - acc: 0.7148     \n",
      "Epoch 30/150\n",
      "768/768 [==============================] - 0s - loss: 0.5610 - acc: 0.7214     \n",
      "Epoch 31/150\n",
      "768/768 [==============================] - 0s - loss: 0.5693 - acc: 0.7161     \n",
      "Epoch 32/150\n",
      "768/768 [==============================] - 0s - loss: 0.5636 - acc: 0.7122     \n",
      "Epoch 33/150\n",
      "768/768 [==============================] - 0s - loss: 0.5517 - acc: 0.7174     \n",
      "Epoch 34/150\n",
      "768/768 [==============================] - 0s - loss: 0.5488 - acc: 0.7331     \n",
      "Epoch 35/150\n",
      "768/768 [==============================] - 0s - loss: 0.5499 - acc: 0.7201     \n",
      "Epoch 36/150\n",
      "768/768 [==============================] - 0s - loss: 0.5604 - acc: 0.7096     \n",
      "Epoch 37/150\n",
      "768/768 [==============================] - 0s - loss: 0.5349 - acc: 0.7357     \n",
      "Epoch 38/150\n",
      "768/768 [==============================] - 0s - loss: 0.5402 - acc: 0.7227     - ETA: 0s - loss: 0.5054 - acc: 0.\n",
      "Epoch 39/150\n",
      "768/768 [==============================] - 0s - loss: 0.5463 - acc: 0.7279     \n",
      "Epoch 40/150\n",
      "768/768 [==============================] - 0s - loss: 0.5440 - acc: 0.7240     \n",
      "Epoch 41/150\n",
      "768/768 [==============================] - 0s - loss: 0.5441 - acc: 0.7318     \n",
      "Epoch 42/150\n",
      "768/768 [==============================] - 0s - loss: 0.5384 - acc: 0.7409     \n",
      "Epoch 43/150\n",
      "768/768 [==============================] - 0s - loss: 0.5312 - acc: 0.7539     \n",
      "Epoch 44/150\n",
      "768/768 [==============================] - 0s - loss: 0.5332 - acc: 0.7461     \n",
      "Epoch 45/150\n",
      "768/768 [==============================] - 0s - loss: 0.5310 - acc: 0.7552     \n",
      "Epoch 46/150\n",
      "768/768 [==============================] - 0s - loss: 0.5284 - acc: 0.7526     - ETA: 0s - loss: 0.5658 - acc: 0. - ETA: 0s - loss: 0.5278 - acc: 0\n",
      "Epoch 47/150\n",
      "768/768 [==============================] - 0s - loss: 0.5296 - acc: 0.7396     \n",
      "Epoch 48/150\n",
      "768/768 [==============================] - 0s - loss: 0.5318 - acc: 0.7409     \n",
      "Epoch 49/150\n",
      "768/768 [==============================] - 0s - loss: 0.5334 - acc: 0.7448     \n",
      "Epoch 50/150\n",
      "768/768 [==============================] - 0s - loss: 0.5258 - acc: 0.7344     \n",
      "Epoch 51/150\n",
      "768/768 [==============================] - 0s - loss: 0.5270 - acc: 0.7461     \n",
      "Epoch 52/150\n",
      "768/768 [==============================] - 0s - loss: 0.5318 - acc: 0.7448     \n",
      "Epoch 53/150\n",
      "768/768 [==============================] - 0s - loss: 0.5381 - acc: 0.7461     \n",
      "Epoch 54/150\n",
      "768/768 [==============================] - 0s - loss: 0.5375 - acc: 0.7279     \n",
      "Epoch 55/150\n",
      "768/768 [==============================] - 0s - loss: 0.5216 - acc: 0.7539     \n",
      "Epoch 56/150\n",
      "768/768 [==============================] - 0s - loss: 0.5280 - acc: 0.7448     \n",
      "Epoch 57/150\n",
      "768/768 [==============================] - 0s - loss: 0.5302 - acc: 0.7383     \n",
      "Epoch 58/150\n",
      "768/768 [==============================] - 0s - loss: 0.5211 - acc: 0.7513     \n",
      "Epoch 59/150\n",
      "768/768 [==============================] - 0s - loss: 0.5125 - acc: 0.7591     \n",
      "Epoch 60/150\n",
      "768/768 [==============================] - 0s - loss: 0.5337 - acc: 0.7370     \n",
      "Epoch 61/150\n",
      "768/768 [==============================] - 0s - loss: 0.5261 - acc: 0.7331     \n",
      "Epoch 62/150\n",
      "768/768 [==============================] - 0s - loss: 0.5176 - acc: 0.7526     \n",
      "Epoch 63/150\n",
      "768/768 [==============================] - 0s - loss: 0.5433 - acc: 0.7318     \n",
      "Epoch 64/150\n",
      "768/768 [==============================] - 0s - loss: 0.5324 - acc: 0.7396     \n",
      "Epoch 65/150\n",
      "768/768 [==============================] - 0s - loss: 0.5231 - acc: 0.7435     \n",
      "Epoch 66/150\n",
      "768/768 [==============================] - 0s - loss: 0.5061 - acc: 0.7513     \n",
      "Epoch 67/150\n",
      "768/768 [==============================] - 0s - loss: 0.5161 - acc: 0.7448     \n",
      "Epoch 68/150\n",
      "768/768 [==============================] - 0s - loss: 0.5129 - acc: 0.7539     \n",
      "Epoch 69/150\n",
      "768/768 [==============================] - 0s - loss: 0.5111 - acc: 0.7513     \n",
      "Epoch 70/150\n",
      "768/768 [==============================] - 0s - loss: 0.5340 - acc: 0.7214     \n",
      "Epoch 71/150\n",
      "768/768 [==============================] - 0s - loss: 0.5193 - acc: 0.7435     \n",
      "Epoch 72/150\n",
      "768/768 [==============================] - 0s - loss: 0.5186 - acc: 0.7526     \n",
      "Epoch 73/150\n",
      "768/768 [==============================] - 0s - loss: 0.5165 - acc: 0.7513     \n",
      "Epoch 74/150\n",
      "768/768 [==============================] - 0s - loss: 0.5106 - acc: 0.7617     \n",
      "Epoch 75/150\n",
      "768/768 [==============================] - 0s - loss: 0.5114 - acc: 0.7539     \n",
      "Epoch 76/150\n",
      "768/768 [==============================] - 0s - loss: 0.5138 - acc: 0.7552     \n",
      "Epoch 77/150\n",
      "768/768 [==============================] - 0s - loss: 0.5159 - acc: 0.7643     \n",
      "Epoch 78/150\n",
      "768/768 [==============================] - 0s - loss: 0.5138 - acc: 0.7422     \n",
      "Epoch 79/150\n",
      "768/768 [==============================] - 0s - loss: 0.5149 - acc: 0.7331     \n",
      "Epoch 80/150\n",
      "768/768 [==============================] - 0s - loss: 0.5115 - acc: 0.7513     \n",
      "Epoch 81/150\n",
      "768/768 [==============================] - 0s - loss: 0.5066 - acc: 0.7682     \n",
      "Epoch 82/150\n",
      "768/768 [==============================] - 0s - loss: 0.5082 - acc: 0.7474     \n",
      "Epoch 83/150\n",
      "768/768 [==============================] - 0s - loss: 0.5033 - acc: 0.7526     \n",
      "Epoch 84/150\n",
      "768/768 [==============================] - 0s - loss: 0.4982 - acc: 0.7565     \n",
      "Epoch 85/150\n",
      "768/768 [==============================] - 0s - loss: 0.5062 - acc: 0.7448     \n",
      "Epoch 86/150\n",
      "768/768 [==============================] - 0s - loss: 0.5069 - acc: 0.7539     \n",
      "Epoch 87/150\n",
      "768/768 [==============================] - 0s - loss: 0.5004 - acc: 0.7565     \n",
      "Epoch 88/150\n",
      "768/768 [==============================] - 0s - loss: 0.5020 - acc: 0.7669     \n",
      "Epoch 89/150\n",
      "768/768 [==============================] - 0s - loss: 0.5076 - acc: 0.7630     \n",
      "Epoch 90/150\n",
      "768/768 [==============================] - 0s - loss: 0.5125 - acc: 0.7500     \n",
      "Epoch 91/150\n",
      "768/768 [==============================] - 0s - loss: 0.5018 - acc: 0.7513     \n",
      "Epoch 92/150\n",
      "768/768 [==============================] - ETA: 0s - loss: 0.5048 - acc: 0.747 - 0s - loss: 0.5064 - acc: 0.7461     \n",
      "Epoch 93/150\n",
      "768/768 [==============================] - 0s - loss: 0.4989 - acc: 0.7630     \n",
      "Epoch 94/150\n",
      "768/768 [==============================] - 0s - loss: 0.4994 - acc: 0.7630     \n",
      "Epoch 95/150\n",
      "768/768 [==============================] - 0s - loss: 0.5076 - acc: 0.7474     \n",
      "Epoch 96/150\n",
      "768/768 [==============================] - 0s - loss: 0.4933 - acc: 0.7643     \n",
      "Epoch 97/150\n",
      "768/768 [==============================] - 0s - loss: 0.4989 - acc: 0.7682     \n",
      "Epoch 98/150\n",
      "768/768 [==============================] - 0s - loss: 0.4905 - acc: 0.7630     \n",
      "Epoch 99/150\n",
      "768/768 [==============================] - 0s - loss: 0.4918 - acc: 0.7656     \n",
      "Epoch 100/150\n",
      "768/768 [==============================] - 0s - loss: 0.4857 - acc: 0.7839     \n",
      "Epoch 101/150\n",
      "768/768 [==============================] - 0s - loss: 0.4919 - acc: 0.7747     \n",
      "Epoch 102/150\n",
      "768/768 [==============================] - 0s - loss: 0.4997 - acc: 0.7604     \n",
      "Epoch 103/150\n",
      "768/768 [==============================] - 0s - loss: 0.5001 - acc: 0.7526     \n",
      "Epoch 104/150\n",
      "768/768 [==============================] - 0s - loss: 0.4938 - acc: 0.7891     \n",
      "Epoch 105/150\n",
      "768/768 [==============================] - 0s - loss: 0.5331 - acc: 0.7448     \n",
      "Epoch 106/150\n",
      "768/768 [==============================] - 0s - loss: 0.4926 - acc: 0.7708     \n",
      "Epoch 107/150\n",
      "768/768 [==============================] - 0s - loss: 0.4922 - acc: 0.7695     \n",
      "Epoch 108/150\n",
      "768/768 [==============================] - 0s - loss: 0.5005 - acc: 0.7669     \n",
      "Epoch 109/150\n",
      "768/768 [==============================] - 0s - loss: 0.4872 - acc: 0.7591     \n",
      "Epoch 110/150\n",
      "768/768 [==============================] - 0s - loss: 0.4884 - acc: 0.7630     \n",
      "Epoch 111/150\n",
      "768/768 [==============================] - 0s - loss: 0.4848 - acc: 0.7773     \n",
      "Epoch 112/150\n",
      "768/768 [==============================] - 0s - loss: 0.4922 - acc: 0.7773     \n",
      "Epoch 113/150\n",
      "768/768 [==============================] - 0s - loss: 0.4992 - acc: 0.7500     - ETA: 0s - loss: 0.4605 - acc:\n",
      "Epoch 114/150\n",
      "768/768 [==============================] - 0s - loss: 0.4919 - acc: 0.7591     \n",
      "Epoch 115/150\n",
      "768/768 [==============================] - 0s - loss: 0.4935 - acc: 0.7695     \n",
      "Epoch 116/150\n",
      "768/768 [==============================] - 0s - loss: 0.4917 - acc: 0.7708     \n",
      "Epoch 117/150\n",
      "768/768 [==============================] - 0s - loss: 0.4920 - acc: 0.7578     \n",
      "Epoch 118/150\n",
      "768/768 [==============================] - 0s - loss: 0.4886 - acc: 0.7760     \n",
      "Epoch 119/150\n",
      "768/768 [==============================] - 0s - loss: 0.4843 - acc: 0.7682     \n",
      "Epoch 120/150\n",
      "768/768 [==============================] - 0s - loss: 0.4971 - acc: 0.7760     \n",
      "Epoch 121/150\n",
      "768/768 [==============================] - 0s - loss: 0.4936 - acc: 0.7799     \n",
      "Epoch 122/150\n",
      "768/768 [==============================] - 0s - loss: 0.4859 - acc: 0.7812     \n",
      "Epoch 123/150\n",
      "768/768 [==============================] - 0s - loss: 0.4821 - acc: 0.7669     \n",
      "Epoch 124/150\n",
      "768/768 [==============================] - 0s - loss: 0.4845 - acc: 0.7760     \n",
      "Epoch 125/150\n",
      "768/768 [==============================] - 0s - loss: 0.4854 - acc: 0.7760     \n",
      "Epoch 126/150\n",
      "768/768 [==============================] - 0s - loss: 0.4817 - acc: 0.7656     \n",
      "Epoch 127/150\n",
      "768/768 [==============================] - 0s - loss: 0.4886 - acc: 0.7695     \n",
      "Epoch 128/150\n",
      "768/768 [==============================] - 0s - loss: 0.4718 - acc: 0.7721     \n",
      "Epoch 129/150\n",
      "768/768 [==============================] - 0s - loss: 0.4813 - acc: 0.7682     \n",
      "Epoch 130/150\n",
      "768/768 [==============================] - 0s - loss: 0.4729 - acc: 0.7852     \n",
      "Epoch 131/150\n",
      "768/768 [==============================] - 0s - loss: 0.4847 - acc: 0.7669     \n",
      "Epoch 132/150\n",
      "768/768 [==============================] - 0s - loss: 0.4812 - acc: 0.7786     \n",
      "Epoch 133/150\n",
      "768/768 [==============================] - 0s - loss: 0.4836 - acc: 0.7695     \n",
      "Epoch 134/150\n",
      "768/768 [==============================] - 0s - loss: 0.4857 - acc: 0.7721     \n",
      "Epoch 135/150\n",
      "768/768 [==============================] - 0s - loss: 0.4746 - acc: 0.7682     \n",
      "Epoch 136/150\n",
      "768/768 [==============================] - 0s - loss: 0.4735 - acc: 0.7760     \n",
      "Epoch 137/150\n",
      "768/768 [==============================] - 0s - loss: 0.4691 - acc: 0.7839     - ETA: 0s - loss: 0.4139 - \n",
      "Epoch 138/150\n",
      "768/768 [==============================] - 0s - loss: 0.4795 - acc: 0.7865     - ETA: 0s - loss: 0.4401 - a\n",
      "Epoch 139/150\n",
      "768/768 [==============================] - 0s - loss: 0.4677 - acc: 0.7773     \n",
      "Epoch 140/150\n",
      "768/768 [==============================] - 0s - loss: 0.4807 - acc: 0.7799     \n",
      "Epoch 141/150\n",
      "768/768 [==============================] - 0s - loss: 0.4716 - acc: 0.7891     \n",
      "Epoch 142/150\n",
      "768/768 [==============================] - 0s - loss: 0.4830 - acc: 0.7682     \n",
      "Epoch 143/150\n",
      "768/768 [==============================] - 0s - loss: 0.4733 - acc: 0.7773     \n",
      "Epoch 144/150\n",
      "768/768 [==============================] - 0s - loss: 0.4742 - acc: 0.7799     \n",
      "Epoch 145/150\n",
      "768/768 [==============================] - 0s - loss: 0.4877 - acc: 0.7643     \n",
      "Epoch 146/150\n",
      "768/768 [==============================] - 0s - loss: 0.4923 - acc: 0.7734     \n",
      "Epoch 147/150\n",
      "768/768 [==============================] - 0s - loss: 0.4836 - acc: 0.7852     \n",
      "Epoch 148/150\n",
      "768/768 [==============================] - 1s - loss: 0.4706 - acc: 0.7760     \n",
      "Epoch 149/150\n",
      "768/768 [==============================] - 1s - loss: 0.4751 - acc: 0.7617     \n",
      "Epoch 150/150\n",
      "768/768 [==============================] - 0s - loss: 0.4791 - acc: 0.7799     - ETA: 0s - loss: 0.4\n"
     ]
    },
    {
     "data": {
      "text/plain": [
       "<keras.callbacks.History at 0x7f5a0c9169e8>"
      ]
     },
     "execution_count": 6,
     "metadata": {},
     "output_type": "execute_result"
    }
   ],
   "source": [
    "# Fit the model\n",
    "# model.fit(X, Y, epochs=150, batch_size=10, verbose=0)\n",
    "model.fit(X, Y, epochs=150, batch_size=10)"
   ]
  },
  {
   "cell_type": "code",
   "execution_count": 7,
   "metadata": {},
   "outputs": [
    {
     "name": "stdout",
     "output_type": "stream",
     "text": [
      "672/768 [=========================>....] - ETA: 0s\n",
      "acc: 78.26%\n"
     ]
    }
   ],
   "source": [
    "# evaluate the model\n",
    "scores = model.evaluate(X, Y)\n",
    "print(\"\\n%s: %.2f%%\" % (model.metrics_names[1], scores[1]*100))"
   ]
  },
  {
   "cell_type": "code",
   "execution_count": null,
   "metadata": {
    "collapsed": true
   },
   "outputs": [],
   "source": []
  },
  {
   "cell_type": "code",
   "execution_count": null,
   "metadata": {
    "collapsed": true
   },
   "outputs": [],
   "source": []
  },
  {
   "cell_type": "code",
   "execution_count": null,
   "metadata": {
    "collapsed": true
   },
   "outputs": [],
   "source": []
  },
  {
   "cell_type": "markdown",
   "metadata": {
    "collapsed": true
   },
   "source": [
    "### Time Series Prediction With Deep Learning in Keras"
   ]
  },
  {
   "cell_type": "markdown",
   "metadata": {
    "collapsed": true
   },
   "source": [
    "http://machinelearningmastery.com/time-series-prediction-with-deep-learning-in-python-with-keras/"
   ]
  },
  {
   "cell_type": "code",
   "execution_count": 149,
   "metadata": {},
   "outputs": [
    {
     "data": {
      "image/png": "[encoded data removed]",
      "text/plain": [
       "<matplotlib.figure.Figure at 0x7fad082b26a0>"
      ]
     },
     "metadata": {},
     "output_type": "display_data"
    }
   ],
   "source": [
    "import pandas\n",
    "import matplotlib.pyplot as plt\n",
    "# dataset = pandas.read_csv('international-airline-passengers.csv', usecols=[1], engine='python', skipfooter=3)\n",
    "# dataset = pandas.read_csv('bid_v010_ts.csv', usecols=[1], engine='python', skipfooter=3)\n",
    "dataset = pandas.read_csv('indicative-price.csv', usecols=[2], engine='python', skipfooter=3)\n",
    "plt.plot(dataset)\n",
    "plt.show()"
   ]
  },
  {
   "cell_type": "code",
   "execution_count": 150,
   "metadata": {},
   "outputs": [
    {
     "data": {
      "text/html": [
       "<div>\n",
       "<style>\n",
       "    .dataframe thead tr:only-child th {\n",
       "        text-align: right;\n",
       "    }\n",
       "\n",
       "    .dataframe thead th {\n",
       "        text-align: left;\n",
       "    }\n",
       "\n",
       "    .dataframe tbody tr th {\n",
       "        vertical-align: top;\n",
       "    }\n",
       "</style>\n",
       "<table border=\"1\" class=\"dataframe\">\n",
       "  <thead>\n",
       "    <tr style=\"text-align: right;\">\n",
       "      <th></th>\n",
       "      <th>final-price</th>\n",
       "    </tr>\n",
       "  </thead>\n",
       "  <tbody>\n",
       "    <tr>\n",
       "      <th>0</th>\n",
       "      <td>80000</td>\n",
       "    </tr>\n",
       "    <tr>\n",
       "      <th>1</th>\n",
       "      <td>83100</td>\n",
       "    </tr>\n",
       "    <tr>\n",
       "      <th>2</th>\n",
       "      <td>82600</td>\n",
       "    </tr>\n",
       "    <tr>\n",
       "      <th>3</th>\n",
       "      <td>82100</td>\n",
       "    </tr>\n",
       "    <tr>\n",
       "      <th>4</th>\n",
       "      <td>85300</td>\n",
       "    </tr>\n",
       "  </tbody>\n",
       "</table>\n",
       "</div>"
      ],
      "text/plain": [
       "   final-price\n",
       "0        80000\n",
       "1        83100\n",
       "2        82600\n",
       "3        82100\n",
       "4        85300"
      ]
     },
     "execution_count": 150,
     "metadata": {},
     "output_type": "execute_result"
    }
   ],
   "source": [
    "dataset.head()"
   ]
  },
  {
   "cell_type": "code",
   "execution_count": 151,
   "metadata": {
    "collapsed": true
   },
   "outputs": [],
   "source": [
    "import numpy\n",
    "import matplotlib.pyplot as plt\n",
    "import pandas\n",
    "from keras.models import Sequential\n",
    "from keras.layers import Dense"
   ]
  },
  {
   "cell_type": "code",
   "execution_count": 152,
   "metadata": {
    "collapsed": true
   },
   "outputs": [],
   "source": [
    "# fix random seed for reproducibility\n",
    "numpy.random.seed(7)"
   ]
  },
  {
   "cell_type": "code",
   "execution_count": 153,
   "metadata": {
    "collapsed": true
   },
   "outputs": [],
   "source": [
    "# load the dataset\n",
    "# dataframe = pandas.read_csv('international-airline-passengers.csv', usecols=[1], engine='python', skipfooter=3)\n",
    "# dataset = pandas.read_csv('bid_v010_ts.csv', usecols=[1], engine='python', skipfooter=3)\n",
    "dataset = dataset.values\n",
    "dataset = dataset.astype('float32')"
   ]
  },
  {
   "cell_type": "code",
   "execution_count": 154,
   "metadata": {},
   "outputs": [
    {
     "data": {
      "text/plain": [
       "22"
      ]
     },
     "execution_count": 154,
     "metadata": {},
     "output_type": "execute_result"
    }
   ],
   "source": [
    "len(dataset)"
   ]
  },
  {
   "cell_type": "code",
   "execution_count": 167,
   "metadata": {},
   "outputs": [
    {
     "name": "stdout",
     "output_type": "stream",
     "text": [
      "19 3\n"
     ]
    }
   ],
   "source": [
    "# split into train and test sets\n",
    "train_size = int(len(dataset) * 0.87)\n",
    "test_size = len(dataset) - train_size\n",
    "train, test = dataset[0:train_size,:], dataset[train_size:len(dataset),:]\n",
    "print(len(train), len(test))"
   ]
  },
  {
   "cell_type": "code",
   "execution_count": 168,
   "metadata": {
    "collapsed": true
   },
   "outputs": [],
   "source": [
    "# convert an array of values into a dataset matrix\n",
    "def create_dataset(dataset, look_back=1):\n",
    "\tdataX, dataY = [], []\n",
    "\tfor i in range(len(dataset)-look_back-1):\n",
    "\t\ta = dataset[i:(i+look_back), 0]\n",
    "\t\tdataX.append(a)\n",
    "\t\tdataY.append(dataset[i + look_back, 0])\n",
    "\treturn numpy.array(dataX), numpy.array(dataY)"
   ]
  },
  {
   "cell_type": "code",
   "execution_count": 169,
   "metadata": {
    "collapsed": true
   },
   "outputs": [],
   "source": [
    "# reshape into X=t and Y=t+1\n",
    "look_back = 1\n",
    "trainX, trainY = create_dataset(train, look_back)\n",
    "testX, testY = create_dataset(test, look_back)"
   ]
  },
  {
   "cell_type": "code",
   "execution_count": 170,
   "metadata": {},
   "outputs": [
    {
     "data": {
      "text/plain": [
       "array([[ 80000.],\n",
       "       [ 83100.],\n",
       "       [ 82600.],\n",
       "       [ 82100.],\n",
       "       [ 85300.],\n",
       "       [ 84600.],\n",
       "       [ 84500.],\n",
       "       [ 82200.],\n",
       "       [ 83200.],\n",
       "       [ 83100.],\n",
       "       [ 85100.],\n",
       "       [ 85000.],\n",
       "       [ 84400.],\n",
       "       [ 87200.],\n",
       "       [ 86900.],\n",
       "       [ 86500.],\n",
       "       [ 88300.]], dtype=float32)"
      ]
     },
     "execution_count": 170,
     "metadata": {},
     "output_type": "execute_result"
    }
   ],
   "source": [
    "trainX"
   ]
  },
  {
   "cell_type": "code",
   "execution_count": 171,
   "metadata": {
    "scrolled": true
   },
   "outputs": [
    {
     "data": {
      "text/plain": [
       "array([ 83100.,  82600.,  82100.,  85300.,  84600.,  84500.,  82200.,\n",
       "        83200.,  83100.,  85100.,  85000.,  84400.,  87200.,  86900.,\n",
       "        86500.,  88300.,  88600.], dtype=float32)"
      ]
     },
     "execution_count": 171,
     "metadata": {},
     "output_type": "execute_result"
    }
   ],
   "source": [
    "trainY"
   ]
  },
  {
   "cell_type": "code",
   "execution_count": 172,
   "metadata": {},
   "outputs": [
    {
     "data": {
      "text/plain": [
       "array([[ 87600.]], dtype=float32)"
      ]
     },
     "execution_count": 172,
     "metadata": {},
     "output_type": "execute_result"
    }
   ],
   "source": [
    "testX"
   ]
  },
  {
   "cell_type": "code",
   "execution_count": 173,
   "metadata": {
    "scrolled": true
   },
   "outputs": [
    {
     "data": {
      "text/plain": [
       "array([ 88200.], dtype=float32)"
      ]
     },
     "execution_count": 173,
     "metadata": {},
     "output_type": "execute_result"
    }
   ],
   "source": [
    "testY"
   ]
  },
  {
   "cell_type": "code",
   "execution_count": 174,
   "metadata": {},
   "outputs": [
    {
     "data": {
      "image/png": "[encoded data removed]",
      "text/plain": [
       "<matplotlib.figure.Figure at 0x7fad08726358>"
      ]
     },
     "metadata": {},
     "output_type": "display_data"
    }
   ],
   "source": [
    "# plt.plot(testX)\n",
    "plt.plot(trainX)\n",
    "plt.plot(trainY)\n",
    "plt.show()"
   ]
  },
  {
   "cell_type": "code",
   "execution_count": 175,
   "metadata": {},
   "outputs": [
    {
     "data": {
      "image/png": "[encoded data removed]",
      "text/plain": [
       "<matplotlib.figure.Figure at 0x7fad080ec320>"
      ]
     },
     "metadata": {},
     "output_type": "display_data"
    }
   ],
   "source": [
    "# plt.plot(testX)\n",
    "plt.plot(testX)\n",
    "plt.plot(testY)\n",
    "plt.show()"
   ]
  },
  {
   "cell_type": "code",
   "execution_count": null,
   "metadata": {
    "collapsed": true
   },
   "outputs": [],
   "source": []
  },
  {
   "cell_type": "code",
   "execution_count": null,
   "metadata": {
    "scrolled": true
   },
   "outputs": [
    {
     "name": "stdout",
     "output_type": "stream",
     "text": [
      "Epoch 1/950\n",
      "0s - loss: 2576038384.9412\n",
      "Epoch 2/950\n",
      "0s - loss: 2199883783.5294\n",
      "Epoch 3/950\n",
      "0s - loss: 1859343841.8824\n",
      "Epoch 4/950\n",
      "0s - loss: 1548924032.0000\n",
      "Epoch 5/950\n",
      "0s - loss: 1275518637.1765\n",
      "Epoch 6/950\n",
      "0s - loss: 1037998245.6471\n",
      "Epoch 7/950\n",
      "0s - loss: 833543171.7647\n",
      "Epoch 8/950\n",
      "0s - loss: 659543702.5882\n",
      "Epoch 9/950\n",
      "0s - loss: 513191870.1176\n",
      "Epoch 10/950\n",
      "0s - loss: 393829722.3529\n",
      "Epoch 11/950\n",
      "0s - loss: 303308399.0588\n",
      "Epoch 12/950\n",
      "0s - loss: 231971885.1765\n",
      "Epoch 13/950\n",
      "0s - loss: 174199508.7059\n",
      "Epoch 14/950\n",
      "0s - loss: 128729032.4706\n",
      "Epoch 15/950\n",
      "0s - loss: 93184301.1765\n",
      "Epoch 16/950\n",
      "0s - loss: 67038983.2941\n",
      "Epoch 17/950\n",
      "0s - loss: 46698732.9412\n",
      "Epoch 18/950\n",
      "0s - loss: 32364556.8235\n",
      "Epoch 19/950\n",
      "0s - loss: 22589729.1176\n",
      "Epoch 20/950\n",
      "0s - loss: 15232561.7059\n",
      "Epoch 21/950\n",
      "0s - loss: 10505791.2059\n",
      "Epoch 22/950\n",
      "0s - loss: 7483458.8971\n",
      "Epoch 23/950\n",
      "0s - loss: 5493022.6029\n",
      "Epoch 24/950\n",
      "0s - loss: 4131320.5864\n",
      "Epoch 25/950\n",
      "0s - loss: 3329998.8948\n",
      "Epoch 26/950\n",
      "0s - loss: 2850972.5947\n",
      "Epoch 27/950\n",
      "0s - loss: 2562521.0634\n",
      "Epoch 28/950\n",
      "0s - loss: 2458125.5956\n",
      "Epoch 29/950\n",
      "0s - loss: 2377818.7776\n",
      "Epoch 30/950\n",
      "0s - loss: 2322105.6746\n",
      "Epoch 31/950\n",
      "0s - loss: 2314257.2831\n",
      "Epoch 32/950\n",
      "0s - loss: 2291466.5368\n",
      "Epoch 33/950\n",
      "0s - loss: 2287990.3125\n",
      "Epoch 34/950\n",
      "0s - loss: 2290508.1691\n",
      "Epoch 35/950\n",
      "0s - loss: 2294291.8125\n",
      "Epoch 36/950\n",
      "0s - loss: 2291430.1029\n",
      "Epoch 37/950\n",
      "0s - loss: 2291018.5221\n",
      "Epoch 38/950\n",
      "0s - loss: 2301818.6029\n",
      "Epoch 39/950\n",
      "0s - loss: 2301836.2108\n",
      "Epoch 40/950\n",
      "0s - loss: 2291809.8346\n",
      "Epoch 41/950\n",
      "0s - loss: 2298353.6360\n",
      "Epoch 42/950\n",
      "0s - loss: 2302957.0864\n",
      "Epoch 43/950\n",
      "0s - loss: 2298509.5956\n",
      "Epoch 44/950\n",
      "0s - loss: 2303408.9449\n",
      "Epoch 45/950\n",
      "0s - loss: 2307288.2978\n",
      "Epoch 46/950\n",
      "0s - loss: 2295010.5257\n",
      "Epoch 47/950\n",
      "0s - loss: 2293325.9926\n",
      "Epoch 48/950\n",
      "0s - loss: 2291287.9118\n",
      "Epoch 49/950\n",
      "0s - loss: 2292184.0809\n",
      "Epoch 50/950\n",
      "0s - loss: 2287545.4026\n",
      "Epoch 51/950\n",
      "0s - loss: 2290760.8603\n",
      "Epoch 52/950\n",
      "0s - loss: 2289215.8162\n",
      "Epoch 53/950\n",
      "0s - loss: 2290551.0000\n",
      "Epoch 54/950\n",
      "0s - loss: 2289747.3860\n",
      "Epoch 55/950\n",
      "0s - loss: 2292453.4357\n",
      "Epoch 56/950\n",
      "0s - loss: 2293875.9614\n",
      "Epoch 57/950\n",
      "0s - loss: 2293720.4706\n",
      "Epoch 58/950\n",
      "0s - loss: 2290897.3382\n",
      "Epoch 59/950\n",
      "0s - loss: 2290759.3824\n",
      "Epoch 60/950\n",
      "0s - loss: 2298925.0756\n",
      "Epoch 61/950\n",
      "0s - loss: 2290436.3346\n",
      "Epoch 62/950\n",
      "0s - loss: 2303237.7298\n",
      "Epoch 63/950\n",
      "0s - loss: 2306267.6912\n",
      "Epoch 64/950\n",
      "0s - loss: 2292318.3640\n",
      "Epoch 65/950\n",
      "0s - loss: 2317804.3824\n",
      "Epoch 66/950\n",
      "0s - loss: 2301469.1765\n",
      "Epoch 67/950\n",
      "0s - loss: 2299891.1324\n",
      "Epoch 68/950\n",
      "0s - loss: 2342471.9577\n",
      "Epoch 69/950\n",
      "0s - loss: 2295025.6801\n",
      "Epoch 70/950\n",
      "0s - loss: 2292193.6415\n",
      "Epoch 71/950\n",
      "0s - loss: 2290047.1483\n",
      "Epoch 72/950\n",
      "0s - loss: 2318805.9632\n",
      "Epoch 73/950\n",
      "0s - loss: 2288728.1434\n",
      "Epoch 74/950\n",
      "0s - loss: 2300720.8713\n",
      "Epoch 75/950\n",
      "0s - loss: 2298523.0625\n",
      "Epoch 76/950\n",
      "0s - loss: 2298210.1029\n",
      "Epoch 77/950\n",
      "0s - loss: 2306310.8456\n",
      "Epoch 78/950\n",
      "0s - loss: 2295911.9191\n",
      "Epoch 79/950\n",
      "0s - loss: 2284261.5738\n",
      "Epoch 80/950\n",
      "0s - loss: 2313704.1949\n",
      "Epoch 81/950\n",
      "0s - loss: 2296192.3070\n",
      "Epoch 82/950\n",
      "0s - loss: 2289703.5037\n",
      "Epoch 83/950\n",
      "0s - loss: 2289050.9853\n",
      "Epoch 84/950\n",
      "0s - loss: 2300107.7647\n",
      "Epoch 85/950\n",
      "0s - loss: 2296395.3934\n",
      "Epoch 86/950\n",
      "0s - loss: 2308892.5000\n",
      "Epoch 87/950\n",
      "0s - loss: 2338649.6783\n",
      "Epoch 88/950\n",
      "0s - loss: 2309751.8566\n",
      "Epoch 89/950\n",
      "0s - loss: 2282320.7518\n",
      "Epoch 90/950\n",
      "0s - loss: 2283050.5386\n",
      "Epoch 91/950\n",
      "0s - loss: 2323651.8603\n",
      "Epoch 92/950\n",
      "0s - loss: 2329409.2224\n",
      "Epoch 93/950\n",
      "0s - loss: 2297439.2344\n",
      "Epoch 94/950\n",
      "0s - loss: 2299361.5368\n",
      "Epoch 95/950\n",
      "0s - loss: 2296933.8143\n",
      "Epoch 96/950\n",
      "0s - loss: 2294309.6085\n",
      "Epoch 97/950\n",
      "0s - loss: 2298533.7463\n",
      "Epoch 98/950\n",
      "0s - loss: 2303026.9357\n",
      "Epoch 99/950\n",
      "0s - loss: 2322782.4577\n",
      "Epoch 100/950\n",
      "0s - loss: 2294037.5349\n",
      "Epoch 101/950\n",
      "0s - loss: 2294935.2169\n",
      "Epoch 102/950\n",
      "0s - loss: 2293415.9449\n",
      "Epoch 103/950\n",
      "0s - loss: 2290311.4632\n",
      "Epoch 104/950\n",
      "0s - loss: 2300766.8217\n",
      "Epoch 105/950\n",
      "0s - loss: 2299689.3401\n",
      "Epoch 106/950\n",
      "0s - loss: 2289884.2096\n",
      "Epoch 107/950\n",
      "0s - loss: 2314743.6939\n",
      "Epoch 108/950\n",
      "0s - loss: 2309296.5882\n",
      "Epoch 109/950\n",
      "0s - loss: 2299162.9669\n",
      "Epoch 110/950\n",
      "0s - loss: 2291535.7757\n",
      "Epoch 111/950\n",
      "0s - loss: 2308959.8493\n",
      "Epoch 112/950\n",
      "0s - loss: 2301085.8860\n",
      "Epoch 113/950\n",
      "0s - loss: 2305757.3401\n",
      "Epoch 114/950\n",
      "0s - loss: 2302923.4145\n",
      "Epoch 115/950\n",
      "0s - loss: 2323044.6857\n",
      "Epoch 116/950\n",
      "0s - loss: 2306431.0257\n",
      "Epoch 117/950\n",
      "0s - loss: 2304408.0129\n",
      "Epoch 118/950\n",
      "0s - loss: 2287135.5404\n",
      "Epoch 119/950\n",
      "0s - loss: 2290778.8162\n",
      "Epoch 120/950\n",
      "0s - loss: 2326937.3456\n",
      "Epoch 121/950\n",
      "0s - loss: 2344591.9191\n",
      "Epoch 122/950\n",
      "0s - loss: 2295902.1636\n",
      "Epoch 123/950\n",
      "0s - loss: 2326202.3097\n",
      "Epoch 124/950\n",
      "0s - loss: 2293750.2904\n",
      "Epoch 125/950\n",
      "0s - loss: 2299445.1673\n",
      "Epoch 126/950\n",
      "0s - loss: 2298488.9246\n",
      "Epoch 127/950\n",
      "0s - loss: 2299221.8934\n",
      "Epoch 128/950\n",
      "0s - loss: 2327166.7243\n",
      "Epoch 129/950\n",
      "0s - loss: 2300166.6801\n",
      "Epoch 130/950\n",
      "0s - loss: 2322193.2721\n",
      "Epoch 131/950\n",
      "0s - loss: 2331361.2022\n",
      "Epoch 132/950\n",
      "0s - loss: 2289734.6287\n",
      "Epoch 133/950\n",
      "0s - loss: 2296802.0269\n",
      "Epoch 134/950\n",
      "0s - loss: 2309993.6066\n",
      "Epoch 135/950\n",
      "0s - loss: 2294701.4724\n",
      "Epoch 136/950\n",
      "0s - loss: 2317451.3346\n",
      "Epoch 137/950\n",
      "0s - loss: 2313550.6287\n",
      "Epoch 138/950\n",
      "0s - loss: 2301061.8456\n",
      "Epoch 139/950\n",
      "0s - loss: 2292271.8676\n",
      "Epoch 140/950\n",
      "0s - loss: 2314194.9945\n",
      "Epoch 141/950\n",
      "0s - loss: 2309279.5662\n",
      "Epoch 142/950\n",
      "0s - loss: 2286181.1471\n",
      "Epoch 143/950\n",
      "0s - loss: 2287178.5699\n",
      "Epoch 144/950\n",
      "0s - loss: 2305374.4164\n",
      "Epoch 145/950\n",
      "0s - loss: 2304982.9910\n",
      "Epoch 146/950\n",
      "0s - loss: 2307797.4449\n",
      "Epoch 147/950\n",
      "0s - loss: 2316967.8483\n",
      "Epoch 148/950\n",
      "0s - loss: 2286978.4375\n",
      "Epoch 149/950\n",
      "0s - loss: 2308525.1103\n",
      "Epoch 150/950\n",
      "0s - loss: 2298931.0809\n",
      "Epoch 151/950\n",
      "0s - loss: 2303174.5809\n",
      "Epoch 152/950\n",
      "0s - loss: 2295251.9044\n",
      "Epoch 153/950\n",
      "0s - loss: 2325975.5699\n",
      "Epoch 154/950\n",
      "0s - loss: 2324970.7390\n",
      "Epoch 155/950\n",
      "0s - loss: 2334550.6250\n",
      "Epoch 156/950\n",
      "0s - loss: 2323025.5956\n",
      "Epoch 157/950\n",
      "0s - loss: 2310391.5919\n",
      "Epoch 158/950\n",
      "0s - loss: 2307142.8603\n",
      "Epoch 159/950\n",
      "0s - loss: 2297163.9044\n",
      "Epoch 160/950\n",
      "0s - loss: 2322950.7868\n",
      "Epoch 161/950\n",
      "0s - loss: 2318867.6489\n",
      "Epoch 162/950\n",
      "0s - loss: 2314040.4375\n",
      "Epoch 163/950\n",
      "0s - loss: 2301632.1434\n",
      "Epoch 164/950\n",
      "0s - loss: 2300167.6066\n",
      "Epoch 165/950\n",
      "0s - loss: 2336627.2721\n",
      "Epoch 166/950\n",
      "0s - loss: 2296525.3419\n",
      "Epoch 167/950\n",
      "0s - loss: 2294113.6287\n",
      "Epoch 168/950\n",
      "0s - loss: 2315119.6801\n",
      "Epoch 169/950\n",
      "0s - loss: 2329323.6324\n",
      "Epoch 170/950\n",
      "0s - loss: 2300631.8676\n",
      "Epoch 171/950\n",
      "0s - loss: 2309040.7169\n",
      "Epoch 172/950\n",
      "0s - loss: 2304485.8603\n",
      "Epoch 173/950\n",
      "0s - loss: 2306912.2353\n",
      "Epoch 174/950\n",
      "0s - loss: 2299844.6250\n",
      "Epoch 175/950\n",
      "0s - loss: 2375916.2647\n",
      "Epoch 176/950\n",
      "0s - loss: 2307712.3254\n",
      "Epoch 177/950\n",
      "0s - loss: 2322295.6434\n",
      "Epoch 178/950\n",
      "0s - loss: 2291515.0002\n",
      "Epoch 179/950\n",
      "0s - loss: 2368364.7344\n",
      "Epoch 180/950\n",
      "0s - loss: 2355730.3713\n",
      "Epoch 181/950\n",
      "0s - loss: 2288378.5919\n",
      "Epoch 182/950\n",
      "0s - loss: 2320776.9081\n",
      "Epoch 183/950\n",
      "0s - loss: 2318215.7096\n",
      "Epoch 184/950\n",
      "0s - loss: 2306667.6912\n",
      "Epoch 185/950\n",
      "0s - loss: 2321392.1801\n",
      "Epoch 186/950\n",
      "0s - loss: 2297501.1967\n",
      "Epoch 187/950\n",
      "0s - loss: 2322816.9375\n",
      "Epoch 188/950\n",
      "0s - loss: 2319528.2721\n",
      "Epoch 189/950\n",
      "0s - loss: 2301862.3107\n",
      "Epoch 190/950\n",
      "0s - loss: 2312213.8713\n",
      "Epoch 191/950\n",
      "0s - loss: 2320907.5496\n",
      "Epoch 192/950\n",
      "0s - loss: 2299804.2059\n",
      "Epoch 193/950\n",
      "0s - loss: 2323234.9853\n",
      "Epoch 194/950\n",
      "0s - loss: 2437041.9191\n",
      "Epoch 195/950\n",
      "0s - loss: 2356600.3070\n",
      "Epoch 196/950\n",
      "0s - loss: 2364309.3713\n",
      "Epoch 197/950\n",
      "0s - loss: 2319404.6452\n",
      "Epoch 198/950\n",
      "0s - loss: 2300811.0000\n",
      "Epoch 199/950\n",
      "0s - loss: 2340047.5588\n",
      "Epoch 200/950\n",
      "0s - loss: 2307196.5993\n",
      "Epoch 201/950\n",
      "0s - loss: 2327825.2426\n",
      "Epoch 202/950\n",
      "0s - loss: 2302262.8971\n",
      "Epoch 203/950\n",
      "0s - loss: 2301968.0184\n",
      "Epoch 204/950\n",
      "0s - loss: 2347747.0662\n",
      "Epoch 205/950\n",
      "0s - loss: 2302402.0754\n",
      "Epoch 206/950\n",
      "0s - loss: 2300243.6544\n",
      "Epoch 207/950\n",
      "0s - loss: 2296953.7904\n",
      "Epoch 208/950\n",
      "0s - loss: 2313908.8015\n",
      "Epoch 209/950\n",
      "0s - loss: 2294577.3824\n",
      "Epoch 210/950\n",
      "0s - loss: 2362648.8272\n",
      "Epoch 211/950\n",
      "0s - loss: 2311048.9007\n",
      "Epoch 212/950\n",
      "0s - loss: 2358855.0368\n",
      "Epoch 213/950\n",
      "0s - loss: 2310382.4982\n",
      "Epoch 214/950\n",
      "0s - loss: 2294867.7096\n",
      "Epoch 215/950\n",
      "0s - loss: 2309676.9191\n",
      "Epoch 216/950\n",
      "0s - loss: 2346035.5294\n",
      "Epoch 217/950\n",
      "0s - loss: 2331649.9228\n",
      "Epoch 218/950\n",
      "0s - loss: 2293480.8199\n",
      "Epoch 219/950\n",
      "0s - loss: 2331032.5000\n",
      "Epoch 220/950\n",
      "0s - loss: 2362441.9191\n",
      "Epoch 221/950\n",
      "0s - loss: 2329009.6397\n",
      "Epoch 222/950\n",
      "0s - loss: 2297343.9118\n",
      "Epoch 223/950\n",
      "0s - loss: 2314041.7647\n",
      "Epoch 224/950\n",
      "0s - loss: 2325930.8603\n",
      "Epoch 225/950\n",
      "0s - loss: 2288848.3015\n",
      "Epoch 226/950\n",
      "0s - loss: 2322743.3915\n",
      "Epoch 227/950\n"
     ]
    },
    {
     "name": "stdout",
     "output_type": "stream",
     "text": [
      "0s - loss: 2324994.8971\n",
      "Epoch 228/950\n",
      "0s - loss: 2308401.8051\n",
      "Epoch 229/950\n",
      "0s - loss: 2290884.3566\n",
      "Epoch 230/950\n",
      "0s - loss: 2290063.9688\n",
      "Epoch 231/950\n",
      "0s - loss: 2320652.5018\n",
      "Epoch 232/950\n",
      "0s - loss: 2309823.0441\n",
      "Epoch 233/950\n",
      "0s - loss: 2305520.1324\n",
      "Epoch 234/950\n",
      "0s - loss: 2311979.0404\n",
      "Epoch 235/950\n",
      "0s - loss: 2302771.1544\n",
      "Epoch 236/950\n",
      "0s - loss: 2336716.3015\n",
      "Epoch 237/950\n",
      "0s - loss: 2321629.5257\n",
      "Epoch 238/950\n",
      "0s - loss: 2337279.6415\n",
      "Epoch 239/950\n"
     ]
    }
   ],
   "source": [
    "# create and fit Multilayer Perceptron model\n",
    "model = Sequential()\n",
    "model.add(Dense(8, input_dim=look_back, activation='relu'))\n",
    "model.add(Dense(1))\n",
    "model.compile(loss='mean_squared_error', optimizer='adam')\n",
    "model.fit(trainX, trainY, epochs=950, batch_size=2, verbose=2)"
   ]
  },
  {
   "cell_type": "code",
   "execution_count": null,
   "metadata": {
    "collapsed": true
   },
   "outputs": [],
   "source": [
    "import math"
   ]
  },
  {
   "cell_type": "code",
   "execution_count": null,
   "metadata": {},
   "outputs": [],
   "source": [
    "# Estimate model performance\n",
    "trainScore = model.evaluate(trainX, trainY, verbose=0)\n",
    "print('Train Score: %.2f MSE (%.2f RMSE)' % (trainScore, math.sqrt(trainScore)))\n",
    "testScore = model.evaluate(testX, testY, verbose=0)\n",
    "print('Test Score: %.2f MSE (%.2f RMSE)' % (testScore, math.sqrt(testScore)))"
   ]
  },
  {
   "cell_type": "code",
   "execution_count": null,
   "metadata": {
    "collapsed": true
   },
   "outputs": [],
   "source": []
  },
  {
   "cell_type": "code",
   "execution_count": null,
   "metadata": {},
   "outputs": [],
   "source": [
    "# generate predictions for training\n",
    "trainPredict = model.predict(trainX)\n",
    "testPredict = model.predict(testX)\n",
    "\n",
    "# shift train predictions for plotting\n",
    "trainPredictPlot = numpy.empty_like(dataset)\n",
    "trainPredictPlot[:, :] = numpy.nan\n",
    "trainPredictPlot[look_back:len(trainPredict)+look_back, :] = trainPredict\n",
    "\n",
    "# shift test predictions for plotting\n",
    "testPredictPlot = numpy.empty_like(dataset)\n",
    "testPredictPlot[:, :] = numpy.nan\n",
    "testPredictPlot[len(trainPredict)+(look_back*2)+1:len(dataset)-1, :] = testPredict\n",
    "\n",
    "# plot baseline and predictions\n",
    "plt.plot(dataset)\n",
    "plt.plot(trainPredictPlot)\n",
    "plt.plot(testPredictPlot)\n",
    "plt.show()"
   ]
  },
  {
   "cell_type": "code",
   "execution_count": null,
   "metadata": {},
   "outputs": [],
   "source": [
    "# generate predictions for training\n",
    "trainPredict = model.predict(trainX)\n",
    "testPredict = model.predict(testX)\n",
    "\n",
    "# shift train predictions for plotting\n",
    "trainPredictPlot = numpy.empty_like(dataset)\n",
    "trainPredictPlot[:, :] = numpy.nan\n",
    "trainPredictPlot[look_back:len(trainPredict)+look_back, :] = trainPredict\n",
    "\n",
    "# shift test predictions for plotting\n",
    "testPredictPlot = numpy.empty_like(dataset)\n",
    "testPredictPlot[:, :] = numpy.nan\n",
    "testPredictPlot[len(trainPredict)+(look_back*2)+1:len(dataset)-1, :] = testPredict\n",
    "\n",
    "# plot baseline and predictions\n",
    "plt.plot(dataset[len(trainPredict)+(look_back*2)+1:len(dataset)-1])\n",
    "# plt.plot(trainPredictPlot)\n",
    "plt.plot(testPredict)\n",
    "plt.show()"
   ]
  },
  {
   "cell_type": "code",
   "execution_count": null,
   "metadata": {
    "collapsed": true
   },
   "outputs": [],
   "source": []
  }
 ],
 "metadata": {
  "kernelspec": {
   "display_name": "Python 3",
   "language": "python",
   "name": "python3"
  },
  "language_info": {
   "codemirror_mode": {
    "name": "ipython",
    "version": 3
   },
   "file_extension": ".py",
   "mimetype": "text/x-python",
   "name": "python",
   "nbconvert_exporter": "python",
   "pygments_lexer": "ipython3",
   "version": "3.5.3"
  }
 },
 "nbformat": 4,
 "nbformat_minor": 2
}
