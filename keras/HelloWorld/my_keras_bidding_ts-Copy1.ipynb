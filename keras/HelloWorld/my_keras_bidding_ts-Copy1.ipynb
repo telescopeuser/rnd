{
 "cells": [
  {
   "cell_type": "markdown",
   "metadata": {},
   "source": [
    "### Develop Your First Neural Network in Python With Keras Step-By-Step\n",
    "\n",
    "by Jason Brownlee on May 24, 2016 in Deep Learning"
   ]
  },
  {
   "cell_type": "markdown",
   "metadata": {},
   "source": [
    "http://machinelearningmastery.com/tutorial-first-neural-network-python-keras/"
   ]
  },
  {
   "cell_type": "code",
   "execution_count": 1,
   "metadata": {},
   "outputs": [
    {
     "name": "stderr",
     "output_type": "stream",
     "text": [
      "Using TensorFlow backend.\n"
     ]
    }
   ],
   "source": [
    "from keras.models import Sequential\n",
    "from keras.layers import Dense\n",
    "import numpy\n",
    "# fix random seed for reproducibility\n",
    "numpy.random.seed(7)"
   ]
  },
  {
   "cell_type": "code",
   "execution_count": 2,
   "metadata": {},
   "outputs": [
    {
     "name": "stdout",
     "output_type": "stream",
     "text": [
      "total 224\r\n",
      "-rw-r--r--. 1 user user  9770 Jul 31 02:19 bid_v007_ReScale_ts.csv\r\n",
      "-rw-r--r--. 1 user user  2334 Jul 18 15:13 international-airline-passengers.csv\r\n",
      "-rw-r--r--. 1 user user 93162 Jul 31 02:15 my_keras_bidding_ts.ipynb\r\n",
      "-rw-r--r--. 1 user user 93162 Jul 18 16:22 my_keras_HelloWorld.ipynb\r\n",
      "-rw-r--r--. 1 user user 23279 Jul 17 15:01 pima-indians-diabetes.csv\r\n"
     ]
    }
   ],
   "source": [
    "!ls -l"
   ]
  },
  {
   "cell_type": "code",
   "execution_count": 3,
   "metadata": {
    "collapsed": true
   },
   "outputs": [],
   "source": [
    "# load pima indians dataset\n",
    "dataset = numpy.loadtxt(\"pima-indians-diabetes.csv\", delimiter=\",\")\n",
    "# split into input (X) and output (Y) variables\n",
    "X = dataset[:,0:8]\n",
    "Y = dataset[:,8]"
   ]
  },
  {
   "cell_type": "code",
   "execution_count": 4,
   "metadata": {
    "collapsed": true
   },
   "outputs": [],
   "source": [
    "# create model\n",
    "model = Sequential()\n",
    "model.add(Dense(12, input_dim=8, activation='relu'))\n",
    "model.add(Dense(8, activation='relu'))\n",
    "model.add(Dense(1, activation='sigmoid'))"
   ]
  },
  {
   "cell_type": "code",
   "execution_count": 5,
   "metadata": {
    "collapsed": true
   },
   "outputs": [],
   "source": [
    "# Compile model\n",
    "model.compile(loss='binary_crossentropy', optimizer='adam', metrics=['accuracy'])"
   ]
  },
  {
   "cell_type": "code",
   "execution_count": 6,
   "metadata": {
    "scrolled": true
   },
   "outputs": [
    {
     "name": "stdout",
     "output_type": "stream",
     "text": [
      "Epoch 1/150\n",
      "768/768 [==============================] - 1s - loss: 3.7507 - acc: 0.6003     \n",
      "Epoch 2/150\n",
      "768/768 [==============================] - 0s - loss: 0.9437 - acc: 0.5938     \n",
      "Epoch 3/150\n",
      "768/768 [==============================] - 0s - loss: 0.7515 - acc: 0.6380     \n",
      "Epoch 4/150\n",
      "768/768 [==============================] - 0s - loss: 0.7133 - acc: 0.6549     \n",
      "Epoch 5/150\n",
      "768/768 [==============================] - 0s - loss: 0.6830 - acc: 0.6732     \n",
      "Epoch 6/150\n",
      "768/768 [==============================] - 0s - loss: 0.6517 - acc: 0.6797     \n",
      "Epoch 7/150\n",
      "768/768 [==============================] - 0s - loss: 0.6502 - acc: 0.6771     \n",
      "Epoch 8/150\n",
      "768/768 [==============================] - 0s - loss: 0.6384 - acc: 0.6836     \n",
      "Epoch 9/150\n",
      "768/768 [==============================] - 0s - loss: 0.6252 - acc: 0.6940     \n",
      "Epoch 10/150\n",
      "768/768 [==============================] - 0s - loss: 0.6318 - acc: 0.6758     \n",
      "Epoch 11/150\n",
      "768/768 [==============================] - 0s - loss: 0.6498 - acc: 0.6719     \n",
      "Epoch 12/150\n",
      "768/768 [==============================] - 0s - loss: 0.6406 - acc: 0.6784     \n",
      "Epoch 13/150\n",
      "768/768 [==============================] - 0s - loss: 0.6264 - acc: 0.6810     \n",
      "Epoch 14/150\n",
      "768/768 [==============================] - 1s - loss: 0.6198 - acc: 0.6953     \n",
      "Epoch 15/150\n",
      "768/768 [==============================] - 0s - loss: 0.6033 - acc: 0.6901     \n",
      "Epoch 16/150\n",
      "768/768 [==============================] - 1s - loss: 0.5883 - acc: 0.6966     \n",
      "Epoch 17/150\n",
      "768/768 [==============================] - 1s - loss: 0.5851 - acc: 0.7005     \n",
      "Epoch 18/150\n",
      "768/768 [==============================] - 0s - loss: 0.6010 - acc: 0.6888     \n",
      "Epoch 19/150\n",
      "768/768 [==============================] - 0s - loss: 0.5803 - acc: 0.7096     - ETA: 0s - loss: 0.55\n",
      "Epoch 20/150\n",
      "768/768 [==============================] - 0s - loss: 0.5802 - acc: 0.7201     \n",
      "Epoch 21/150\n",
      "768/768 [==============================] - 0s - loss: 0.5684 - acc: 0.7161     \n",
      "Epoch 22/150\n",
      "768/768 [==============================] - 0s - loss: 0.5828 - acc: 0.6940     \n",
      "Epoch 23/150\n",
      "768/768 [==============================] - 0s - loss: 0.5736 - acc: 0.7122     \n",
      "Epoch 24/150\n",
      "768/768 [==============================] - 0s - loss: 0.5672 - acc: 0.7305     \n",
      "Epoch 25/150\n",
      "768/768 [==============================] - 0s - loss: 0.5573 - acc: 0.7357     - ETA: 0s - loss: 0.5074 - acc: 0.775 - ETA: 0s - loss: 0.5245 - a\n",
      "Epoch 26/150\n",
      "768/768 [==============================] - 0s - loss: 0.5706 - acc: 0.7057     \n",
      "Epoch 27/150\n",
      "768/768 [==============================] - 0s - loss: 0.5559 - acc: 0.7227     \n",
      "Epoch 28/150\n",
      "768/768 [==============================] - 0s - loss: 0.5555 - acc: 0.7292     \n",
      "Epoch 29/150\n",
      "768/768 [==============================] - 0s - loss: 0.5742 - acc: 0.7148     \n",
      "Epoch 30/150\n",
      "768/768 [==============================] - 0s - loss: 0.5610 - acc: 0.7214     \n",
      "Epoch 31/150\n",
      "768/768 [==============================] - 0s - loss: 0.5693 - acc: 0.7161     \n",
      "Epoch 32/150\n",
      "768/768 [==============================] - 0s - loss: 0.5636 - acc: 0.7122     \n",
      "Epoch 33/150\n",
      "768/768 [==============================] - 0s - loss: 0.5517 - acc: 0.7174     \n",
      "Epoch 34/150\n",
      "768/768 [==============================] - 0s - loss: 0.5488 - acc: 0.7331     \n",
      "Epoch 35/150\n",
      "768/768 [==============================] - 0s - loss: 0.5499 - acc: 0.7201     \n",
      "Epoch 36/150\n",
      "768/768 [==============================] - 0s - loss: 0.5604 - acc: 0.7096     \n",
      "Epoch 37/150\n",
      "768/768 [==============================] - 0s - loss: 0.5349 - acc: 0.7357     \n",
      "Epoch 38/150\n",
      "768/768 [==============================] - 0s - loss: 0.5402 - acc: 0.7227     - ETA: 0s - loss: 0.5054 - acc: 0.\n",
      "Epoch 39/150\n",
      "768/768 [==============================] - 0s - loss: 0.5463 - acc: 0.7279     \n",
      "Epoch 40/150\n",
      "768/768 [==============================] - 0s - loss: 0.5440 - acc: 0.7240     \n",
      "Epoch 41/150\n",
      "768/768 [==============================] - 0s - loss: 0.5441 - acc: 0.7318     \n",
      "Epoch 42/150\n",
      "768/768 [==============================] - 0s - loss: 0.5384 - acc: 0.7409     \n",
      "Epoch 43/150\n",
      "768/768 [==============================] - 0s - loss: 0.5312 - acc: 0.7539     \n",
      "Epoch 44/150\n",
      "768/768 [==============================] - 0s - loss: 0.5332 - acc: 0.7461     \n",
      "Epoch 45/150\n",
      "768/768 [==============================] - 0s - loss: 0.5310 - acc: 0.7552     \n",
      "Epoch 46/150\n",
      "768/768 [==============================] - 0s - loss: 0.5284 - acc: 0.7526     - ETA: 0s - loss: 0.5658 - acc: 0. - ETA: 0s - loss: 0.5278 - acc: 0\n",
      "Epoch 47/150\n",
      "768/768 [==============================] - 0s - loss: 0.5296 - acc: 0.7396     \n",
      "Epoch 48/150\n",
      "768/768 [==============================] - 0s - loss: 0.5318 - acc: 0.7409     \n",
      "Epoch 49/150\n",
      "768/768 [==============================] - 0s - loss: 0.5334 - acc: 0.7448     \n",
      "Epoch 50/150\n",
      "768/768 [==============================] - 0s - loss: 0.5258 - acc: 0.7344     \n",
      "Epoch 51/150\n",
      "768/768 [==============================] - 0s - loss: 0.5270 - acc: 0.7461     \n",
      "Epoch 52/150\n",
      "768/768 [==============================] - 0s - loss: 0.5318 - acc: 0.7448     \n",
      "Epoch 53/150\n",
      "768/768 [==============================] - 0s - loss: 0.5381 - acc: 0.7461     \n",
      "Epoch 54/150\n",
      "768/768 [==============================] - 0s - loss: 0.5375 - acc: 0.7279     \n",
      "Epoch 55/150\n",
      "768/768 [==============================] - 0s - loss: 0.5216 - acc: 0.7539     \n",
      "Epoch 56/150\n",
      "768/768 [==============================] - 0s - loss: 0.5280 - acc: 0.7448     \n",
      "Epoch 57/150\n",
      "768/768 [==============================] - 0s - loss: 0.5302 - acc: 0.7383     \n",
      "Epoch 58/150\n",
      "768/768 [==============================] - 0s - loss: 0.5211 - acc: 0.7513     \n",
      "Epoch 59/150\n",
      "768/768 [==============================] - 0s - loss: 0.5125 - acc: 0.7591     \n",
      "Epoch 60/150\n",
      "768/768 [==============================] - 0s - loss: 0.5337 - acc: 0.7370     \n",
      "Epoch 61/150\n",
      "768/768 [==============================] - 0s - loss: 0.5261 - acc: 0.7331     \n",
      "Epoch 62/150\n",
      "768/768 [==============================] - 0s - loss: 0.5176 - acc: 0.7526     \n",
      "Epoch 63/150\n",
      "768/768 [==============================] - 0s - loss: 0.5433 - acc: 0.7318     \n",
      "Epoch 64/150\n",
      "768/768 [==============================] - 0s - loss: 0.5324 - acc: 0.7396     \n",
      "Epoch 65/150\n",
      "768/768 [==============================] - 0s - loss: 0.5231 - acc: 0.7435     \n",
      "Epoch 66/150\n",
      "768/768 [==============================] - 0s - loss: 0.5061 - acc: 0.7513     \n",
      "Epoch 67/150\n",
      "768/768 [==============================] - 0s - loss: 0.5161 - acc: 0.7448     \n",
      "Epoch 68/150\n",
      "768/768 [==============================] - 0s - loss: 0.5129 - acc: 0.7539     \n",
      "Epoch 69/150\n",
      "768/768 [==============================] - 0s - loss: 0.5111 - acc: 0.7513     \n",
      "Epoch 70/150\n",
      "768/768 [==============================] - 0s - loss: 0.5340 - acc: 0.7214     \n",
      "Epoch 71/150\n",
      "768/768 [==============================] - 0s - loss: 0.5193 - acc: 0.7435     \n",
      "Epoch 72/150\n",
      "768/768 [==============================] - 0s - loss: 0.5186 - acc: 0.7526     \n",
      "Epoch 73/150\n",
      "768/768 [==============================] - 0s - loss: 0.5165 - acc: 0.7513     \n",
      "Epoch 74/150\n",
      "768/768 [==============================] - 0s - loss: 0.5106 - acc: 0.7617     \n",
      "Epoch 75/150\n",
      "768/768 [==============================] - 0s - loss: 0.5114 - acc: 0.7539     \n",
      "Epoch 76/150\n",
      "768/768 [==============================] - 0s - loss: 0.5138 - acc: 0.7552     \n",
      "Epoch 77/150\n",
      "768/768 [==============================] - 0s - loss: 0.5159 - acc: 0.7643     \n",
      "Epoch 78/150\n",
      "768/768 [==============================] - 0s - loss: 0.5138 - acc: 0.7422     \n",
      "Epoch 79/150\n",
      "768/768 [==============================] - 0s - loss: 0.5149 - acc: 0.7331     \n",
      "Epoch 80/150\n",
      "768/768 [==============================] - 0s - loss: 0.5115 - acc: 0.7513     \n",
      "Epoch 81/150\n",
      "768/768 [==============================] - 0s - loss: 0.5066 - acc: 0.7682     \n",
      "Epoch 82/150\n",
      "768/768 [==============================] - 0s - loss: 0.5082 - acc: 0.7474     \n",
      "Epoch 83/150\n",
      "768/768 [==============================] - 0s - loss: 0.5033 - acc: 0.7526     \n",
      "Epoch 84/150\n",
      "768/768 [==============================] - 0s - loss: 0.4982 - acc: 0.7565     \n",
      "Epoch 85/150\n",
      "768/768 [==============================] - 0s - loss: 0.5062 - acc: 0.7448     \n",
      "Epoch 86/150\n",
      "768/768 [==============================] - 0s - loss: 0.5069 - acc: 0.7539     \n",
      "Epoch 87/150\n",
      "768/768 [==============================] - 0s - loss: 0.5004 - acc: 0.7565     \n",
      "Epoch 88/150\n",
      "768/768 [==============================] - 0s - loss: 0.5020 - acc: 0.7669     \n",
      "Epoch 89/150\n",
      "768/768 [==============================] - 0s - loss: 0.5076 - acc: 0.7630     \n",
      "Epoch 90/150\n",
      "768/768 [==============================] - 0s - loss: 0.5125 - acc: 0.7500     \n",
      "Epoch 91/150\n",
      "768/768 [==============================] - 0s - loss: 0.5018 - acc: 0.7513     \n",
      "Epoch 92/150\n",
      "768/768 [==============================] - ETA: 0s - loss: 0.5048 - acc: 0.747 - 0s - loss: 0.5064 - acc: 0.7461     \n",
      "Epoch 93/150\n",
      "768/768 [==============================] - 0s - loss: 0.4989 - acc: 0.7630     \n",
      "Epoch 94/150\n",
      "768/768 [==============================] - 0s - loss: 0.4994 - acc: 0.7630     \n",
      "Epoch 95/150\n",
      "768/768 [==============================] - 0s - loss: 0.5076 - acc: 0.7474     \n",
      "Epoch 96/150\n",
      "768/768 [==============================] - 0s - loss: 0.4933 - acc: 0.7643     \n",
      "Epoch 97/150\n",
      "768/768 [==============================] - 0s - loss: 0.4989 - acc: 0.7682     \n",
      "Epoch 98/150\n",
      "768/768 [==============================] - 0s - loss: 0.4905 - acc: 0.7630     \n",
      "Epoch 99/150\n",
      "768/768 [==============================] - 0s - loss: 0.4918 - acc: 0.7656     \n",
      "Epoch 100/150\n",
      "768/768 [==============================] - 0s - loss: 0.4857 - acc: 0.7839     \n",
      "Epoch 101/150\n",
      "768/768 [==============================] - 0s - loss: 0.4919 - acc: 0.7747     \n",
      "Epoch 102/150\n",
      "768/768 [==============================] - 0s - loss: 0.4997 - acc: 0.7604     \n",
      "Epoch 103/150\n",
      "768/768 [==============================] - 0s - loss: 0.5001 - acc: 0.7526     \n",
      "Epoch 104/150\n",
      "768/768 [==============================] - 0s - loss: 0.4938 - acc: 0.7891     \n",
      "Epoch 105/150\n",
      "768/768 [==============================] - 0s - loss: 0.5331 - acc: 0.7448     \n",
      "Epoch 106/150\n",
      "768/768 [==============================] - 0s - loss: 0.4926 - acc: 0.7708     \n",
      "Epoch 107/150\n",
      "768/768 [==============================] - 0s - loss: 0.4922 - acc: 0.7695     \n",
      "Epoch 108/150\n",
      "768/768 [==============================] - 0s - loss: 0.5005 - acc: 0.7669     \n",
      "Epoch 109/150\n",
      "768/768 [==============================] - 0s - loss: 0.4872 - acc: 0.7591     \n",
      "Epoch 110/150\n",
      "768/768 [==============================] - 0s - loss: 0.4884 - acc: 0.7630     \n",
      "Epoch 111/150\n",
      "768/768 [==============================] - 0s - loss: 0.4848 - acc: 0.7773     \n",
      "Epoch 112/150\n",
      "768/768 [==============================] - 0s - loss: 0.4922 - acc: 0.7773     \n",
      "Epoch 113/150\n",
      "768/768 [==============================] - 0s - loss: 0.4992 - acc: 0.7500     - ETA: 0s - loss: 0.4605 - acc:\n",
      "Epoch 114/150\n",
      "768/768 [==============================] - 0s - loss: 0.4919 - acc: 0.7591     \n",
      "Epoch 115/150\n",
      "768/768 [==============================] - 0s - loss: 0.4935 - acc: 0.7695     \n",
      "Epoch 116/150\n",
      "768/768 [==============================] - 0s - loss: 0.4917 - acc: 0.7708     \n",
      "Epoch 117/150\n",
      "768/768 [==============================] - 0s - loss: 0.4920 - acc: 0.7578     \n",
      "Epoch 118/150\n",
      "768/768 [==============================] - 0s - loss: 0.4886 - acc: 0.7760     \n",
      "Epoch 119/150\n",
      "768/768 [==============================] - 0s - loss: 0.4843 - acc: 0.7682     \n",
      "Epoch 120/150\n",
      "768/768 [==============================] - 0s - loss: 0.4971 - acc: 0.7760     \n",
      "Epoch 121/150\n",
      "768/768 [==============================] - 0s - loss: 0.4936 - acc: 0.7799     \n",
      "Epoch 122/150\n",
      "768/768 [==============================] - 0s - loss: 0.4859 - acc: 0.7812     \n",
      "Epoch 123/150\n",
      "768/768 [==============================] - 0s - loss: 0.4821 - acc: 0.7669     \n",
      "Epoch 124/150\n",
      "768/768 [==============================] - 0s - loss: 0.4845 - acc: 0.7760     \n",
      "Epoch 125/150\n",
      "768/768 [==============================] - 0s - loss: 0.4854 - acc: 0.7760     \n",
      "Epoch 126/150\n",
      "768/768 [==============================] - 0s - loss: 0.4817 - acc: 0.7656     \n",
      "Epoch 127/150\n",
      "768/768 [==============================] - 0s - loss: 0.4886 - acc: 0.7695     \n",
      "Epoch 128/150\n",
      "768/768 [==============================] - 0s - loss: 0.4718 - acc: 0.7721     \n",
      "Epoch 129/150\n",
      "768/768 [==============================] - 0s - loss: 0.4813 - acc: 0.7682     \n",
      "Epoch 130/150\n",
      "768/768 [==============================] - 0s - loss: 0.4729 - acc: 0.7852     \n",
      "Epoch 131/150\n",
      "768/768 [==============================] - 0s - loss: 0.4847 - acc: 0.7669     \n",
      "Epoch 132/150\n",
      "768/768 [==============================] - 0s - loss: 0.4812 - acc: 0.7786     \n",
      "Epoch 133/150\n",
      "768/768 [==============================] - 0s - loss: 0.4836 - acc: 0.7695     \n",
      "Epoch 134/150\n",
      "768/768 [==============================] - 0s - loss: 0.4857 - acc: 0.7721     \n",
      "Epoch 135/150\n",
      "768/768 [==============================] - 0s - loss: 0.4746 - acc: 0.7682     \n",
      "Epoch 136/150\n",
      "768/768 [==============================] - 0s - loss: 0.4735 - acc: 0.7760     \n",
      "Epoch 137/150\n",
      "768/768 [==============================] - 0s - loss: 0.4691 - acc: 0.7839     - ETA: 0s - loss: 0.4139 - \n",
      "Epoch 138/150\n",
      "768/768 [==============================] - 0s - loss: 0.4795 - acc: 0.7865     - ETA: 0s - loss: 0.4401 - a\n",
      "Epoch 139/150\n",
      "768/768 [==============================] - 0s - loss: 0.4677 - acc: 0.7773     \n",
      "Epoch 140/150\n",
      "768/768 [==============================] - 0s - loss: 0.4807 - acc: 0.7799     \n",
      "Epoch 141/150\n",
      "768/768 [==============================] - 0s - loss: 0.4716 - acc: 0.7891     \n",
      "Epoch 142/150\n",
      "768/768 [==============================] - 0s - loss: 0.4830 - acc: 0.7682     \n",
      "Epoch 143/150\n",
      "768/768 [==============================] - 0s - loss: 0.4733 - acc: 0.7773     \n",
      "Epoch 144/150\n",
      "768/768 [==============================] - 0s - loss: 0.4742 - acc: 0.7799     \n",
      "Epoch 145/150\n",
      "768/768 [==============================] - 0s - loss: 0.4877 - acc: 0.7643     \n",
      "Epoch 146/150\n",
      "768/768 [==============================] - 0s - loss: 0.4923 - acc: 0.7734     \n",
      "Epoch 147/150\n",
      "768/768 [==============================] - 0s - loss: 0.4836 - acc: 0.7852     \n",
      "Epoch 148/150\n",
      "768/768 [==============================] - 1s - loss: 0.4706 - acc: 0.7760     \n",
      "Epoch 149/150\n",
      "768/768 [==============================] - 1s - loss: 0.4751 - acc: 0.7617     \n",
      "Epoch 150/150\n",
      "768/768 [==============================] - 0s - loss: 0.4791 - acc: 0.7799     - ETA: 0s - loss: 0.4\n"
     ]
    },
    {
     "data": {
      "text/plain": [
       "<keras.callbacks.History at 0x7f5a0c9169e8>"
      ]
     },
     "execution_count": 6,
     "metadata": {},
     "output_type": "execute_result"
    }
   ],
   "source": [
    "# Fit the model\n",
    "# model.fit(X, Y, epochs=150, batch_size=10, verbose=0)\n",
    "model.fit(X, Y, epochs=150, batch_size=10)"
   ]
  },
  {
   "cell_type": "code",
   "execution_count": 7,
   "metadata": {},
   "outputs": [
    {
     "name": "stdout",
     "output_type": "stream",
     "text": [
      "672/768 [=========================>....] - ETA: 0s\n",
      "acc: 78.26%\n"
     ]
    }
   ],
   "source": [
    "# evaluate the model\n",
    "scores = model.evaluate(X, Y)\n",
    "print(\"\\n%s: %.2f%%\" % (model.metrics_names[1], scores[1]*100))"
   ]
  },
  {
   "cell_type": "code",
   "execution_count": null,
   "metadata": {
    "collapsed": true
   },
   "outputs": [],
   "source": []
  },
  {
   "cell_type": "code",
   "execution_count": null,
   "metadata": {
    "collapsed": true
   },
   "outputs": [],
   "source": []
  },
  {
   "cell_type": "code",
   "execution_count": null,
   "metadata": {
    "collapsed": true
   },
   "outputs": [],
   "source": []
  },
  {
   "cell_type": "markdown",
   "metadata": {
    "collapsed": true
   },
   "source": [
    "### Time Series Prediction With Deep Learning in Keras"
   ]
  },
  {
   "cell_type": "markdown",
   "metadata": {
    "collapsed": true
   },
   "source": [
    "http://machinelearningmastery.com/time-series-prediction-with-deep-learning-in-python-with-keras/"
   ]
  },
  {
   "cell_type": "code",
   "execution_count": 120,
   "metadata": {},
   "outputs": [
    {
     "data": {
      "image/png": "[encoded data removed]",
      "text/plain": [
       "<matplotlib.figure.Figure at 0x7fbb1064ea58>"
      ]
     },
     "metadata": {},
     "output_type": "display_data"
    }
   ],
   "source": [
    "import pandas\n",
    "import matplotlib.pyplot as plt\n",
    "# dataset = pandas.read_csv('international-airline-passengers.csv', usecols=[1], engine='python', skipfooter=3)\n",
    "dataset = pandas.read_csv('bid_v010_ts.csv', usecols=[1], engine='python', skipfooter=3)\n",
    "plt.plot(dataset)\n",
    "plt.show()"
   ]
  },
  {
   "cell_type": "code",
   "execution_count": 121,
   "metadata": {},
   "outputs": [],
   "source": [
    "import numpy\n",
    "import matplotlib.pyplot as plt\n",
    "import pandas\n",
    "from keras.models import Sequential\n",
    "from keras.layers import Dense"
   ]
  },
  {
   "cell_type": "code",
   "execution_count": 122,
   "metadata": {
    "collapsed": true
   },
   "outputs": [],
   "source": [
    "# fix random seed for reproducibility\n",
    "numpy.random.seed(7)"
   ]
  },
  {
   "cell_type": "code",
   "execution_count": 123,
   "metadata": {},
   "outputs": [],
   "source": [
    "# load the dataset\n",
    "# dataframe = pandas.read_csv('international-airline-passengers.csv', usecols=[1], engine='python', skipfooter=3)\n",
    "dataset = pandas.read_csv('bid_v010_ts.csv', usecols=[1], engine='python', skipfooter=3)\n",
    "dataset = dataset.values\n",
    "dataset = dataset.astype('float32')"
   ]
  },
  {
   "cell_type": "code",
   "execution_count": 77,
   "metadata": {},
   "outputs": [],
   "source": [
    "cut = len(dataset) - 61"
   ]
  },
  {
   "cell_type": "code",
   "execution_count": 78,
   "metadata": {},
   "outputs": [],
   "source": [
    "dataset = dataset[0:cut]"
   ]
  },
  {
   "cell_type": "code",
   "execution_count": 124,
   "metadata": {},
   "outputs": [
    {
     "data": {
      "text/plain": [
       "1522"
      ]
     },
     "execution_count": 124,
     "metadata": {},
     "output_type": "execute_result"
    }
   ],
   "source": [
    "len(dataset)"
   ]
  },
  {
   "cell_type": "code",
   "execution_count": 125,
   "metadata": {},
   "outputs": [
    {
     "name": "stdout",
     "output_type": "stream",
     "text": [
      "1461 61\n"
     ]
    }
   ],
   "source": [
    "# split into train and test sets\n",
    "train_size = int(len(dataset) * 0.96)\n",
    "test_size = len(dataset) - train_size\n",
    "train, test = dataset[0:train_size,:], dataset[train_size:len(dataset),:]\n",
    "print(len(train), len(test))"
   ]
  },
  {
   "cell_type": "code",
   "execution_count": 126,
   "metadata": {
    "collapsed": true
   },
   "outputs": [],
   "source": [
    "# convert an array of values into a dataset matrix\n",
    "def create_dataset(dataset, look_back=1):\n",
    "\tdataX, dataY = [], []\n",
    "\tfor i in range(len(dataset)-look_back-1):\n",
    "\t\ta = dataset[i:(i+look_back), 0]\n",
    "\t\tdataX.append(a)\n",
    "\t\tdataY.append(dataset[i + look_back, 0])\n",
    "\treturn numpy.array(dataX), numpy.array(dataY)"
   ]
  },
  {
   "cell_type": "code",
   "execution_count": 103,
   "metadata": {
    "collapsed": true
   },
   "outputs": [],
   "source": [
    "# reshape into X=t and Y=t+1\n",
    "look_back = 1\n",
    "trainX, trainY = create_dataset(train, look_back)\n",
    "testX, testY = create_dataset(test, look_back)"
   ]
  },
  {
   "cell_type": "code",
   "execution_count": 132,
   "metadata": {
    "collapsed": true
   },
   "outputs": [],
   "source": [
    "# reshape into X=t and Y=t+7 (7 seconds in future)\n",
    "look_back = 7\n",
    "trainX, trainY = create_dataset(train, look_back)\n",
    "testX, testY = create_dataset(test, look_back)"
   ]
  },
  {
   "cell_type": "code",
   "execution_count": 133,
   "metadata": {},
   "outputs": [
    {
     "data": {
      "image/png": "[encoded data removed]",
      "text/plain": [
       "<matplotlib.figure.Figure at 0x7fbb1039aeb8>"
      ]
     },
     "metadata": {},
     "output_type": "display_data"
    }
   ],
   "source": [
    "# plt.plot(testX)\n",
    "plt.plot(trainY)\n",
    "plt.show()"
   ]
  },
  {
   "cell_type": "code",
   "execution_count": 134,
   "metadata": {},
   "outputs": [
    {
     "data": {
      "image/png": "[encoded data removed]",
      "text/plain": [
       "<matplotlib.figure.Figure at 0x7fbb105e91d0>"
      ]
     },
     "metadata": {},
     "output_type": "display_data"
    }
   ],
   "source": [
    "# plt.plot(testX)\n",
    "plt.plot(testY)\n",
    "plt.show()"
   ]
  },
  {
   "cell_type": "code",
   "execution_count": null,
   "metadata": {
    "collapsed": true
   },
   "outputs": [],
   "source": []
  },
  {
   "cell_type": "code",
   "execution_count": 135,
   "metadata": {
    "scrolled": true
   },
   "outputs": [
    {
     "name": "stdout",
     "output_type": "stream",
     "text": [
      "Epoch 1/150\n",
      "1s - loss: 820737043.4479\n",
      "Epoch 2/150\n",
      "1s - loss: 78666.5944\n",
      "Epoch 3/150\n",
      "1s - loss: 78723.3827\n",
      "Epoch 4/150\n",
      "1s - loss: 78983.7952\n",
      "Epoch 5/150\n",
      "1s - loss: 80358.7284\n",
      "Epoch 6/150\n",
      "1s - loss: 81113.9618\n",
      "Epoch 7/150\n",
      "1s - loss: 84622.9020\n",
      "Epoch 8/150\n",
      "1s - loss: 87158.3895\n",
      "Epoch 9/150\n",
      "1s - loss: 93380.1527\n",
      "Epoch 10/150\n",
      "1s - loss: 96069.5351\n",
      "Epoch 11/150\n",
      "1s - loss: 103492.8455\n",
      "Epoch 12/150\n",
      "1s - loss: 102856.0988\n",
      "Epoch 13/150\n",
      "1s - loss: 108484.0927\n",
      "Epoch 14/150\n",
      "1s - loss: 108425.5915\n",
      "Epoch 15/150\n",
      "1s - loss: 109751.8876\n",
      "Epoch 16/150\n",
      "1s - loss: 109418.0935\n",
      "Epoch 17/150\n",
      "1s - loss: 110970.7714\n",
      "Epoch 18/150\n",
      "1s - loss: 115673.1953\n",
      "Epoch 19/150\n",
      "1s - loss: 112135.1561\n",
      "Epoch 20/150\n",
      "1s - loss: 105848.9370\n",
      "Epoch 21/150\n",
      "1s - loss: 112225.9826\n",
      "Epoch 22/150\n",
      "1s - loss: 107596.4348\n",
      "Epoch 23/150\n",
      "1s - loss: 103522.2720\n",
      "Epoch 24/150\n",
      "1s - loss: 104311.2720\n",
      "Epoch 25/150\n",
      "1s - loss: 104835.1203\n",
      "Epoch 26/150\n",
      "1s - loss: 112718.4637\n",
      "Epoch 27/150\n",
      "1s - loss: 102545.3231\n",
      "Epoch 28/150\n",
      "1s - loss: 112390.3983\n",
      "Epoch 29/150\n",
      "1s - loss: 113093.7152\n",
      "Epoch 30/150\n",
      "1s - loss: 107593.5466\n",
      "Epoch 31/150\n",
      "1s - loss: 100911.5859\n",
      "Epoch 32/150\n",
      "1s - loss: 110119.3237\n",
      "Epoch 33/150\n",
      "1s - loss: 106485.6587\n",
      "Epoch 34/150\n",
      "1s - loss: 106796.5130\n",
      "Epoch 35/150\n",
      "1s - loss: 103965.5788\n",
      "Epoch 36/150\n",
      "1s - loss: 101286.7121\n",
      "Epoch 37/150\n",
      "1s - loss: 105628.2856\n",
      "Epoch 38/150\n",
      "1s - loss: 113075.6900\n",
      "Epoch 39/150\n",
      "1s - loss: 104879.7470\n",
      "Epoch 40/150\n",
      "1s - loss: 105111.8569\n",
      "Epoch 41/150\n",
      "1s - loss: 101730.6268\n",
      "Epoch 42/150\n",
      "1s - loss: 110346.3691\n",
      "Epoch 43/150\n",
      "1s - loss: 99584.7089\n",
      "Epoch 44/150\n",
      "1s - loss: 107464.1233\n",
      "Epoch 45/150\n",
      "1s - loss: 117342.7022\n",
      "Epoch 46/150\n",
      "1s - loss: 106760.8081\n",
      "Epoch 47/150\n",
      "1s - loss: 111747.7948\n",
      "Epoch 48/150\n",
      "1s - loss: 102000.6812\n",
      "Epoch 49/150\n",
      "1s - loss: 103955.6543\n",
      "Epoch 50/150\n",
      "1s - loss: 110565.7102\n",
      "Epoch 51/150\n",
      "1s - loss: 98440.8502\n",
      "Epoch 52/150\n",
      "1s - loss: 112212.8488\n",
      "Epoch 53/150\n",
      "1s - loss: 106470.6348\n",
      "Epoch 54/150\n",
      "1s - loss: 104789.0938\n",
      "Epoch 55/150\n",
      "1s - loss: 102004.2722\n",
      "Epoch 56/150\n",
      "1s - loss: 96688.0893\n",
      "Epoch 57/150\n",
      "1s - loss: 99995.5580\n",
      "Epoch 58/150\n",
      "1s - loss: 103508.9464\n",
      "Epoch 59/150\n",
      "1s - loss: 113320.0278\n",
      "Epoch 60/150\n",
      "1s - loss: 100026.0030\n",
      "Epoch 61/150\n",
      "1s - loss: 102994.2021\n",
      "Epoch 62/150\n",
      "1s - loss: 106498.8339\n",
      "Epoch 63/150\n",
      "1s - loss: 103000.3871\n",
      "Epoch 64/150\n",
      "1s - loss: 107639.2888\n",
      "Epoch 65/150\n",
      "1s - loss: 105430.6529\n",
      "Epoch 66/150\n",
      "1s - loss: 99769.2873\n",
      "Epoch 67/150\n",
      "1s - loss: 106952.1170\n",
      "Epoch 68/150\n",
      "1s - loss: 103831.5339\n",
      "Epoch 69/150\n",
      "1s - loss: 98963.6894\n",
      "Epoch 70/150\n",
      "1s - loss: 107119.3546\n",
      "Epoch 71/150\n",
      "1s - loss: 105863.0801\n",
      "Epoch 72/150\n",
      "1s - loss: 100589.9138\n",
      "Epoch 73/150\n",
      "1s - loss: 96031.9701\n",
      "Epoch 74/150\n",
      "1s - loss: 101993.1113\n",
      "Epoch 75/150\n",
      "1s - loss: 97317.1783\n",
      "Epoch 76/150\n",
      "1s - loss: 100130.8580\n",
      "Epoch 77/150\n",
      "1s - loss: 101975.5372\n",
      "Epoch 78/150\n",
      "1s - loss: 96575.8126\n",
      "Epoch 79/150\n",
      "1s - loss: 97550.9914\n",
      "Epoch 80/150\n",
      "1s - loss: 90882.0408\n",
      "Epoch 81/150\n",
      "1s - loss: 99118.5887\n",
      "Epoch 82/150\n",
      "1s - loss: 107488.8678\n",
      "Epoch 83/150\n",
      "1s - loss: 98241.8375\n",
      "Epoch 84/150\n",
      "1s - loss: 96772.7884\n",
      "Epoch 85/150\n",
      "1s - loss: 101336.7905\n",
      "Epoch 86/150\n",
      "1s - loss: 98124.2019\n",
      "Epoch 87/150\n",
      "1s - loss: 95911.8442\n",
      "Epoch 88/150\n",
      "1s - loss: 94045.9289\n",
      "Epoch 89/150\n",
      "1s - loss: 108241.5417\n",
      "Epoch 90/150\n",
      "1s - loss: 101932.3304\n",
      "Epoch 91/150\n",
      "1s - loss: 95936.2921\n",
      "Epoch 92/150\n",
      "1s - loss: 102563.3004\n",
      "Epoch 93/150\n",
      "1s - loss: 98467.2205\n",
      "Epoch 94/150\n",
      "1s - loss: 104965.0315\n",
      "Epoch 95/150\n",
      "1s - loss: 110735.6548\n",
      "Epoch 96/150\n",
      "1s - loss: 102188.9652\n",
      "Epoch 97/150\n",
      "1s - loss: 97296.8267\n",
      "Epoch 98/150\n",
      "1s - loss: 106389.7463\n",
      "Epoch 99/150\n",
      "1s - loss: 97134.5185\n",
      "Epoch 100/150\n",
      "1s - loss: 92217.7870\n",
      "Epoch 101/150\n",
      "1s - loss: 101829.4005\n",
      "Epoch 102/150\n",
      "1s - loss: 93507.6818\n",
      "Epoch 103/150\n",
      "1s - loss: 104160.3243\n",
      "Epoch 104/150\n",
      "1s - loss: 101105.0108\n",
      "Epoch 105/150\n",
      "1s - loss: 101302.1234\n",
      "Epoch 106/150\n",
      "1s - loss: 96104.8930\n",
      "Epoch 107/150\n",
      "1s - loss: 94436.0750\n",
      "Epoch 108/150\n",
      "1s - loss: 110759.4371\n",
      "Epoch 109/150\n",
      "1s - loss: 98289.9708\n",
      "Epoch 110/150\n",
      "1s - loss: 101477.3832\n",
      "Epoch 111/150\n",
      "1s - loss: 97079.6781\n",
      "Epoch 112/150\n",
      "1s - loss: 91683.1167\n",
      "Epoch 113/150\n",
      "1s - loss: 94975.7903\n",
      "Epoch 114/150\n",
      "1s - loss: 93272.3331\n",
      "Epoch 115/150\n",
      "1s - loss: 89555.1626\n",
      "Epoch 116/150\n",
      "1s - loss: 92254.0026\n",
      "Epoch 117/150\n",
      "1s - loss: 96620.3452\n",
      "Epoch 118/150\n",
      "1s - loss: 96990.0444\n",
      "Epoch 119/150\n",
      "1s - loss: 95582.5708\n",
      "Epoch 120/150\n",
      "1s - loss: 91449.3157\n",
      "Epoch 121/150\n",
      "1s - loss: 94390.1141\n",
      "Epoch 122/150\n",
      "1s - loss: 96851.4166\n",
      "Epoch 123/150\n",
      "1s - loss: 88813.1424\n",
      "Epoch 124/150\n",
      "1s - loss: 89870.7171\n",
      "Epoch 125/150\n",
      "1s - loss: 95793.1806\n",
      "Epoch 126/150\n",
      "1s - loss: 94636.3268\n",
      "Epoch 127/150\n",
      "1s - loss: 95651.8961\n",
      "Epoch 128/150\n",
      "1s - loss: 94120.7914\n",
      "Epoch 129/150\n",
      "2s - loss: 89014.9932\n",
      "Epoch 130/150\n",
      "1s - loss: 95553.5520\n",
      "Epoch 131/150\n",
      "1s - loss: 88399.9596\n",
      "Epoch 132/150\n",
      "1s - loss: 99697.2073\n",
      "Epoch 133/150\n",
      "1s - loss: 98458.9996\n",
      "Epoch 134/150\n",
      "1s - loss: 94121.7898\n",
      "Epoch 135/150\n",
      "1s - loss: 96216.9440\n",
      "Epoch 136/150\n",
      "1s - loss: 92370.9837\n",
      "Epoch 137/150\n",
      "1s - loss: 86527.1466\n",
      "Epoch 138/150\n",
      "1s - loss: 90649.2367\n",
      "Epoch 139/150\n",
      "1s - loss: 97305.4806\n",
      "Epoch 140/150\n",
      "1s - loss: 88731.4682\n",
      "Epoch 141/150\n",
      "1s - loss: 95379.1310\n",
      "Epoch 142/150\n",
      "1s - loss: 89080.8900\n",
      "Epoch 143/150\n",
      "1s - loss: 89336.9050\n",
      "Epoch 144/150\n",
      "1s - loss: 107817.1635\n",
      "Epoch 145/150\n",
      "1s - loss: 102745.9630\n",
      "Epoch 146/150\n",
      "1s - loss: 88972.1355\n",
      "Epoch 147/150\n",
      "1s - loss: 90404.9707\n",
      "Epoch 148/150\n",
      "1s - loss: 82826.0315\n",
      "Epoch 149/150\n",
      "1s - loss: 92539.9138\n",
      "Epoch 150/150\n",
      "2s - loss: 90593.1159\n"
     ]
    },
    {
     "data": {
      "text/plain": [
       "<keras.callbacks.History at 0x7fbb100d6a58>"
      ]
     },
     "execution_count": 135,
     "metadata": {},
     "output_type": "execute_result"
    }
   ],
   "source": [
    "# create and fit Multilayer Perceptron model\n",
    "model = Sequential()\n",
    "model.add(Dense(8, input_dim=look_back, activation='relu'))\n",
    "model.add(Dense(1))\n",
    "model.compile(loss='mean_squared_error', optimizer='adam')\n",
    "model.fit(trainX, trainY, epochs=50, batch_size=2, verbose=2)"
   ]
  },
  {
   "cell_type": "code",
   "execution_count": 136,
   "metadata": {
    "collapsed": true
   },
   "outputs": [],
   "source": [
    "import math"
   ]
  },
  {
   "cell_type": "code",
   "execution_count": 137,
   "metadata": {},
   "outputs": [
    {
     "name": "stdout",
     "output_type": "stream",
     "text": [
      "Train Score: 105764.00 MSE (325.21 RMSE)\n",
      "Test Score: 55121.69 MSE (234.78 RMSE)\n"
     ]
    }
   ],
   "source": [
    "# Estimate model performance\n",
    "trainScore = model.evaluate(trainX, trainY, verbose=0)\n",
    "print('Train Score: %.2f MSE (%.2f RMSE)' % (trainScore, math.sqrt(trainScore)))\n",
    "testScore = model.evaluate(testX, testY, verbose=0)\n",
    "print('Test Score: %.2f MSE (%.2f RMSE)' % (testScore, math.sqrt(testScore)))"
   ]
  },
  {
   "cell_type": "code",
   "execution_count": null,
   "metadata": {
    "collapsed": true
   },
   "outputs": [],
   "source": []
  },
  {
   "cell_type": "code",
   "execution_count": 138,
   "metadata": {},
   "outputs": [
    {
     "data": {
      "image/png": "[encoded data removed]",
      "text/plain": [
       "<matplotlib.figure.Figure at 0x7fbb1021d4e0>"
      ]
     },
     "metadata": {},
     "output_type": "display_data"
    }
   ],
   "source": [
    "# generate predictions for training\n",
    "trainPredict = model.predict(trainX)\n",
    "testPredict = model.predict(testX)\n",
    "\n",
    "# shift train predictions for plotting\n",
    "trainPredictPlot = numpy.empty_like(dataset)\n",
    "trainPredictPlot[:, :] = numpy.nan\n",
    "trainPredictPlot[look_back:len(trainPredict)+look_back, :] = trainPredict\n",
    "\n",
    "# shift test predictions for plotting\n",
    "testPredictPlot = numpy.empty_like(dataset)\n",
    "testPredictPlot[:, :] = numpy.nan\n",
    "testPredictPlot[len(trainPredict)+(look_back*2)+1:len(dataset)-1, :] = testPredict\n",
    "\n",
    "# plot baseline and predictions\n",
    "plt.plot(dataset)\n",
    "plt.plot(trainPredictPlot)\n",
    "plt.plot(testPredictPlot)\n",
    "plt.show()"
   ]
  },
  {
   "cell_type": "code",
   "execution_count": 139,
   "metadata": {},
   "outputs": [
    {
     "data": {
      "image/png": "[encoded data removed]",
      "text/plain": [
       "<matplotlib.figure.Figure at 0x7fbb102695c0>"
      ]
     },
     "metadata": {},
     "output_type": "display_data"
    }
   ],
   "source": [
    "# generate predictions for training\n",
    "trainPredict = model.predict(trainX)\n",
    "testPredict = model.predict(testX)\n",
    "\n",
    "# shift train predictions for plotting\n",
    "trainPredictPlot = numpy.empty_like(dataset)\n",
    "trainPredictPlot[:, :] = numpy.nan\n",
    "trainPredictPlot[look_back:len(trainPredict)+look_back, :] = trainPredict\n",
    "\n",
    "# shift test predictions for plotting\n",
    "testPredictPlot = numpy.empty_like(dataset)\n",
    "testPredictPlot[:, :] = numpy.nan\n",
    "testPredictPlot[len(trainPredict)+(look_back*2)+1:len(dataset)-1, :] = testPredict\n",
    "\n",
    "# plot baseline and predictions\n",
    "plt.plot(dataset[len(trainPredict)+(look_back*2)+1:len(dataset)-1])\n",
    "# plt.plot(trainPredictPlot)\n",
    "plt.plot(testPredict)\n",
    "plt.show()"
   ]
  },
  {
   "cell_type": "code",
   "execution_count": null,
   "metadata": {
    "collapsed": true
   },
   "outputs": [],
   "source": []
  }
 ],
 "metadata": {
  "kernelspec": {
   "display_name": "Python 3",
   "language": "python",
   "name": "python3"
  },
  "language_info": {
   "codemirror_mode": {
    "name": "ipython",
    "version": 3
   },
   "file_extension": ".py",
   "mimetype": "text/x-python",
   "name": "python",
   "nbconvert_exporter": "python",
   "pygments_lexer": "ipython3",
   "version": "3.5.3"
  }
 },
 "nbformat": 4,
 "nbformat_minor": 2
}
