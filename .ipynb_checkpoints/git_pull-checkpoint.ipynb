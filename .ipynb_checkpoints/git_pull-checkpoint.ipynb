{
 "cells": [
  {
   "cell_type": "code",
   "execution_count": 1,
   "metadata": {},
   "outputs": [
    {
     "name": "stdout",
     "output_type": "stream",
     "text": [
      "remote: Counting objects: 7, done.\u001b[K\n",
      "remote: Compressing objects: 100% (3/3), done.\u001b[K\n",
      "remote: Total 7 (delta 4), reused 7 (delta 4), pack-reused 0\u001b[K\n",
      "Unpacking objects: 100% (7/7), done.\n",
      "From https://github.com/telescopeuser/rnd\n",
      "   e48ab26..3a15dc6  master     -> origin/master\n",
      "Updating e48ab26..3a15dc6\n",
      "Fast-forward\n",
      " uat_wechat/wechat_tool_testing/reference/video2.mp4   | Bin \u001b[31m0\u001b[m -> \u001b[32m1462767\u001b[m bytes\n",
      " .../reference/video_kudos_data.mp4                    | Bin \u001b[31m0\u001b[m -> \u001b[32m1894749\u001b[m bytes\n",
      " 2 files changed, 0 insertions(+), 0 deletions(-)\n",
      " create mode 100644 uat_wechat/wechat_tool_testing/reference/video2.mp4\n",
      " create mode 100644 uat_wechat/wechat_tool_testing/reference/video_kudos_data.mp4\n"
     ]
    }
   ],
   "source": [
    "!git pull"
   ]
  },
  {
   "cell_type": "code",
   "execution_count": 2,
   "metadata": {},
   "outputs": [
    {
     "name": "stdout",
     "output_type": "stream",
     "text": [
      "Already up-to-date.\r\n"
     ]
    }
   ],
   "source": [
    "!git pull"
   ]
  },
  {
   "cell_type": "code",
   "execution_count": null,
   "metadata": {
    "collapsed": true
   },
   "outputs": [],
   "source": []
  }
 ],
 "metadata": {
  "kernelspec": {
   "display_name": "Python 3",
   "language": "python",
   "name": "python3"
  },
  "language_info": {
   "codemirror_mode": {
    "name": "ipython",
    "version": 3
   },
   "file_extension": ".py",
   "mimetype": "text/x-python",
   "name": "python",
   "nbconvert_exporter": "python",
   "pygments_lexer": "ipython3",
   "version": "3.5.1"
  }
 },
 "nbformat": 4,
 "nbformat_minor": 2
}
