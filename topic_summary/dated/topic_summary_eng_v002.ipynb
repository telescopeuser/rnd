{
 "cells": [
  {
   "cell_type": "code",
   "execution_count": 40,
   "metadata": {
    "collapsed": true
   },
   "outputs": [],
   "source": [
    "# coding=UTF-8\n",
    "# from __future__ import division\n",
    "import re\n",
    "\n",
    "# This is a naive text summarization algorithm\n",
    "# Created by Shlomi Babluki\n",
    "# April, 2013\n",
    "\n",
    "# www.KudosData.com\n",
    "# Sam GU Zhan\n",
    "# March, 2017\n",
    "\n",
    "# Python2 unicode & float-division support:\n",
    "from __future__ import unicode_literals, division"
   ]
  },
  {
   "cell_type": "code",
   "execution_count": 41,
   "metadata": {
    "collapsed": true
   },
   "outputs": [],
   "source": [
    "# %matplotlib inline\n",
    "# import pandas as pd\n",
    "import numpy as np\n",
    "# import matplotlib.pyplot as plt\n",
    "\n",
    "import io\n",
    "\n",
    "# 中文字符和语言处理库\n",
    "import jieba\n",
    "\n",
    "# 机器学习库 sklearn 分类学习模型库\n",
    "#from sklearn import linear_model\n",
    "from sklearn.feature_extraction import DictVectorizer # 数据结构变换：把 Dict 转换为 稀疏矩阵\n",
    "# from sklearn.linear_model import LogisticRegression  # 逻辑回归分类模型\n",
    "# from sklearn.pipeline import make_pipeline # 封装机器学习模型流程\n",
    "# from sklearn.metrics import confusion_matrix, roc_curve, auc\n",
    "\n",
    "# 中文显示设置\n",
    "from pylab import *  \n",
    "mpl.rcParams['font.sans-serif'] = ['SimHei'] # 指定默认字体  \n",
    "mpl.rcParams['axes.unicode_minus'] = False # 解决保存图像是负号'-'显示为方块的问题 \n",
    "mpl.rcParams['font.size'] = 14 # 设置字体大小\n",
    "\n",
    "np.random.seed(88)"
   ]
  },
  {
   "cell_type": "code",
   "execution_count": 42,
   "metadata": {
    "collapsed": true
   },
   "outputs": [],
   "source": [
    "class SummaryTool(object):\n",
    "\n",
    "    # Naive method for splitting a text into sentences\n",
    "    def split_content_to_sentences(self, content):\n",
    "        content = content.replace(\"\\n\", \". \")\n",
    "        return content.split(\". \")\n",
    "\n",
    "    # Naive method for splitting a text into paragraphs\n",
    "    def split_content_to_paragraphs(self, content):\n",
    "        return content.split(\"\\n\\n\")\n",
    "\n",
    "    # Caculate the intersection between 2 sentences\n",
    "    def sentences_intersection(self, sent1, sent2):\n",
    "\n",
    "        # split the sentence into words/tokens\n",
    "        s1 = set(sent1.split(\" \"))\n",
    "        s2 = set(sent2.split(\" \"))\n",
    "\n",
    "        # If there is not intersection, just return 0\n",
    "        if (len(s1) + len(s2)) == 0:\n",
    "            return 0\n",
    "\n",
    "        # We normalize the result by the average number of words\n",
    "        return len(s1.intersection(s2)) / ((len(s1) + len(s2)) / 2)\n",
    "\n",
    "    # Format a sentence - remove all non-alphbetic chars from the sentence\n",
    "    # We'll use the formatted sentence as a key in our sentences dictionary\n",
    "    def format_sentence(self, sentence):\n",
    "        sentence = re.sub(r'\\W+', '', sentence)\n",
    "        return sentence\n",
    "\n",
    "    # Convert the content into a dictionary <K, V>\n",
    "    # k = The formatted sentence\n",
    "    # V = The rank of the sentence\n",
    "    def get_senteces_ranks(self, content):\n",
    "\n",
    "        # Split the content into sentences\n",
    "        sentences = self.split_content_to_sentences(content)\n",
    "\n",
    "        # Calculate the intersection of every two sentences\n",
    "        n = len(sentences)\n",
    "        # [Sam python 2.7 -> 3.4] values = [[0 for x in xrange(n)] for x in xrange(n)]\n",
    "        values = [[0 for x in range(n)] for x in range(n)]\n",
    "        for i in range(0, n):\n",
    "            for j in range(0, n):\n",
    "                values[i][j] = self.sentences_intersection(sentences[i], sentences[j])\n",
    "\n",
    "        # Build the sentences dictionary\n",
    "        # The score of a sentences is the sum of all its intersection\n",
    "        sentences_dic = {}\n",
    "        for i in range(0, n):\n",
    "            score = 0\n",
    "            for j in range(0, n):\n",
    "                if i == j:\n",
    "                    continue\n",
    "                score += values[i][j]\n",
    "            sentences_dic[self.format_sentence(sentences[i])] = score\n",
    "        return sentences_dic\n",
    "\n",
    "    # Return the best sentence in a paragraph\n",
    "    def get_best_sentence(self, paragraph, sentences_dic):\n",
    "\n",
    "        # Split the paragraph into sentences\n",
    "        sentences = self.split_content_to_sentences(paragraph)\n",
    "\n",
    "        # Ignore short paragraphs\n",
    "        if len(sentences) < 2:\n",
    "            return \"\"\n",
    "\n",
    "        # Get the best sentence according to the sentences dictionary\n",
    "        best_sentence = \"\"\n",
    "        max_value = 0\n",
    "        for s in sentences:\n",
    "            strip_s = self.format_sentence(s)\n",
    "            if strip_s:\n",
    "                if sentences_dic[strip_s] > max_value:\n",
    "                    max_value = sentences_dic[strip_s]\n",
    "                    best_sentence = s\n",
    "\n",
    "        return best_sentence\n",
    "\n",
    "    # Build the summary\n",
    "    def get_summary(self, title, content, sentences_dic):\n",
    "\n",
    "        # Split the content into paragraphs\n",
    "        paragraphs = self.split_content_to_paragraphs(content)\n",
    "\n",
    "        # Add the title\n",
    "        summary = []\n",
    "        summary.append(title.strip())\n",
    "        summary.append(\"\")\n",
    "\n",
    "        # Add the best sentence from each paragraph\n",
    "        for p in paragraphs:\n",
    "            sentence = self.get_best_sentence(p, sentences_dic).strip()\n",
    "            if sentence:\n",
    "                summary.append(sentence)\n",
    "\n",
    "        return (\"\\n\").join(summary)\n",
    "\n",
    "\n"
   ]
  },
  {
   "cell_type": "code",
   "execution_count": null,
   "metadata": {
    "collapsed": true
   },
   "outputs": [],
   "source": []
  },
  {
   "cell_type": "markdown",
   "metadata": {},
   "source": [
    "# Main()"
   ]
  },
  {
   "cell_type": "markdown",
   "metadata": {},
   "source": [
    "### process inputs"
   ]
  },
  {
   "cell_type": "code",
   "execution_count": 43,
   "metadata": {
    "collapsed": false
   },
   "outputs": [],
   "source": [
    "# article = pd.read_csv('input_article.csv', encoding='utf-8')"
   ]
  },
  {
   "cell_type": "code",
   "execution_count": 44,
   "metadata": {
    "collapsed": false
   },
   "outputs": [],
   "source": [
    "# process Unicode text input\n",
    "with io.open('input_text.txt','r',encoding='utf8') as f:\n",
    "    text = f.read()\n",
    "\n",
    "    # with io.open('output_text.txt','w',encoding='utf8') as f:\n",
    "#     f.write(text)"
   ]
  },
  {
   "cell_type": "code",
   "execution_count": 45,
   "metadata": {
    "collapsed": false
   },
   "outputs": [
    {
     "data": {
      "text/plain": [
       "u'It was a bright cold day in April, and the clocks were striking thirteen. Winston Smith, his chin nuzzled into his breast in an effort to escape the vile wind, slipped quickly through the glass doors of Victory Mansions, though not quickly enough to prevent a swirl of gritty dust from entering along with him.\\n\\nThe hallway smelt of boiled cabbage and old rag mats. At one end of it a coloured poster, too large for indoor display, had been tacked to the wall. It depicted simply an enormous face, more than a metre wide: the face of a man of about forty-five, with a heavy black moustache and ruggedly handsome features. Winston made for the stairs. It was no use trying the lift. Even at the best of times it was seldom working, and at present the electric current was cut off during daylight hours. It was part of the economy drive in preparation for Hate Week. The flat was seven flights up, and Winston, who was thirty-nine and had a varicose ulcer above his right ankle, went slowly, resting several times on the way. On each landing, opposite the lift-shaft, the poster with the enormous face gazed from the wall. It was one of those pictures which are so contrived that the eyes follow you about when you move. BIG BROTHER IS WATCHING YOU, the caption beneath it ran.\\n\\nInside the flat a fruity voice was reading out a list of figures which had something to do with the production of pig-iron. The voice came from an oblong metal plaque like a dulled mirror which formed part of the surface of the right-hand wall. Winston turned a switch and the voice sank somewhat, though the words were still distinguishable. The instrument (the telescreen, it was called) could be dimmed, but there was no way of shutting it off completely. He moved over to the window: a smallish, frail figure, the meagreness of his body merely emphasized by the blue overalls which were the uniform of the party. His hair was very fair, his face naturally sanguine, his skin roughened by coarse soap and blunt razor blades and the cold of the winter that had just ended.\\n\\nOutside, even through the shut window-pane, the world looked cold. Down in the street little eddies of wind were whirling dust and torn paper into spirals, and though the sun was shining and the sky a harsh blue, there seemed to be no colour in anything, except the posters that were plastered everywhere. The blackmoustachio\\u2019d face gazed down from every commanding corner.\\n\\nThere was one on the house-front immediately opposite. BIG BROTHER IS WATCHING YOU, the caption said, while the dark eyes looked deep into Winston\\u2019s own. Down at street level another poster, torn at one corner, flapped fitfully in the wind, alternately covering and uncovering the single word INGSOC. In the far distance a helicopter skimmed down between the roofs, hovered for an instant like a bluebottle, and darted away again with a curving flight. It was the police patrol, snooping into people\\u2019s windows. The patrols did not matter, however. Only the Thought Police mattered.\\n\\nBehind Winston\\u2019s back the voice from the telescreen was still babbling away about pig-iron and the overfulfilment of the Ninth Three-Year Plan. The telescreen received and transmitted simultaneously. Any sound that Winston made, above the level of a very low whisper, would be picked up by it, moreover, so long as he remained within the field of vision which the metal plaque commanded, he could be seen as well as heard. There was of course no way of knowing whether you were being watched at any given moment. How often, or on what system, the Thought Police plugged in on any individual wire was guesswork. It was even conceivable that they watched everybody all the time. But at any rate they could plug in your wire whenever they wanted to. You had to live -- did live, from habit that became instinct -- in the assumption that every sound you made was overheard, and, except in darkness, every movement scrutinize\\n\\nWinston kept his back turned to the telescreen. It was safer, though, as he well knew, even a back can be revealing. A kilometre away the Ministry of Truth, his place of work, towered vast and white above the grimy landscape. This, he thought with a sort of vague distaste -- this was London, chief city of Airstrip One, itself the third most populous of the provinces of Oceania. He tried to squeeze out some childhood memory that should tell him whether London had always been quite like this. Were there always these vistas of rotting nineteenth-century houses, their sides shored up with baulks of timber, their windows patched with cardboard and their roofs with corrugated iron, their crazy garden walls sagging in all directions? And the bombed sites where the plaster dust swirled in the air and the willow-herb straggled over the heaps of rubble; and the places where the bombs had cleared a larger patch and there had sprung up sordid colonies of wooden dwellings like chicken-houses? But it was no use, he could not remember: nothing remained of his childhood except a series of bright-lit tableaux occurring against no background and mostly unintelligible.\\ns'"
      ]
     },
     "execution_count": 45,
     "metadata": {},
     "output_type": "execute_result"
    }
   ],
   "source": [
    "content = text\n",
    "\n",
    "content"
   ]
  },
  {
   "cell_type": "code",
   "execution_count": 52,
   "metadata": {
    "collapsed": false
   },
   "outputs": [
    {
     "data": {
      "text/plain": [
       "u'\\n<Dummy Title>\\n'"
      ]
     },
     "execution_count": 52,
     "metadata": {},
     "output_type": "execute_result"
    }
   ],
   "source": [
    "title = '''\n",
    "<Dummy Title>\n",
    "'''\n",
    "\n",
    "title"
   ]
  },
  {
   "cell_type": "code",
   "execution_count": null,
   "metadata": {
    "collapsed": true
   },
   "outputs": [],
   "source": []
  },
  {
   "cell_type": "code",
   "execution_count": 48,
   "metadata": {
    "collapsed": false,
    "scrolled": true
   },
   "outputs": [
    {
     "name": "stdout",
     "output_type": "stream",
     "text": [
      "<1984>\n",
      "\n",
      "It was a bright cold day in April, and the clocks were striking thirteen\n",
      "It was part of the economy drive in preparation for Hate Week\n",
      "Inside the flat a fruity voice was reading out a list of figures which had something to do with the production of pig-iron\n",
      "Down in the street little eddies of wind were whirling dust and torn paper into spirals, and though the sun was shining and the sky a harsh blue, there seemed to be no colour in anything, except the posters that were plastered everywhere\n",
      "It was the police patrol, snooping into people’s windows\n",
      "Behind Winston’s back the voice from the telescreen was still babbling away about pig-iron and the overfulfilment of the Ninth Three-Year Plan\n",
      "Winston kept his back turned to the telescreen\n",
      "\n",
      "Original Length 5111\n",
      "Summary Length 750\n",
      "Summary Ratio: 85.3257679515\n"
     ]
    }
   ],
   "source": [
    "    # Create a SummaryTool object\n",
    "st = SummaryTool()\n",
    "\n",
    "    # Build the sentences dictionary\n",
    "sentences_dic = st.get_senteces_ranks(content)\n",
    "\n",
    "    # Build the summary with the sentences dictionary\n",
    "summary = st.get_summary(title, content, sentences_dic)\n",
    "\n",
    "    # print the summary\n",
    "print(summary)\n",
    "\n",
    "    # print(the ratio between the summary length and the original length\n",
    "print(\"\")\n",
    "print(\"Original Length %s\" % (len(title) + len(content)))\n",
    "print(\"Summary Length %s\" % len(summary))\n",
    "print(\"Summary Ratio: %s\" % (100 - (100 * (len(summary) / (len(title) + len(content))))))\n",
    "\n",
    "#   output file locaiotn: G:\\Tool_PGM\\Python\\\n",
    "#     f = open(\"nusbot_summary.txt\",\"w\") \n",
    "#     f.write(\"Original Length %s\" % (len(title) + len(content)))\n",
    "#     f.write(\"\\n\")\n",
    "#     f.write(\"Summary Length %s\" % len(summary))\n",
    "#     f.write(\"\\n\")\n",
    "#     f.write(\"Summary Ratio: %s\" % (100 - (100 * (len(summary) / (len(title) + len(content))))))\n",
    "#     f.write(\"\\n\")\n",
    "#     f.write(\"\\n\")\n",
    "#     f.write(summary)\n",
    "#     f.close()\n"
   ]
  },
  {
   "cell_type": "code",
   "execution_count": 51,
   "metadata": {
    "collapsed": true
   },
   "outputs": [],
   "source": [
    "with io.open('output_topic_summary.txt','w',encoding='utf8') as f:\n",
    "    f.write(\"Original Length : %s\" % (len(title) + len(content)))\n",
    "    f.write(\"\\n\")\n",
    "    f.write(\"Summary  Length : %s\" % len(summary))\n",
    "    f.write(\"\\n\")\n",
    "    f.write(\"Summary  Ratio  : %s\" % (100 - (100 * (len(summary) / (len(title) + len(content))))))\n",
    "    f.write(\"\\n\")\n",
    "    f.write(\"\\n\")\n",
    "    f.write(summary)\n",
    "    f.close()"
   ]
  },
  {
   "cell_type": "code",
   "execution_count": null,
   "metadata": {
    "collapsed": true
   },
   "outputs": [],
   "source": []
  }
 ],
 "metadata": {
  "kernelspec": {
   "display_name": "Python 2",
   "language": "python",
   "name": "python2"
  },
  "language_info": {
   "codemirror_mode": {
    "name": "ipython",
    "version": 2
   },
   "file_extension": ".py",
   "mimetype": "text/x-python",
   "name": "python",
   "nbconvert_exporter": "python",
   "pygments_lexer": "ipython2",
   "version": "2.7.12"
  }
 },
 "nbformat": 4,
 "nbformat_minor": 2
}
