{
 "cells": [
  {
   "cell_type": "code",
   "execution_count": null,
   "metadata": {
    "collapsed": false
   },
   "outputs": [],
   "source": [
    "#coding=utf8\n",
    "import time, datetime, requests, itchat\n",
    "from itchat.content import *"
   ]
  },
  {
   "cell_type": "code",
   "execution_count": null,
   "metadata": {
    "collapsed": false
   },
   "outputs": [],
   "source": [
    "KEY = '71f28bf79c820df10d39b4074345ef8c'\n",
    "\n",
    "'''\n",
    "8edce3ce905a4c1dbb965e6b35c3834d\n",
    "eb720a8970964f3f855d863d24406576\n",
    "1107d5601866433dba9599fac1bc0083\n",
    "71f28bf79c820df10d39b4074345ef8c\n",
    "'''\n",
    "\n",
    "def get_response(msg):\n",
    "    # 这里我们就像在“3. 实现最简单的与图灵机器人的交互”中做的一样\n",
    "    # 构造了要发送给服务器的数据\n",
    "    apiUrl = 'http://www.tuling123.com/openapi/api'\n",
    "    data = {\n",
    "        'key'    : KEY,\n",
    "        'info'   : msg,\n",
    "        'userid' : 'wechat-robot',\n",
    "    }\n",
    "    try:\n",
    "        r = requests.post(apiUrl, data=data).json()\n",
    "        # 字典的get方法在字典没有'text'值的时候会返回None而不会抛出异常\n",
    "        return r.get('text')\n",
    "    # 为了防止服务器没有正常响应导致程序异常退出，这里用try-except捕获了异常\n",
    "    # 如果服务器没能正常交互（返回非json或无法连接），那么就会进入下面的return\n",
    "    except:\n",
    "        print('!!! Turing Machine problem !!!')\n",
    "        # 将会返回一个None\n",
    "        return\n",
    "\n",
    "\n",
    "@itchat.msg_register([TEXT, MAP, CARD, NOTE, SHARING])\n",
    "def text_reply(msg):\n",
    "#     print('1 on 1 .................')\n",
    "#     itchat.send('%s: %s' % (msg['Type'], msg['Text']), msg['FromUserName'])\n",
    "# def tuling_reply(msg):\n",
    "    # 为了保证在图灵Key出现问题的时候仍旧可以回复，这里设置一个默认回复\n",
    "    defaultReply = 'I received: ' + msg['Text']\n",
    "    # 如果图灵Key出现问题，那么reply将会是None\n",
    "    reply = get_response(msg['Text'])\n",
    "    # a or b的意思是，如果a有内容，那么返回a，否则返回b\n",
    "    # 有内容一般就是指非空或者非None，你可以用`if a: print('True')`来测试\n",
    "    return reply or defaultReply\n",
    "\n",
    "@itchat.msg_register([PICTURE, RECORDING, ATTACHMENT, VIDEO])\n",
    "def download_files(msg):\n",
    "    msg['Text'](msg['FileName'])\n",
    "    return '@%s@%s' % ({'Picture': 'img', 'Video': 'vid'}.get(msg['Type'], 'fil'), msg['FileName'])\n",
    "\n",
    "@itchat.msg_register(FRIENDS)\n",
    "def add_friend(msg):\n",
    "    itchat.add_friend(**msg['Text']) # 该操作会自动将新好友的消息录入，不需要重载通讯录\n",
    "    itchat.send_msg('Nice to meet you!', msg['RecommendInfo']['UserName'])\n",
    "\n",
    "@itchat.msg_register(TEXT, isGroupChat=True) # Group must be saved by current user/chat-bot\n",
    "def text_reply(msg):\n",
    "#     print('group  .................')\n",
    "#     print('msg', msg)\n",
    "#     print('msg[isAt]', msg['isAt'])\n",
    "    if msg['isAt']:\n",
    "#         print('group  .................@')\n",
    "#         itchat.send(u'@%s\\u2005I received: %s' % (msg['ActualNickName'], msg['Content']), msg['FromUserName'])\n",
    "        # 为了保证在图灵Key出现问题的时候仍旧可以回复，这里设置一个默认回复\n",
    "        defaultReply = 'I received: ' + msg['Text']\n",
    "        # 如果图灵Key出现问题，那么reply将会是None\n",
    "        reply = get_response(msg['Text'])\n",
    "        # a or b的意思是，如果a有内容，那么返回a，否则返回b\n",
    "        # 有内容一般就是指非空或者非None，你可以用`if a: print('True')`来测试\n",
    "        # return reply or defaultReply\n",
    "        if (reply != ''):\n",
    "#             print(u'@%s\\u2005%s' % (msg['ActualNickName'], reply))\n",
    "            itchat.send(u'@%s\\u2005%s' % (msg['ActualNickName'], reply), msg['FromUserName'])\n",
    "        else:\n",
    "#             print(u'@%s\\u2005%s' % (msg['ActualNickName'], defaultReply))\n",
    "            itchat.send(u'@%s\\u2005%s' % (msg['ActualNickName'], defaultReply), msg['FromUserName'])\n"
   ]
  },
  {
   "cell_type": "code",
   "execution_count": null,
   "metadata": {
    "collapsed": false
   },
   "outputs": [],
   "source": [
    "itchat.auto_login(True)\n",
    "# itchat.auto_login()"
   ]
  },
  {
   "cell_type": "code",
   "execution_count": null,
   "metadata": {
    "collapsed": false,
    "scrolled": false
   },
   "outputs": [],
   "source": [
    "itchat.run()"
   ]
  },
  {
   "cell_type": "code",
   "execution_count": null,
   "metadata": {
    "collapsed": false
   },
   "outputs": [],
   "source": [
    "# itchat.logout()"
   ]
  },
  {
   "cell_type": "code",
   "execution_count": null,
   "metadata": {
    "collapsed": true
   },
   "outputs": [],
   "source": []
  }
 ],
 "metadata": {
  "kernelspec": {
   "display_name": "Python 3",
   "language": "python",
   "name": "python3"
  },
  "language_info": {
   "codemirror_mode": {
    "name": "ipython",
    "version": 3
   },
   "file_extension": ".py",
   "mimetype": "text/x-python",
   "name": "python",
   "nbconvert_exporter": "python",
   "pygments_lexer": "ipython3",
   "version": "3.5.1"
  }
 },
 "nbformat": 4,
 "nbformat_minor": 0
}
