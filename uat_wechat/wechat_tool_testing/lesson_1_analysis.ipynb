{
 "cells": [
  {
   "cell_type": "code",
   "execution_count": null,
   "metadata": {},
   "outputs": [],
   "source": [
    "from IPython.display import YouTubeVideo\n",
    "YouTubeVideo('W-ZsWqcl1_c')"
   ]
  },
  {
   "cell_type": "markdown",
   "metadata": {},
   "source": [
    "# 如何使用和开发微信聊天机器人的系列教程\n",
    "# A workshop to develop & use an intelligent and interactive chat-bot in WeChat"
   ]
  },
  {
   "cell_type": "markdown",
   "metadata": {},
   "source": [
    "### WeChat is a popular social media app, which has more than 800 million monthly active users.\n",
    "\n",
    "<img src='http://www.kudosdata.com/wp-content/uploads/2016/11/cropped-KudosLogo1.png' width=30% style=\"float: right;\">\n",
    "<img src='reference/WeChat_SamGu_QR.png' width=10% style=\"float: right;\">\n",
    "\n",
    "### http://www.KudosData.com\n",
    "\n",
    "by: Sam.Gu@KudosData.com\n",
    "\n",
    "\n",
    "April 2017 ========== Scan the QR code to become trainer's friend in WeChat ========>>"
   ]
  },
  {
   "cell_type": "markdown",
   "metadata": {},
   "source": [
    "### 第一课：使用微信问答机制\n",
    "### Lesson 1: Basic usage of WeChat Python API\n",
    "* 使用和开发微信个人号聊天机器人：一种Python编程接口 (Use WeChat Python API)\n",
    "* 用微信App扫QR码图片来自动登录 (Log-in, contact scan, and processing of text, image, file, video, etc)\n",
    "* 查找指定联系人或群组 (Scan ccontact list)\n",
    "* 发送信息（文字、图片、文件、音频、视频等） (Send message: text, image, file, voice, video, etc)\n",
    "* 接收信息 (Receive message, and keep 'listening')\n",
    "* 自动回复 (Receive message and then automaticaly reply)\n",
    "* 自定义复杂消息处理，例如：信息存档、回复群组中被@的消息 (Advanced message processing and reply)"
   ]
  },
  {
   "cell_type": "markdown",
   "metadata": {},
   "source": [
    "### 导入需要用到的一些功能程序库："
   ]
  },
  {
   "cell_type": "code",
   "execution_count": 1,
   "metadata": {},
   "outputs": [
    {
     "name": "stdout",
     "output_type": "stream",
     "text": [
      "█\r"
     ]
    }
   ],
   "source": [
    "# from __future__ import unicode_literals, division\n",
    "import time, datetime, requests, itchat\n",
    "from itchat.content import *"
   ]
  },
  {
   "cell_type": "markdown",
   "metadata": {},
   "source": [
    "### * 用微信App扫QR码图片来自动登录"
   ]
  },
  {
   "cell_type": "code",
   "execution_count": 2,
   "metadata": {
    "scrolled": true
   },
   "outputs": [
    {
     "name": "stderr",
     "output_type": "stream",
     "text": [
      "Getting uuid of QR code.\n",
      "Downloading QR code.\n",
      "Please scan the QR code to log in.\n"
     ]
    },
    {
     "name": "stdout",
     "output_type": "stream",
     "text": [
      "www.KudosData.com : QR.png\n"
     ]
    },
    {
     "name": "stderr",
     "output_type": "stream",
     "text": [
      "Please press confirm on your phone.\n",
      "Loading the contact, this may take a little while.\n",
      "Login successfully as 白黑\n"
     ]
    }
   ],
   "source": [
    "itchat.auto_login(hotReload=True) # hotReload=True: 退出程序后暂存登陆状态。即使程序关闭，一定时间内重新开启也可以不用重新扫码。\n",
    "# itchat.auto_login(enableCmdQR=-2) # enableCmdQR=-2: 命令行显示QR图片"
   ]
  },
  {
   "cell_type": "code",
   "execution_count": 140,
   "metadata": {
    "scrolled": true
   },
   "outputs": [
    {
     "data": {
      "text/plain": [
       "<bound method logout of <itchat.core.Core object at 0x7f111fc929e8>>"
      ]
     },
     "execution_count": 140,
     "metadata": {},
     "output_type": "execute_result"
    },
    {
     "name": "stderr",
     "output_type": "stream",
     "text": [
      "LOG OUT!\n"
     ]
    }
   ],
   "source": [
    "itchat.logout"
   ]
  },
  {
   "cell_type": "code",
   "execution_count": null,
   "metadata": {
    "collapsed": true
   },
   "outputs": [],
   "source": []
  },
  {
   "cell_type": "code",
   "execution_count": 3,
   "metadata": {
    "collapsed": true
   },
   "outputs": [],
   "source": [
    "friends = itchat.get_friends(update=True)[0:]"
   ]
  },
  {
   "cell_type": "code",
   "execution_count": 4,
   "metadata": {},
   "outputs": [
    {
     "data": {
      "text/plain": [
       "461"
      ]
     },
     "execution_count": 4,
     "metadata": {},
     "output_type": "execute_result"
    }
   ],
   "source": [
    "len(friends)"
   ]
  },
  {
   "cell_type": "code",
   "execution_count": null,
   "metadata": {
    "collapsed": true
   },
   "outputs": [],
   "source": []
  },
  {
   "cell_type": "code",
   "execution_count": null,
   "metadata": {
    "collapsed": true
   },
   "outputs": [],
   "source": []
  },
  {
   "cell_type": "code",
   "execution_count": 19,
   "metadata": {
    "collapsed": true
   },
   "outputs": [],
   "source": [
    "# from pandas import DataFrame\n",
    "%matplotlib inline\n",
    "import numpy as np\n",
    "import matplotlib.pyplot as plt\n",
    "import pandas as pd"
   ]
  },
  {
   "cell_type": "code",
   "execution_count": 20,
   "metadata": {},
   "outputs": [
    {
     "name": "stdout",
     "output_type": "stream",
     "text": [
      "男性好友： 48.48%\n",
      "女性好友： 41.96%\n",
      "不明性别好友： 9.57%\n"
     ]
    }
   ],
   "source": [
    "#初始化计数器\n",
    "male = female = other = 0\n",
    "#friends[0]是自己的信息，所以要从friends[1]开始\n",
    "for i in friends[ 1:]:\n",
    "    sex = i[ \"Sex\"]\n",
    "    if sex == 1:\n",
    "        male += 1\n",
    "    elif sex == 2:\n",
    "        female += 1\n",
    "    else:\n",
    "        other += 1\n",
    "#计算朋友总数\n",
    "total = len(friends[ 1:])\n",
    "#打印出自己的好友性别比例\n",
    "print( \"男性好友： %.2f%%\" % ( float(male)/total* 100) + \"\\n\" +\n",
    "\"女性好友： %.2f%%\" % (float(female) / total * 100) + \"\\n\" +\n",
    "\"不明性别好友： %.2f%%\" % (float(other) / total * 100))"
   ]
  },
  {
   "cell_type": "code",
   "execution_count": 135,
   "metadata": {},
   "outputs": [],
   "source": [
    "#定义一个函数，用来爬取各个变量\n",
    "def get_var(var):\n",
    "    variable = []\n",
    "    for i in friends:\n",
    "        value = i[var]\n",
    "        variable.append(value)\n",
    "    return variable\n",
    "#调用函数得到各变量，并把数据存到csv文件中，保存到桌面\n",
    "NickName = get_var(\"NickName\")\n",
    "Sex = get_var('Sex')\n",
    "Province = get_var('Province')\n",
    "City = get_var('City')\n",
    "Signature = get_var('Signature')\n",
    "data = {'NickName': NickName, 'Sex': Sex, 'Province': Province,\n",
    "        'City': City, 'Signature': Signature}\n",
    "frame = pd.DataFrame(data)\n",
    "frame.to_csv('data.csv', index=True)"
   ]
  },
  {
   "cell_type": "code",
   "execution_count": 136,
   "metadata": {},
   "outputs": [
    {
     "data": {
      "text/html": [
       "<div>\n",
       "<style>\n",
       "    .dataframe thead tr:only-child th {\n",
       "        text-align: right;\n",
       "    }\n",
       "\n",
       "    .dataframe thead th {\n",
       "        text-align: left;\n",
       "    }\n",
       "\n",
       "    .dataframe tbody tr th {\n",
       "        vertical-align: top;\n",
       "    }\n",
       "</style>\n",
       "<table border=\"1\" class=\"dataframe\">\n",
       "  <thead>\n",
       "    <tr style=\"text-align: right;\">\n",
       "      <th></th>\n",
       "      <th>City</th>\n",
       "      <th>NickName</th>\n",
       "      <th>Province</th>\n",
       "      <th>Sex</th>\n",
       "      <th>Signature</th>\n",
       "    </tr>\n",
       "  </thead>\n",
       "  <tbody>\n",
       "    <tr>\n",
       "      <th>0</th>\n",
       "      <td></td>\n",
       "      <td>白黑</td>\n",
       "      <td>Auckland</td>\n",
       "      <td>1</td>\n",
       "      <td></td>\n",
       "    </tr>\n",
       "    <tr>\n",
       "      <th>1</th>\n",
       "      <td></td>\n",
       "      <td>小新</td>\n",
       "      <td></td>\n",
       "      <td>1</td>\n",
       "      <td>Bucket</td>\n",
       "    </tr>\n",
       "    <tr>\n",
       "      <th>2</th>\n",
       "      <td></td>\n",
       "      <td>Sherlyn</td>\n",
       "      <td></td>\n",
       "      <td>0</td>\n",
       "      <td></td>\n",
       "    </tr>\n",
       "    <tr>\n",
       "      <th>3</th>\n",
       "      <td>长宁</td>\n",
       "      <td>Joling</td>\n",
       "      <td>上海</td>\n",
       "      <td>2</td>\n",
       "      <td></td>\n",
       "    </tr>\n",
       "    <tr>\n",
       "      <th>4</th>\n",
       "      <td>杨浦</td>\n",
       "      <td>Risa</td>\n",
       "      <td>上海</td>\n",
       "      <td>2</td>\n",
       "      <td>慢慢来 才会快</td>\n",
       "    </tr>\n",
       "    <tr>\n",
       "      <th>5</th>\n",
       "      <td>徐汇</td>\n",
       "      <td>herry</td>\n",
       "      <td>上海</td>\n",
       "      <td>1</td>\n",
       "      <td>乔奇豪</td>\n",
       "    </tr>\n",
       "    <tr>\n",
       "      <th>6</th>\n",
       "      <td></td>\n",
       "      <td>唐益儒</td>\n",
       "      <td>上海</td>\n",
       "      <td>1</td>\n",
       "      <td>形成于思毁于随</td>\n",
       "    </tr>\n",
       "    <tr>\n",
       "      <th>7</th>\n",
       "      <td>闵行</td>\n",
       "      <td>小清新</td>\n",
       "      <td>上海</td>\n",
       "      <td>1</td>\n",
       "      <td>别开枪，是朕</td>\n",
       "    </tr>\n",
       "    <tr>\n",
       "      <th>8</th>\n",
       "      <td>杨浦</td>\n",
       "      <td>恶魔</td>\n",
       "      <td>上海</td>\n",
       "      <td>2</td>\n",
       "      <td>干掉上帝、我就是神…！</td>\n",
       "    </tr>\n",
       "    <tr>\n",
       "      <th>9</th>\n",
       "      <td>浦东新区</td>\n",
       "      <td>小牛他爸爸</td>\n",
       "      <td>上海</td>\n",
       "      <td>1</td>\n",
       "      <td></td>\n",
       "    </tr>\n",
       "    <tr>\n",
       "      <th>10</th>\n",
       "      <td>普陀</td>\n",
       "      <td>余翔</td>\n",
       "      <td>上海</td>\n",
       "      <td>1</td>\n",
       "      <td></td>\n",
       "    </tr>\n",
       "    <tr>\n",
       "      <th>11</th>\n",
       "      <td></td>\n",
       "      <td>John</td>\n",
       "      <td></td>\n",
       "      <td>1</td>\n",
       "      <td></td>\n",
       "    </tr>\n",
       "    <tr>\n",
       "      <th>12</th>\n",
       "      <td>杨浦</td>\n",
       "      <td>杨之成(Magic.Y)</td>\n",
       "      <td>上海</td>\n",
       "      <td>1</td>\n",
       "      <td>杨之成</td>\n",
       "    </tr>\n",
       "    <tr>\n",
       "      <th>13</th>\n",
       "      <td>普陀</td>\n",
       "      <td>马克来来</td>\n",
       "      <td>上海</td>\n",
       "      <td>1</td>\n",
       "      <td>英雄不问出处,流氓不问岁数。</td>\n",
       "    </tr>\n",
       "    <tr>\n",
       "      <th>14</th>\n",
       "      <td></td>\n",
       "      <td>ang</td>\n",
       "      <td></td>\n",
       "      <td>1</td>\n",
       "      <td></td>\n",
       "    </tr>\n",
       "    <tr>\n",
       "      <th>15</th>\n",
       "      <td>闵行</td>\n",
       "      <td>老夫子</td>\n",
       "      <td>上海</td>\n",
       "      <td>1</td>\n",
       "      <td>别开枪，是朕！</td>\n",
       "    </tr>\n",
       "    <tr>\n",
       "      <th>16</th>\n",
       "      <td>杨浦</td>\n",
       "      <td>zhujie</td>\n",
       "      <td>上海</td>\n",
       "      <td>1</td>\n",
       "      <td>海阔天高</td>\n",
       "    </tr>\n",
       "    <tr>\n",
       "      <th>17</th>\n",
       "      <td></td>\n",
       "      <td>陈旭东</td>\n",
       "      <td></td>\n",
       "      <td>1</td>\n",
       "      <td></td>\n",
       "    </tr>\n",
       "    <tr>\n",
       "      <th>18</th>\n",
       "      <td></td>\n",
       "      <td>swimtutor</td>\n",
       "      <td></td>\n",
       "      <td>1</td>\n",
       "      <td>swimming anyone? i teach swimming professional...</td>\n",
       "    </tr>\n",
       "    <tr>\n",
       "      <th>19</th>\n",
       "      <td>Kuala Lumpur</td>\n",
       "      <td>Wei Siong Goh</td>\n",
       "      <td>Kuala Lumpur</td>\n",
       "      <td>1</td>\n",
       "      <td></td>\n",
       "    </tr>\n",
       "    <tr>\n",
       "      <th>20</th>\n",
       "      <td></td>\n",
       "      <td>mh</td>\n",
       "      <td></td>\n",
       "      <td>1</td>\n",
       "      <td></td>\n",
       "    </tr>\n",
       "    <tr>\n",
       "      <th>21</th>\n",
       "      <td></td>\n",
       "      <td>Yk Eer</td>\n",
       "      <td></td>\n",
       "      <td>1</td>\n",
       "      <td></td>\n",
       "    </tr>\n",
       "    <tr>\n",
       "      <th>22</th>\n",
       "      <td></td>\n",
       "      <td>elicer</td>\n",
       "      <td></td>\n",
       "      <td>1</td>\n",
       "      <td>郑春宝</td>\n",
       "    </tr>\n",
       "    <tr>\n",
       "      <th>23</th>\n",
       "      <td></td>\n",
       "      <td>Irene</td>\n",
       "      <td></td>\n",
       "      <td>0</td>\n",
       "      <td></td>\n",
       "    </tr>\n",
       "    <tr>\n",
       "      <th>24</th>\n",
       "      <td>虹口</td>\n",
       "      <td>Eric</td>\n",
       "      <td>上海</td>\n",
       "      <td>1</td>\n",
       "      <td>once a blue forever blue</td>\n",
       "    </tr>\n",
       "    <tr>\n",
       "      <th>25</th>\n",
       "      <td></td>\n",
       "      <td>Kit</td>\n",
       "      <td></td>\n",
       "      <td>0</td>\n",
       "      <td></td>\n",
       "    </tr>\n",
       "    <tr>\n",
       "      <th>26</th>\n",
       "      <td>浦东新区</td>\n",
       "      <td>Eric</td>\n",
       "      <td>上海</td>\n",
       "      <td>1</td>\n",
       "      <td>Love，if too much，is possessive.</td>\n",
       "    </tr>\n",
       "    <tr>\n",
       "      <th>27</th>\n",
       "      <td></td>\n",
       "      <td>玉美</td>\n",
       "      <td></td>\n",
       "      <td>2</td>\n",
       "      <td>Need To Focus</td>\n",
       "    </tr>\n",
       "    <tr>\n",
       "      <th>28</th>\n",
       "      <td>浦东新区</td>\n",
       "      <td>王X-wangxi</td>\n",
       "      <td>上海</td>\n",
       "      <td>1</td>\n",
       "      <td></td>\n",
       "    </tr>\n",
       "    <tr>\n",
       "      <th>29</th>\n",
       "      <td>长宁</td>\n",
       "      <td>悲伤的秋千</td>\n",
       "      <td>上海</td>\n",
       "      <td>1</td>\n",
       "      <td></td>\n",
       "    </tr>\n",
       "    <tr>\n",
       "      <th>...</th>\n",
       "      <td>...</td>\n",
       "      <td>...</td>\n",
       "      <td>...</td>\n",
       "      <td>...</td>\n",
       "      <td>...</td>\n",
       "    </tr>\n",
       "    <tr>\n",
       "      <th>431</th>\n",
       "      <td></td>\n",
       "      <td>牙膏</td>\n",
       "      <td>上海</td>\n",
       "      <td>2</td>\n",
       "      <td>一</td>\n",
       "    </tr>\n",
       "    <tr>\n",
       "      <th>432</th>\n",
       "      <td></td>\n",
       "      <td>傅琼砉</td>\n",
       "      <td></td>\n",
       "      <td>2</td>\n",
       "      <td>原来你是我的氧气、我的阳光、我的全部。。。</td>\n",
       "    </tr>\n",
       "    <tr>\n",
       "      <th>433</th>\n",
       "      <td></td>\n",
       "      <td>Lulu</td>\n",
       "      <td>上海</td>\n",
       "      <td>2</td>\n",
       "      <td>身在何处，心自安。\\n</td>\n",
       "    </tr>\n",
       "    <tr>\n",
       "      <th>434</th>\n",
       "      <td>威海</td>\n",
       "      <td>X。Y</td>\n",
       "      <td>山东</td>\n",
       "      <td>2</td>\n",
       "      <td>Doyouloveme</td>\n",
       "    </tr>\n",
       "    <tr>\n",
       "      <th>435</th>\n",
       "      <td></td>\n",
       "      <td>kiki</td>\n",
       "      <td>Paris</td>\n",
       "      <td>2</td>\n",
       "      <td>點一支檀香，泡一壺好茶，邀三兩知己，共叙好時光</td>\n",
       "    </tr>\n",
       "    <tr>\n",
       "      <th>436</th>\n",
       "      <td>南京</td>\n",
       "      <td>康伊可(Echo Kang)</td>\n",
       "      <td>江苏</td>\n",
       "      <td>2</td>\n",
       "      <td></td>\n",
       "    </tr>\n",
       "    <tr>\n",
       "      <th>437</th>\n",
       "      <td></td>\n",
       "      <td>Miss</td>\n",
       "      <td></td>\n",
       "      <td>2</td>\n",
       "      <td>开心面对每一天，生活越来越精彩&lt;span class=\"emoji emoji1f604\"&gt;...</td>\n",
       "    </tr>\n",
       "    <tr>\n",
       "      <th>438</th>\n",
       "      <td>海淀</td>\n",
       "      <td>Lenvon</td>\n",
       "      <td>北京</td>\n",
       "      <td>1</td>\n",
       "      <td>不畏將來，不念過去，執著前行……</td>\n",
       "    </tr>\n",
       "    <tr>\n",
       "      <th>439</th>\n",
       "      <td>虹口</td>\n",
       "      <td>穗嘉</td>\n",
       "      <td>上海</td>\n",
       "      <td>1</td>\n",
       "      <td></td>\n",
       "    </tr>\n",
       "    <tr>\n",
       "      <th>440</th>\n",
       "      <td>虹口</td>\n",
       "      <td>丽丽</td>\n",
       "      <td>上海</td>\n",
       "      <td>2</td>\n",
       "      <td></td>\n",
       "    </tr>\n",
       "    <tr>\n",
       "      <th>441</th>\n",
       "      <td>London</td>\n",
       "      <td>AaronK</td>\n",
       "      <td>England</td>\n",
       "      <td>1</td>\n",
       "      <td>Persistent &amp;amp; Perseverance</td>\n",
       "    </tr>\n",
       "    <tr>\n",
       "      <th>442</th>\n",
       "      <td>虹口</td>\n",
       "      <td>David</td>\n",
       "      <td>上海</td>\n",
       "      <td>1</td>\n",
       "      <td></td>\n",
       "    </tr>\n",
       "    <tr>\n",
       "      <th>443</th>\n",
       "      <td>静安</td>\n",
       "      <td>🍑桃💭</td>\n",
       "      <td>上海</td>\n",
       "      <td>2</td>\n",
       "      <td>人生最重要的就是&lt;span class=\"emoji emoji1f370\"&gt;&lt;/span&gt;...</td>\n",
       "    </tr>\n",
       "    <tr>\n",
       "      <th>444</th>\n",
       "      <td></td>\n",
       "      <td>Sunny</td>\n",
       "      <td>Auckland</td>\n",
       "      <td>1</td>\n",
       "      <td>找伙伴一起团算法！</td>\n",
       "    </tr>\n",
       "    <tr>\n",
       "      <th>445</th>\n",
       "      <td>虹口</td>\n",
       "      <td>陈小猪</td>\n",
       "      <td>上海</td>\n",
       "      <td>1</td>\n",
       "      <td></td>\n",
       "    </tr>\n",
       "    <tr>\n",
       "      <th>446</th>\n",
       "      <td>杨浦</td>\n",
       "      <td>顾颖㛃</td>\n",
       "      <td>上海</td>\n",
       "      <td>2</td>\n",
       "      <td>莫忘初心，方得始终</td>\n",
       "    </tr>\n",
       "    <tr>\n",
       "      <th>447</th>\n",
       "      <td>浦东新区</td>\n",
       "      <td>Tommy</td>\n",
       "      <td>上海</td>\n",
       "      <td>1</td>\n",
       "      <td>Can you can a can as a canner can can a can?</td>\n",
       "    </tr>\n",
       "    <tr>\n",
       "      <th>448</th>\n",
       "      <td>普陀</td>\n",
       "      <td>圆圆宝屋 ⏳</td>\n",
       "      <td>上海</td>\n",
       "      <td>2</td>\n",
       "      <td></td>\n",
       "    </tr>\n",
       "    <tr>\n",
       "      <th>449</th>\n",
       "      <td></td>\n",
       "      <td>叶知秋</td>\n",
       "      <td></td>\n",
       "      <td>1</td>\n",
       "      <td>梦想与现实--回归</td>\n",
       "    </tr>\n",
       "    <tr>\n",
       "      <th>450</th>\n",
       "      <td></td>\n",
       "      <td>Dies.Irae</td>\n",
       "      <td></td>\n",
       "      <td>2</td>\n",
       "      <td></td>\n",
       "    </tr>\n",
       "    <tr>\n",
       "      <th>451</th>\n",
       "      <td></td>\n",
       "      <td>Anna</td>\n",
       "      <td></td>\n",
       "      <td>0</td>\n",
       "      <td></td>\n",
       "    </tr>\n",
       "    <tr>\n",
       "      <th>452</th>\n",
       "      <td>Boston City</td>\n",
       "      <td>JL🦋</td>\n",
       "      <td>Massachusetts</td>\n",
       "      <td>2</td>\n",
       "      <td>脚印会旧，而梦还在走</td>\n",
       "    </tr>\n",
       "    <tr>\n",
       "      <th>453</th>\n",
       "      <td>武汉</td>\n",
       "      <td>張小姿（路成）</td>\n",
       "      <td>湖北</td>\n",
       "      <td>2</td>\n",
       "      <td>2017，心想事成！&lt;span class=\"emoji emoji270c\"&gt;&lt;/span&gt;️</td>\n",
       "    </tr>\n",
       "    <tr>\n",
       "      <th>454</th>\n",
       "      <td></td>\n",
       "      <td>Jiayi🎶</td>\n",
       "      <td>Auckland</td>\n",
       "      <td>2</td>\n",
       "      <td>新西兰🇳🇿代购</td>\n",
       "    </tr>\n",
       "    <tr>\n",
       "      <th>455</th>\n",
       "      <td></td>\n",
       "      <td>墨喇 🇨🇳🇸🇬 MOLA</td>\n",
       "      <td></td>\n",
       "      <td>1</td>\n",
       "      <td>走过，看过，爱过\\n走着，看着，爱着\\n健忘而轻信 ~ 所以快乐</td>\n",
       "    </tr>\n",
       "    <tr>\n",
       "      <th>456</th>\n",
       "      <td>太原</td>\n",
       "      <td>黄土老醯儿</td>\n",
       "      <td>山西</td>\n",
       "      <td>1</td>\n",
       "      <td>不畏人言，不忘初心</td>\n",
       "    </tr>\n",
       "    <tr>\n",
       "      <th>457</th>\n",
       "      <td></td>\n",
       "      <td>卷娟</td>\n",
       "      <td></td>\n",
       "      <td>2</td>\n",
       "      <td></td>\n",
       "    </tr>\n",
       "    <tr>\n",
       "      <th>458</th>\n",
       "      <td></td>\n",
       "      <td>jiamou</td>\n",
       "      <td>Auckland</td>\n",
       "      <td>1</td>\n",
       "      <td></td>\n",
       "    </tr>\n",
       "    <tr>\n",
       "      <th>459</th>\n",
       "      <td>杭州</td>\n",
       "      <td>许多</td>\n",
       "      <td>浙江</td>\n",
       "      <td>1</td>\n",
       "      <td>从兹始知悔过，临渴掘井奚为。</td>\n",
       "    </tr>\n",
       "    <tr>\n",
       "      <th>460</th>\n",
       "      <td>苏州</td>\n",
       "      <td>Xi Z</td>\n",
       "      <td>江苏</td>\n",
       "      <td>1</td>\n",
       "      <td>Keep me in your heart. I'll stay there forever</td>\n",
       "    </tr>\n",
       "  </tbody>\n",
       "</table>\n",
       "<p>461 rows × 5 columns</p>\n",
       "</div>"
      ],
      "text/plain": [
       "             City        NickName       Province  Sex  \\\n",
       "0                              白黑       Auckland    1   \n",
       "1                              小新                   1   \n",
       "2                         Sherlyn                   0   \n",
       "3              长宁          Joling             上海    2   \n",
       "4              杨浦            Risa             上海    2   \n",
       "5              徐汇           herry             上海    1   \n",
       "6                             唐益儒             上海    1   \n",
       "7              闵行             小清新             上海    1   \n",
       "8              杨浦              恶魔             上海    2   \n",
       "9            浦东新区           小牛他爸爸             上海    1   \n",
       "10             普陀              余翔             上海    1   \n",
       "11                           John                   1   \n",
       "12             杨浦    杨之成(Magic.Y)             上海    1   \n",
       "13             普陀            马克来来             上海    1   \n",
       "14                            ang                   1   \n",
       "15             闵行             老夫子             上海    1   \n",
       "16             杨浦          zhujie             上海    1   \n",
       "17                            陈旭东                   1   \n",
       "18                      swimtutor                   1   \n",
       "19   Kuala Lumpur   Wei Siong Goh   Kuala Lumpur    1   \n",
       "20                             mh                   1   \n",
       "21                         Yk Eer                   1   \n",
       "22                         elicer                   1   \n",
       "23                          Irene                   0   \n",
       "24             虹口            Eric             上海    1   \n",
       "25                            Kit                   0   \n",
       "26           浦东新区            Eric             上海    1   \n",
       "27                             玉美                   2   \n",
       "28           浦东新区       王X-wangxi             上海    1   \n",
       "29             长宁           悲伤的秋千             上海    1   \n",
       "..            ...             ...            ...  ...   \n",
       "431                            牙膏             上海    2   \n",
       "432                           傅琼砉                   2   \n",
       "433                          Lulu             上海    2   \n",
       "434            威海             X。Y             山东    2   \n",
       "435                          kiki          Paris    2   \n",
       "436            南京  康伊可(Echo Kang)             江苏    2   \n",
       "437                          Miss                   2   \n",
       "438            海淀          Lenvon             北京    1   \n",
       "439            虹口              穗嘉             上海    1   \n",
       "440            虹口              丽丽             上海    2   \n",
       "441        London          AaronK        England    1   \n",
       "442            虹口           David             上海    1   \n",
       "443            静安             🍑桃💭             上海    2   \n",
       "444                         Sunny       Auckland    1   \n",
       "445            虹口             陈小猪             上海    1   \n",
       "446            杨浦             顾颖㛃             上海    2   \n",
       "447          浦东新区           Tommy             上海    1   \n",
       "448            普陀          圆圆宝屋 ⏳             上海    2   \n",
       "449                           叶知秋                   1   \n",
       "450                     Dies.Irae                   2   \n",
       "451                          Anna                   0   \n",
       "452   Boston City             JL🦋  Massachusetts    2   \n",
       "453            武汉         張小姿（路成）             湖北    2   \n",
       "454                        Jiayi🎶       Auckland    2   \n",
       "455                  墨喇 🇨🇳🇸🇬 MOLA                   1   \n",
       "456            太原           黄土老醯儿             山西    1   \n",
       "457                            卷娟                   2   \n",
       "458                        jiamou       Auckland    1   \n",
       "459            杭州              许多             浙江    1   \n",
       "460            苏州            Xi Z             江苏    1   \n",
       "\n",
       "                                             Signature  \n",
       "0                                                       \n",
       "1                                               Bucket  \n",
       "2                                                       \n",
       "3                                                       \n",
       "4                                             慢慢来 才会快   \n",
       "5                                                  乔奇豪  \n",
       "6                                              形成于思毁于随  \n",
       "7                                               别开枪，是朕  \n",
       "8                                          干掉上帝、我就是神…！  \n",
       "9                                                       \n",
       "10                                                      \n",
       "11                                                      \n",
       "12                                                 杨之成  \n",
       "13                                      英雄不问出处,流氓不问岁数。  \n",
       "14                                                      \n",
       "15                                             别开枪，是朕！  \n",
       "16                                                海阔天高  \n",
       "17                                                      \n",
       "18   swimming anyone? i teach swimming professional...  \n",
       "19                                                      \n",
       "20                                                      \n",
       "21                                                      \n",
       "22                                                 郑春宝  \n",
       "23                                                      \n",
       "24                            once a blue forever blue  \n",
       "25                                                      \n",
       "26                     Love，if too much，is possessive.  \n",
       "27                                       Need To Focus  \n",
       "28                                                      \n",
       "29                                                      \n",
       "..                                                 ...  \n",
       "431                                                  一  \n",
       "432                              原来你是我的氧气、我的阳光、我的全部。。。  \n",
       "433                                        身在何处，心自安。\\n  \n",
       "434                                        Doyouloveme  \n",
       "435                            點一支檀香，泡一壺好茶，邀三兩知己，共叙好時光  \n",
       "436                                                     \n",
       "437  开心面对每一天，生活越来越精彩<span class=\"emoji emoji1f604\">...  \n",
       "438                                   不畏將來，不念過去，執著前行……  \n",
       "439                                                     \n",
       "440                                                     \n",
       "441                      Persistent &amp; Perseverance  \n",
       "442                                                     \n",
       "443  人生最重要的就是<span class=\"emoji emoji1f370\"></span>...  \n",
       "444                                          找伙伴一起团算法！  \n",
       "445                                                     \n",
       "446                                          莫忘初心，方得始终  \n",
       "447       Can you can a can as a canner can can a can?  \n",
       "448                                                     \n",
       "449                                          梦想与现实--回归  \n",
       "450                                                     \n",
       "451                                                     \n",
       "452                                         脚印会旧，而梦还在走  \n",
       "453   2017，心想事成！<span class=\"emoji emoji270c\"></span>️  \n",
       "454                                            新西兰🇳🇿代购  \n",
       "455                   走过，看过，爱过\\n走着，看着，爱着\\n健忘而轻信 ~ 所以快乐  \n",
       "456                                          不畏人言，不忘初心  \n",
       "457                                                     \n",
       "458                                                     \n",
       "459                                     从兹始知悔过，临渴掘井奚为。  \n",
       "460     Keep me in your heart. I'll stay there forever  \n",
       "\n",
       "[461 rows x 5 columns]"
      ]
     },
     "execution_count": 136,
     "metadata": {},
     "output_type": "execute_result"
    }
   ],
   "source": [
    "frame"
   ]
  },
  {
   "cell_type": "code",
   "execution_count": 24,
   "metadata": {
    "scrolled": false
   },
   "outputs": [
    {
     "data": {
      "text/plain": [
       "<matplotlib.axes._subplots.AxesSubplot at 0x7f1107ad0e10>"
      ]
     },
     "execution_count": 24,
     "metadata": {},
     "output_type": "execute_result"
    },
    {
     "data": {
      "image/png": "[encoded data removed]",
      "text/plain": [
       "<matplotlib.figure.Figure at 0x7f1107aaae48>"
      ]
     },
     "metadata": {},
     "output_type": "display_data"
    }
   ],
   "source": [
    "frame.groupby(['Province']).size().plot(kind='bar')"
   ]
  },
  {
   "cell_type": "code",
   "execution_count": 137,
   "metadata": {},
   "outputs": [
    {
     "data": {
      "text/plain": [
       "<matplotlib.axes._subplots.AxesSubplot at 0x7f10fea5b2e8>"
      ]
     },
     "execution_count": 137,
     "metadata": {},
     "output_type": "execute_result"
    },
    {
     "name": "stderr",
     "output_type": "stream",
     "text": [
      "/home/user/env_py3/lib/python3.5/site-packages/matplotlib/font_manager.py:1297: UserWarning: findfont: Font family ['sans-serif'] not found. Falling back to DejaVu Sans\n",
      "  (prop.get_family(), self.defaultFamily[fontext]))\n"
     ]
    },
    {
     "data": {
      "image/png": "[encoded data removed]",
      "text/plain": [
       "<matplotlib.figure.Figure at 0x7f10f8265d30>"
      ]
     },
     "metadata": {},
     "output_type": "display_data"
    }
   ],
   "source": [
    "import seaborn as sns; sns.set()\n",
    "plt.figure(1)\n",
    "# sns.countplot(x=col, hue=\"WnvPresent\", data=frame, palette=\"Set2\")\n",
    "sns.countplot(y=Province, data=frame, palette=\"Set2\")"
   ]
  },
  {
   "cell_type": "code",
   "execution_count": 139,
   "metadata": {
    "scrolled": true
   },
   "outputs": [
    {
     "data": {
      "text/plain": [
       "上海                      189\n",
       "                        183\n",
       "北京                        9\n",
       "Auckland                  8\n",
       "广东                        8\n",
       "四川                        7\n",
       "江苏                        4\n",
       "New South Wales           3\n",
       "Paris                     2\n",
       "辽宁                        2\n",
       "浙江                        2\n",
       "England                   2\n",
       "Toronto                   2\n",
       "湖北                        2\n",
       "Tokyo                     2\n",
       "Queensland                2\n",
       "Ho Chi Minh City          1\n",
       "Wakayama                  1\n",
       "Lausanne                  1\n",
       "香港                        1\n",
       "Others                    1\n",
       "Roma                      1\n",
       "Rio de Janeiro            1\n",
       "Victoria                  1\n",
       "Central and Western       1\n",
       "山西                        1\n",
       "天津                        1\n",
       "British Columbia          1\n",
       "New Delhi                 1\n",
       "福建                        1\n",
       "Massachusetts             1\n",
       "Kuala Lumpur              1\n",
       "New Jersey                1\n",
       "河南                        1\n",
       "Johor                     1\n",
       "山东                        1\n",
       "Bangkok                   1\n",
       "Vienna                    1\n",
       "黑龙江                       1\n",
       "Ulsan                     1\n",
       "Cunene                    1\n",
       "湖南                        1\n",
       "Bali                      1\n",
       "District of Columbia      1\n",
       "California                1\n",
       "Los Angeles               1\n",
       "Selangor                  1\n",
       "New York                  1\n",
       "Illinois                  1\n",
       "Luzern                    1\n",
       "Name: Province, dtype: int64"
      ]
     },
     "execution_count": 139,
     "metadata": {},
     "output_type": "execute_result"
    }
   ],
   "source": [
    "frame['Province'].value_counts()"
   ]
  },
  {
   "cell_type": "code",
   "execution_count": 80,
   "metadata": {
    "collapsed": true
   },
   "outputs": [],
   "source": [
    "import re\n",
    "siglist = []\n",
    "for i in friends:\n",
    "    signature = i[\"Signature\"].strip().replace(\"span\",\"\").replace(\"class\",\"\").replace(\"emoji\",\"\")\n",
    "    rep = re.compile(\"1fd+w*|[<>/=]\")\n",
    "    signature = rep.sub(\"\", signature)\n",
    "    siglist.append(signature)\n",
    "text = \"\".join(siglist)"
   ]
  },
  {
   "cell_type": "code",
   "execution_count": 81,
   "metadata": {
    "scrolled": true
   },
   "outputs": [
    {
     "name": "stderr",
     "output_type": "stream",
     "text": [
      "Building prefix dict from the default dictionary ...\n",
      "Dumping model to file cache /tmp/jieba.cache\n",
      "Loading model cost 4.255 seconds.\n",
      "Prefix dict has been built succesfully.\n"
     ]
    }
   ],
   "source": [
    "import jieba\n",
    "wordlist = jieba.cut(text, cut_all=True)\n",
    "word_space_split = \" \".join(wordlist)"
   ]
  },
  {
   "cell_type": "code",
   "execution_count": 89,
   "metadata": {
    "scrolled": true
   },
   "outputs": [
    {
     "data": {
      "text/plain": [
       "'Bucket 慢慢 慢慢来 慢来   才 会 快 乔 奇 豪 形成 于思 毁于 随 别 开枪   是 朕 干掉 上帝   我 就是 神    杨 之 成 英雄 不问 问出 出处   流氓 不问 岁数   别 开枪   是 朕   海阔天高 swimming anyone  i teach swimming professionally in sg   郑 春 宝 once a blue forever blueLove if too much is possessive Need To FocusDorisThe mighty fall  人生 生就 就是 要 平平 平平淡淡 平淡 淡淡 淡淡的 啊 天天 天天向上 向上 仰望 交托 What a wonderful world Save water  Shower with your girlfriend    1f604  慌 则 乱   急 则 疲   莫 舍己 道   勿扰 他 心 Stay hungry Stay foolish 放下 与 给予   即是 拥有   O  以 平常 平常心 破 执着 心 加油 吧   兄弟 们   挣扎 的 熊猫 云 光 凝 碧 远 岚 平 如果 这个 时候 窗外 有 风   我 就 有 了 飞 的 理由     未来 滚滚 滚滚而来 而来 小桥   流水   人家 Looking for Nice chat  Good friends 人生 識 字 糊 塗 始   就是 喜欢 你 看不惯 不惯 我 却 不得 不得不 和 我 一同 建设 中国 国特 特色 社会 社会主义 会主 主义 的 样子 BROTM 让 我们 随风 随风飘 随风飘扬 飘扬   尽情 飞舞 吧            梦 一样 自由    mint condition 所有 有事 事情 的 结局 都 是 好 的   如果 不好 说明 还 没到 最后 自娱 自娱自乐 自乐  Being sure is hot 开心 快乐 就 好   忘掉 那些 不开 开心 的 Instagram    meienmaryann 柢 固 则 生长   根 深 则 视 久   你 负责 挣钱 养家   我 负责 貌美 貌美如花   不 喜欢 打电话 电话   不 听 语音   文字 联系  Work hard  play harder  浇 树 浇 根   交人 交心   简单 开心 心生 生活 长期 装死   不 忘 初心   方 得 始终 宁静 宁静致远 致远 远行 行成于思 于思 毁于 随 这个 个人 太懒   什么 都 没有 留下  2017 Sailing  amp  flying  我 认真 起来 来自 自己 都 害怕   春天 好 茶   满口 留香 童话 童话般 般的 生活 创造 合适 的 品质 与 品位  Things are what they are  and will be what they will be  人生 人生在世 生在 在世 如 身处 荆棘 之中   心 不动   人 不 妄动   任何 一件 超越 平凡 的 事情 背后   都 是 超乎 超乎寻常 寻常 的 付出   依 蒙 Nicolle   When God says wait  he will give you the best51 信用 信用卡 God knows who u r   so don t play  李 贇 吊车 车尾    1f412 Work hard  play harder    Nothing is so common as the wish to be remarkable  如果 时间 可以 倒退   一切 也 就 不再 珍贵   囍  Nature abhors a paradox You only live once  上善若水   厚德 厚德载物 载物 new future new lifeToday is a present 每 個 人 都 有 屬 於 自己 的 一片 森林   迷失 的 人 迷失 了   相逢 的 人 會 再 相逢 摄影   旅行   文学 我 的 骄傲 自己 打造   所谓 知足 知足常乐 常乐   就是 个 屁   不知 不知足 知足   才 不会 停止 前进 的 步伐   致力 致力于 把 好 眼镜 卖 便宜 Bonnie 的 超人 妈 此时 此时此刻 此刻   恰如 彼时 彼 刻 擦 如果 爱 请 深 相爱   如果 不 爱 请 离开   认真 认真做事 做事 大度 做人   爱 吃 爱 臭美 Oogway 敢 梦想   敢 追寻 I    2764   SH 知 吾 者 无需 吾 多 言   不知 吾 者 吾 无需 多 言 寿 头 呸 呸 Live beautifully dream passionately love completelyToo fast to live too young to die   Be yourself Project Father  本 微 信号 仅 代表 个人 个人观点 观点 探索 探索者 以 吾 之 名   付 吾 之 命 宠辱 宠辱不惊   去留 无意 alwaysLess is morebibi   懷 若 竹 虛 臨 曲水   氣 同 蘭 靜 在 春 風  What s the point to save the world if you can t enjoy it  谦逊 基于 力量   傲慢 基于 无能   你 知道 水浒 里面 的 浪子 燕 青 吗   我 就是 现实 现实生活 生活 中 的 浪子 亦 钦 多多 的 妈咪    2600  惜 缘    1f48f  惜福    2764  公司 注册   财务 代理  China Visa  出国 签证 堅 持 不懈 自在 艺 美特 家私 定制 当 妈 不容 容易 哈  Let there be light 我 是 小 蜗   慢吞吞 吞吞 飞 飞 鸡 年 大吉   愿 得 一心 人   白首 不 相离 宋 静 璐 真心 糊涂 生活   就是 昂首 前瞻 有 何 胜利 可言   顶住 就 意味 意味着 一切   救火 救火队 队长 赵 小果   加油   你 会 变成 乖 囡 囡 的 班长 电子 支付 解决 解决方案 方案   智能 云 POSStay simple  stay foolish 我 想 和 这个 世界 说说话 说话 有 一种 精神 叫 执着   有 一种 品质 叫 责任   有 一种 态度 是 积极   有 一种 上帝 创造 了 如此 优雅   高贵 的 可人儿 人儿 Born to bullywww KudosData com 业余 的 正常 正常人 常人 麻麻 爱小 小马 小马哥 笑 看 风云 淡   坐 对 云 起 时 Gentleman s dignity 天堂 或许 就 在 下 个 转弯 I believe I can fly  I believe I can touch the sky there s a will there s a way  巴黎 渊 澄 学堂   践行 行经 经典 教育   撒播 传统 文化 种籽   育 中西 汇通 之 才 天山 天山童姥 山童 姥     花 好   月 圆   人寿     大梦 谁 先觉     平生 我 自知   金融 IT 猎头     微 信 公众 号   Fintechcareer 行 就 吃 龙虾   不行 就 回家 这家 家伙 很 懒   什么 都 没有 留下 下得 之 我 幸   不得 我 命 Five Five Five 这家 家伙 不 懒   但 就是 啥 也 没 留下 Aha Ha   An interesting scientic nameGod s grace is forever sufficient  其实 不 需要 解释 Who s to say that my light is better than your darkness  挑逗 命运   不自 不自量 不自量力 自量 量力 的 还手   直至 至死 方 休  Enjoy my life   from Xi an  守恒 哈哈 温柔 要 有   但 不是 妥协   我们 要 在 安静 中   不慌 不慌不忙 不忙 地 刚强   身 在 宅 中   心 在 天上  There is a crack in everything  that s how the light gets in 以 协会   如果 你 需要 微 信 推广   物品 品出 出售   租赁 等等 生活 信息 发布 都 可以 找 我 勇敢 勇敢 我 的 朋友   就算 明天 没有 彩虹 考试 试考 砸 昏 特 了 平常 平常心 心重 重建 瀚海 都 护 加拿 加拿大  001 416 900 0512YOLO 黑 是 黑夜 夜的黑   夜 是 想 你 的 夜   陈 昆 朋 落日 日照 河面   我会 捡 些 光点 珍藏 心间    2764     健康 快乐 乐平 平安 道 在 我心   一以贯之 你 过来   我 身上 上有 WiFi 研究 天地 天地万物 万物 岁月 是 賊 越 努力   越 幸运  somewhere over the rainbow 鳳 閣 龍 樓 連 霄 漢   玉 樹 瓊 枝 作 煙 蘿 过 好 每 一天 知足 知足长乐 长乐   过 好 每 一天   小巴 巴罗 奇 在 阳光 下 像 个 孩子   在 风雨 中 做 个 大人 一切 美好 如期 如期而至    1f340    1f308    1f337  单身 坚持 坚持到底 到底 \\n 成为 更好 的 自己 Friend is like four leaf clovers Hard to find Lucky to have Life is Beautiful  数据 宝   首个 省 部 共建 的 大数 数据 资产 运营 平台 台服 服务 包含   汽车 车驾 驾驶   汽油   停车 停车费 车费  wifi  矿泉 矿泉水 泉水  Immortals 缘份 决定 命运 和 人生   缘份 就是 你 自己   相信 自己 吧  WTF 无 念 之 愿   无为 之为 浮生 浮生若梦   为 欢 几何   幸     2764  Live strong  move along  友邦 友邦保险 保险 保险金 金牌 顾问   善心 团队 创始 创始人       RWhat you see reflects what your heart is like   The art of living is to know when to hold fast and let go    1f340  只 做 第一 第一个 一个 我   不 做 第二 第二个 二个 谁    1f308 SJTU SAIF MBA2012 手机 机电 电脑 维修 Changing behaviour begins with evolving beliefs  傲慢 与 恐惧   都 来自 无知 不要 轻易 评价 别人   因为 你 没有 经历 过 他 的 人生 Family time after 8PM  please call me if urgent   kiss our Samuel amp Eva 我 要 35 岁 退休   加油        一切 随缘   顺其自然 自然   家 有 萌 娃 过去 虽然 结束 但 从未 消失   未来 虽然 遥远 却 并 不 模糊   無 語 中越 自律 越 自由 风 起 时 笑 看 落花    风 停 时 淡 看 天际             光阴 者   百代 之过 过客 也 ww 衣食 衣食住行 样样 有   就 怕 没钱 没 朋友 感谢 你 曾 来 过    2764  走路 去 意 呆 梨 潜意识 意识 撑起 人生   而 人们 称 其 为 命运 Grow through pain  so much pain Like Sunday  Like Rain  微 信 偶尔 用   请 电话 联系 一 原来 你 是 我 的 氧气   我 的 阳光   我 的 全部     身 在 何处   心 自 安  Doyouloveme 點 一支 檀香   泡 一 壺 好 茶   邀 三 兩 知己   共叙 好 時 光 开心 面对 每 一天   生活 越来 越来越 精彩    1f604 Happy forever 不畏 將 來   不念 過 去   執 著 前行   Persistent  amp  Perseverance 人生 最重 重要 的 就是    1f370     1f367     1f338     1f33a  RELAX 找 伙伴 一起 团 算法   莫忘 初心   方 得 始终 Can you can a can as a canner can can a can  梦想 与 现实    回归 脚印 会 旧   而 梦 还 在 走 2017  心想 心想事成     270c   新西兰 西兰    代购 走过   看过   爱 过 \\n 走 着   看着   爱 着 \\n 健忘 而 轻信     所以 快乐 不畏 人言   不 忘 初心 从 兹 始 知 悔过   临渴掘井 掘井 奚 为  Keep me in your heart  I ll stay there forever'"
      ]
     },
     "execution_count": 89,
     "metadata": {},
     "output_type": "execute_result"
    }
   ],
   "source": [
    "# wordlist\n",
    "word_space_split"
   ]
  },
  {
   "cell_type": "code",
   "execution_count": 134,
   "metadata": {},
   "outputs": [
    {
     "name": "stderr",
     "output_type": "stream",
     "text": [
      "/home/user/env_py3/lib/python3.5/site-packages/matplotlib/font_manager.py:1297: UserWarning: findfont: Font family ['sans-serif'] not found. Falling back to DejaVu Sans\n",
      "  (prop.get_family(), self.defaultFamily[fontext]))\n"
     ]
    },
    {
     "data": {
      "image/png": "[encoded data removed]",
      "text/plain": [
       "<matplotlib.figure.Figure at 0x7f10f8277da0>"
      ]
     },
     "metadata": {},
     "output_type": "display_data"
    }
   ],
   "source": [
    "import matplotlib.pyplot as plt\n",
    "from wordcloud import WordCloud, ImageColorGenerator\n",
    "import numpy as np\n",
    "import PIL.Image as Image\n",
    "coloring = np.array(Image.open(\"image/42.jpg\"))\n",
    "my_wordcloud = WordCloud(background_color=\"white\", max_words=100,\n",
    "                         mask=coloring, max_font_size=60, random_state=42, scale=2,\n",
    "                         font_path=\"reference/simhei.ttf\").generate(word_space_split)\n",
    "\n",
    "image_colors = ImageColorGenerator(coloring)\n",
    "plt.imshow(my_wordcloud.recolor(color_func=image_colors))\n",
    "plt.imshow(my_wordcloud)\n",
    "plt.axis(\"off\")\n",
    "plt.show()"
   ]
  },
  {
   "cell_type": "code",
   "execution_count": null,
   "metadata": {
    "collapsed": true
   },
   "outputs": [],
   "source": []
  },
  {
   "cell_type": "code",
   "execution_count": null,
   "metadata": {
    "collapsed": true
   },
   "outputs": [],
   "source": []
  },
  {
   "cell_type": "code",
   "execution_count": null,
   "metadata": {
    "collapsed": true
   },
   "outputs": [],
   "source": []
  },
  {
   "cell_type": "code",
   "execution_count": null,
   "metadata": {
    "collapsed": true
   },
   "outputs": [],
   "source": []
  },
  {
   "cell_type": "code",
   "execution_count": null,
   "metadata": {
    "collapsed": true
   },
   "outputs": [],
   "source": []
  },
  {
   "cell_type": "code",
   "execution_count": null,
   "metadata": {
    "collapsed": true
   },
   "outputs": [],
   "source": []
  },
  {
   "cell_type": "code",
   "execution_count": null,
   "metadata": {
    "collapsed": true
   },
   "outputs": [],
   "source": []
  },
  {
   "cell_type": "code",
   "execution_count": null,
   "metadata": {
    "collapsed": true
   },
   "outputs": [],
   "source": []
  },
  {
   "cell_type": "markdown",
   "metadata": {},
   "source": [
    "### * 查找指定联系人或群组\n",
    "\n",
    "使用search_friends方法可以搜索用户，有几种搜索方式： \n",
    "\n",
    "\n",
    "1.仅获取自己的用户信息 \n",
    "\n",
    "\n",
    "2.获取昵称'NickName'、微信号'Alias'、备注名'RemarkName'中的任何一项等于name键值的用户 \n",
    "\n",
    "\n",
    "3.获取分别对应相应键值的用户"
   ]
  },
  {
   "cell_type": "code",
   "execution_count": null,
   "metadata": {
    "collapsed": true
   },
   "outputs": [],
   "source": [
    "# 获取自己的用户信息，返回自己的属性字典\n",
    "friend = itchat.search_friends()\n",
    "print(friend)"
   ]
  },
  {
   "cell_type": "code",
   "execution_count": null,
   "metadata": {
    "collapsed": true
   },
   "outputs": [],
   "source": [
    "print('NickName  : %s' % friend['NickName'])\n",
    "print('Alias A-ID: %s' % friend['Alias'])\n",
    "print('RemarkName: %s' % friend['RemarkName'])\n",
    "print('UserName  : %s' % friend['UserName'])"
   ]
  },
  {
   "cell_type": "code",
   "execution_count": null,
   "metadata": {
    "collapsed": true
   },
   "outputs": [],
   "source": [
    "# 获取任何一项等于name键值的用户。\n",
    "# 'NickName' 昵称, set by that friend, changeable\n",
    "# 'Alias' ID微信号 = wechatAccount, one time set by that friend, cannot change\n",
    "# 'RemarkName' 备注名, set by current login account owner, changeable by login account owner\n",
    "# 注意：返回可能包含多个朋友。为什么呢？\n",
    "\n",
    "friend = itchat.search_friends(name=u'Sam Gu')\n",
    "# friend = itchat.search_friends(name=u'Mr. R')\n",
    "# friend = itchat.search_friends(name=u'Ms. S')"
   ]
  },
  {
   "cell_type": "code",
   "execution_count": null,
   "metadata": {
    "collapsed": true
   },
   "outputs": [],
   "source": [
    "for i in range(0, len(friend)):\n",
    "    print('NickName  : %s' % friend[i]['NickName'])\n",
    "    print('Alias A-ID: %s' % friend[i]['Alias'])\n",
    "    print('RemarkName: %s' % friend[i]['RemarkName'])\n",
    "    print('UserName  : %s' % friend[i]['UserName'])"
   ]
  },
  {
   "cell_type": "code",
   "execution_count": null,
   "metadata": {
    "collapsed": true
   },
   "outputs": [],
   "source": [
    "# 获取分别对应相应键值的用户。\n",
    "\n",
    "# friend = itchat.search_friends(nickName=u'Sam Gu')\n",
    "# friend = itchat.search_friends(wechatAccount=u'Sam Gu')\n",
    "friend = itchat.search_friends(remarkName=u'Sam Gu')\n",
    "# friend = itchat.search_friends(userName=u'Sam Gu')"
   ]
  },
  {
   "cell_type": "code",
   "execution_count": null,
   "metadata": {
    "collapsed": true
   },
   "outputs": [],
   "source": [
    "for i in range(0, len(friend)):\n",
    "    print('NickName  : %s' % friend[i]['NickName'])\n",
    "    print('Alias A-ID: %s' % friend[i]['Alias'])\n",
    "    print('RemarkName: %s' % friend[i]['RemarkName'])\n",
    "    print('UserName  : %s' % friend[i]['UserName'])"
   ]
  },
  {
   "cell_type": "code",
   "execution_count": null,
   "metadata": {
    "collapsed": true
   },
   "outputs": [],
   "source": [
    "# 查找群组\n",
    "# group = itchat.search_chatrooms(name=u'Data Science')\n",
    "group = itchat.search_chatrooms(name=u'陪聊妹UAT')"
   ]
  },
  {
   "cell_type": "code",
   "execution_count": null,
   "metadata": {
    "collapsed": true,
    "scrolled": true
   },
   "outputs": [],
   "source": [
    "for i in range(0, len(group)):\n",
    "    print('NickName  : %s' % group[i]['NickName'])\n",
    "    print('Alias A-ID: %s' % group[i]['Alias'])\n",
    "    print('RemarkName: %s' % group[i]['RemarkName'])\n",
    "    print('UserName  : %s' % group[i]['UserName'])\n",
    "    print('Is Owner? : %s ( 0 for No | 1 for Yes )' % group[0]['IsOwner'])\n",
    "    print('Is Admin? : %s' % group[i]['IsAdmin'])\n",
    "    print('')"
   ]
  },
  {
   "cell_type": "markdown",
   "metadata": {},
   "source": [
    "### * 发送信息（文字、图片、文件、音频、视频等）"
   ]
  },
  {
   "cell_type": "code",
   "execution_count": null,
   "metadata": {
    "collapsed": true
   },
   "outputs": [],
   "source": [
    "# 文字\n",
    "reply = itchat.send(u'别来无恙啊！\\n发送时间:\\n{:%Y-%b-%d %H:%M:%S}'.format(datetime.datetime.now()), friend[0]['UserName']) \n",
    "print(reply['BaseResponse']['ErrMsg'])"
   ]
  },
  {
   "cell_type": "code",
   "execution_count": null,
   "metadata": {
    "collapsed": true
   },
   "outputs": [],
   "source": [
    "# 图片\n",
    "reply = itchat.send_image('./reference/WeChat_SamGu_QR.png', friend[0]['UserName']) \n",
    "print(reply['BaseResponse']['ErrMsg'])"
   ]
  },
  {
   "cell_type": "code",
   "execution_count": null,
   "metadata": {
    "collapsed": true
   },
   "outputs": [],
   "source": [
    "# 文件\n",
    "reply = itchat.send_file('./reference/logo.pdf', friend[0]['UserName']) \n",
    "print(reply['BaseResponse']['ErrMsg'])"
   ]
  },
  {
   "cell_type": "code",
   "execution_count": null,
   "metadata": {
    "collapsed": true
   },
   "outputs": [],
   "source": [
    "# 音频（语音可以先转成MP3）\n",
    "reply = itchat.send_file('./reference/audio.mp3', friend[0]['UserName']) \n",
    "print(reply['BaseResponse']['ErrMsg'])"
   ]
  },
  {
   "cell_type": "code",
   "execution_count": null,
   "metadata": {
    "collapsed": true
   },
   "outputs": [],
   "source": [
    "# 视频\n",
    "reply = itchat.send_video('./reference/video.mp4', friend[0]['UserName']) \n",
    "print(reply['BaseResponse']['ErrMsg'])"
   ]
  },
  {
   "cell_type": "code",
   "execution_count": null,
   "metadata": {
    "collapsed": true,
    "scrolled": true
   },
   "outputs": [],
   "source": [
    "# 发送信息去群组： group[0]['UserName']\n",
    "# 文字\n",
    "reply = itchat.send(u'别来无恙啊！\\n发送时间:\\n{:%Y-%b-%d %H:%M:%S}'.format(datetime.datetime.now()), group[0]['UserName']) \n",
    "print(reply['BaseResponse']['ErrMsg'])"
   ]
  },
  {
   "cell_type": "markdown",
   "metadata": {},
   "source": [
    "### * 接收信息"
   ]
  },
  {
   "cell_type": "markdown",
   "metadata": {},
   "source": [
    "显示发给自己的文本消息："
   ]
  },
  {
   "cell_type": "code",
   "execution_count": null,
   "metadata": {
    "collapsed": true
   },
   "outputs": [],
   "source": [
    "# itchat.auto_login(hotReload=True) # hotReload=True: 退出程序后暂存登陆状态。即使程序关闭，一定时间内重新开启也可以不用重新扫码。"
   ]
  },
  {
   "cell_type": "code",
   "execution_count": null,
   "metadata": {
    "collapsed": true
   },
   "outputs": [],
   "source": [
    "@itchat.msg_register(itchat.content.TEXT)\n",
    "def text_reply(msg):\n",
    "    print(msg['Text'])"
   ]
  },
  {
   "cell_type": "code",
   "execution_count": null,
   "metadata": {
    "collapsed": true
   },
   "outputs": [],
   "source": [
    "# 长期有效地运行（术语叫做：开始监听）\n",
    "itchat.run()"
   ]
  },
  {
   "cell_type": "markdown",
   "metadata": {},
   "source": [
    "回复发给自己的文本消息："
   ]
  },
  {
   "cell_type": "code",
   "execution_count": null,
   "metadata": {
    "collapsed": true
   },
   "outputs": [],
   "source": [
    "# interupt, then re-login\n",
    "itchat.auto_login(hotReload=True)"
   ]
  },
  {
   "cell_type": "code",
   "execution_count": null,
   "metadata": {
    "collapsed": true
   },
   "outputs": [],
   "source": [
    "@itchat.msg_register(itchat.content.TEXT)\n",
    "def text_reply(msg):\n",
    "    print(msg['Text'])\n",
    "    return u'谢谢亲[嘴唇]我收到 I received:\\n' + msg['Text']"
   ]
  },
  {
   "cell_type": "code",
   "execution_count": null,
   "metadata": {
    "collapsed": true,
    "scrolled": true
   },
   "outputs": [],
   "source": [
    "itchat.run()"
   ]
  },
  {
   "cell_type": "markdown",
   "metadata": {},
   "source": [
    "### * 自定义复杂消息处理，例如：信息存档、回复群组中被@的消息"
   ]
  },
  {
   "cell_type": "code",
   "execution_count": null,
   "metadata": {
    "collapsed": true
   },
   "outputs": [],
   "source": [
    "# interupt, then re-login\n",
    "itchat.auto_login(hotReload=True)"
   ]
  },
  {
   "cell_type": "code",
   "execution_count": null,
   "metadata": {
    "collapsed": true
   },
   "outputs": [],
   "source": [
    "# 如果收到[TEXT, MAP, CARD, NOTE, SHARING]类的信息，会自动回复：\n",
    "@itchat.msg_register([TEXT, MAP, CARD, NOTE, SHARING]) # 文字、位置、名片、通知、分享\n",
    "def text_reply(msg):\n",
    "    itchat.send('%s: %s' % (msg['Type'], msg['Text']), msg['FromUserName'])\n",
    "\n",
    "# 如果收到[PICTURE, RECORDING, ATTACHMENT, VIDEO]类的信息，会自动保存：\n",
    "@itchat.msg_register([PICTURE, RECORDING, ATTACHMENT, VIDEO]) # 图片、语音、文件、视频\n",
    "def download_files(msg):\n",
    "    msg['Text'](msg['FileName'])\n",
    "    return '@%s@%s' % ({'Picture': 'img', 'Video': 'vid'}.get(msg['Type'], 'fil'), msg['FileName'])\n",
    "\n",
    "# 如果收到新朋友的请求，会自动通过验证添加加好友，并主动打个招呼：幸会幸会！Nice to meet you!\n",
    "@itchat.msg_register(FRIENDS)\n",
    "def add_friend(msg):\n",
    "    itchat.add_friend(**msg['Text']) # 该操作会自动将新好友的消息录入，不需要重载通讯录\n",
    "    itchat.send_msg(u'幸会幸会！Nice to meet you!', msg['RecommendInfo']['UserName'])\n",
    "\n",
    "# 在群里，如果收到@自己的文字信息，会自动回复：\n",
    "@itchat.msg_register(TEXT, isGroupChat=True)\n",
    "def text_reply(msg):\n",
    "    if msg['isAt']:\n",
    "        itchat.send(u'@%s\\u2005I received: %s' % (msg['ActualNickName'], msg['Content']), msg['FromUserName'])\n"
   ]
  },
  {
   "cell_type": "code",
   "execution_count": null,
   "metadata": {
    "collapsed": true,
    "scrolled": true
   },
   "outputs": [],
   "source": [
    "itchat.run()"
   ]
  },
  {
   "cell_type": "code",
   "execution_count": null,
   "metadata": {
    "collapsed": true
   },
   "outputs": [],
   "source": [
    "# interupt, then logout\n",
    "itchat.logout() # 安全退出"
   ]
  },
  {
   "cell_type": "markdown",
   "metadata": {},
   "source": [
    "### 恭喜您！已经能够使用微信问答机制了。\n",
    "* 使用和开发微信个人号聊天机器人：一种Python编程接口 (Use WeChat Python API)\n",
    "* 用微信App扫QR码图片来自动登录 (Log-in, contact scan, and processing of text, image, file, video, etc)\n",
    "* 查找指定联系人或群组 (Scan ccontact list)\n",
    "* 发送信息（文字、图片、文件、音频、视频等） (Send message: text, image, file, voice, video, etc)\n",
    "* 接收信息 (Receive message, and keep 'listening')\n",
    "* 自动回复 (Receive message and then automaticaly reply)\n",
    "* 自定义复杂消息处理，例如：信息存档、回复群组中被@的消息 (Advanced message processing and reply)"
   ]
  },
  {
   "cell_type": "markdown",
   "metadata": {},
   "source": [
    "### 下一课是第二课：图像识别和处理\n",
    "### Lesson 2: Image Recognition & Processing\n",
    "* 识别图片消息中的物体名字 (Recognize objects in image)\n",
    "* 识别图片消息中的文字 (OCR: Extract text from image)\n",
    "* 识别人脸 (Recognize human face)\n",
    "* 基于人脸的表情来识别喜怒哀乐等情绪 (Identify semtiment and emotion from human face)"
   ]
  },
  {
   "cell_type": "markdown",
   "metadata": {},
   "source": [
    "<img src='http://www.kudosdata.com/wp-content/uploads/2016/11/cropped-KudosLogo1.png' width=30% style=\"float: right;\">\n",
    "<img src='reference/WeChat_SamGu_QR.png' width=10% style=\"float: left;\">\n",
    "\n"
   ]
  }
 ],
 "metadata": {
  "kernelspec": {
   "display_name": "Python 3",
   "language": "python",
   "name": "python3"
  },
  "language_info": {
   "codemirror_mode": {
    "name": "ipython",
    "version": 3
   },
   "file_extension": ".py",
   "mimetype": "text/x-python",
   "name": "python",
   "nbconvert_exporter": "python",
   "pygments_lexer": "ipython3",
   "version": "3.5.3"
  }
 },
 "nbformat": 4,
 "nbformat_minor": 2
}
