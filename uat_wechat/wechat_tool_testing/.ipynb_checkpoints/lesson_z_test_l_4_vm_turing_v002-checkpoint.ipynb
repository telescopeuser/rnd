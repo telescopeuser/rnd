{
 "cells": [
  {
   "cell_type": "markdown",
   "metadata": {},
   "source": [
    "# 如何使用和开发微信聊天机器人的系列教程\n",
    "# A workshop to develop & use an intelligent and interactive chat-bot in WeChat"
   ]
  },
  {
   "cell_type": "markdown",
   "metadata": {},
   "source": [
    "### WeChat is a popular social media app, which has more than 800 million monthly active users.\n",
    "\n",
    "<img src='http://www.kudosdata.com/wp-content/uploads/2016/11/cropped-KudosLogo1.png' width=30% style=\"float: right;\">\n",
    "<img src='reference/WeChat_SamGu_QR.png' width=10% style=\"float: right;\">\n",
    "\n",
    "### http://www.KudosData.com\n",
    "\n",
    "by: Sam.Gu@KudosData.com\n",
    "\n",
    "\n",
    "May 2017 ========== Scan the QR code to become trainer's friend in WeChat ========>>"
   ]
  },
  {
   "cell_type": "markdown",
   "metadata": {},
   "source": [
    "### 第X课"
   ]
  },
  {
   "cell_type": "markdown",
   "metadata": {},
   "source": [
    "### Flag to indicate the environment to run this program:"
   ]
  },
  {
   "cell_type": "code",
   "execution_count": 1,
   "metadata": {
    "collapsed": true
   },
   "outputs": [],
   "source": [
    "# parm_runtime_env_GCP = True\n",
    "parm_runtime_env_GCP = False"
   ]
  },
  {
   "cell_type": "markdown",
   "metadata": {
    "collapsed": true
   },
   "source": [
    "### Using Google Cloud Platform's Machine Learning APIs"
   ]
  },
  {
   "cell_type": "markdown",
   "metadata": {},
   "source": [
    "From the same API console, choose \"Dashboard\" on the left-hand menu and \"Enable API\".\n",
    "\n",
    "Enable the following APIs for your project (search for them) if they are not already enabled:\n",
    "<ol>\n",
    "<li> Google Translate API </li>\n",
    "<li> Google Cloud Vision API </li>\n",
    "<li> Google Natural Language API </li>\n",
    "<li> Google Cloud Speech API </li>\n",
    "</ol>\n",
    "\n",
    "Finally, because we are calling the APIs from Python (clients in many other languages are available), let's install the Python package (it's not installed by default on Datalab)"
   ]
  },
  {
   "cell_type": "code",
   "execution_count": 2,
   "metadata": {
    "collapsed": true,
    "scrolled": false
   },
   "outputs": [],
   "source": [
    "# Copyright 2016 Google Inc.\n",
    "# Licensed under the Apache License, Version 2.0 (the \"License\"); \n",
    "# import subprocess\n",
    "# retcode = subprocess.call(['pip', 'install', '-U', 'google-api-python-client'])\n",
    "# retcode = subprocess.call(['pip', 'install', '-U', 'gTTS'])\n",
    "\n",
    "# Below is for GCP only: install audio conversion tool\n",
    "# retcode = subprocess.call(['apt-get', 'update', '-y'])\n",
    "# retcode = subprocess.call(['apt-get', 'install', 'libav-tools', '-y'])"
   ]
  },
  {
   "cell_type": "markdown",
   "metadata": {},
   "source": [
    "### 导入需要用到的一些功能程序库："
   ]
  },
  {
   "cell_type": "code",
   "execution_count": 3,
   "metadata": {},
   "outputs": [
    {
     "name": "stdout",
     "output_type": "stream",
     "text": [
      "█\r"
     ]
    }
   ],
   "source": [
    "import io, os, subprocess, sys, re, codecs, time, datetime, requests, itchat\n",
    "from itchat.content import *\n",
    "from googleapiclient.discovery import build"
   ]
  },
  {
   "cell_type": "markdown",
   "metadata": {
    "collapsed": true
   },
   "source": [
    "### GCP Machine Learning API Key\n",
    "\n",
    "First, visit <a href=\"http://console.cloud.google.com/apis\">API console</a>, choose \"Credentials\" on the left-hand menu.  Choose \"Create Credentials\" and generate an API key for your application. You should probably restrict it by IP address to prevent abuse, but for now, just  leave that field blank and delete the API key after trying out this demo.\n",
    "\n",
    "Copy-paste your API Key here:"
   ]
  },
  {
   "cell_type": "code",
   "execution_count": 4,
   "metadata": {
    "collapsed": true
   },
   "outputs": [],
   "source": [
    "# Here I read in my own API_KEY from a file, which is not shared in Github repository:\n",
    "with io.open('../../../API_KEY.txt') as fp: \n",
    "    for line in fp: APIKEY = line\n",
    "\n",
    "# You need to un-comment below line and replace 'APIKEY' variable with your own GCP API key:\n",
    "# APIKEY=\"xxxxxxxxxxxxxxxxxxxxxxxxxxxxxxxxxxxxxxxx\""
   ]
  },
  {
   "cell_type": "code",
   "execution_count": 5,
   "metadata": {
    "collapsed": true
   },
   "outputs": [],
   "source": [
    "# Below is for Google Speech synthesis: text to voice API\n",
    "from gtts import gTTS\n",
    "\n",
    "# Below is for  Google Vision/Image recognition\n",
    "vision_service = build('vision', 'v1', developerKey=APIKEY)\n",
    "\n",
    "# Below is for  Google Speech recognition: voice to text API\n",
    "speech_service = build('speech', 'v1', developerKey=APIKEY)\n",
    "\n",
    "# Below is for Google Language Tranlation API\n",
    "translation_service = build('translate', 'v2', developerKey=APIKEY)\n",
    "\n",
    "# Below is for Google Natual Language Processing API\n",
    "# nlp_service = build('language', 'v1', developerKey=APIKEY)\n",
    "nlp_service = build('language', 'v1beta2', developerKey=APIKEY)\n"
   ]
  },
  {
   "cell_type": "markdown",
   "metadata": {},
   "source": [
    "### 多媒体二进制base64码转换 (Define image pre-processing functions)"
   ]
  },
  {
   "cell_type": "code",
   "execution_count": 6,
   "metadata": {
    "collapsed": true
   },
   "outputs": [],
   "source": [
    "# Import the base64 encoding library.\n",
    "import base64\n",
    "# Pass the image data to an encoding function.\n",
    "def encode_image(image_file):\n",
    "    with io.open(image_file, \"rb\") as image_file:\n",
    "        image_content = image_file.read()\n",
    "# Python 2\n",
    "    if sys.version_info[0] < 3:\n",
    "        return base64.b64encode(image_content)\n",
    "# Python 3\n",
    "    else:\n",
    "        return base64.b64encode(image_content).decode('utf-8')\n",
    "\n",
    "# Pass the audio data to an encoding function.\n",
    "def encode_audio(audio_file):\n",
    "    with io.open(audio_file, 'rb') as audio_file:\n",
    "        audio_content = audio_file.read()\n",
    "# Python 2\n",
    "    if sys.version_info[0] < 3:\n",
    "        return base64.b64encode(audio_content)\n",
    "# Python 3\n",
    "    else:\n",
    "        return base64.b64encode(audio_content).decode('utf-8')\n"
   ]
  },
  {
   "cell_type": "markdown",
   "metadata": {},
   "source": [
    "### 机器智能API接口控制参数 (Define control parameters for API)"
   ]
  },
  {
   "cell_type": "code",
   "execution_count": 7,
   "metadata": {
    "collapsed": true
   },
   "outputs": [],
   "source": [
    "# API control parameter for Image API:\n",
    "parm_image_maxResults = 10 # max objects or faces to be extracted from image analysis\n",
    "\n",
    "# API control parameter for Language Translation API:\n",
    "parm_translation_origin_language = 'zh' # original language in text: to be overwriten by TEXT_DETECTION\n",
    "parm_translation_target_language = 'zh' # target language for translation: Chinese\n",
    "\n",
    "\n",
    "# API control parameter for 消息文字转成语音 (Speech synthesis: text to voice)\n",
    "parm_speech_synthesis_language = 'zh' # speech synthesis API 'text to voice' language\n",
    "# parm_speech_synthesis_language = 'zh-tw' # speech synthesis API 'text to voice' language\n",
    "# parm_speech_synthesis_language = 'zh-yue' # speech synthesis API 'text to voice' language\n",
    "\n",
    "# API control parameter for 语音转换成消息文字 (Speech recognition: voice to text)\n",
    "# parm_speech_recognition_language = 'en' # speech API 'voice to text' language\n",
    "parm_speech_recognition_language = 'cmn-Hans-CN' # speech API 'voice to text' language\n",
    "\n",
    "# API control parameter for 自然语言处理：语义和情感分析\n",
    "parm_nlp_extractDocumentSentiment = True # 情感分析 (Sentiment analysis)\n",
    "parm_nlp_extractEntities = True          # 消息文字中名称实体的识别 (Name-Entity detection)\n",
    "parm_nlp_extractEntitySentiment = False  # Only available in v1beta2. But Chinese language zh is not supported yet.\n",
    "parm_nlp_extractSyntax = True            # 语句的语法分析 (Syntax / Grammar analysis)"
   ]
  },
  {
   "cell_type": "markdown",
   "metadata": {},
   "source": [
    "### Lesson 2\n",
    "### * Image Analysis"
   ]
  },
  {
   "cell_type": "code",
   "execution_count": 8,
   "metadata": {
    "collapsed": true
   },
   "outputs": [],
   "source": [
    "# Running Vision API\n",
    "# 'LABEL_DETECTION'\n",
    "def KudosData_LABEL_DETECTION(image_base64, API_type, maxResults):\n",
    "    # vision_service = build('vision', 'v1', developerKey=APIKEY)\n",
    "    request = vision_service.images().annotate(body={\n",
    "        'requests': [{\n",
    "                'image': {\n",
    "#                     'source': {\n",
    "#                         'gcs_image_uri': IMAGE\n",
    "#                     }\n",
    "                      \"content\": image_base64\n",
    "                },\n",
    "                'features': [{\n",
    "                    'type': API_type,\n",
    "                    'maxResults': maxResults,\n",
    "                }]\n",
    "            }],\n",
    "        })\n",
    "    responses = request.execute(num_retries=3)\n",
    "    image_analysis_reply = u'\\n[ ' + API_type + u' 物体识别 ]\\n'\n",
    "    # 'LABEL_DETECTION'\n",
    "    if responses['responses'][0] != {}:\n",
    "        for i in range(len(responses['responses'][0]['labelAnnotations'])):\n",
    "            image_analysis_reply += responses['responses'][0]['labelAnnotations'][i]['description'] \\\n",
    "            + '\\n( confidence ' +  str(responses['responses'][0]['labelAnnotations'][i]['score']) + ' )\\n'\n",
    "    else:\n",
    "        image_analysis_reply += u'[ Nill 无结果 ]\\n'\n",
    "        \n",
    "    return image_analysis_reply\n",
    "  \n",
    "# Running Vision API\n",
    "# 'LANDMARK_DETECTION'\n",
    "def KudosData_LANDMARK_DETECTION(image_base64, API_type, maxResults):\n",
    "    # vision_service = build('vision', 'v1', developerKey=APIKEY)\n",
    "    request = vision_service.images().annotate(body={\n",
    "        'requests': [{\n",
    "                'image': {\n",
    "#                     'source': {\n",
    "#                         'gcs_image_uri': IMAGE\n",
    "#                     }\n",
    "                      \"content\": image_base64\n",
    "                },\n",
    "                'features': [{\n",
    "                    'type': API_type,\n",
    "                    'maxResults': maxResults,\n",
    "                }]\n",
    "            }],\n",
    "        })\n",
    "    responses = request.execute(num_retries=3)\n",
    "    image_analysis_reply = u'\\n[ ' + API_type + u' 地标识别 ]\\n'\n",
    "    # 'LANDMARK_DETECTION'\n",
    "    if responses['responses'][0] != {}:\n",
    "        for i in range(len(responses['responses'][0]['landmarkAnnotations'])):\n",
    "            image_analysis_reply += responses['responses'][0]['landmarkAnnotations'][i]['description'] \\\n",
    "            + '\\n( confidence ' +  str(responses['responses'][0]['landmarkAnnotations'][i]['score']) + ' )\\n'\n",
    "    else:\n",
    "        image_analysis_reply += u'[ Nill 无结果 ]\\n'\n",
    "        \n",
    "    return image_analysis_reply\n",
    "\n",
    "# Running Vision API\n",
    "# 'LOGO_DETECTION'\n",
    "def KudosData_LOGO_DETECTION(image_base64, API_type, maxResults):\n",
    "    # vision_service = build('vision', 'v1', developerKey=APIKEY)\n",
    "    request = vision_service.images().annotate(body={\n",
    "        'requests': [{\n",
    "                'image': {\n",
    "#                     'source': {\n",
    "#                         'gcs_image_uri': IMAGE\n",
    "#                     }\n",
    "                      \"content\": image_base64\n",
    "                },\n",
    "                'features': [{\n",
    "                    'type': API_type,\n",
    "                    'maxResults': maxResults,\n",
    "                }]\n",
    "            }],\n",
    "        })\n",
    "    responses = request.execute(num_retries=3)\n",
    "    image_analysis_reply = u'\\n[ ' + API_type + u' 商标识别 ]\\n'\n",
    "    # 'LOGO_DETECTION'\n",
    "    if responses['responses'][0] != {}:\n",
    "        for i in range(len(responses['responses'][0]['logoAnnotations'])):\n",
    "            image_analysis_reply += responses['responses'][0]['logoAnnotations'][i]['description'] \\\n",
    "            + '\\n( confidence ' +  str(responses['responses'][0]['logoAnnotations'][i]['score']) + ' )\\n'\n",
    "    else:\n",
    "        image_analysis_reply += u'[ Nill 无结果 ]\\n'\n",
    "        \n",
    "    return image_analysis_reply\n",
    "  \n",
    "# Running Vision API\n",
    "# 'TEXT_DETECTION'\n",
    "def KudosData_TEXT_DETECTION(image_base64, API_type, maxResults):\n",
    "    # vision_service = build('vision', 'v1', developerKey=APIKEY)\n",
    "    request = vision_service.images().annotate(body={\n",
    "        'requests': [{\n",
    "                'image': {\n",
    "#                     'source': {\n",
    "#                         'gcs_image_uri': IMAGE\n",
    "#                     }\n",
    "                      \"content\": image_base64\n",
    "                },\n",
    "                'features': [{\n",
    "                    'type': API_type,\n",
    "                    'maxResults': maxResults,\n",
    "                }]\n",
    "            }],\n",
    "        })\n",
    "    responses = request.execute(num_retries=3)\n",
    "    image_analysis_reply = u'\\n[ ' + API_type + u' 文字提取 ]\\n'\n",
    "    # 'TEXT_DETECTION'\n",
    "    if responses['responses'][0] != {}:\n",
    "        image_analysis_reply += u'----- Start Original Text -----\\n'\n",
    "        image_analysis_reply += u'( Original Language 原文: ' + responses['responses'][0]['textAnnotations'][0]['locale'] \\\n",
    "        + ' )\\n'        \n",
    "        image_analysis_reply += responses['responses'][0]['textAnnotations'][0]['description'] + '----- End Original Text -----\\n'\n",
    "\n",
    "        ##############################################################################################################\n",
    "        #                                        translation of detected text                                        #\n",
    "        ##############################################################################################################\n",
    "        parm_translation_origin_language = responses['responses'][0]['textAnnotations'][0]['locale']\n",
    "        # Call translation if parm_translation_origin_language is not parm_translation_target_language\n",
    "        if parm_translation_origin_language != parm_translation_target_language:\n",
    "            inputs=[responses['responses'][0]['textAnnotations'][0]['description']] # TEXT_DETECTION OCR results only\n",
    "            outputs = translation_service.translations().list(source=parm_translation_origin_language, \n",
    "                                                  target=parm_translation_target_language, q=inputs).execute()\n",
    "            image_analysis_reply += u'\\n----- Start Translation -----\\n'\n",
    "            image_analysis_reply += u'( Target Language 译文: ' + parm_translation_target_language + ' )\\n'\n",
    "            image_analysis_reply += outputs['translations'][0]['translatedText'] + '\\n' + '----- End Translation -----\\n'\n",
    "            print('Compeleted: Translation    API ...')\n",
    "        ##############################################################################################################\n",
    "    else:\n",
    "        image_analysis_reply += u'[ Nill 无结果 ]\\n'\n",
    "        \n",
    "    return image_analysis_reply\n",
    "  \n",
    "# Running Vision API\n",
    "# 'FACE_DETECTION'\n",
    "def KudosData_FACE_DETECTION(image_base64, API_type, maxResults):\n",
    "    # vision_service = build('vision', 'v1', developerKey=APIKEY)\n",
    "    request = vision_service.images().annotate(body={\n",
    "        'requests': [{\n",
    "                'image': {\n",
    "#                     'source': {\n",
    "#                         'gcs_image_uri': IMAGE\n",
    "#                     }\n",
    "                      \"content\": image_base64\n",
    "                },\n",
    "                'features': [{\n",
    "                    'type': API_type,\n",
    "                    'maxResults': maxResults,\n",
    "                }]\n",
    "            }],\n",
    "        })\n",
    "    responses = request.execute(num_retries=3)\n",
    "    image_analysis_reply = u'\\n[ ' + API_type + u' 面部表情 ]\\n'\n",
    "    # 'FACE_DETECTION'\n",
    "    if responses['responses'][0] != {}:\n",
    "        for i in range(len(responses['responses'][0]['faceAnnotations'])):\n",
    "            image_analysis_reply += u'----- No.' + str(i+1) + ' Face -----\\n'\n",
    "            \n",
    "            image_analysis_reply += u'>>> Joy 喜悦: \\n' \\\n",
    "            + responses['responses'][0]['faceAnnotations'][i][u'joyLikelihood'] + '\\n'\n",
    "            \n",
    "            image_analysis_reply += u'>>> Anger 愤怒: \\n' \\\n",
    "            + responses['responses'][0]['faceAnnotations'][i][u'angerLikelihood'] + '\\n'\n",
    "            \n",
    "            image_analysis_reply += u'>>> Sorrow 悲伤: \\n' \\\n",
    "            + responses['responses'][0]['faceAnnotations'][i][u'sorrowLikelihood'] + '\\n'\n",
    "            \n",
    "            image_analysis_reply += u'>>> Surprise 惊奇: \\n' \\\n",
    "            + responses['responses'][0]['faceAnnotations'][i][u'surpriseLikelihood'] + '\\n'\n",
    "            \n",
    "            image_analysis_reply += u'>>> Headwear 头饰: \\n' \\\n",
    "            + responses['responses'][0]['faceAnnotations'][i][u'headwearLikelihood'] + '\\n'\n",
    "            \n",
    "            image_analysis_reply += u'>>> Blurred 模糊: \\n' \\\n",
    "            + responses['responses'][0]['faceAnnotations'][i][u'blurredLikelihood'] + '\\n'\n",
    "            \n",
    "            image_analysis_reply += u'>>> UnderExposed 欠曝光: \\n' \\\n",
    "            + responses['responses'][0]['faceAnnotations'][i][u'underExposedLikelihood'] + '\\n'\n",
    "    else:\n",
    "        image_analysis_reply += u'[ Nill 无结果 ]\\n'\n",
    "            \n",
    "    return image_analysis_reply\n",
    "  \n",
    "# Running Vision API\n",
    "# 'SAFE_SEARCH_DETECTION'\n",
    "def KudosData_SAFE_SEARCH_DETECTION(image_base64, API_type, maxResults):\n",
    "    # vision_service = build('vision', 'v1', developerKey=APIKEY)\n",
    "    request = vision_service.images().annotate(body={\n",
    "        'requests': [{\n",
    "                'image': {\n",
    "#                     'source': {\n",
    "#                         'gcs_image_uri': IMAGE\n",
    "#                     }\n",
    "                      \"content\": image_base64\n",
    "                },\n",
    "                'features': [{\n",
    "                    'type': API_type,\n",
    "                    'maxResults': maxResults,\n",
    "                }]\n",
    "            }],\n",
    "        })\n",
    "    responses = request.execute(num_retries=3)\n",
    "    image_analysis_reply = u'\\n[ ' + API_type + u' 不良内容 ]\\n'\n",
    "    # 'SAFE_SEARCH_DETECTION'\n",
    "    if responses['responses'][0] != {}:\n",
    "        image_analysis_reply += u'>>> Adult 成人: \\n' + responses['responses'][0]['safeSearchAnnotation'][u'adult'] + '\\n'\n",
    "        image_analysis_reply += u'>>> Violence 暴力: \\n' + responses['responses'][0]['safeSearchAnnotation'][u'violence'] + '\\n'\n",
    "        image_analysis_reply += u'>>> Spoof 欺骗: \\n' + responses['responses'][0]['safeSearchAnnotation'][u'spoof'] + '\\n'\n",
    "        image_analysis_reply += u'>>> Medical 医疗: \\n' + responses['responses'][0]['safeSearchAnnotation'][u'medical'] + '\\n'\n",
    "    else:\n",
    "        image_analysis_reply += u'[ Nill 无结果 ]\\n'\n",
    "    return image_analysis_reply\n",
    "  \n"
   ]
  },
  {
   "cell_type": "markdown",
   "metadata": {
    "collapsed": true
   },
   "source": [
    "### Lesson 3"
   ]
  },
  {
   "cell_type": "markdown",
   "metadata": {
    "collapsed": true
   },
   "source": [
    "### * 消息文字转成语音 (Speech synthesis: text to voice)"
   ]
  },
  {
   "cell_type": "markdown",
   "metadata": {},
   "source": [
    "### Supported Languages  \n",
    "\n",
    "https://pypi.python.org/pypi/gTTS\n",
    "\n",
    "\n",
    "'**af**' : 'Afrikaans'  '**sq**' : 'Albanian'  '**ar**' : 'Arabic'  '**hy**' : 'Armenian'  '**bn**' : 'Bengali'  '**ca**' : 'Catalan'  '**zh**' : 'Chinese'  '**zh-cn**' : 'Chinese (Mandarin/China)'  '**zh-tw**' : 'Chinese (Mandarin/Taiwan)'  '**zh-yue**' : 'Chinese (Cantonese)'  '**hr**' : 'Croatian'  '**cs**' : 'Czech'  '**da**' : 'Danish'  '**nl**' : 'Dutch'  '**en**' : 'English'  '**en-au**' : 'English (Australia)'  '**en-uk**' : 'English (United Kingdom)'  '**en-us**' : 'English (United States)'  '**eo**' : 'Esperanto'  '**fi**' : 'Finnish'  '**fr**' : 'French'  '**de**' : 'German'  '**el**' : 'Greek'  '**hi**' : 'Hindi'  '**hu**' : 'Hungarian'  '**is**' : 'Icelandic'  '**id**' : 'Indonesian'  '**it**' : 'Italian'  '**ja**' : 'Japanese'  '**km**' : 'Khmer (Cambodian)'  '**ko**' : 'Korean'  '**la**' : 'Latin'  '**lv**' : 'Latvian'  '**mk**' : 'Macedonian'  '**no**' : 'Norwegian'  '**pl**' : 'Polish'  '**pt**' : 'Portuguese'  '**ro**' : 'Romanian'  '**ru**' : 'Russian'  '**sr**' : 'Serbian'  '**si**' : 'Sinhala'  '**sk**' : 'Slovak'  '**es**' : 'Spanish'  '**es-es**' : 'Spanish (Spain)'  '**es-us**' : 'Spanish (United States)'  '**sw**' : 'Swahili'  '**sv**' : 'Swedish'  '**ta**' : 'Tamil'  '**th**' : 'Thai'  '**tr**' : 'Turkish'  '**uk**' : 'Ukrainian'  '**vi**' : 'Vietnamese'  '**cy**' : 'Welsh'\n"
   ]
  },
  {
   "cell_type": "code",
   "execution_count": 9,
   "metadata": {
    "collapsed": true
   },
   "outputs": [],
   "source": [
    "# Running Speech API\n",
    "def KudosData_text_to_voice(text2voice): \n",
    "    # Python 2\n",
    "    if sys.version_info[0] < 3: \n",
    "        tts = gTTS(text=text2voice.encode('utf-8'), lang=parm_speech_synthesis_language, slow=False)\n",
    "    # Python 3\n",
    "    else:\n",
    "        tts = gTTS(text=text2voice, lang=parm_speech_synthesis_language, slow=False)\n",
    "\n",
    "    text2voiceMP3name = 'Voice_For_You.mp3'\n",
    "    tts.save(text2voiceMP3name)\n",
    "    print('Compeleted: Speech synthesis API ( Text -> Voice)')\n",
    "    print(text2voice)\n",
    "    return text2voiceMP3name"
   ]
  },
  {
   "cell_type": "markdown",
   "metadata": {
    "collapsed": true
   },
   "source": [
    "### * 语音转换成消息文字 (Speech recognition: voice to text)\n",
    "\n",
    "The Speech API can work on streaming data, audio content encoded and embedded directly into the POST message, or on a file on Cloud Storage."
   ]
  },
  {
   "cell_type": "markdown",
   "metadata": {},
   "source": [
    "### Supported Languages  \n",
    "\n",
    "https://cloud.google.com/speech/docs/languages\n",
    "\n",
    "\n",
    "'**af-ZA**' 'Afrikaans (South Africa)' '**id-ID**' 'Indonesian (Indonesia)' '**ms-MY**' 'Malay (Malaysia)' '**ca-ES**' 'Catalan (Spain)' '**cs-CZ**' 'Czech (Czech Republic)' '**da-DK**' 'Danish (Denmark)' '**de-DE**' 'German (Germany)' '**en-AU**' 'English (Australia)' '**en-CA**' 'English (Canada)' '**en-GB**' 'English (United Kingdom)' '**en-IN**' 'English (India)' '**en-IE**' 'English (Ireland)' '**en-NZ**' 'English (New Zealand)' '**en-PH**' 'English (Philippines)' '**en-ZA**' 'English (South Africa)' '**en-US**' 'English (United States)' '**es-AR**' 'Spanish (Argentina)' '**es-BO**' 'Spanish (Bolivia)' '**es-CL**' 'Spanish (Chile)' '**es-CO**' 'Spanish (Colombia)' '**es-CR**' 'Spanish (Costa Rica)' '**es-EC**' 'Spanish (Ecuador)' '**es-SV**' 'Spanish (El Salvador)' '**es-ES**' 'Spanish (Spain)' '**es-US**' 'Spanish (United States)' '**es-GT**' 'Spanish (Guatemala)' '**es-HN**' 'Spanish (Honduras)' '**es-MX**' 'Spanish (Mexico)' '**es-NI**' 'Spanish (Nicaragua)' '**es-PA**' 'Spanish (Panama)' '**es-PY**' 'Spanish (Paraguay)' '**es-PE**' 'Spanish (Peru)' '**es-PR**' 'Spanish (Puerto Rico)' '**es-DO**' 'Spanish (Dominican Republic)' '**es-UY**' 'Spanish (Uruguay)' '**es-VE**' 'Spanish (Venezuela)' '**eu-ES**' 'Basque (Spain)' '**fil-PH**' 'Filipino (Philippines)' '**fr-CA**' 'French (Canada)' '**fr-FR**' 'French (France)' '**gl-ES**' 'Galician (Spain)' '**hr-HR**' 'Croatian (Croatia)' '**zu-ZA**' 'Zulu (South Africa)' '**is-IS**' 'Icelandic (Iceland)' '**it-IT**' 'Italian (Italy)' '**lt-LT**' 'Lithuanian (Lithuania)' '**hu-HU**' 'Hungarian (Hungary)' '**nl-NL**' 'Dutch (Netherlands)' '**nb-NO**' 'Norwegian Bokmål (Norway)' '**pl-PL**' 'Polish (Poland)' '**pt-BR**' 'Portuguese (Brazil)' '**pt-PT**' 'Portuguese (Portugal)' '**ro-RO**' 'Romanian (Romania)' '**sk-SK**' 'Slovak (Slovakia)' '**sl-SI**' 'Slovenian (Slovenia)' '**fi-FI**' 'Finnish (Finland)' '**sv-SE**' 'Swedish (Sweden)' '**vi-VN**' 'Vietnamese (Vietnam)' '**tr-TR**' 'Turkish (Turkey)' '**el-GR**' 'Greek (Greece)' '**bg-BG**' 'Bulgarian (Bulgaria)' '**ru-RU**' 'Russian (Russia)' '**sr-RS**' 'Serbian (Serbia)' '**uk-UA**' 'Ukrainian (Ukraine)' '**he-IL**' 'Hebrew (Israel)' '**ar-IL**' 'Arabic (Israel)' '**ar-JO**' 'Arabic (Jordan)' '**ar-AE**' 'Arabic (United Arab Emirates)' '**ar-BH**' 'Arabic (Bahrain)' '**ar-DZ**' 'Arabic (Algeria)' '**ar-SA**' 'Arabic (Saudi Arabia)' '**ar-IQ**' 'Arabic (Iraq)' '**ar-KW**' 'Arabic (Kuwait)' '**ar-MA**' 'Arabic (Morocco)' '**ar-TN**' 'Arabic (Tunisia)' '**ar-OM**' 'Arabic (Oman)' '**ar-PS**' 'Arabic (State of Palestine)' '**ar-QA**' 'Arabic (Qatar)' '**ar-LB**' 'Arabic (Lebanon)' '**ar-EG**' 'Arabic (Egypt)' '**fa-IR**' 'Persian (Iran)' '**hi-IN**' 'Hindi (India)' '**th-TH**' 'Thai (Thailand)' '**ko-KR**' 'Korean (South Korea)' '**cmn-Hant-TW**' 'Chinese, Mandarin (Traditional, Taiwan)' '**yue-Hant-HK**' 'Chinese, Cantonese (Traditional, Hong Kong)' '**ja-JP**' 'Japanese (Japan)' '**cmn-Hans-HK**' 'Chinese, Mandarin (Simplified, Hong Kong)' '**cmn-Hans-CN**' 'Chinese, Mandarin (Simplified, China)' "
   ]
  },
  {
   "cell_type": "code",
   "execution_count": 10,
   "metadata": {
    "collapsed": true
   },
   "outputs": [],
   "source": [
    "#    msg.download(msg.fileName)\n",
    "#    print('\\nDownloaded image file name is: %s' % msg['FileName'])\n",
    "\n",
    "#    audio_file_input = msg['FileName']\n",
    "#    audio_type = ['flac', 'wav']\n",
    "\n",
    "# Running Speech API\n",
    "def KudosData_voice_to_text(audio_file_input, audio_type):\n",
    "    audio_file_output = str(audio_file_input) + '.' + str(audio_type)\n",
    "#     print('audio_file_input             : %s' % audio_file_input)\n",
    "    print('Converted  audio file for API: %s' % audio_file_output)\n",
    "    \n",
    "    # convert mp3 file to target GCP audio file:\n",
    "\n",
    "# remove audio_file_output, is exist\n",
    "    retcode = subprocess.call(['rm', audio_file_output])\n",
    "    # print(retcode)\n",
    "    \n",
    "    if parm_runtime_env_GCP: # using Datalab in Google Cloud Platform\n",
    "        # GCP: use avconv to convert audio\n",
    "        retcode = subprocess.call(['avconv', '-i', audio_file_input, '-ac', '1', audio_file_output])\n",
    "    else: # using a Kudos Data Virtual Machine, or local machine\n",
    "        # VM : use ffmpeg to convert audio\n",
    "        retcode = subprocess.call(['ffmpeg', '-i', audio_file_input, '-ac', '1', audio_file_output])\n",
    "    # print(retcode)\n",
    "\n",
    "    # Call GCP Speech API:\n",
    "    # response = speech_service.speech().syncrecognize(\n",
    "    response = speech_service.speech().recognize(\n",
    "        body={\n",
    "            'config': {\n",
    "#                 'encoding': 'LINEAR16',\n",
    "#                 'sampleRateHertz': 16000,\n",
    "                'languageCode': parm_speech_recognition_language\n",
    "            },\n",
    "            'audio': {\n",
    "                'content': encode_audio(audio_file_output) # base64 of converted audio file, for speech recognition\n",
    "                }\n",
    "            }).execute()    \n",
    "    print('Compeleted: Speech recognition API ( Voice -> Text )')\n",
    "    return response"
   ]
  },
  {
   "cell_type": "markdown",
   "metadata": {
    "collapsed": true
   },
   "source": [
    "### * 消息文字的多语言互译 (Text based language translation)"
   ]
  },
  {
   "cell_type": "markdown",
   "metadata": {},
   "source": [
    "### Supported Languages  \n",
    "\n",
    "https://cloud.google.com/translate/docs/languages\n",
    "\n",
    "\n",
    "'**af**' 'Afrikaans' '**sq**' 'Albanian' '**am**' 'Amharic' '**ar**' 'Arabic' '**hy**' 'Armenian' '**az**' 'Azeerbaijani' '**eu**' 'Basque' '**be**' 'Belarusian' '**bn**' 'Bengali' '**bs**' 'Bosnian' '**bg**' 'Bulgarian' '**ca**' 'Catalan' '**ceb** (ISO-639-2)' 'Cebuano' '**ny**' 'Chichewa' '**zh-CN** (BCP-47)' 'Chinese (Simplified)' '**zh-TW** (BCP-47)' 'Chinese (Traditional)' '**co**' 'Corsican' '**hr**' 'Croatian' '**cs**' 'Czech' '**da**' 'Danish' '**nl**' 'Dutch' '**en**' 'English' '**eo**' 'Esperanto' '**et**' 'Estonian' '**tl**' 'Filipino' '**fi**' 'Finnish' '**fr**' 'French' '**fy**' 'Frisian' '**gl**' 'Galician' '**ka**' 'Georgian' '**de**' 'German' '**el**' 'Greek' '**gu**' 'Gujarati' '**ht**' 'Haitian Creole' '**ha**' 'Hausa' '**haw** (ISO-639-2)' 'Hawaiian' '**iw**' 'Hebrew' '**hi**' 'Hindi' '**hmn** (ISO-639-2)' 'Hmong' '**hu**' 'Hungarian' '**is**' 'Icelandic' '**ig**' 'Igbo' '**id**' 'Indonesian' '**ga**' 'Irish' '**it**' 'Italian' '**ja**' 'Japanese' '**jw**' 'Javanese' '**kn**' 'Kannada' '**kk**' 'Kazakh' '**km**' 'Khmer' '**ko**' 'Korean' '**ku**' 'Kurdish' '**ky**' 'Kyrgyz' '**lo**' 'Lao' '**la**' 'Latin' '**lv**' 'Latvian' '**lt**' 'Lithuanian' '**lb**' 'Luxembourgish' '**mk**' 'Macedonian' '**mg**' 'Malagasy' '**ms**' 'Malay' '**ml**' 'Malayalam' '**mt**' 'Maltese' '**mi**' 'Maori' '**mr**' 'Marathi' '**mn**' 'Mongolian' '**my**' 'Burmese' '**ne**' 'Nepali' '**no**' 'Norwegian' '**ps**' 'Pashto' '**fa**' 'Persian' '**pl**' 'Polish' '**pt**' 'Portuguese' '**ma**' 'Punjabi' '**ro**' 'Romanian' '**ru**' 'Russian' '**sm**' 'Samoan' '**gd**' 'Scots Gaelic' '**sr**' 'Serbian' '**st**' 'Sesotho' '**sn**' 'Shona' '**sd**' 'Sindhi' '**si**' 'Sinhala' '**sk**' 'Slovak' '**sl**' 'Slovenian' '**so**' 'Somali' '**es**' 'Spanish' '**su**' 'Sundanese' '**sw**' 'Swahili' '**sv**' 'Swedish' '**tg**' 'Tajik' '**ta**' 'Tamil' '**te**' 'Telugu' '**th**' 'Thai' '**tr**' 'Turkish' '**uk**' 'Ukrainian' '**ur**' 'Urdu' '**uz**' 'Uzbek' '**vi**' 'Vietnamese' '**cy**' 'Welsh' '**xh**' 'Xhosa' '**yi**' 'Yiddish' '**yo**' 'Yoruba' '**zu**' 'Zulu' "
   ]
  },
  {
   "cell_type": "code",
   "execution_count": 11,
   "metadata": {
    "collapsed": true
   },
   "outputs": [],
   "source": [
    "def KudosData_TEXT_TRANSLATION(text, origin_language_code, target_language_code):\n",
    "    # Call translation if parm_translation_origin_language is not parm_translation_target_language\n",
    "    if origin_language_code != target_language_code:\n",
    "        outputs = translation_service.translations().list(source=origin_language_code, \n",
    "                                              target=target_language_code, q=text).execute()\n",
    "        translated_text = ''\n",
    "        translated_text += u'---- Start Translation ----\\n'\n",
    "        translated_text += u'( Origin Lang 原文: ' + origin_language_code + ' )\\n'\n",
    "        translated_text += u'( Target Lang 译文: ' + target_language_code + ' )\\n'\n",
    "        translated_text += outputs['translations'][0]['translatedText'] + '\\n' + '----- End Translation -----\\n'\n",
    "        print('Compeleted: Translation    API : From Language \\'%s\\' to \\'%s\\'' \n",
    "              % (origin_language_code, target_language_code))\n",
    "    else:\n",
    "        translated_text = text\n",
    "        \n",
    "    return translated_text"
   ]
  },
  {
   "cell_type": "markdown",
   "metadata": {},
   "source": [
    "### Lesson 4 "
   ]
  },
  {
   "cell_type": "markdown",
   "metadata": {},
   "source": [
    "### * 定义一个调用自然语言处理接口的小功能"
   ]
  },
  {
   "cell_type": "code",
   "execution_count": 12,
   "metadata": {
    "collapsed": true
   },
   "outputs": [],
   "source": [
    "# Running Speech API\n",
    "def KudosData_nlp(text, extractDocumentSentiment, extractEntities, extractEntitySentiment, extractSyntax): \n",
    "    # Python 2\n",
    "#     if sys.version_info[0] < 3: \n",
    "#         tts = gTTS(text=text2voice.encode('utf-8'), lang=parm_speech_synthesis_language, slow=False)\n",
    "    # Python 3\n",
    "#     else:\n",
    "#         tts = gTTS(text=text2voice, lang=parm_speech_synthesis_language, slow=False)\n",
    "        \n",
    "    request = nlp_service.documents().annotateText(body={\n",
    "                \"document\":{\n",
    "                    \"type\": \"PLAIN_TEXT\",\n",
    "                    \"content\": text\n",
    "                    },\n",
    "                \"features\": {\n",
    "                    \"extractDocumentSentiment\": extractDocumentSentiment,\n",
    "                    \"extractEntities\": extractEntities,\n",
    "                    \"extractEntitySentiment\": extractEntitySentiment, # only available in v1beta2\n",
    "                    \"extractSyntax\": extractSyntax,\n",
    "                    },\n",
    "                \"encodingType\":\"UTF8\"\n",
    "                })\n",
    "    responses = request.execute(num_retries=3)        \n",
    "    print('\\nCompeleted: NLP analysis API')\n",
    "    return responses"
   ]
  },
  {
   "cell_type": "markdown",
   "metadata": {},
   "source": [
    "### * 定义一个输出为NLP分析结果的文本消息的小功能，用于微信回复："
   ]
  },
  {
   "cell_type": "code",
   "execution_count": 13,
   "metadata": {
    "collapsed": true
   },
   "outputs": [],
   "source": [
    "def KudosData_nlp_generate_reply(responses):\n",
    "    nlp_reply = u'[ NLP 自然语言处理结果 ]'\n",
    "    \n",
    "    # 1. 整篇消息文字的情感分析 (Sentiment analysis, Document level)\n",
    "    nlp_reply += '\\n'\n",
    "    nlp_reply += '\\n' + u'[ 整篇消息 语种 : {} ]\\n( 褒贬程度 : {} | 语彩累积 : {} )'.format(\n",
    "            responses['language']\n",
    "            , responses['documentSentiment']['score']\n",
    "            , responses['documentSentiment']['magnitude']\n",
    "        )\n",
    "\n",
    "    # 2. 消息文字中语句的情感分析 (Sentiment analysis, Sentence level)           \n",
    "    nlp_reply += '\\n'\n",
    "    for i in range(len(responses['sentences'])):\n",
    "        nlp_reply += '\\n' + u'[ 语句 {} : {} ]\\n( 褒贬程度 : {} | 语彩累积 : {} )'.format(\n",
    "              i+1\n",
    "            , responses['sentences'][i]['text']['content']\n",
    "            , responses['sentences'][i]['sentiment']['score']\n",
    "            , responses['sentences'][i]['sentiment']['magnitude']\n",
    "        )\n",
    "                \n",
    "    # 3. 消息文字中名称实体的识别 (Name-Entity detection)\n",
    "    nlp_reply += '\\n'\n",
    "    for i in range(len(responses['entities'])): \n",
    "        nlp_reply += '\\n' + u'[ 实体 {} : {} ]\\n  实体类别 : {}\\n  重要程度 : {}'.format(\n",
    "              i+1\n",
    "            , responses['entities'][i]['name']\n",
    "            , responses['entities'][i]['type']\n",
    "            , responses['entities'][i]['salience']\n",
    "        )\n",
    "        if 'sentiment' in responses['entities'][i]:\n",
    "            nlp_reply += '\\n' + u'  褒贬程度 : {}\\n  语彩累积 : {}'.format(\n",
    "                  responses['entities'][i]['sentiment']['score']\n",
    "                , responses['entities'][i]['sentiment']['magnitude']\n",
    "            )\n",
    "        if responses['entities'][i]['metadata'] != {}:\n",
    "            if 'wikipedia_url' in responses['entities'][i]['metadata']:\n",
    "                nlp_reply += '\\n  ' + responses['entities'][i]['metadata']['wikipedia_url']\n",
    "                           \n",
    "    # 4. 语句的语法分析 (Syntax / Grammar analysis)\n",
    "#     nlp_reply += '\\n'\n",
    "#     for i in range(len(responses['tokens'])): \n",
    "#         nlp_reply += '\\n' + str(responses['tokens'][i])\n",
    "    \n",
    "    return nlp_reply"
   ]
  },
  {
   "cell_type": "markdown",
   "metadata": {},
   "source": [
    "### 用微信App扫QR码图片来自动登录"
   ]
  },
  {
   "cell_type": "code",
   "execution_count": 14,
   "metadata": {},
   "outputs": [],
   "source": [
    "itchat.auto_login(hotReload=True) # hotReload=True: 退出程序后暂存登陆状态。即使程序关闭，一定时间内重新开启也可以不用重新扫码。\n",
    "# itchat.auto_login(enableCmdQR=2) # enableCmdQR=-2: 命令行显示QR图片"
   ]
  },
  {
   "cell_type": "code",
   "execution_count": 15,
   "metadata": {
    "collapsed": true
   },
   "outputs": [],
   "source": [
    "# Obtain my own Nick Name\n",
    "MySelf = itchat.search_friends()\n",
    "NickName4RegEx = '@' + MySelf['NickName'] + '\\s*'"
   ]
  },
  {
   "cell_type": "code",
   "execution_count": 16,
   "metadata": {
    "collapsed": true
   },
   "outputs": [],
   "source": [
    "@itchat.msg_register([PICTURE], isGroupChat=True)\n",
    "@itchat.msg_register([PICTURE])\n",
    "def download_files(msg):\n",
    "    parm_translation_origin_language = 'zh' # will be overwriten by TEXT_DETECTION\n",
    "    msg.download(msg.fileName)\n",
    "    print('\\nDownloaded image file name is: %s' % msg['FileName'])\n",
    "    image_base64 = encode_image(msg['FileName'])\n",
    "    \n",
    "    ##############################################################################################################\n",
    "    #                                          call image analysis APIs                                          #\n",
    "    ##############################################################################################################\n",
    "    \n",
    "    image_analysis_reply = u'[ Image Analysis 图像识别结果 ]\\n'\n",
    "\n",
    "    # 1. LABEL_DETECTION:\n",
    "    image_analysis_reply += KudosData_LABEL_DETECTION(image_base64, 'LABEL_DETECTION', parm_image_maxResults)\n",
    "    # 2. LANDMARK_DETECTION:\n",
    "    image_analysis_reply += KudosData_LANDMARK_DETECTION(image_base64, 'LANDMARK_DETECTION', parm_image_maxResults)\n",
    "    # 3. LOGO_DETECTION:\n",
    "    image_analysis_reply += KudosData_LOGO_DETECTION(image_base64, 'LOGO_DETECTION', parm_image_maxResults)\n",
    "    # 4. TEXT_DETECTION:\n",
    "    image_analysis_reply += KudosData_TEXT_DETECTION(image_base64, 'TEXT_DETECTION', parm_image_maxResults)\n",
    "    # 5. FACE_DETECTION:\n",
    "    image_analysis_reply += KudosData_FACE_DETECTION(image_base64, 'FACE_DETECTION', parm_image_maxResults)\n",
    "    # 6. SAFE_SEARCH_DETECTION:\n",
    "    image_analysis_reply += KudosData_SAFE_SEARCH_DETECTION(image_base64, 'SAFE_SEARCH_DETECTION', parm_image_maxResults)\n",
    "\n",
    "    print('Compeleted: Image Analysis API ...')\n",
    "    \n",
    "    return image_analysis_reply\n"
   ]
  },
  {
   "cell_type": "code",
   "execution_count": 17,
   "metadata": {
    "collapsed": true
   },
   "outputs": [],
   "source": [
    "KEY = '71f28bf79c820df10d39b4074345ef8c'\n",
    "\n",
    "'''\n",
    "8edce3ce905a4c1dbb965e6b35c3834d\n",
    "eb720a8970964f3f855d863d24406576\n",
    "1107d5601866433dba9599fac1bc0083\n",
    "71f28bf79c820df10d39b4074345ef8c\n",
    "'''\n",
    "\n",
    "def get_response(msg):\n",
    "    print('... Turing Reply ...')\n",
    "    # 这里我们就像在“3. 实现最简单的与图灵机器人的交互”中做的一样\n",
    "    # 构造了要发送给服务器的数据\n",
    "    apiUrl = 'http://www.tuling123.com/openapi/api'\n",
    "    data = {\n",
    "        'key'    : KEY,\n",
    "        'info'   : msg,\n",
    "        'userid' : 'wechat-robot',\n",
    "    }\n",
    "    try:\n",
    "        r = requests.post(apiUrl, data=data).json()\n",
    "        # 字典的get方法在字典没有'text'值的时候会返回None而不会抛出异常\n",
    "        return r.get('text')\n",
    "    # 为了防止服务器没有正常响应导致程序异常退出，这里用try-except捕获了异常\n",
    "    # 如果服务器没能正常交互（返回非json或无法连接），那么就会进入下面的return\n",
    "    except:\n",
    "        print('!!! Turing Machine problem !!!')\n",
    "        # 将会返回一个None\n",
    "        return\n",
    "\n",
    "\n",
    "@itchat.msg_register([TEXT, MAP, CARD, NOTE, SHARING])\n",
    "def text_reply(msg):\n",
    "    print()\n",
    "    # 为了保证在图灵Key出现问题的时候仍旧可以回复，这里设置一个默认回复\n",
    "    defaultReply = 'I received: ' + msg['Text']\n",
    "    # 如果图灵Key出现问题，那么reply将会是None\n",
    "    reply = get_response(msg['Text'])\n",
    "    \n",
    "    if (reply != ''):\n",
    "        print(reply)\n",
    "#         itchat.send(u'@%s\\u2005%s' % (msg['ActualNickName'], reply), msg['FromUserName'])\n",
    "        itchat.send(u'[ Turing ]\\n%s' % reply, msg['FromUserName'])\n",
    "######################################################################################\n",
    "#             text to voice:    \n",
    "#=====================================================================================\n",
    "        text2voiceMP3name = KudosData_text_to_voice(reply)\n",
    "        itchat.send('@%s@%s' % ('fil', text2voiceMP3name), msg['FromUserName'])\n",
    "######################################################################################\n",
    "\n",
    "    else:\n",
    "        print(defaultReply)\n",
    "        itchat.send(u'%s' % defaultReply, msg['FromUserName'])\n",
    "    \n",
    "    # a or b的意思是，如果a有内容，那么返回a，否则返回b\n",
    "    # 有内容一般就是指非空或者非None，你可以用`if a: print('True')`来测试\n",
    "    # return reply or defaultReply\n",
    "\n",
    "@itchat.msg_register([ATTACHMENT, VIDEO])\n",
    "def download_files(msg):\n",
    "    msg['Text'](msg['FileName'])\n",
    "    return '@%s@%s' % ({'Picture': 'img', 'Video': 'vid'}.get(msg['Type'], 'fil'), msg['FileName'])\n",
    "\n",
    "\n",
    "# 2. 语音转换成消息文字 (Speech recognition: voice to text)\n",
    "# Then call turing API\n",
    "@itchat.msg_register([RECORDING], isGroupChat=True)\n",
    "def download_files(msg):\n",
    "    print()\n",
    "    parm_translation_origin_language = 'zh'\n",
    "    msg.download(msg.fileName)\n",
    "    print('\\nDownloaded audio file name is: %s' % msg['FileName'])\n",
    "    ##############################################################################################################\n",
    "    #                                          call audio analysis APIs                                          #\n",
    "    ##############################################################################################################\n",
    "    response = KudosData_voice_to_text(msg['FileName'], 'flac')\n",
    "    if response != {}:\n",
    "        # 为了保证在图灵Key出现问题的时候仍旧可以回复，这里设置一个默认回复\n",
    "        defaultReply = 'I heard: [ Voice to Text ] \\n' + response['results'][0]['alternatives'][0]['transcript']\n",
    "        print(defaultReply)\n",
    "        itchat.send(u'@%s\\u2005\\n%s' % (msg['ActualNickName'], defaultReply), msg['FromUserName'])\n",
    "        # 如果图灵Key出现问题，那么reply将会是None\n",
    "        reply = get_response(response['results'][0]['alternatives'][0]['transcript'])\n",
    "    else:\n",
    "        # Speech recognition has no result:\n",
    "        reply = (u'实在对不起，我没听清您说的，请您重复一遍。')\n",
    "\n",
    "    if (reply != ''):\n",
    "        print(u'@%s\\u2005\\n[ Turing ]\\n%s' % (msg['ActualNickName'], reply))\n",
    "        itchat.send(u'@%s\\u2005\\n[ Turing ]\\n%s' % (msg['ActualNickName'], reply), msg['FromUserName'])\n",
    "######################################################################################\n",
    "#             text to voice:    \n",
    "#=====================================================================================\n",
    "        text2voiceMP3name = KudosData_text_to_voice(reply)\n",
    "        itchat.send('@%s@%s' % ('fil', text2voiceMP3name), msg['FromUserName'])\n",
    "######################################################################################\n",
    "    else:\n",
    "        print(u'@%s\\u2005%s' % (msg['ActualNickName'], defaultReply))\n",
    "        itchat.send(u'@%s\\u2005%s' % (msg['ActualNickName'], defaultReply), msg['FromUserName'])\n",
    "\n",
    "\n",
    "@itchat.msg_register([RECORDING])\n",
    "def download_files(msg):\n",
    "    print()\n",
    "    parm_translation_origin_language = 'zh'\n",
    "    msg.download(msg.fileName)\n",
    "    print('\\nDownloaded audio file name is: %s' % msg['FileName'])\n",
    "    ##############################################################################################################\n",
    "    #                                          call audio analysis APIs                                          #\n",
    "    ##############################################################################################################\n",
    "    response = KudosData_voice_to_text(msg['FileName'], 'flac')\n",
    "    if response != {}:\n",
    "        # 为了保证在图灵Key出现问题的时候仍旧可以回复，这里设置一个默认回复\n",
    "        defaultReply = 'I heard: [ Voice to Text ] \\n' + response['results'][0]['alternatives'][0]['transcript']\n",
    "        print(defaultReply)\n",
    "        itchat.send(u'%s' % defaultReply, msg['FromUserName'])\n",
    "        # 如果图灵Key出现问题，那么reply将会是None\n",
    "        reply = get_response(response['results'][0]['alternatives'][0]['transcript'])\n",
    "    else:\n",
    "        # Speech recognition has no result:\n",
    "        reply = (u'实在对不起，我没听清您说的，请您重复一遍。')\n",
    "\n",
    "    if (reply != ''):\n",
    "        print(reply)\n",
    "#         itchat.send(u'@%s\\u2005%s' % (msg['ActualNickName'], reply), msg['FromUserName'])\n",
    "        itchat.send(u'[ Turing ]\\n%s' % reply, msg['FromUserName'])\n",
    "######################################################################################\n",
    "#             text to voice:    \n",
    "#=====================================================================================\n",
    "        text2voiceMP3name = KudosData_text_to_voice(reply)\n",
    "        itchat.send('@%s@%s' % ('fil', text2voiceMP3name), msg['FromUserName'])\n",
    "######################################################################################\n",
    "    else:\n",
    "        print(defaultReply)\n",
    "        itchat.send(u'%s' % defaultReply, msg['FromUserName'])\n",
    "\n",
    "\n",
    "# 文字处理\n",
    "# NLP\n",
    "# Translation\n",
    "# Turing\n",
    "#\n",
    "# @itchat.msg_register(TEXT, MAP, CARD, NOTE, SHARING, isGroupChat=True) # Group must be saved by current user/chat-bot\n",
    "@itchat.msg_register(TEXT, isGroupChat=True) # Group must be saved by current user/chat-bot\n",
    "def text_reply(msg):\n",
    "    if msg['isAt']:\n",
    "        print()\n",
    "        # 为了保证在图灵Key出现问题的时候仍旧可以回复，这里设置一个默认回复\n",
    "        defaultReply = 'I received: ' + msg['Text']\n",
    "######################################################################################\n",
    "#             NLP:    \n",
    "#         print('msg Text    : ', msg['Text'])\n",
    "#         print('msg Content : ', msg['Content'])\n",
    "#=====================================================================================\n",
    "        text4nlp = re.sub(NickName4RegEx, '', msg['Text'])\n",
    "        # call NLP API:\n",
    "        nlp_responses = KudosData_nlp(text4nlp\n",
    "                            , parm_nlp_extractDocumentSentiment\n",
    "                            , parm_nlp_extractEntities\n",
    "                            , parm_nlp_extractEntitySentiment\n",
    "                            , parm_nlp_extractSyntax)\n",
    "        # Format NLP results:\n",
    "        nlp_reply = KudosData_nlp_generate_reply(nlp_responses)\n",
    "        print(u'@%s\\u2005\\n%s' % (msg['ActualNickName'], nlp_reply))\n",
    "        itchat.send(u'@%s\\u2005\\n%s' % (msg['ActualNickName'], nlp_reply), msg['FromUserName'])\n",
    "######################################################################################\n",
    "\n",
    "######################################################################################\n",
    "#             消息文字的多语言互译 (Text based language translation)\n",
    "#=====================================================================================\n",
    "        text4translation = re.sub(NickName4RegEx, '', msg['Text'])\n",
    "        parm_translation_origin_language = 'zh'\n",
    "        parm_translation_target_language = 'en'\n",
    "        translated_text_reply = KudosData_TEXT_TRANSLATION(text4translation, \n",
    "                                                           parm_translation_origin_language, parm_translation_target_language)\n",
    "        print(u'@%s\\u2005\\n%s' % (msg['ActualNickName'], translated_text_reply))\n",
    "        itchat.send(u'@%s\\u2005\\n%s' % (msg['ActualNickName'], translated_text_reply), msg['FromUserName'])\n",
    "######################################################################################\n",
    "\n",
    "        # 如果图灵Key出现问题，那么reply将会是None\n",
    "        reply = get_response(msg['Text'])        \n",
    "        # a or b的意思是，如果a有内容，那么返回a，否则返回b\n",
    "        # 有内容一般就是指非空或者非None，你可以用`if a: print('True')`来测试\n",
    "        # return reply or defaultReply\n",
    "        if (reply != ''):\n",
    "            print(u'@%s\\u2005\\n[ Turing ]\\n%s' % (msg['ActualNickName'], reply))\n",
    "            itchat.send(u'@%s\\u2005\\n[ Turing ]\\n%s' % (msg['ActualNickName'], reply), msg['FromUserName'])\n",
    "######################################################################################\n",
    "#             text to voice:    \n",
    "#=====================================================================================\n",
    "#             text2voiceMP3name = KudosData_text_to_voice(reply)\n",
    "#             itchat.send('@%s@%s' % ('fil', text2voiceMP3name), msg['FromUserName'])\n",
    "######################################################################################\n",
    "\n",
    "        else:\n",
    "#             print(u'@%s\\u2005%s' % (msg['ActualNickName'], defaultReply))\n",
    "            itchat.send(u'@%s\\u2005%s' % (msg['ActualNickName'], defaultReply), msg['FromUserName'])\n",
    "\n",
    "    \n",
    "@itchat.msg_register(FRIENDS)\n",
    "def add_friend(msg):\n",
    "    itchat.add_friend(**msg['Text']) # 该操作会自动将新好友的消息录入，不需要重载通讯录\n",
    "    itchat.send_msg('Nice to meet you!', msg['RecommendInfo']['UserName'])\n",
    "\n"
   ]
  },
  {
   "cell_type": "code",
   "execution_count": null,
   "metadata": {
    "scrolled": false
   },
   "outputs": [
    {
     "name": "stderr",
     "output_type": "stream",
     "text": [
      "Start auto replying.\n"
     ]
    },
    {
     "name": "stdout",
     "output_type": "stream",
     "text": [
      "\n",
      "\n",
      "Downloaded audio file name is: 170605-142103.mp3\n",
      "Converted  audio file for API: 170605-142103.mp3.flac\n",
      "Compeleted: Speech recognition API ( Voice -> Text )\n",
      "I heard: [ Voice to Text ] \n",
      "今天天气好吗\n",
      "... Turing Reply ...\n",
      "@白黑 \n",
      "[ Turing ]\n",
      "情况是酱紫的...晴转多云，最低气温4℃，最高气温18℃。东北风3级，发型吹不乱，耶！\n",
      "Compeleted: Speech synthesis API ( Text -> Voice)\n",
      "情况是酱紫的...晴转多云，最低气温4℃，最高气温18℃。东北风3级，发型吹不乱，耶！\n"
     ]
    }
   ],
   "source": [
    "itchat.run()"
   ]
  },
  {
   "cell_type": "code",
   "execution_count": null,
   "metadata": {},
   "outputs": [],
   "source": [
    "# interupt kernel, then logout\n",
    "itchat.logout() # 安全退出"
   ]
  },
  {
   "cell_type": "markdown",
   "metadata": {},
   "source": [
    "### 恭喜您！"
   ]
  },
  {
   "cell_type": "markdown",
   "metadata": {},
   "source": [
    "<img src='http://www.kudosdata.com/wp-content/uploads/2016/11/cropped-KudosLogo1.png' width=30% style=\"float: right;\">\n",
    "<img src='reference/WeChat_SamGu_QR.png' width=10% style=\"float: left;\">\n",
    "\n"
   ]
  },
  {
   "cell_type": "code",
   "execution_count": null,
   "metadata": {
    "collapsed": true
   },
   "outputs": [],
   "source": [
    "'''\n",
    "# 1. 消息文字转成语音 (Speech synthesis: text to voice)\n",
    "\n",
    "# 在群里，如果收到 @ 自己的文字信息，会自动将文字转换成语音，再以 mp3 文件方式发送回复：\n",
    "@itchat.msg_register(TEXT, isGroupChat=True)\n",
    "def text_to_voice_reply(msg):\n",
    "    if msg['isAt']:\n",
    "        # Remove my own Nick Name from message:\n",
    "        text2voice = re.sub(NickName4RegEx, '', msg['Content'])\n",
    "        text2voiceMP3name = KudosData_text_to_voice(text2voice)\n",
    "        itchat.send('@%s@%s' % ('fil', text2voiceMP3name), msg['FromUserName'])\n",
    "'''"
   ]
  },
  {
   "cell_type": "code",
   "execution_count": null,
   "metadata": {
    "collapsed": true
   },
   "outputs": [],
   "source": [
    "'''\n",
    "# 2. 语音转换成消息文字 (Speech recognition: voice to text)\n",
    "\n",
    "@itchat.msg_register([RECORDING], isGroupChat=True)\n",
    "@itchat.msg_register([RECORDING])\n",
    "def download_files(msg):\n",
    "    parm_translation_origin_language = 'zh' # will be overwriten by TEXT_DETECTION\n",
    "    msg.download(msg.fileName)\n",
    "    print('\\nDownloaded audio file name is: %s' % msg['FileName'])\n",
    "    \n",
    "    ##############################################################################################################\n",
    "    #                                          call audio analysis APIs                                          #\n",
    "    ##############################################################################################################\n",
    "    \n",
    "    audio_analysis_reply = u'[ Audio Analysis 音频处理结果 ]\\n'\n",
    "\n",
    "    # Voice to Text:\n",
    "    audio_analysis_reply += u'\\n[ Voice -> Text 语音识别 ]\\n'\n",
    "    response = KudosData_voice_to_text(msg['FileName'], 'flac')\n",
    "#     response = KudosData_voice_to_text(msg['FileName'], 'wav')\n",
    "    if response != {}:\n",
    "        print (response['results'][0]['alternatives'][0]['transcript'])\n",
    "        print ('( confidence %f )' % response['results'][0]['alternatives'][0]['confidence'])\n",
    "        audio_analysis_reply += response['results'][0]['alternatives'][0]['transcript'] + '\\n'\n",
    "        audio_analysis_reply += '( confidence ' + str(response['results'][0]['alternatives'][0]['confidence']) + ' )\\n'\n",
    "        # Translate recognised text to another language:\n",
    "        parm_translation_origin_language = 'zh'\n",
    "        parm_translation_target_language = 'en'\n",
    "        translated_text_reply = KudosData_TEXT_TRANSLATION(response['results'][0]['alternatives'][0]['transcript'], \n",
    "                                                           parm_translation_origin_language, parm_translation_target_language)\n",
    "        print(translated_text_reply)\n",
    "        audio_analysis_reply += translated_text_reply\n",
    "    \n",
    "    return audio_analysis_reply\n",
    "'''"
   ]
  },
  {
   "cell_type": "code",
   "execution_count": null,
   "metadata": {
    "collapsed": true
   },
   "outputs": [],
   "source": [
    "'''\n",
    "# 3. 消息文字的多语言互译 (Text based language translation)\n",
    "\n",
    "# 在群里，如果收到 @ 自己的文字信息，会自动进行文字翻译，再发送回复：\n",
    "@itchat.msg_register(TEXT, isGroupChat=True)\n",
    "def text_to_translation_reply(msg):\n",
    "    if msg['isAt']:\n",
    "        text4translation = re.sub(NickName4RegEx, '', msg['Content'])\n",
    "        parm_translation_origin_language = 'zh'\n",
    "        parm_translation_target_language = 'en'\n",
    "        translated_text_reply = KudosData_TEXT_TRANSLATION(text4translation, \n",
    "                                                           parm_translation_origin_language, parm_translation_target_language)\n",
    "        print(translated_text_reply)\n",
    "        return translated_text_reply\n",
    "'''"
   ]
  },
  {
   "cell_type": "code",
   "execution_count": null,
   "metadata": {
    "collapsed": true
   },
   "outputs": [],
   "source": [
    "'''\n",
    "# Combined: \n",
    "# * 消息文字转成语音 (Speech synthesis: text to voice)\n",
    "# * 消息文字的多语言互译 (Text based language translation)\n",
    "\n",
    "@itchat.msg_register(TEXT, isGroupChat=True)\n",
    "def text_reply(msg):\n",
    "    if msg['isAt']:\n",
    "        # 1. 消息文字转成语音 (Speech synthesis: text to voice)\n",
    "        text2voice = re.sub(NickName4RegEx, '', msg['Content']) # Remove my own Nick Name from message\n",
    "        text2voiceMP3name = KudosData_text_to_voice(text2voice)\n",
    "        itchat.send('@%s@%s' % ('fil', text2voiceMP3name), msg['FromUserName'])\n",
    "        # 3. 消息文字的多语言互译 (Text based language translation)\n",
    "        text4translation = re.sub(NickName4RegEx, '', msg['Content'])\n",
    "        parm_translation_origin_language = 'zh'\n",
    "        parm_translation_target_language = 'en'\n",
    "        translated_text_reply = KudosData_TEXT_TRANSLATION(text4translation, \n",
    "                                                           parm_translation_origin_language, parm_translation_target_language)\n",
    "        print(translated_text_reply)\n",
    "        return translated_text_reply\n",
    "'''"
   ]
  }
 ],
 "metadata": {
  "kernelspec": {
   "display_name": "Python 3",
   "language": "python",
   "name": "python3"
  },
  "language_info": {
   "codemirror_mode": {
    "name": "ipython",
    "version": 3
   },
   "file_extension": ".py",
   "mimetype": "text/x-python",
   "name": "python",
   "nbconvert_exporter": "python",
   "pygments_lexer": "ipython3",
   "version": "3.5.1"
  }
 },
 "nbformat": 4,
 "nbformat_minor": 2
}
