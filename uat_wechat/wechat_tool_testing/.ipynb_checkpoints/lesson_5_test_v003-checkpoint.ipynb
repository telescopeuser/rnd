{
 "cells": [
  {
   "cell_type": "code",
   "execution_count": 1,
   "metadata": {
    "collapsed": false
   },
   "outputs": [
    {
     "data": {
      "text/html": [
       "\n",
       "        <iframe\n",
       "            width=\"400\"\n",
       "            height=\"300\"\n",
       "            src=\"https://www.youtube.com/embed/FPgo-hI7OiE\"\n",
       "            frameborder=\"0\"\n",
       "            allowfullscreen\n",
       "        ></iframe>\n",
       "        "
      ],
      "text/plain": [
       "<IPython.lib.display.YouTubeVideo at 0x7f1c382b82d0>"
      ]
     },
     "execution_count": 1,
     "metadata": {},
     "output_type": "execute_result"
    }
   ],
   "source": [
    "from IPython.display import YouTubeVideo\n",
    "YouTubeVideo('FPgo-hI7OiE')"
   ]
  },
  {
   "cell_type": "markdown",
   "metadata": {},
   "source": [
    "# 如何使用和开发微信聊天机器人的系列教程\n",
    "# A workshop to develop & use an intelligent and interactive chat-bot in WeChat"
   ]
  },
  {
   "cell_type": "markdown",
   "metadata": {},
   "source": [
    "### WeChat is a popular social media app, which has more than 800 million monthly active users.\n",
    "\n",
    "<img src='http://www.kudosdata.com/wp-content/uploads/2016/11/cropped-KudosLogo1.png' width=30% style=\"float: right;\">\n",
    "<img src='reference/WeChat_SamGu_QR.png' width=10% style=\"float: right;\">\n",
    "\n",
    "### http://www.KudosData.com\n",
    "\n",
    "by: Sam.Gu@KudosData.com\n",
    "\n",
    "\n",
    "May 2017 ========== Scan the QR code to become trainer's friend in WeChat ========>>"
   ]
  },
  {
   "cell_type": "markdown",
   "metadata": {},
   "source": [
    "### 第五课：视频识别和处理\n",
    "### Lesson 5: Video Recognition & Processing\n",
    "* 识别视频消息中的物体名字 (Recognize objects in video)\n",
    "* 识别视频的场景 (Detect scenery in video)\n",
    "* 直接搜索视频内容 (Search content in video)"
   ]
  },
  {
   "cell_type": "markdown",
   "metadata": {},
   "source": [
    "### Using Google Cloud Platform's Machine Learning APIs"
   ]
  },
  {
   "cell_type": "markdown",
   "metadata": {},
   "source": [
    "From the same API console, choose \"Dashboard\" on the left-hand menu and \"Enable API\".\n",
    "\n",
    "Enable the following APIs for your project (search for them) if they are not already enabled:\n",
    "<ol>\n",
    "<li> Google Cloud Vision API </li>\n",
    "<li> Google Cloud Speech API </li>\n",
    "<li> Google Cloud Translate API </li>\n",
    "<li> Google Cloud Natural Language API </li>\n",
    "<li> Google Cloud Video API </li>\n",
    "</ol>\n",
    "\n",
    "Finally, because we are calling the APIs from Python (clients in many other languages are available), let's install the Python package (it's not installed by default on Datalab)"
   ]
  },
  {
   "cell_type": "code",
   "execution_count": 2,
   "metadata": {
    "collapsed": false,
    "scrolled": false
   },
   "outputs": [],
   "source": [
    "# Copyright 2016 Google Inc.\n",
    "# Licensed under the Apache License, Version 2.0 (the \"License\"); \n",
    "# !pip install --upgrade google\n",
    "# !pip install --upgrade google-api-python-client\n",
    "# !pip install --upgrade google.appengine"
   ]
  },
  {
   "cell_type": "markdown",
   "metadata": {},
   "source": [
    "### 导入需要用到的一些功能程序库："
   ]
  },
  {
   "cell_type": "code",
   "execution_count": 3,
   "metadata": {
    "collapsed": false
   },
   "outputs": [
    {
     "name": "stdout",
     "output_type": "stream",
     "text": [
      "█\r"
     ]
    }
   ],
   "source": [
    "import io, os, subprocess, sys, time, datetime, requests, itchat\n",
    "from itchat.content import *\n",
    "from googleapiclient.discovery import build"
   ]
  },
  {
   "cell_type": "code",
   "execution_count": 4,
   "metadata": {
    "collapsed": false
   },
   "outputs": [],
   "source": [
    "import json, numpy as np\n",
    "# Python 2\n",
    "if sys.version_info[0] < 3:\n",
    "    import urllib2\n",
    "# Python 3\n",
    "else:\n",
    "    import urllib.request"
   ]
  },
  {
   "cell_type": "markdown",
   "metadata": {
    "collapsed": true
   },
   "source": [
    "### Using Google Cloud Platform's Machine Learning APIs\n",
    "\n",
    "First, visit <a href=\"http://console.cloud.google.com/apis\">API console</a>, choose \"Credentials\" on the left-hand menu.  Choose \"Create Credentials\" and generate an API key for your application. You should probably restrict it by IP address to prevent abuse, but for now, just  leave that field blank and delete the API key after trying out this demo.\n",
    "\n",
    "Copy-paste your API Key here:"
   ]
  },
  {
   "cell_type": "code",
   "execution_count": 5,
   "metadata": {
    "collapsed": false
   },
   "outputs": [],
   "source": [
    "# Here I read in my own API_KEY from a file, which is not shared in Github repository:\n",
    "with io.open('../../../API_KEY.txt') as fp: \n",
    "    for line in fp: APIKEY = line\n",
    "\n",
    "# You need to un-comment below line and replace 'APIKEY' variable with your own GCP API key:\n",
    "# APIKEY='AIzaSyCvxxxxxxxxxxxxxxxxxxxxxxxxxxxxxxxx'"
   ]
  },
  {
   "cell_type": "code",
   "execution_count": 6,
   "metadata": {
    "collapsed": false
   },
   "outputs": [],
   "source": [
    "# Below is for GCP Video API\n",
    "# video_service = build('videointelligence', 'v1', developerKey=APIKEY)\n",
    "video_service = build('videointelligence', 'v1beta1', developerKey=APIKEY)\n",
    "# check video processing progress\n",
    "video_operation_service = build('videointelligence', 'v1', developerKey=APIKEY)"
   ]
  },
  {
   "cell_type": "code",
   "execution_count": null,
   "metadata": {
    "collapsed": false
   },
   "outputs": [],
   "source": []
  },
  {
   "cell_type": "markdown",
   "metadata": {},
   "source": [
    "### 图片二进制base64码转换 (Define image pre-processing functions)"
   ]
  },
  {
   "cell_type": "code",
   "execution_count": 7,
   "metadata": {
    "collapsed": true
   },
   "outputs": [],
   "source": [
    "# Import the base64 encoding library.\n",
    "import base64\n",
    "# Pass the media data to an encoding function.\n",
    "def encode_media(media_file):\n",
    "    with io.open(media_file, \"rb\") as media_file:\n",
    "        media_content = media_file.read()\n",
    "# Python 2\n",
    "    if sys.version_info[0] < 3:\n",
    "        return base64.b64encode(media_content)\n",
    "# Python 3\n",
    "    else:\n",
    "        return base64.b64encode(media_content).decode('utf-8')\n"
   ]
  },
  {
   "cell_type": "markdown",
   "metadata": {},
   "source": [
    "### 机器智能API接口控制参数 (Define control parameters for API)"
   ]
  },
  {
   "cell_type": "code",
   "execution_count": 8,
   "metadata": {
    "collapsed": true
   },
   "outputs": [],
   "source": [
    "# API control parameter for 视频识别和处理 Video Recognition & Processing\n",
    "parm_video_api_features = ['LABEL_DETECTION', 'SHOT_CHANGE_DETECTION']\n",
    "# parm_video_api_features = ['LABEL_DETECTION']\n",
    "# parm_video_api_features = ['SHOT_CHANGE_DETECTION']"
   ]
  },
  {
   "cell_type": "markdown",
   "metadata": {},
   "source": [
    "# WIP 1"
   ]
  },
  {
   "cell_type": "code",
   "execution_count": 9,
   "metadata": {
    "collapsed": false
   },
   "outputs": [],
   "source": [
    "# Running Video API\n",
    "def KudosData_VIDEO_DETECTION(video_base64):\n",
    "##########################################################################################\n",
    "# 1. Send request for video processing\n",
    "##########################################################################################\n",
    "    request1 = video_service.videos().annotate(body={\n",
    "#               \"inputUri\": string,\n",
    "              \"inputContent\": video_base64,\n",
    "              \"features\": parm_video_api_features, # 'LABEL_DETECTION' & 'SHOT_CHANGE_DETECTION'\n",
    "        })\n",
    "    responses1 = request1.execute(num_retries=3)\n",
    "    \n",
    "    if 'name' in responses1: \n",
    "        print ('---------------------------------------')\n",
    "        print ('Internal video name assinged by Google: %s' % responses1['name'])\n",
    "##########################################################################################\n",
    "# 2. Check progress till completion (Video requires asynchronous long processing...)\n",
    "##########################################################################################\n",
    "        responses2 = KudosData_VIDEO_DETECTION_CHECK_PROCRESS(responses1['name'], APIKEY)\n",
    "    else:\n",
    "        print ('[ERROR] Calling Video API request failed. Please re-try.')\n",
    "\n",
    "##########################################################################################\n",
    "# 3. Format results nicely\n",
    "##########################################################################################\n",
    "    responses3 = responses2\n",
    "    \n",
    "#     video_analysis_reply = u'\\n[ Video Analysis 视频分析结果 ]'\n",
    "\n",
    "#     video_analysis_reply += u'\\n\\n[ 视频分析 物体识别 ]\\n'   \n",
    "    \n",
    "#     video_analysis_reply += u'\\n\\n[ 视频分析 物体识别 ]\\n'\n",
    "    \n",
    "    return responses3"
   ]
  },
  {
   "cell_type": "code",
   "execution_count": 10,
   "metadata": {
    "collapsed": false
   },
   "outputs": [],
   "source": [
    "# Keep checking progress of Video API processing, till full completion.\n",
    "def KudosData_VIDEO_DETECTION_CHECK_PROCRESS(name, apikey):\n",
    "    flag_completion = False\n",
    "    operation_url = 'https://videointelligence.googleapis.com/v1/operations/' + name + '?key=' + apikey\n",
    "#     print('operation_url : ', operation_url)\n",
    "    while not flag_completion:\n",
    "#         print('... time.sleep')\n",
    "        # Python 2\n",
    "        if sys.version_info[0] < 3:\n",
    "            response_operation = json.loads(urllib2.urlopen(operation_url).read())\n",
    "        # Python 3\n",
    "        else:\n",
    "            response_operation = json.loads(urllib.request.urlopen(operation_url).read())\n",
    "        \n",
    "        # define an array, containing 'progress %' of each Video API\n",
    "        video_api_progress_pct = np.zeros(shape=(1, len(response_operation['metadata']['annotationProgress'])))\n",
    "#         print('... length : %d' % len(response_operation['metadata']['annotationProgress']))\n",
    "        for i in range(len(response_operation['metadata']['annotationProgress'])):\n",
    "            if 'progressPercent' in response_operation['metadata']['annotationProgress'][i]:\n",
    "                video_api_progress_pct[0][i] = response_operation['metadata']['annotationProgress'][i]['progressPercent']\n",
    "#                 print ('>>> Video API {} Progress : {} %'.format(i+1, video_api_progress_pct[0][i]))\n",
    "        print ('--- Video API Overall Progress : {} %'.format(np.mean(video_api_progress_pct[0])))\n",
    "        if min(video_api_progress_pct[0]) == 100: flag_completion = True\n",
    "        time.sleep(1)\n",
    "\n",
    "    return response_operation"
   ]
  },
  {
   "cell_type": "code",
   "execution_count": 11,
   "metadata": {
    "collapsed": false,
    "scrolled": false
   },
   "outputs": [],
   "source": [
    "# responses2 = KudosData_VIDEO_DETECTION_CHECK_PROCRESS('asia-east1.8208096652960631431', APIKEY)\n",
    "# 3. Format results nicely\n",
    "# responses2"
   ]
  },
  {
   "cell_type": "code",
   "execution_count": 12,
   "metadata": {
    "collapsed": true
   },
   "outputs": [],
   "source": [
    "# video_file = 'reference/SampleVideo_360x240_1mb.mp4'\n",
    "video_file = 'reference/SampleVideo_360x240_2mb.mp4'"
   ]
  },
  {
   "cell_type": "code",
   "execution_count": 13,
   "metadata": {
    "collapsed": false,
    "scrolled": false
   },
   "outputs": [
    {
     "name": "stdout",
     "output_type": "stream",
     "text": [
      "---------------------------------------\n",
      "Internal video name assinged by Google: asia-east1.109353954956704023\n",
      "--- Video API Overall Progress : 0.0 %\n",
      "--- Video API Overall Progress : 0.0 %\n",
      "--- Video API Overall Progress : 50.0 %\n",
      "--- Video API Overall Progress : 50.0 %\n",
      "--- Video API Overall Progress : 50.0 %\n",
      "--- Video API Overall Progress : 100.0 %\n"
     ]
    }
   ],
   "source": [
    "video_response = KudosData_VIDEO_DETECTION(encode_media(video_file))"
   ]
  },
  {
   "cell_type": "code",
   "execution_count": null,
   "metadata": {
    "collapsed": false,
    "scrolled": true
   },
   "outputs": [],
   "source": [
    "# video_response"
   ]
  },
  {
   "cell_type": "code",
   "execution_count": 14,
   "metadata": {
    "collapsed": false,
    "scrolled": false
   },
   "outputs": [
    {
     "data": {
      "text/plain": [
       "u'asia-east1.109353954956704023'"
      ]
     },
     "execution_count": 14,
     "metadata": {},
     "output_type": "execute_result"
    }
   ],
   "source": [
    "video_response['name']"
   ]
  },
  {
   "cell_type": "code",
   "execution_count": 15,
   "metadata": {
    "collapsed": false,
    "scrolled": false
   },
   "outputs": [
    {
     "data": {
      "text/plain": [
       "True"
      ]
     },
     "execution_count": 15,
     "metadata": {},
     "output_type": "execute_result"
    }
   ],
   "source": [
    "video_response['done']"
   ]
  },
  {
   "cell_type": "code",
   "execution_count": 16,
   "metadata": {
    "collapsed": false
   },
   "outputs": [
    {
     "data": {
      "text/plain": [
       "{u'@type': u'type.googleapis.com/google.cloud.videointelligence.v1beta1.AnnotateVideoProgress',\n",
       " u'annotationProgress': [{u'progressPercent': 100,\n",
       "   u'startTime': u'2017-06-05T08:24:59.269719Z',\n",
       "   u'updateTime': u'2017-06-05T08:25:11.652105Z'},\n",
       "  {u'progressPercent': 100,\n",
       "   u'startTime': u'2017-06-05T08:24:59.269719Z',\n",
       "   u'updateTime': u'2017-06-05T08:25:02.484499Z'}]}"
      ]
     },
     "execution_count": 16,
     "metadata": {},
     "output_type": "execute_result"
    }
   ],
   "source": [
    "video_response['metadata']"
   ]
  },
  {
   "cell_type": "code",
   "execution_count": 17,
   "metadata": {
    "collapsed": false,
    "scrolled": true
   },
   "outputs": [
    {
     "data": {
      "text/plain": [
       "u'type.googleapis.com/google.cloud.videointelligence.v1beta1.AnnotateVideoResponse'"
      ]
     },
     "execution_count": 17,
     "metadata": {},
     "output_type": "execute_result"
    }
   ],
   "source": [
    "# Version of Video API used:\n",
    "video_response['response']['@type']"
   ]
  },
  {
   "cell_type": "code",
   "execution_count": 18,
   "metadata": {
    "collapsed": false,
    "scrolled": true
   },
   "outputs": [
    {
     "data": {
      "text/plain": [
       "{u'labelAnnotations': [{u'description': u'Animal',\n",
       "   u'languageCode': u'en-us',\n",
       "   u'locations': [{u'confidence': 0.8764819,\n",
       "     u'level': u'VIDEO_LEVEL',\n",
       "     u'segment': {u'endTimeOffset': u'-1', u'startTimeOffset': u'-1'}},\n",
       "    {u'confidence': 0.89243287,\n",
       "     u'level': u'SHOT_LEVEL',\n",
       "     u'segment': {u'endTimeOffset': u'8333309'}},\n",
       "    {u'confidence': 0.4363379,\n",
       "     u'level': u'SHOT_LEVEL',\n",
       "     u'segment': {u'endTimeOffset': u'12933314',\n",
       "      u'startTimeOffset': u'8399998'}},\n",
       "    {u'confidence': 0.7916033,\n",
       "     u'level': u'SHOT_LEVEL',\n",
       "     u'segment': {u'endTimeOffset': u'15999984',\n",
       "      u'startTimeOffset': u'13000003'}},\n",
       "    {u'confidence': 0.8764819,\n",
       "     u'level': u'SHOT_LEVEL',\n",
       "     u'segment': {u'endTimeOffset': u'23533281',\n",
       "      u'startTimeOffset': u'21733318'}},\n",
       "    {u'confidence': 0.82209057,\n",
       "     u'level': u'SHOT_LEVEL',\n",
       "     u'segment': {u'endTimeOffset': u'25666689',\n",
       "      u'startTimeOffset': u'23599970'}}]},\n",
       "  {u'description': u'Animation',\n",
       "   u'languageCode': u'en-us',\n",
       "   u'locations': [{u'confidence': 0.6083829,\n",
       "     u'level': u'VIDEO_LEVEL',\n",
       "     u'segment': {u'endTimeOffset': u'-1', u'startTimeOffset': u'-1'}},\n",
       "    {u'confidence': 0.46997398,\n",
       "     u'level': u'SHOT_LEVEL',\n",
       "     u'segment': {u'endTimeOffset': u'8333309'}},\n",
       "    {u'confidence': 0.4699889,\n",
       "     u'level': u'SHOT_LEVEL',\n",
       "     u'segment': {u'endTimeOffset': u'21666629',\n",
       "      u'startTimeOffset': u'16066673'}}]},\n",
       "  {u'description': u'Bud',\n",
       "   u'languageCode': u'en-us',\n",
       "   u'locations': [{u'confidence': 0.45300052,\n",
       "     u'level': u'SHOT_LEVEL',\n",
       "     u'segment': {u'endTimeOffset': u'26733329',\n",
       "      u'startTimeOffset': u'25733378'}}]},\n",
       "  {u'description': u'Flora',\n",
       "   u'languageCode': u'en-us',\n",
       "   u'locations': [{u'confidence': 0.5039781,\n",
       "     u'level': u'SHOT_LEVEL',\n",
       "     u'segment': {u'endTimeOffset': u'21666629',\n",
       "      u'startTimeOffset': u'16066673'}},\n",
       "    {u'confidence': 0.6360244,\n",
       "     u'level': u'SHOT_LEVEL',\n",
       "     u'segment': {u'endTimeOffset': u'26733329',\n",
       "      u'startTimeOffset': u'25733378'}}]},\n",
       "  {u'description': u'Flower',\n",
       "   u'languageCode': u'en-us',\n",
       "   u'locations': [{u'confidence': 0.42432904,\n",
       "     u'level': u'SHOT_LEVEL',\n",
       "     u'segment': {u'endTimeOffset': u'21666629',\n",
       "      u'startTimeOffset': u'16066673'}},\n",
       "    {u'confidence': 0.9318539,\n",
       "     u'level': u'SHOT_LEVEL',\n",
       "     u'segment': {u'endTimeOffset': u'26733329',\n",
       "      u'startTimeOffset': u'25733378'}}]},\n",
       "  {u'description': u'Flowering plant',\n",
       "   u'languageCode': u'en-us',\n",
       "   u'locations': [{u'confidence': 0.89628804,\n",
       "     u'level': u'SHOT_LEVEL',\n",
       "     u'segment': {u'endTimeOffset': u'26733329',\n",
       "      u'startTimeOffset': u'25733378'}}]},\n",
       "  {u'description': u'Giant panda',\n",
       "   u'languageCode': u'en-us',\n",
       "   u'locations': [{u'confidence': 0.49199852,\n",
       "     u'level': u'SHOT_LEVEL',\n",
       "     u'segment': {u'endTimeOffset': u'8333309'}}]},\n",
       "  {u'description': u'Grass',\n",
       "   u'languageCode': u'en-us',\n",
       "   u'locations': [{u'confidence': 0.8094236,\n",
       "     u'level': u'SHOT_LEVEL',\n",
       "     u'segment': {u'endTimeOffset': u'8333309'}},\n",
       "    {u'confidence': 0.86780655,\n",
       "     u'level': u'SHOT_LEVEL',\n",
       "     u'segment': {u'endTimeOffset': u'23533281',\n",
       "      u'startTimeOffset': u'21733318'}}]},\n",
       "  {u'description': u'Grassland',\n",
       "   u'languageCode': u'en-us',\n",
       "   u'locations': [{u'confidence': 0.74383456,\n",
       "     u'level': u'SHOT_LEVEL',\n",
       "     u'segment': {u'endTimeOffset': u'23533281',\n",
       "      u'startTimeOffset': u'21733318'}}]},\n",
       "  {u'description': u'Hare',\n",
       "   u'languageCode': u'en-us',\n",
       "   u'locations': [{u'confidence': 0.8012634,\n",
       "     u'level': u'SHOT_LEVEL',\n",
       "     u'segment': {u'endTimeOffset': u'15999984',\n",
       "      u'startTimeOffset': u'13000003'}}]},\n",
       "  {u'description': u'Leaf',\n",
       "   u'languageCode': u'en-us',\n",
       "   u'locations': [{u'confidence': 0.42222223,\n",
       "     u'level': u'VIDEO_LEVEL',\n",
       "     u'segment': {u'endTimeOffset': u'-1', u'startTimeOffset': u'-1'}},\n",
       "    {u'confidence': 0.55604327,\n",
       "     u'level': u'SHOT_LEVEL',\n",
       "     u'segment': {u'endTimeOffset': u'21666629',\n",
       "      u'startTimeOffset': u'16066673'}},\n",
       "    {u'confidence': 0.42222223,\n",
       "     u'level': u'SHOT_LEVEL',\n",
       "     u'segment': {u'endTimeOffset': u'25666689',\n",
       "      u'startTimeOffset': u'23599970'}},\n",
       "    {u'confidence': 0.58629996,\n",
       "     u'level': u'SHOT_LEVEL',\n",
       "     u'segment': {u'endTimeOffset': u'26733329',\n",
       "      u'startTimeOffset': u'25733378'}}]},\n",
       "  {u'description': u'Meadow',\n",
       "   u'languageCode': u'en-us',\n",
       "   u'locations': [{u'confidence': 0.69068867,\n",
       "     u'level': u'SHOT_LEVEL',\n",
       "     u'segment': {u'endTimeOffset': u'23533281',\n",
       "      u'startTimeOffset': u'21733318'}}]},\n",
       "  {u'description': u'Nature',\n",
       "   u'languageCode': u'en-us',\n",
       "   u'locations': [{u'confidence': 0.8411303,\n",
       "     u'level': u'VIDEO_LEVEL',\n",
       "     u'segment': {u'endTimeOffset': u'-1', u'startTimeOffset': u'-1'}},\n",
       "    {u'confidence': 0.7574668,\n",
       "     u'level': u'SHOT_LEVEL',\n",
       "     u'segment': {u'endTimeOffset': u'8333309'}},\n",
       "    {u'confidence': 0.69435585,\n",
       "     u'level': u'SHOT_LEVEL',\n",
       "     u'segment': {u'endTimeOffset': u'12933314',\n",
       "      u'startTimeOffset': u'8399998'}},\n",
       "    {u'confidence': 0.71424,\n",
       "     u'level': u'SHOT_LEVEL',\n",
       "     u'segment': {u'endTimeOffset': u'21666629',\n",
       "      u'startTimeOffset': u'16066673'}},\n",
       "    {u'confidence': 0.6122984,\n",
       "     u'level': u'SHOT_LEVEL',\n",
       "     u'segment': {u'endTimeOffset': u'23533281',\n",
       "      u'startTimeOffset': u'21733318'}},\n",
       "    {u'confidence': 0.8268328,\n",
       "     u'level': u'SHOT_LEVEL',\n",
       "     u'segment': {u'endTimeOffset': u'25666689',\n",
       "      u'startTimeOffset': u'23599970'}},\n",
       "    {u'confidence': 0.68425864,\n",
       "     u'level': u'SHOT_LEVEL',\n",
       "     u'segment': {u'endTimeOffset': u'26733329',\n",
       "      u'startTimeOffset': u'25733378'}}]},\n",
       "  {u'description': u'Pasture',\n",
       "   u'languageCode': u'en-us',\n",
       "   u'locations': [{u'confidence': 0.6630521,\n",
       "     u'level': u'SHOT_LEVEL',\n",
       "     u'segment': {u'endTimeOffset': u'23533281',\n",
       "      u'startTimeOffset': u'21733318'}}]},\n",
       "  {u'description': u'Petal',\n",
       "   u'languageCode': u'en-us',\n",
       "   u'locations': [{u'confidence': 0.9035862,\n",
       "     u'level': u'SHOT_LEVEL',\n",
       "     u'segment': {u'endTimeOffset': u'26733329',\n",
       "      u'startTimeOffset': u'25733378'}}]},\n",
       "  {u'description': u'Plant',\n",
       "   u'languageCode': u'en-us',\n",
       "   u'locations': [{u'confidence': 0.5643589,\n",
       "     u'level': u'VIDEO_LEVEL',\n",
       "     u'segment': {u'endTimeOffset': u'-1', u'startTimeOffset': u'-1'}},\n",
       "    {u'confidence': 0.6478287,\n",
       "     u'level': u'SHOT_LEVEL',\n",
       "     u'segment': {u'endTimeOffset': u'21666629',\n",
       "      u'startTimeOffset': u'16066673'}},\n",
       "    {u'confidence': 0.9364761,\n",
       "     u'level': u'SHOT_LEVEL',\n",
       "     u'segment': {u'endTimeOffset': u'26733329',\n",
       "      u'startTimeOffset': u'25733378'}}]},\n",
       "  {u'description': u'Plant stem',\n",
       "   u'languageCode': u'en-us',\n",
       "   u'locations': [{u'confidence': 0.82729876,\n",
       "     u'level': u'SHOT_LEVEL',\n",
       "     u'segment': {u'endTimeOffset': u'26733329',\n",
       "      u'startTimeOffset': u'25733378'}}]},\n",
       "  {u'description': u'Rabbit',\n",
       "   u'languageCode': u'en-us',\n",
       "   u'locations': [{u'confidence': 0.9933143,\n",
       "     u'level': u'SHOT_LEVEL',\n",
       "     u'segment': {u'endTimeOffset': u'15999984',\n",
       "      u'startTimeOffset': u'13000003'}}]},\n",
       "  {u'description': u'Rose',\n",
       "   u'languageCode': u'en-us',\n",
       "   u'locations': [{u'confidence': 0.6744893,\n",
       "     u'level': u'SHOT_LEVEL',\n",
       "     u'segment': {u'endTimeOffset': u'26733329',\n",
       "      u'startTimeOffset': u'25733378'}}]},\n",
       "  {u'description': u'Sky',\n",
       "   u'languageCode': u'en-us',\n",
       "   u'locations': [{u'confidence': 0.81967264,\n",
       "     u'level': u'SHOT_LEVEL',\n",
       "     u'segment': {u'endTimeOffset': u'12933314',\n",
       "      u'startTimeOffset': u'8399998'}},\n",
       "    {u'confidence': 0.496,\n",
       "     u'level': u'SHOT_LEVEL',\n",
       "     u'segment': {u'endTimeOffset': u'23533281',\n",
       "      u'startTimeOffset': u'21733318'}}]},\n",
       "  {u'description': u'Sunlight',\n",
       "   u'languageCode': u'en-us',\n",
       "   u'locations': [{u'confidence': 0.47115174,\n",
       "     u'level': u'SHOT_LEVEL',\n",
       "     u'segment': {u'endTimeOffset': u'12933314',\n",
       "      u'startTimeOffset': u'8399998'}},\n",
       "    {u'confidence': 0.43971747,\n",
       "     u'level': u'SHOT_LEVEL',\n",
       "     u'segment': {u'endTimeOffset': u'25666689',\n",
       "      u'startTimeOffset': u'23599970'}}]},\n",
       "  {u'description': u'Tree',\n",
       "   u'languageCode': u'en-us',\n",
       "   u'locations': [{u'confidence': 0.4018298,\n",
       "     u'level': u'VIDEO_LEVEL',\n",
       "     u'segment': {u'endTimeOffset': u'-1', u'startTimeOffset': u'-1'}},\n",
       "    {u'confidence': 0.41225544,\n",
       "     u'level': u'SHOT_LEVEL',\n",
       "     u'segment': {u'endTimeOffset': u'12933314',\n",
       "      u'startTimeOffset': u'8399998'}},\n",
       "    {u'confidence': 0.40448412,\n",
       "     u'level': u'SHOT_LEVEL',\n",
       "     u'segment': {u'endTimeOffset': u'21666629',\n",
       "      u'startTimeOffset': u'16066673'}}]},\n",
       "  {u'description': u'Wildlife',\n",
       "   u'languageCode': u'en-us',\n",
       "   u'locations': [{u'confidence': 0.72101444,\n",
       "     u'level': u'SHOT_LEVEL',\n",
       "     u'segment': {u'endTimeOffset': u'8333309'}}]}],\n",
       " u'shotAnnotations': [{u'endTimeOffset': u'8333309'},\n",
       "  {u'endTimeOffset': u'12933314', u'startTimeOffset': u'8399998'},\n",
       "  {u'endTimeOffset': u'15999984', u'startTimeOffset': u'13000003'},\n",
       "  {u'endTimeOffset': u'21666629', u'startTimeOffset': u'16066673'},\n",
       "  {u'endTimeOffset': u'23533281', u'startTimeOffset': u'21733318'},\n",
       "  {u'endTimeOffset': u'25666689', u'startTimeOffset': u'23599970'},\n",
       "  {u'endTimeOffset': u'26733329', u'startTimeOffset': u'25733378'}]}"
      ]
     },
     "execution_count": 18,
     "metadata": {},
     "output_type": "execute_result"
    }
   ],
   "source": [
    "video_response['response']['annotationResults'][0]"
   ]
  },
  {
   "cell_type": "code",
   "execution_count": 21,
   "metadata": {
    "collapsed": false,
    "scrolled": true
   },
   "outputs": [
    {
     "data": {
      "text/plain": [
       "23"
      ]
     },
     "execution_count": 21,
     "metadata": {},
     "output_type": "execute_result"
    }
   ],
   "source": [
    "len(video_response['response']['annotationResults'][0]['labelAnnotations'])"
   ]
  },
  {
   "cell_type": "code",
   "execution_count": 31,
   "metadata": {
    "collapsed": false
   },
   "outputs": [
    {
     "data": {
      "text/plain": [
       "[{u'confidence': 0.8764819,\n",
       "  u'level': u'VIDEO_LEVEL',\n",
       "  u'segment': {u'endTimeOffset': u'-1', u'startTimeOffset': u'-1'}},\n",
       " {u'confidence': 0.89243287,\n",
       "  u'level': u'SHOT_LEVEL',\n",
       "  u'segment': {u'endTimeOffset': u'8333309'}},\n",
       " {u'confidence': 0.4363379,\n",
       "  u'level': u'SHOT_LEVEL',\n",
       "  u'segment': {u'endTimeOffset': u'12933314', u'startTimeOffset': u'8399998'}},\n",
       " {u'confidence': 0.7916033,\n",
       "  u'level': u'SHOT_LEVEL',\n",
       "  u'segment': {u'endTimeOffset': u'15999984',\n",
       "   u'startTimeOffset': u'13000003'}},\n",
       " {u'confidence': 0.8764819,\n",
       "  u'level': u'SHOT_LEVEL',\n",
       "  u'segment': {u'endTimeOffset': u'23533281',\n",
       "   u'startTimeOffset': u'21733318'}},\n",
       " {u'confidence': 0.82209057,\n",
       "  u'level': u'SHOT_LEVEL',\n",
       "  u'segment': {u'endTimeOffset': u'25666689',\n",
       "   u'startTimeOffset': u'23599970'}}]"
      ]
     },
     "execution_count": 31,
     "metadata": {},
     "output_type": "execute_result"
    }
   ],
   "source": [
    "video_response['response']['annotationResults'][0]['labelAnnotations'][0]['locations']"
   ]
  },
  {
   "cell_type": "code",
   "execution_count": 32,
   "metadata": {
    "collapsed": false,
    "scrolled": false
   },
   "outputs": [
    {
     "name": "stdout",
     "output_type": "stream",
     "text": [
      "Animal\n",
      "Animation\n",
      "Bud\n",
      "Flora\n",
      "Flower\n",
      "Flowering plant\n",
      "Giant panda\n",
      "Grass\n",
      "Grassland\n",
      "Hare\n",
      "Leaf\n",
      "Meadow\n",
      "Nature\n",
      "Pasture\n",
      "Petal\n",
      "Plant\n",
      "Plant stem\n",
      "Rabbit\n",
      "Rose\n",
      "Sky\n",
      "Sunlight\n",
      "Tree\n",
      "Wildlife\n"
     ]
    }
   ],
   "source": [
    "for i in range(len(video_response['response']['annotationResults'][0]['labelAnnotations'])):\n",
    "    print('{}'.format(\n",
    "              video_response['response']['annotationResults'][0]['labelAnnotations'][i]['description']\n",
    "#             , video_response['response']['annotationResults'][0]['labelAnnotations'][i]['locations']\n",
    "        ))"
   ]
  },
  {
   "cell_type": "code",
   "execution_count": 19,
   "metadata": {
    "collapsed": false,
    "scrolled": false
   },
   "outputs": [
    {
     "data": {
      "text/plain": [
       "[{u'description': u'Animal',\n",
       "  u'languageCode': u'en-us',\n",
       "  u'locations': [{u'confidence': 0.8764819,\n",
       "    u'level': u'VIDEO_LEVEL',\n",
       "    u'segment': {u'endTimeOffset': u'-1', u'startTimeOffset': u'-1'}},\n",
       "   {u'confidence': 0.89243287,\n",
       "    u'level': u'SHOT_LEVEL',\n",
       "    u'segment': {u'endTimeOffset': u'8333309'}},\n",
       "   {u'confidence': 0.4363379,\n",
       "    u'level': u'SHOT_LEVEL',\n",
       "    u'segment': {u'endTimeOffset': u'12933314',\n",
       "     u'startTimeOffset': u'8399998'}},\n",
       "   {u'confidence': 0.7916033,\n",
       "    u'level': u'SHOT_LEVEL',\n",
       "    u'segment': {u'endTimeOffset': u'15999984',\n",
       "     u'startTimeOffset': u'13000003'}},\n",
       "   {u'confidence': 0.8764819,\n",
       "    u'level': u'SHOT_LEVEL',\n",
       "    u'segment': {u'endTimeOffset': u'23533281',\n",
       "     u'startTimeOffset': u'21733318'}},\n",
       "   {u'confidence': 0.82209057,\n",
       "    u'level': u'SHOT_LEVEL',\n",
       "    u'segment': {u'endTimeOffset': u'25666689',\n",
       "     u'startTimeOffset': u'23599970'}}]},\n",
       " {u'description': u'Animation',\n",
       "  u'languageCode': u'en-us',\n",
       "  u'locations': [{u'confidence': 0.6083829,\n",
       "    u'level': u'VIDEO_LEVEL',\n",
       "    u'segment': {u'endTimeOffset': u'-1', u'startTimeOffset': u'-1'}},\n",
       "   {u'confidence': 0.46997398,\n",
       "    u'level': u'SHOT_LEVEL',\n",
       "    u'segment': {u'endTimeOffset': u'8333309'}},\n",
       "   {u'confidence': 0.4699889,\n",
       "    u'level': u'SHOT_LEVEL',\n",
       "    u'segment': {u'endTimeOffset': u'21666629',\n",
       "     u'startTimeOffset': u'16066673'}}]},\n",
       " {u'description': u'Bud',\n",
       "  u'languageCode': u'en-us',\n",
       "  u'locations': [{u'confidence': 0.45300052,\n",
       "    u'level': u'SHOT_LEVEL',\n",
       "    u'segment': {u'endTimeOffset': u'26733329',\n",
       "     u'startTimeOffset': u'25733378'}}]},\n",
       " {u'description': u'Flora',\n",
       "  u'languageCode': u'en-us',\n",
       "  u'locations': [{u'confidence': 0.5039781,\n",
       "    u'level': u'SHOT_LEVEL',\n",
       "    u'segment': {u'endTimeOffset': u'21666629',\n",
       "     u'startTimeOffset': u'16066673'}},\n",
       "   {u'confidence': 0.6360244,\n",
       "    u'level': u'SHOT_LEVEL',\n",
       "    u'segment': {u'endTimeOffset': u'26733329',\n",
       "     u'startTimeOffset': u'25733378'}}]},\n",
       " {u'description': u'Flower',\n",
       "  u'languageCode': u'en-us',\n",
       "  u'locations': [{u'confidence': 0.42432904,\n",
       "    u'level': u'SHOT_LEVEL',\n",
       "    u'segment': {u'endTimeOffset': u'21666629',\n",
       "     u'startTimeOffset': u'16066673'}},\n",
       "   {u'confidence': 0.9318539,\n",
       "    u'level': u'SHOT_LEVEL',\n",
       "    u'segment': {u'endTimeOffset': u'26733329',\n",
       "     u'startTimeOffset': u'25733378'}}]},\n",
       " {u'description': u'Flowering plant',\n",
       "  u'languageCode': u'en-us',\n",
       "  u'locations': [{u'confidence': 0.89628804,\n",
       "    u'level': u'SHOT_LEVEL',\n",
       "    u'segment': {u'endTimeOffset': u'26733329',\n",
       "     u'startTimeOffset': u'25733378'}}]},\n",
       " {u'description': u'Giant panda',\n",
       "  u'languageCode': u'en-us',\n",
       "  u'locations': [{u'confidence': 0.49199852,\n",
       "    u'level': u'SHOT_LEVEL',\n",
       "    u'segment': {u'endTimeOffset': u'8333309'}}]},\n",
       " {u'description': u'Grass',\n",
       "  u'languageCode': u'en-us',\n",
       "  u'locations': [{u'confidence': 0.8094236,\n",
       "    u'level': u'SHOT_LEVEL',\n",
       "    u'segment': {u'endTimeOffset': u'8333309'}},\n",
       "   {u'confidence': 0.86780655,\n",
       "    u'level': u'SHOT_LEVEL',\n",
       "    u'segment': {u'endTimeOffset': u'23533281',\n",
       "     u'startTimeOffset': u'21733318'}}]},\n",
       " {u'description': u'Grassland',\n",
       "  u'languageCode': u'en-us',\n",
       "  u'locations': [{u'confidence': 0.74383456,\n",
       "    u'level': u'SHOT_LEVEL',\n",
       "    u'segment': {u'endTimeOffset': u'23533281',\n",
       "     u'startTimeOffset': u'21733318'}}]},\n",
       " {u'description': u'Hare',\n",
       "  u'languageCode': u'en-us',\n",
       "  u'locations': [{u'confidence': 0.8012634,\n",
       "    u'level': u'SHOT_LEVEL',\n",
       "    u'segment': {u'endTimeOffset': u'15999984',\n",
       "     u'startTimeOffset': u'13000003'}}]},\n",
       " {u'description': u'Leaf',\n",
       "  u'languageCode': u'en-us',\n",
       "  u'locations': [{u'confidence': 0.42222223,\n",
       "    u'level': u'VIDEO_LEVEL',\n",
       "    u'segment': {u'endTimeOffset': u'-1', u'startTimeOffset': u'-1'}},\n",
       "   {u'confidence': 0.55604327,\n",
       "    u'level': u'SHOT_LEVEL',\n",
       "    u'segment': {u'endTimeOffset': u'21666629',\n",
       "     u'startTimeOffset': u'16066673'}},\n",
       "   {u'confidence': 0.42222223,\n",
       "    u'level': u'SHOT_LEVEL',\n",
       "    u'segment': {u'endTimeOffset': u'25666689',\n",
       "     u'startTimeOffset': u'23599970'}},\n",
       "   {u'confidence': 0.58629996,\n",
       "    u'level': u'SHOT_LEVEL',\n",
       "    u'segment': {u'endTimeOffset': u'26733329',\n",
       "     u'startTimeOffset': u'25733378'}}]},\n",
       " {u'description': u'Meadow',\n",
       "  u'languageCode': u'en-us',\n",
       "  u'locations': [{u'confidence': 0.69068867,\n",
       "    u'level': u'SHOT_LEVEL',\n",
       "    u'segment': {u'endTimeOffset': u'23533281',\n",
       "     u'startTimeOffset': u'21733318'}}]},\n",
       " {u'description': u'Nature',\n",
       "  u'languageCode': u'en-us',\n",
       "  u'locations': [{u'confidence': 0.8411303,\n",
       "    u'level': u'VIDEO_LEVEL',\n",
       "    u'segment': {u'endTimeOffset': u'-1', u'startTimeOffset': u'-1'}},\n",
       "   {u'confidence': 0.7574668,\n",
       "    u'level': u'SHOT_LEVEL',\n",
       "    u'segment': {u'endTimeOffset': u'8333309'}},\n",
       "   {u'confidence': 0.69435585,\n",
       "    u'level': u'SHOT_LEVEL',\n",
       "    u'segment': {u'endTimeOffset': u'12933314',\n",
       "     u'startTimeOffset': u'8399998'}},\n",
       "   {u'confidence': 0.71424,\n",
       "    u'level': u'SHOT_LEVEL',\n",
       "    u'segment': {u'endTimeOffset': u'21666629',\n",
       "     u'startTimeOffset': u'16066673'}},\n",
       "   {u'confidence': 0.6122984,\n",
       "    u'level': u'SHOT_LEVEL',\n",
       "    u'segment': {u'endTimeOffset': u'23533281',\n",
       "     u'startTimeOffset': u'21733318'}},\n",
       "   {u'confidence': 0.8268328,\n",
       "    u'level': u'SHOT_LEVEL',\n",
       "    u'segment': {u'endTimeOffset': u'25666689',\n",
       "     u'startTimeOffset': u'23599970'}},\n",
       "   {u'confidence': 0.68425864,\n",
       "    u'level': u'SHOT_LEVEL',\n",
       "    u'segment': {u'endTimeOffset': u'26733329',\n",
       "     u'startTimeOffset': u'25733378'}}]},\n",
       " {u'description': u'Pasture',\n",
       "  u'languageCode': u'en-us',\n",
       "  u'locations': [{u'confidence': 0.6630521,\n",
       "    u'level': u'SHOT_LEVEL',\n",
       "    u'segment': {u'endTimeOffset': u'23533281',\n",
       "     u'startTimeOffset': u'21733318'}}]},\n",
       " {u'description': u'Petal',\n",
       "  u'languageCode': u'en-us',\n",
       "  u'locations': [{u'confidence': 0.9035862,\n",
       "    u'level': u'SHOT_LEVEL',\n",
       "    u'segment': {u'endTimeOffset': u'26733329',\n",
       "     u'startTimeOffset': u'25733378'}}]},\n",
       " {u'description': u'Plant',\n",
       "  u'languageCode': u'en-us',\n",
       "  u'locations': [{u'confidence': 0.5643589,\n",
       "    u'level': u'VIDEO_LEVEL',\n",
       "    u'segment': {u'endTimeOffset': u'-1', u'startTimeOffset': u'-1'}},\n",
       "   {u'confidence': 0.6478287,\n",
       "    u'level': u'SHOT_LEVEL',\n",
       "    u'segment': {u'endTimeOffset': u'21666629',\n",
       "     u'startTimeOffset': u'16066673'}},\n",
       "   {u'confidence': 0.9364761,\n",
       "    u'level': u'SHOT_LEVEL',\n",
       "    u'segment': {u'endTimeOffset': u'26733329',\n",
       "     u'startTimeOffset': u'25733378'}}]},\n",
       " {u'description': u'Plant stem',\n",
       "  u'languageCode': u'en-us',\n",
       "  u'locations': [{u'confidence': 0.82729876,\n",
       "    u'level': u'SHOT_LEVEL',\n",
       "    u'segment': {u'endTimeOffset': u'26733329',\n",
       "     u'startTimeOffset': u'25733378'}}]},\n",
       " {u'description': u'Rabbit',\n",
       "  u'languageCode': u'en-us',\n",
       "  u'locations': [{u'confidence': 0.9933143,\n",
       "    u'level': u'SHOT_LEVEL',\n",
       "    u'segment': {u'endTimeOffset': u'15999984',\n",
       "     u'startTimeOffset': u'13000003'}}]},\n",
       " {u'description': u'Rose',\n",
       "  u'languageCode': u'en-us',\n",
       "  u'locations': [{u'confidence': 0.6744893,\n",
       "    u'level': u'SHOT_LEVEL',\n",
       "    u'segment': {u'endTimeOffset': u'26733329',\n",
       "     u'startTimeOffset': u'25733378'}}]},\n",
       " {u'description': u'Sky',\n",
       "  u'languageCode': u'en-us',\n",
       "  u'locations': [{u'confidence': 0.81967264,\n",
       "    u'level': u'SHOT_LEVEL',\n",
       "    u'segment': {u'endTimeOffset': u'12933314',\n",
       "     u'startTimeOffset': u'8399998'}},\n",
       "   {u'confidence': 0.496,\n",
       "    u'level': u'SHOT_LEVEL',\n",
       "    u'segment': {u'endTimeOffset': u'23533281',\n",
       "     u'startTimeOffset': u'21733318'}}]},\n",
       " {u'description': u'Sunlight',\n",
       "  u'languageCode': u'en-us',\n",
       "  u'locations': [{u'confidence': 0.47115174,\n",
       "    u'level': u'SHOT_LEVEL',\n",
       "    u'segment': {u'endTimeOffset': u'12933314',\n",
       "     u'startTimeOffset': u'8399998'}},\n",
       "   {u'confidence': 0.43971747,\n",
       "    u'level': u'SHOT_LEVEL',\n",
       "    u'segment': {u'endTimeOffset': u'25666689',\n",
       "     u'startTimeOffset': u'23599970'}}]},\n",
       " {u'description': u'Tree',\n",
       "  u'languageCode': u'en-us',\n",
       "  u'locations': [{u'confidence': 0.4018298,\n",
       "    u'level': u'VIDEO_LEVEL',\n",
       "    u'segment': {u'endTimeOffset': u'-1', u'startTimeOffset': u'-1'}},\n",
       "   {u'confidence': 0.41225544,\n",
       "    u'level': u'SHOT_LEVEL',\n",
       "    u'segment': {u'endTimeOffset': u'12933314',\n",
       "     u'startTimeOffset': u'8399998'}},\n",
       "   {u'confidence': 0.40448412,\n",
       "    u'level': u'SHOT_LEVEL',\n",
       "    u'segment': {u'endTimeOffset': u'21666629',\n",
       "     u'startTimeOffset': u'16066673'}}]},\n",
       " {u'description': u'Wildlife',\n",
       "  u'languageCode': u'en-us',\n",
       "  u'locations': [{u'confidence': 0.72101444,\n",
       "    u'level': u'SHOT_LEVEL',\n",
       "    u'segment': {u'endTimeOffset': u'8333309'}}]}]"
      ]
     },
     "execution_count": 19,
     "metadata": {},
     "output_type": "execute_result"
    }
   ],
   "source": [
    "video_response['response']['annotationResults'][0]['labelAnnotations']"
   ]
  },
  {
   "cell_type": "code",
   "execution_count": 20,
   "metadata": {
    "collapsed": false,
    "scrolled": true
   },
   "outputs": [
    {
     "data": {
      "text/plain": [
       "[{u'endTimeOffset': u'8333309'},\n",
       " {u'endTimeOffset': u'12933314', u'startTimeOffset': u'8399998'},\n",
       " {u'endTimeOffset': u'15999984', u'startTimeOffset': u'13000003'},\n",
       " {u'endTimeOffset': u'21666629', u'startTimeOffset': u'16066673'},\n",
       " {u'endTimeOffset': u'23533281', u'startTimeOffset': u'21733318'},\n",
       " {u'endTimeOffset': u'25666689', u'startTimeOffset': u'23599970'},\n",
       " {u'endTimeOffset': u'26733329', u'startTimeOffset': u'25733378'}]"
      ]
     },
     "execution_count": 20,
     "metadata": {},
     "output_type": "execute_result"
    }
   ],
   "source": [
    "video_response['response']['annotationResults'][0]['shotAnnotations']"
   ]
  },
  {
   "cell_type": "code",
   "execution_count": null,
   "metadata": {
    "collapsed": true
   },
   "outputs": [],
   "source": []
  },
  {
   "cell_type": "code",
   "execution_count": null,
   "metadata": {
    "collapsed": true
   },
   "outputs": [],
   "source": [
    "for name, age in list.iteritems():\n",
    "    if age == search_age:\n",
    "        print name"
   ]
  },
  {
   "cell_type": "code",
   "execution_count": null,
   "metadata": {
    "collapsed": true
   },
   "outputs": [],
   "source": [
    "for name, age in list.iteritems():\n",
    "    if age == search_age:\n",
    "        print name"
   ]
  },
  {
   "cell_type": "code",
   "execution_count": null,
   "metadata": {
    "collapsed": true
   },
   "outputs": [],
   "source": []
  },
  {
   "cell_type": "code",
   "execution_count": 35,
   "metadata": {
    "collapsed": true
   },
   "outputs": [],
   "source": [
    "search_label = 'Animal'"
   ]
  },
  {
   "cell_type": "code",
   "execution_count": 36,
   "metadata": {
    "collapsed": false
   },
   "outputs": [
    {
     "name": "stdout",
     "output_type": "stream",
     "text": [
      "[{u'confidence': 0.8764819, u'segment': {u'endTimeOffset': u'-1', u'startTimeOffset': u'-1'}, u'level': u'VIDEO_LEVEL'}, {u'confidence': 0.89243287, u'segment': {u'endTimeOffset': u'8333309'}, u'level': u'SHOT_LEVEL'}, {u'confidence': 0.4363379, u'segment': {u'endTimeOffset': u'12933314', u'startTimeOffset': u'8399998'}, u'level': u'SHOT_LEVEL'}, {u'confidence': 0.7916033, u'segment': {u'endTimeOffset': u'15999984', u'startTimeOffset': u'13000003'}, u'level': u'SHOT_LEVEL'}, {u'confidence': 0.8764819, u'segment': {u'endTimeOffset': u'23533281', u'startTimeOffset': u'21733318'}, u'level': u'SHOT_LEVEL'}, {u'confidence': 0.82209057, u'segment': {u'endTimeOffset': u'25666689', u'startTimeOffset': u'23599970'}, u'level': u'SHOT_LEVEL'}]\n"
     ]
    }
   ],
   "source": [
    "for i in range(len(video_response['response']['annotationResults'][0]['labelAnnotations'])):\n",
    "    if video_response['response']['annotationResults'][0]['labelAnnotations'][i]['description'] == search_label:\n",
    "        print(video_response['response']['annotationResults'][0]['labelAnnotations'][i]['locations'])\n",
    "        "
   ]
  },
  {
   "cell_type": "code",
   "execution_count": 37,
   "metadata": {
    "collapsed": true
   },
   "outputs": [],
   "source": [
    "search_label = 'Rabbit'"
   ]
  },
  {
   "cell_type": "code",
   "execution_count": 38,
   "metadata": {
    "collapsed": false
   },
   "outputs": [
    {
     "name": "stdout",
     "output_type": "stream",
     "text": [
      "[{u'confidence': 0.9933143, u'segment': {u'endTimeOffset': u'15999984', u'startTimeOffset': u'13000003'}, u'level': u'SHOT_LEVEL'}]\n"
     ]
    }
   ],
   "source": [
    "for i in range(len(video_response['response']['annotationResults'][0]['labelAnnotations'])):\n",
    "    if video_response['response']['annotationResults'][0]['labelAnnotations'][i]['description'] == search_label:\n",
    "        print(video_response['response']['annotationResults'][0]['labelAnnotations'][i]['locations'])\n",
    "        "
   ]
  },
  {
   "cell_type": "code",
   "execution_count": 39,
   "metadata": {
    "collapsed": true
   },
   "outputs": [],
   "source": [
    "search_label = 'Sam Gu'"
   ]
  },
  {
   "cell_type": "code",
   "execution_count": 40,
   "metadata": {
    "collapsed": false
   },
   "outputs": [],
   "source": [
    "for i in range(len(video_response['response']['annotationResults'][0]['labelAnnotations'])):\n",
    "    if video_response['response']['annotationResults'][0]['labelAnnotations'][i]['description'] == search_label:\n",
    "        print(video_response['response']['annotationResults'][0]['labelAnnotations'][i]['locations'])\n",
    "        "
   ]
  },
  {
   "cell_type": "code",
   "execution_count": null,
   "metadata": {
    "collapsed": true
   },
   "outputs": [],
   "source": []
  },
  {
   "cell_type": "code",
   "execution_count": null,
   "metadata": {
    "collapsed": true
   },
   "outputs": [],
   "source": []
  },
  {
   "cell_type": "code",
   "execution_count": null,
   "metadata": {
    "collapsed": true
   },
   "outputs": [],
   "source": []
  },
  {
   "cell_type": "code",
   "execution_count": null,
   "metadata": {
    "collapsed": true
   },
   "outputs": [],
   "source": []
  },
  {
   "cell_type": "markdown",
   "metadata": {},
   "source": [
    "### Format Video Analysis Results"
   ]
  },
  {
   "cell_type": "code",
   "execution_count": null,
   "metadata": {
    "collapsed": true
   },
   "outputs": [],
   "source": []
  },
  {
   "cell_type": "code",
   "execution_count": null,
   "metadata": {
    "collapsed": true
   },
   "outputs": [],
   "source": []
  },
  {
   "cell_type": "code",
   "execution_count": null,
   "metadata": {
    "collapsed": true
   },
   "outputs": [],
   "source": []
  },
  {
   "cell_type": "code",
   "execution_count": null,
   "metadata": {
    "collapsed": true
   },
   "outputs": [],
   "source": []
  },
  {
   "cell_type": "code",
   "execution_count": null,
   "metadata": {
    "collapsed": false,
    "scrolled": false
   },
   "outputs": [],
   "source": [
    "video_response = KudosData_VIDEO_DETECTION(encode_media(video_file))"
   ]
  },
  {
   "cell_type": "code",
   "execution_count": null,
   "metadata": {
    "collapsed": false,
    "scrolled": true
   },
   "outputs": [],
   "source": [
    "video_response"
   ]
  },
  {
   "cell_type": "code",
   "execution_count": null,
   "metadata": {
    "collapsed": true
   },
   "outputs": [],
   "source": []
  },
  {
   "cell_type": "code",
   "execution_count": null,
   "metadata": {
    "collapsed": true
   },
   "outputs": [],
   "source": []
  },
  {
   "cell_type": "code",
   "execution_count": null,
   "metadata": {
    "collapsed": true
   },
   "outputs": [],
   "source": []
  },
  {
   "cell_type": "code",
   "execution_count": null,
   "metadata": {
    "collapsed": true
   },
   "outputs": [],
   "source": []
  },
  {
   "cell_type": "code",
   "execution_count": null,
   "metadata": {
    "collapsed": true
   },
   "outputs": [],
   "source": []
  },
  {
   "cell_type": "code",
   "execution_count": null,
   "metadata": {
    "collapsed": true
   },
   "outputs": [],
   "source": []
  },
  {
   "cell_type": "code",
   "execution_count": null,
   "metadata": {
    "collapsed": true
   },
   "outputs": [],
   "source": []
  },
  {
   "cell_type": "markdown",
   "metadata": {},
   "source": [
    "# WIP 2"
   ]
  },
  {
   "cell_type": "code",
   "execution_count": null,
   "metadata": {
    "collapsed": true
   },
   "outputs": [],
   "source": []
  },
  {
   "cell_type": "code",
   "execution_count": null,
   "metadata": {
    "collapsed": true
   },
   "outputs": [],
   "source": []
  },
  {
   "cell_type": "code",
   "execution_count": null,
   "metadata": {
    "collapsed": true
   },
   "outputs": [],
   "source": []
  },
  {
   "cell_type": "markdown",
   "metadata": {
    "collapsed": true
   },
   "source": [
    "### * 识别图片消息中的物体名字 (Recognize objects in image) \n",
    "    [1] 物体名 (General Object)"
   ]
  },
  {
   "cell_type": "code",
   "execution_count": null,
   "metadata": {
    "collapsed": true
   },
   "outputs": [],
   "source": [
    "# Running Vision API\n",
    "# 'LABEL_DETECTION'\n",
    "def KudosData_LABEL_DETECTION(image_base64, API_type, maxResults):\n",
    "    vservice = build('vision', 'v1', developerKey=APIKEY)\n",
    "    request = vservice.images().annotate(body={\n",
    "        'requests': [{\n",
    "                'image': {\n",
    "#                     'source': {\n",
    "#                         'gcs_image_uri': IMAGE\n",
    "#                     }\n",
    "                      \"content\": image_base64\n",
    "                },\n",
    "                'features': [{\n",
    "                    'type': API_type,\n",
    "                    'maxResults': maxResults,\n",
    "                }]\n",
    "            }],\n",
    "        })\n",
    "    responses = request.execute(num_retries=3)\n",
    "    image_analysis_reply = u'\\n[ ' + API_type + u' 物体识别 ]\\n'\n",
    "    # 'LABEL_DETECTION'\n",
    "    if responses['responses'][0] != {}:\n",
    "        for i in range(len(responses['responses'][0]['labelAnnotations'])):\n",
    "            image_analysis_reply += responses['responses'][0]['labelAnnotations'][i]['description'] \\\n",
    "            + '\\n( confidence ' +  str(responses['responses'][0]['labelAnnotations'][i]['score']) + ' )\\n'\n",
    "    else:\n",
    "        image_analysis_reply += u'[ Nill 无结果 ]\\n'\n",
    "        \n",
    "    return image_analysis_reply"
   ]
  },
  {
   "cell_type": "markdown",
   "metadata": {
    "collapsed": true
   },
   "source": [
    "### * 识别图片消息中的物体名字 (Recognize objects in image) \n",
    "    [2] 地标名 (Landmark Object)"
   ]
  },
  {
   "cell_type": "code",
   "execution_count": null,
   "metadata": {
    "collapsed": true
   },
   "outputs": [],
   "source": [
    "# Running Vision API\n",
    "# 'LANDMARK_DETECTION'\n",
    "def KudosData_LANDMARK_DETECTION(image_base64, API_type, maxResults):\n",
    "    vservice = build('vision', 'v1', developerKey=APIKEY)\n",
    "    request = vservice.images().annotate(body={\n",
    "        'requests': [{\n",
    "                'image': {\n",
    "#                     'source': {\n",
    "#                         'gcs_image_uri': IMAGE\n",
    "#                     }\n",
    "                      \"content\": image_base64\n",
    "                },\n",
    "                'features': [{\n",
    "                    'type': API_type,\n",
    "                    'maxResults': maxResults,\n",
    "                }]\n",
    "            }],\n",
    "        })\n",
    "    responses = request.execute(num_retries=3)\n",
    "    image_analysis_reply = u'\\n[ ' + API_type + u' 地标识别 ]\\n'\n",
    "    # 'LANDMARK_DETECTION'\n",
    "    if responses['responses'][0] != {}:\n",
    "        for i in range(len(responses['responses'][0]['landmarkAnnotations'])):\n",
    "            image_analysis_reply += responses['responses'][0]['landmarkAnnotations'][i]['description'] \\\n",
    "            + '\\n( confidence ' +  str(responses['responses'][0]['landmarkAnnotations'][i]['score']) + ' )\\n'\n",
    "    else:\n",
    "        image_analysis_reply += u'[ Nill 无结果 ]\\n'\n",
    "        \n",
    "    return image_analysis_reply"
   ]
  },
  {
   "cell_type": "markdown",
   "metadata": {
    "collapsed": true
   },
   "source": [
    "### * 识别图片消息中的物体名字 (Recognize objects in image) \n",
    "    [3] 商标名 (Logo Object)"
   ]
  },
  {
   "cell_type": "code",
   "execution_count": null,
   "metadata": {
    "collapsed": true
   },
   "outputs": [],
   "source": [
    "# Running Vision API\n",
    "# 'LOGO_DETECTION'\n",
    "def KudosData_LOGO_DETECTION(image_base64, API_type, maxResults):\n",
    "    vservice = build('vision', 'v1', developerKey=APIKEY)\n",
    "    request = vservice.images().annotate(body={\n",
    "        'requests': [{\n",
    "                'image': {\n",
    "#                     'source': {\n",
    "#                         'gcs_image_uri': IMAGE\n",
    "#                     }\n",
    "                      \"content\": image_base64\n",
    "                },\n",
    "                'features': [{\n",
    "                    'type': API_type,\n",
    "                    'maxResults': maxResults,\n",
    "                }]\n",
    "            }],\n",
    "        })\n",
    "    responses = request.execute(num_retries=3)\n",
    "    image_analysis_reply = u'\\n[ ' + API_type + u' 商标识别 ]\\n'\n",
    "    # 'LOGO_DETECTION'\n",
    "    if responses['responses'][0] != {}:\n",
    "        for i in range(len(responses['responses'][0]['logoAnnotations'])):\n",
    "            image_analysis_reply += responses['responses'][0]['logoAnnotations'][i]['description'] \\\n",
    "            + '\\n( confidence ' +  str(responses['responses'][0]['logoAnnotations'][i]['score']) + ' )\\n'\n",
    "    else:\n",
    "        image_analysis_reply += u'[ Nill 无结果 ]\\n'\n",
    "        \n",
    "    return image_analysis_reply"
   ]
  },
  {
   "cell_type": "markdown",
   "metadata": {
    "collapsed": true
   },
   "source": [
    "### * 识别图片消息中的文字 (OCR: Extract text from image)"
   ]
  },
  {
   "cell_type": "code",
   "execution_count": null,
   "metadata": {
    "collapsed": true
   },
   "outputs": [],
   "source": [
    "# Running Vision API\n",
    "# 'TEXT_DETECTION'\n",
    "def KudosData_TEXT_DETECTION(image_base64, API_type, maxResults):\n",
    "    vservice = build('vision', 'v1', developerKey=APIKEY)\n",
    "    request = vservice.images().annotate(body={\n",
    "        'requests': [{\n",
    "                'image': {\n",
    "#                     'source': {\n",
    "#                         'gcs_image_uri': IMAGE\n",
    "#                     }\n",
    "                      \"content\": image_base64\n",
    "                },\n",
    "                'features': [{\n",
    "                    'type': API_type,\n",
    "                    'maxResults': maxResults,\n",
    "                }]\n",
    "            }],\n",
    "        })\n",
    "    responses = request.execute(num_retries=3)\n",
    "    image_analysis_reply = u'\\n[ ' + API_type + u' 文字提取 ]\\n'\n",
    "    # 'TEXT_DETECTION'\n",
    "    if responses['responses'][0] != {}:\n",
    "        image_analysis_reply += u'----- Start Original Text -----\\n'\n",
    "        image_analysis_reply += u'( Original Language 原文: ' + responses['responses'][0]['textAnnotations'][0]['locale'] \\\n",
    "        + ' )\\n'        \n",
    "        image_analysis_reply += responses['responses'][0]['textAnnotations'][0]['description'] + '----- End Original Text -----\\n'\n",
    "\n",
    "        ##############################################################################################################\n",
    "        #                                        translation of detected text                                        #\n",
    "        ##############################################################################################################\n",
    "        parm_translation_origin_language = responses['responses'][0]['textAnnotations'][0]['locale']\n",
    "        # Call translation if parm_translation_origin_language is not parm_translation_target_language\n",
    "        if parm_translation_origin_language != parm_translation_target_language:\n",
    "            inputs=[responses['responses'][0]['textAnnotations'][0]['description']] # TEXT_DETECTION OCR results only\n",
    "            outputs = service.translations().list(source=parm_translation_origin_language, \n",
    "                                                  target=parm_translation_target_language, q=inputs).execute()\n",
    "            image_analysis_reply += u'\\n----- Start Translation -----\\n'\n",
    "            image_analysis_reply += u'( Target Language 译文: ' + parm_translation_target_language + ' )\\n'\n",
    "            image_analysis_reply += outputs['translations'][0]['translatedText'] + '\\n' + '----- End Translation -----\\n'\n",
    "            print('Compeleted: Translation    API ...')\n",
    "        ##############################################################################################################\n",
    "    else:\n",
    "        image_analysis_reply += u'[ Nill 无结果 ]\\n'\n",
    "        \n",
    "    return image_analysis_reply"
   ]
  },
  {
   "cell_type": "markdown",
   "metadata": {
    "collapsed": true
   },
   "source": [
    "### * 识别人脸 (Recognize human face)\n",
    "### * 基于人脸的表情来识别喜怒哀乐等情绪 (Identify sentiment and emotion from human face)"
   ]
  },
  {
   "cell_type": "code",
   "execution_count": null,
   "metadata": {
    "collapsed": true
   },
   "outputs": [],
   "source": [
    "# Running Vision API\n",
    "# 'FACE_DETECTION'\n",
    "def KudosData_FACE_DETECTION(image_base64, API_type, maxResults):\n",
    "    vservice = build('vision', 'v1', developerKey=APIKEY)\n",
    "    request = vservice.images().annotate(body={\n",
    "        'requests': [{\n",
    "                'image': {\n",
    "#                     'source': {\n",
    "#                         'gcs_image_uri': IMAGE\n",
    "#                     }\n",
    "                      \"content\": image_base64\n",
    "                },\n",
    "                'features': [{\n",
    "                    'type': API_type,\n",
    "                    'maxResults': maxResults,\n",
    "                }]\n",
    "            }],\n",
    "        })\n",
    "    responses = request.execute(num_retries=3)\n",
    "    image_analysis_reply = u'\\n[ ' + API_type + u' 面部表情 ]\\n'\n",
    "    # 'FACE_DETECTION'\n",
    "    if responses['responses'][0] != {}:\n",
    "        for i in range(len(responses['responses'][0]['faceAnnotations'])):\n",
    "            image_analysis_reply += u'----- No.' + str(i+1) + ' Face -----\\n'\n",
    "            \n",
    "            image_analysis_reply += u'>>> Joy 喜悦: \\n' \\\n",
    "            + responses['responses'][0]['faceAnnotations'][i][u'joyLikelihood'] + '\\n'\n",
    "            \n",
    "            image_analysis_reply += u'>>> Anger 愤怒: \\n' \\\n",
    "            + responses['responses'][0]['faceAnnotations'][i][u'angerLikelihood'] + '\\n'\n",
    "            \n",
    "            image_analysis_reply += u'>>> Sorrow 悲伤: \\n' \\\n",
    "            + responses['responses'][0]['faceAnnotations'][i][u'sorrowLikelihood'] + '\\n'\n",
    "            \n",
    "            image_analysis_reply += u'>>> Surprise 惊奇: \\n' \\\n",
    "            + responses['responses'][0]['faceAnnotations'][i][u'surpriseLikelihood'] + '\\n'\n",
    "            \n",
    "            image_analysis_reply += u'>>> Headwear 头饰: \\n' \\\n",
    "            + responses['responses'][0]['faceAnnotations'][i][u'headwearLikelihood'] + '\\n'\n",
    "            \n",
    "            image_analysis_reply += u'>>> Blurred 模糊: \\n' \\\n",
    "            + responses['responses'][0]['faceAnnotations'][i][u'blurredLikelihood'] + '\\n'\n",
    "            \n",
    "            image_analysis_reply += u'>>> UnderExposed 欠曝光: \\n' \\\n",
    "            + responses['responses'][0]['faceAnnotations'][i][u'underExposedLikelihood'] + '\\n'\n",
    "    else:\n",
    "        image_analysis_reply += u'[ Nill 无结果 ]\\n'\n",
    "            \n",
    "    return image_analysis_reply"
   ]
  },
  {
   "cell_type": "markdown",
   "metadata": {
    "collapsed": true
   },
   "source": [
    "### * 不良内容识别 (Explicit Content Detection)\n",
    "\n",
    "Detect explicit content like adult content or violent content within an image."
   ]
  },
  {
   "cell_type": "code",
   "execution_count": null,
   "metadata": {
    "collapsed": true
   },
   "outputs": [],
   "source": [
    "# Running Vision API\n",
    "# 'SAFE_SEARCH_DETECTION'\n",
    "def KudosData_SAFE_SEARCH_DETECTION(image_base64, API_type, maxResults):\n",
    "    vservice = build('vision', 'v1', developerKey=APIKEY)\n",
    "    request = vservice.images().annotate(body={\n",
    "        'requests': [{\n",
    "                'image': {\n",
    "#                     'source': {\n",
    "#                         'gcs_image_uri': IMAGE\n",
    "#                     }\n",
    "                      \"content\": image_base64\n",
    "                },\n",
    "                'features': [{\n",
    "                    'type': API_type,\n",
    "                    'maxResults': maxResults,\n",
    "                }]\n",
    "            }],\n",
    "        })\n",
    "    responses = request.execute(num_retries=3)\n",
    "    image_analysis_reply = u'\\n[ ' + API_type + u' 不良内容 ]\\n'\n",
    "    # 'SAFE_SEARCH_DETECTION'\n",
    "    if responses['responses'][0] != {}:\n",
    "        image_analysis_reply += u'>>> Adult 成人: \\n' + responses['responses'][0]['safeSearchAnnotation'][u'adult'] + '\\n'\n",
    "        image_analysis_reply += u'>>> Violence 暴力: \\n' + responses['responses'][0]['safeSearchAnnotation'][u'violence'] + '\\n'\n",
    "        image_analysis_reply += u'>>> Spoof 欺骗: \\n' + responses['responses'][0]['safeSearchAnnotation'][u'spoof'] + '\\n'\n",
    "        image_analysis_reply += u'>>> Medical 医疗: \\n' + responses['responses'][0]['safeSearchAnnotation'][u'medical'] + '\\n'\n",
    "    else:\n",
    "        image_analysis_reply += u'[ Nill 无结果 ]\\n'\n",
    "    return image_analysis_reply"
   ]
  },
  {
   "cell_type": "markdown",
   "metadata": {},
   "source": [
    "### 用微信App扫QR码图片来自动登录"
   ]
  },
  {
   "cell_type": "code",
   "execution_count": null,
   "metadata": {
    "collapsed": false
   },
   "outputs": [],
   "source": [
    "itchat.auto_login(hotReload=True) # hotReload=True: 退出程序后暂存登陆状态。即使程序关闭，一定时间内重新开启也可以不用重新扫码。\n",
    "# itchat.auto_login(enableCmdQR=-2) # enableCmdQR=-2: 命令行显示QR图片"
   ]
  },
  {
   "cell_type": "code",
   "execution_count": null,
   "metadata": {
    "collapsed": true
   },
   "outputs": [],
   "source": [
    "# @itchat.msg_register([PICTURE], isGroupChat=True)\n",
    "@itchat.msg_register([PICTURE])\n",
    "def download_files(msg):\n",
    "    parm_translation_origin_language = 'zh' # will be overwriten by TEXT_DETECTION\n",
    "    msg.download(msg.fileName)\n",
    "    print('\\nDownloaded image file name is: %s' % msg['FileName'])\n",
    "    image_base64 = encode_image(msg['FileName'])\n",
    "    \n",
    "    ##############################################################################################################\n",
    "    #                                          call image analysis APIs                                          #\n",
    "    ##############################################################################################################\n",
    "    \n",
    "    image_analysis_reply = u'[ Image Analysis 图像分析结果 ]\\n'\n",
    "\n",
    "    # 1. LABEL_DETECTION:\n",
    "    image_analysis_reply += KudosData_LABEL_DETECTION(image_base64, 'LABEL_DETECTION', parm_image_maxResults)\n",
    "    # 2. LANDMARK_DETECTION:\n",
    "    image_analysis_reply += KudosData_LANDMARK_DETECTION(image_base64, 'LANDMARK_DETECTION', parm_image_maxResults)\n",
    "    # 3. LOGO_DETECTION:\n",
    "    image_analysis_reply += KudosData_LOGO_DETECTION(image_base64, 'LOGO_DETECTION', parm_image_maxResults)\n",
    "    # 4. TEXT_DETECTION:\n",
    "    image_analysis_reply += KudosData_TEXT_DETECTION(image_base64, 'TEXT_DETECTION', parm_image_maxResults)\n",
    "    # 5. FACE_DETECTION:\n",
    "    image_analysis_reply += KudosData_FACE_DETECTION(image_base64, 'FACE_DETECTION', parm_image_maxResults)\n",
    "    # 6. SAFE_SEARCH_DETECTION:\n",
    "    image_analysis_reply += KudosData_SAFE_SEARCH_DETECTION(image_base64, 'SAFE_SEARCH_DETECTION', parm_image_maxResults)\n",
    "\n",
    "    print('Compeleted: Image Analysis API ...')\n",
    "    \n",
    "    return image_analysis_reply"
   ]
  },
  {
   "cell_type": "code",
   "execution_count": null,
   "metadata": {
    "collapsed": false,
    "scrolled": false
   },
   "outputs": [],
   "source": [
    "itchat.run()"
   ]
  },
  {
   "cell_type": "code",
   "execution_count": null,
   "metadata": {
    "collapsed": false
   },
   "outputs": [],
   "source": [
    "# interupt kernel, then logout\n",
    "itchat.logout() # 安全退出"
   ]
  },
  {
   "cell_type": "markdown",
   "metadata": {},
   "source": [
    "### 恭喜您！已经完成了：\n",
    "### 第二课：图像识别和处理\n",
    "### Lesson 2: Image Recognition & Processing\n",
    "\n",
    "* 识别图片消息中的物体名字 (Recognize objects in image)\n",
    "        [1] 物体名 (General Object)\n",
    "        [2] 地标名 (Landmark Object)\n",
    "        [3] 商标名 (Logo Object)\n",
    "\n",
    "* 识别图片消息中的文字 (OCR: Extract text from image)\n",
    "        包含简单文本翻译 (Call text translation API)\n",
    "        \n",
    "* 识别人脸 (Recognize human face)\n",
    "        基于人脸的表情来识别喜怒哀乐等情绪 (Identify sentiment and emotion from human face)\n",
    "\n",
    "* 不良内容识别 (Explicit Content Detection)\n"
   ]
  },
  {
   "cell_type": "markdown",
   "metadata": {},
   "source": [
    "### 下一课是:\n",
    "### 第三课：自然语言处理：语音合成和识别\n",
    "### Lesson 3: Natural Language Processing 1\n",
    "* 消息文字转成语音 (Speech synthesis: text to voice)\n",
    "* 语音转换成消息文字 (Speech recognition: voice to text)\n",
    "* 消息文字的多语言互译 (Text based language translation)"
   ]
  },
  {
   "cell_type": "markdown",
   "metadata": {},
   "source": [
    "<img src='http://www.kudosdata.com/wp-content/uploads/2016/11/cropped-KudosLogo1.png' width=30% style=\"float: right;\">\n",
    "<img src='reference/WeChat_SamGu_QR.png' width=10% style=\"float: left;\">\n",
    "\n"
   ]
  }
 ],
 "metadata": {
  "kernelspec": {
   "display_name": "Python 2",
   "language": "python",
   "name": "python2"
  },
  "language_info": {
   "codemirror_mode": {
    "name": "ipython",
    "version": 2
   },
   "file_extension": ".py",
   "mimetype": "text/x-python",
   "name": "python",
   "nbconvert_exporter": "python",
   "pygments_lexer": "ipython2",
   "version": "2.7.12"
  }
 },
 "nbformat": 4,
 "nbformat_minor": 2
}
