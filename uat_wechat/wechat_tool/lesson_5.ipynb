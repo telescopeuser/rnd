{
 "cells": [
  {
   "cell_type": "code",
   "execution_count": null,
   "metadata": {
    "collapsed": true
   },
   "outputs": [],
   "source": [
    "# from IPython.display import YouTubeVideo\n",
    "# YouTubeVideo('To be Announced')"
   ]
  },
  {
   "cell_type": "markdown",
   "metadata": {},
   "source": [
    "# 如何使用和开发微信聊天机器人的系列教程\n",
    "# A workshop to develop & use an intelligent and interactive chat-bot in WeChat"
   ]
  },
  {
   "cell_type": "markdown",
   "metadata": {},
   "source": [
    "### WeChat is a popular social media app, which has more than 800 million monthly active users.\n",
    "\n",
    "<img src='http://www.kudosdata.com/wp-content/uploads/2016/11/cropped-KudosLogo1.png' width=30% style=\"float: right;\">\n",
    "<img src='reference/WeChat_SamGu_QR.png' width=10% style=\"float: right;\">\n",
    "\n",
    "### http://www.KudosData.com\n",
    "\n",
    "by: Sam.Gu@KudosData.com\n",
    "\n",
    "\n",
    "May 2017 ========== Scan the QR code to become trainer's friend in WeChat ========>>"
   ]
  },
  {
   "cell_type": "markdown",
   "metadata": {},
   "source": [
    "### 第五课：视频识别和处理\n",
    "### Lesson 5: Video Recognition & Processing\n",
    "* 识别视频的场景片段 (Detect shots change in video)\n",
    "* 识别视频消息中的物体名字 (Recognize objects in video/shots)\n",
    "* 直接搜索视频内容 (Search content in video)"
   ]
  },
  {
   "cell_type": "markdown",
   "metadata": {},
   "source": [
    "### Using Google Cloud Platform's Machine Learning APIs"
   ]
  },
  {
   "cell_type": "markdown",
   "metadata": {},
   "source": [
    "From the same API console, choose \"Dashboard\" on the left-hand menu and \"Enable API\".\n",
    "\n",
    "Enable the following APIs for your project (search for them) if they are not already enabled:\n",
    "<ol>\n",
    "<li> Google Cloud Vision API </li>\n",
    "<li> Google Cloud Speech API </li>\n",
    "<li> Google Cloud Translate API </li>\n",
    "<li> Google Cloud Natural Language API </li>\n",
    "<li> Google Cloud Video API </li>\n",
    "</ol>\n",
    "\n",
    "Finally, because we are calling the APIs from Python (clients in many other languages are available), let's install the Python package (it's not installed by default on Datalab)"
   ]
  },
  {
   "cell_type": "code",
   "execution_count": null,
   "metadata": {
    "collapsed": true,
    "scrolled": false
   },
   "outputs": [],
   "source": [
    "# Copyright 2016 Google Inc.\n",
    "# Licensed under the Apache License, Version 2.0 (the \"License\"); \n",
    "# !pip install --upgrade google-api-python-client"
   ]
  },
  {
   "cell_type": "markdown",
   "metadata": {},
   "source": [
    "### 导入需要用到的一些功能程序库："
   ]
  },
  {
   "cell_type": "code",
   "execution_count": null,
   "metadata": {
    "collapsed": false
   },
   "outputs": [],
   "source": [
    "import io, os, subprocess, sys, time, datetime, requests, itchat, json, numpy as np\n",
    "from itchat.content import *\n",
    "from googleapiclient.discovery import build\n",
    "from IPython.display import HTML\n",
    "# Python 2\n",
    "if sys.version_info[0] < 3:\n",
    "    import urllib2\n",
    "# Python 3\n",
    "else:\n",
    "    import urllib.request"
   ]
  },
  {
   "cell_type": "markdown",
   "metadata": {
    "collapsed": true
   },
   "source": [
    "### Using Google Cloud Platform's Machine Learning APIs\n",
    "\n",
    "First, visit <a href=\"http://console.cloud.google.com/apis\">API console</a>, choose \"Credentials\" on the left-hand menu.  Choose \"Create Credentials\" and generate an API key for your application. You should probably restrict it by IP address to prevent abuse, but for now, just  leave that field blank and delete the API key after trying out this demo.\n",
    "\n",
    "Copy-paste your API Key here:"
   ]
  },
  {
   "cell_type": "code",
   "execution_count": null,
   "metadata": {
    "collapsed": false
   },
   "outputs": [],
   "source": [
    "# Here I read in my own API_KEY from a file, which is not shared in Github repository:\n",
    "with io.open('../../API_KEY.txt') as fp: \n",
    "    for line in fp: APIKEY = line\n",
    "\n",
    "# You need to un-comment below line and replace 'APIKEY' variable with your own GCP API key:\n",
    "# APIKEY='AIzaSyCvxxxxxxxxxxxxxxxxxxxxxxxxxxxxxxxx'"
   ]
  },
  {
   "cell_type": "code",
   "execution_count": null,
   "metadata": {
    "collapsed": true
   },
   "outputs": [],
   "source": [
    "# Below is for GCP Video API\n",
    "# video_service = build('videointelligence', 'v1', developerKey=APIKEY)\n",
    "video_service = build('videointelligence', 'v1beta1', developerKey=APIKEY)\n",
    "# check video processing progress\n",
    "video_operation_service = build('videointelligence', 'v1', developerKey=APIKEY)"
   ]
  },
  {
   "cell_type": "markdown",
   "metadata": {},
   "source": [
    "### 多媒体文件的二进制base64码转换 (Define media pre-processing functions)"
   ]
  },
  {
   "cell_type": "code",
   "execution_count": null,
   "metadata": {
    "collapsed": true
   },
   "outputs": [],
   "source": [
    "# Import the base64 encoding library.\n",
    "import base64\n",
    "# Pass the media data to an encoding function.\n",
    "def encode_media(media_file):\n",
    "    with io.open(media_file, \"rb\") as media_file:\n",
    "        media_content = media_file.read()\n",
    "# Python 2\n",
    "    if sys.version_info[0] < 3:\n",
    "        return base64.b64encode(media_content).decode('ascii')\n",
    "# Python 3\n",
    "    else:\n",
    "        return base64.b64encode(media_content).decode('utf-8')"
   ]
  },
  {
   "cell_type": "markdown",
   "metadata": {},
   "source": [
    "### 机器智能API接口控制参数 (Define control parameters for API)"
   ]
  },
  {
   "cell_type": "code",
   "execution_count": null,
   "metadata": {
    "collapsed": true
   },
   "outputs": [],
   "source": [
    "# API control parameter for 视频识别和处理 Video Recognition & Processing\n",
    "parm_video_api_features = ['LABEL_DETECTION', 'SHOT_CHANGE_DETECTION']\n",
    "# parm_video_api_features = ['LABEL_DETECTION']\n",
    "# parm_video_api_features = ['SHOT_CHANGE_DETECTION']\n",
    "parm_video_api_display_seconds = True # Ture: use seconds for display; False: use microseconds to display video shot duration\n",
    "parm_video_response = {} # global variable"
   ]
  },
  {
   "cell_type": "markdown",
   "metadata": {},
   "source": [
    "### 定义一个发起视频处理请求的小功能\n",
    "Define utility function to call Video API:"
   ]
  },
  {
   "cell_type": "code",
   "execution_count": null,
   "metadata": {
    "collapsed": true
   },
   "outputs": [],
   "source": [
    "# Invoke Video API\n",
    "\n",
    "def KudosData_VIDEO_DETECTION(video_base64):\n",
    "    print ('[INFOR] Start Video Analysis...')\n",
    "##########################################################################################\n",
    "# 1. Send request for video processing\n",
    "##########################################################################################\n",
    "    request1 = video_service.videos().annotate(body={\n",
    "#               \"inputUri\": string,\n",
    "              \"inputContent\": video_base64,\n",
    "              \"features\": parm_video_api_features, # 'LABEL_DETECTION' & 'SHOT_CHANGE_DETECTION'\n",
    "        })\n",
    "    responses1 = request1.execute(num_retries=3)\n",
    "    \n",
    "    if 'name' in responses1: \n",
    "        print ('Internal video/operation name assinged : %s' % responses1['name'])\n",
    "##########################################################################################\n",
    "# 2. Check progress till completion (Video requires asynchronous long processing...)\n",
    "##########################################################################################\n",
    "        responses2 = KudosData_VIDEO_DETECTION_CHECK_PROCRESS(responses1['name'], APIKEY)\n",
    "    else:\n",
    "        print ('[ERROR] Calling Video API request failed. Please re-try.')\n",
    "    \n",
    "    return responses2"
   ]
  },
  {
   "cell_type": "markdown",
   "metadata": {},
   "source": [
    "### 定义一个查询视频处理进展的小功能 Define utility function to check progress of Video API:\n",
    "\n",
    "因为视频文件通常较大，处理费时。谷歌API接口采用了异步处理方式，所以会有此步骤。"
   ]
  },
  {
   "cell_type": "code",
   "execution_count": null,
   "metadata": {
    "collapsed": true
   },
   "outputs": [],
   "source": [
    "# Keep checking progress of Video API processing, till full completion.\n",
    "\n",
    "def KudosData_VIDEO_DETECTION_CHECK_PROCRESS(name, apikey):\n",
    "    flag_completion = False\n",
    "    operation_url = 'https://videointelligence.googleapis.com/v1/operations/' + name + '?key=' + apikey\n",
    "#     print('operation_url : ', operation_url)\n",
    "    while not flag_completion:\n",
    "        # Python 2\n",
    "        if sys.version_info[0] < 3:\n",
    "            response_operation = json.loads(urllib2.urlopen(operation_url).read())\n",
    "        # Python 3\n",
    "        else:\n",
    "#             response_operation = json.loads(urllib.request.urlopen(operation_url).read())\n",
    "            response_operation = json.loads(urllib.request.urlopen(operation_url).read().decode('utf-8'))\n",
    "        \n",
    "        # define an array, containing 'progress %' of each Video API\n",
    "        video_api_progress_pct = np.zeros(shape=(1, len(response_operation['metadata']['annotationProgress'])))\n",
    "#         print('... length : %d' % len(response_operation['metadata']['annotationProgress']))\n",
    "        for i in range(len(response_operation['metadata']['annotationProgress'])):\n",
    "            if 'progressPercent' in response_operation['metadata']['annotationProgress'][i]:\n",
    "                video_api_progress_pct[0][i] = response_operation['metadata']['annotationProgress'][i]['progressPercent']\n",
    "#                 print ('>>> Video API {} Progress : {} %'.format(i+1, video_api_progress_pct[0][i]))\n",
    "        print ('  overall progress : {} %'.format(np.mean(video_api_progress_pct[0])))\n",
    "        if min(video_api_progress_pct[0]) == 100: \n",
    "            flag_completion = True\n",
    "            print ('  Video API Completed !\\n')\n",
    "\n",
    "#         time.sleep(5)\n",
    "        time.sleep(2)\n",
    "#         print('... time.sleep')\n",
    "\n",
    "    return response_operation"
   ]
  },
  {
   "cell_type": "markdown",
   "metadata": {},
   "source": [
    "<font color='blue'>< Start of interactive demo ></font>"
   ]
  },
  {
   "cell_type": "markdown",
   "metadata": {},
   "source": [
    "### 导入测试短片 Import video:"
   ]
  },
  {
   "cell_type": "code",
   "execution_count": null,
   "metadata": {
    "collapsed": true
   },
   "outputs": [],
   "source": [
    "# video_file = 'reference/video.mp4'\n",
    "# video_file = 'reference/SampleVideo_360x240_1mb.mp4'\n",
    "video_file = 'reference/SampleVideo_360x240_2mb.mp4'"
   ]
  },
  {
   "cell_type": "code",
   "execution_count": null,
   "metadata": {
    "collapsed": false
   },
   "outputs": [],
   "source": [
    "HTML(data='''<video alt=\"test\" controls><source src=\"data:video/mp4;base64,{0}\" type=\"video/mp4\" /></video>'''\n",
    "         .format(encode_media(video_file)))"
   ]
  },
  {
   "cell_type": "markdown",
   "metadata": {},
   "source": [
    "### 正式开始视频处理 Here we call Video API through our defined function:"
   ]
  },
  {
   "cell_type": "code",
   "execution_count": null,
   "metadata": {
    "collapsed": false,
    "scrolled": false
   },
   "outputs": [],
   "source": [
    "# Send API request & Obtain results:\n",
    "parm_video_response = KudosData_VIDEO_DETECTION(encode_media(video_file))\n",
    "\n",
    "# Obtain results, without resending API request:\n",
    "# parm_video_response = KudosData_VIDEO_DETECTION_CHECK_PROCRESS('asia-east1.11590064400054192243', APIKEY)"
   ]
  },
  {
   "cell_type": "markdown",
   "metadata": {},
   "source": [
    "### 查看原始格式的结果 View raw results:"
   ]
  },
  {
   "cell_type": "code",
   "execution_count": null,
   "metadata": {
    "collapsed": false,
    "scrolled": false
   },
   "outputs": [],
   "source": [
    "parm_video_response\n",
    "\n",
    "# metadata in response: Version of Video API used; Differenc Video APIs called, and start/end processing time.\n",
    "# parm_video_response['metadata']\n",
    "\n",
    "# actual video API detecion results in response:\n",
    "# parm_video_response['response']['annotationResults'][0]"
   ]
  },
  {
   "cell_type": "markdown",
   "metadata": {},
   "source": [
    "### * 识别视频的场景片段 (Detect shots change in video)"
   ]
  },
  {
   "cell_type": "code",
   "execution_count": null,
   "metadata": {
    "collapsed": true
   },
   "outputs": [],
   "source": [
    "# parm_video_response['response']['annotationResults'][0]['shotAnnotations']"
   ]
  },
  {
   "cell_type": "code",
   "execution_count": null,
   "metadata": {
    "collapsed": false
   },
   "outputs": [],
   "source": [
    "if parm_video_api_display_seconds: # our pre-defined control parm\n",
    "    parm_denominator = 1000000 # dispay results in seconds\n",
    "else:\n",
    "    parm_denominator = 1  # dispay results in microseconds\n",
    "\n",
    "print(u'[ 视频场景片段 ]')\n",
    "print('Number of scenery/shots detected : {}'.format(len(parm_video_response['response']['annotationResults'][0]\\\n",
    "                                                         ['shotAnnotations'])))\n",
    "for i in range(len(parm_video_response['response']['annotationResults'][0]['shotAnnotations'])):\n",
    "#     print(parm_video_response['response']['annotationResults'][0]['shotAnnotations'][i]) \n",
    "    if i == 0:\n",
    "        print('Shot 1 : 0 ~ {} {}'\n",
    "            .format(\n",
    "                int(parm_video_response['response']['annotationResults'][0]['shotAnnotations'][i]\\\n",
    "                                        ['endTimeOffset'])/parm_denominator\n",
    "              , 'seconds' if parm_video_api_display_seconds else 'microseconds'\n",
    "            ))\n",
    "    else:\n",
    "        print('Shot {} : {} ~ {} {}'\n",
    "            .format(i+1\n",
    "              , int(parm_video_response['response']['annotationResults'][0]['shotAnnotations'][i]\\\n",
    "                                        ['startTimeOffset'])/parm_denominator\n",
    "              , int(parm_video_response['response']['annotationResults'][0]['shotAnnotations'][i]\\\n",
    "                                        ['endTimeOffset'])/parm_denominator\n",
    "              , 'seconds' if parm_video_api_display_seconds else 'microseconds'\n",
    "            ))"
   ]
  },
  {
   "cell_type": "markdown",
   "metadata": {},
   "source": [
    "### * 识别视频消息中的物体名字 (Recognize objects in video/shots)"
   ]
  },
  {
   "cell_type": "code",
   "execution_count": null,
   "metadata": {
    "collapsed": true,
    "scrolled": false
   },
   "outputs": [],
   "source": [
    "# parm_video_response['response']['annotationResults'][0]['labelAnnotations']"
   ]
  },
  {
   "cell_type": "code",
   "execution_count": null,
   "metadata": {
    "collapsed": false,
    "scrolled": false
   },
   "outputs": [],
   "source": [
    "print(u'[ 视频物体识别 ]')\n",
    "print('Number of objects detected : {}'.format(len(parm_video_response['response']['annotationResults'][0]['labelAnnotations'])))\n",
    "print('')\n",
    "for i in range(len(parm_video_response['response']['annotationResults'][0]['labelAnnotations'])):\n",
    "    # print each object's name:\n",
    "    print('Object {} : {}'.format(\n",
    "              i+1\n",
    "            , parm_video_response['response']['annotationResults'][0]['labelAnnotations'][i]['description']\n",
    "        ))"
   ]
  },
  {
   "cell_type": "code",
   "execution_count": null,
   "metadata": {
    "collapsed": false,
    "scrolled": false
   },
   "outputs": [],
   "source": [
    "print(u'[ 视频物体识别 ]')\n",
    "print('Number of objects detected : {}'.format(len(parm_video_response['response']['annotationResults'][0]['labelAnnotations'])))\n",
    "\n",
    "for i in range(len(parm_video_response['response']['annotationResults'][0]['labelAnnotations'])):\n",
    "    # print each object's name:\n",
    "    print('')\n",
    "    print('Object {} : {}\\n    @  {} Locations: '.format(\n",
    "              i+1\n",
    "            , parm_video_response['response']['annotationResults'][0]['labelAnnotations'][i]['description']\n",
    "            , len(parm_video_response['response']['annotationResults'][0]['labelAnnotations'][i]['locations'])\n",
    "        ))\n",
    "    \n",
    "        # print each object's related shot/location in video:\n",
    "    for j in range(len(parm_video_response['response']['annotationResults'][0]['labelAnnotations'][i]['locations'])):\n",
    "#         print(parm_video_response['response']['annotationResults'][0]['labelAnnotations'][i]['locations'][j])\n",
    "        print('   [{}] Confidence : {} | {} | {} '.format(\n",
    "              j+1\n",
    "            , parm_video_response['response']['annotationResults'][0]['labelAnnotations'][i]['locations'][j]['confidence']\n",
    "            , parm_video_response['response']['annotationResults'][0]['labelAnnotations'][i]['locations'][j]['segment']\n",
    "            , parm_video_response['response']['annotationResults'][0]['labelAnnotations'][i]['locations'][j]['level']\n",
    "              ))\n",
    "  "
   ]
  },
  {
   "cell_type": "markdown",
   "metadata": {},
   "source": [
    "### * 直接搜索视频内容 (Search content in video)\n",
    "使用<font color='blue'>**文字**</font>关键词对视频<font color='blue'>**内容**</font>进行搜索"
   ]
  },
  {
   "cell_type": "code",
   "execution_count": null,
   "metadata": {
    "collapsed": true
   },
   "outputs": [],
   "source": [
    "# Define utility function for video search\n",
    "\n",
    "# return a list of shot locations, based on list of object name\n",
    "def KudosData_search_location(list_object_name):   \n",
    "#     print('Look for object : %s' % object_name)\n",
    "\n",
    "    for i in range(len(parm_video_response['response']['annotationResults'][0]['labelAnnotations'])):\n",
    "        if parm_video_response['response']['annotationResults'][0]['labelAnnotations'][i]['description'] == list_object_name[0]: \n",
    "#             print('Found  {} Locations   :'.format(\n",
    "#                     len(parm_video_response['response']['annotationResults'][0]['labelAnnotations'][i]['locations'])\n",
    "#                 ))\n",
    "            return parm_video_response['response']['annotationResults'][0]['labelAnnotations'][i]['locations']\n",
    "\n",
    "    return [] # If not found, return empty list []\n",
    "\n",
    "### simple score integration: Certainty Factor\n",
    "### CF = CF1 + CF2 * ( 1 - CF1 )\n",
    "def KudosData_CF(cf1, cf2): return cf1 + cf2 * ( 1 - cf1)\n",
    "\n",
    "# return a list of shot-locations, based on matched shot-loactions of two objects\n",
    "def KudosData_match_location(list_location_1, list_location_2):   \n",
    "    list_location_matched = []\n",
    "    for i in range(len(list_location_1)):\n",
    "        for j in range(len(list_location_2)):\n",
    "            if list_location_1[i]['level'] == list_location_2[j]['level'] and \\\n",
    "               list_location_1[i]['segment'] == list_location_2[j]['segment']: \n",
    "#                 print('Shots matched: [i={}] [j={}]'.format(i, j))\n",
    "                dict_location_matched = list_location_2[j].copy()\n",
    "                dict_location_matched['confidence'] = KudosData_CF(list_location_1[i]['confidence'], \n",
    "                                                                   list_location_2[j]['confidence'])\n",
    "                list_location_matched.append(dict_location_matched)\n",
    "#     print(list_location_matched)\n",
    "    return list_location_matched\n",
    "\n",
    "def KudosData_search(list_object_name):\n",
    "    if len(list_object_name) == 1:\n",
    "        return KudosData_search_location([list_object_name[0]])    \n",
    "    else:\n",
    "        return KudosData_match_location(KudosData_search_location([list_object_name[0]]), \n",
    "                                        KudosData_search_location([list_object_name[1]]))\n",
    "    "
   ]
  },
  {
   "cell_type": "markdown",
   "metadata": {},
   "source": [
    "### 搜索示例 Demo:\n",
    "单关键词"
   ]
  },
  {
   "cell_type": "code",
   "execution_count": null,
   "metadata": {
    "collapsed": false
   },
   "outputs": [],
   "source": [
    "KudosData_search(['Animal'])"
   ]
  },
  {
   "cell_type": "code",
   "execution_count": null,
   "metadata": {
    "collapsed": false
   },
   "outputs": [],
   "source": [
    "KudosData_search(['Sky'])"
   ]
  },
  {
   "cell_type": "code",
   "execution_count": null,
   "metadata": {
    "collapsed": false
   },
   "outputs": [],
   "source": [
    "KudosData_search(['Sam'])"
   ]
  },
  {
   "cell_type": "markdown",
   "metadata": {},
   "source": [
    "### 多关键词查找 Joint search by keywords: **'Animal' & 'Sky'**\n",
    "\n",
    "[ 搜索视频内容 ] **'Animal'**\n",
    "*   [2] Confidence : 0.89243287 | SHOT_LEVEL | {u'endTimeOffset': u'8333309'} \n",
    "*   [5] Confidence : **0.8764819** | SHOT_LEVEL | <font color='blue'>{u'endTimeOffset': u'23533281', u'startTimeOffset': u'21733318'}</font>\n",
    "*   [1] Confidence : 0.8764819 | VIDEO_LEVEL | {u'endTimeOffset': u'-1', u'startTimeOffset': u'-1'}\n",
    "*   [6] Confidence : 0.82209057 | SHOT_LEVEL | {u'endTimeOffset': u'25666689', u'startTimeOffset': u'23599970'} \n",
    "*   [4] Confidence : 0.7916033 | SHOT_LEVEL | {u'endTimeOffset': u'15999984', u'startTimeOffset': u'13000003'} \n",
    "*   [3] Confidence : **0.4363379** | SHOT_LEVEL | <font color='blue'>{u'endTimeOffset': u'12933314', u'startTimeOffset': u'8399998'}</font>\n",
    "\n",
    "[ 搜索视频内容 ] **'Sky'**\n",
    "*   [1] Confidence : **0.81967264** | SHOT_LEVEL | <font color='blue'>{u'endTimeOffset': u'12933314', u'startTimeOffset': u'8399998'}</font>\n",
    "*   [2] Confidence : **0.496** | SHOT_LEVEL | <font color='blue'>{u'endTimeOffset': u'23533281', u'startTimeOffset': u'21733318'}</font>\n"
   ]
  },
  {
   "cell_type": "markdown",
   "metadata": {},
   "source": [
    "### 对于多关键词，怎样找出最相关的视频片段？ How to rank the video shot relevance for a combination of keywords?\n",
    "A simpel method is to combine confidence pair by 'Certainty Factor': CF = Confidence1 + Confidence2 * ( 1 - Confidence1 )\n"
   ]
  },
  {
   "cell_type": "code",
   "execution_count": null,
   "metadata": {
    "collapsed": false
   },
   "outputs": [],
   "source": [
    "# CF = 0.81967264 + 0.4363379 * ( 1 - 0.81967264 ) = ?\n",
    "print('CF (combined confidence score) = {}'.format(0.81967264 + 0.4363379 * ( 1 - 0.81967264 )))"
   ]
  },
  {
   "cell_type": "code",
   "execution_count": null,
   "metadata": {
    "collapsed": false
   },
   "outputs": [],
   "source": [
    "# * CF = 0.496 + 0.8764819 * ( 1 - 0.496 ) = ?\n",
    "print('CF (combined confidence score) = {}'.format(0.496 + 0.8764819 * ( 1 - 0.496 )))"
   ]
  },
  {
   "cell_type": "markdown",
   "metadata": {},
   "source": [
    "### 搜索示例 Demo:\n",
    "多关键词"
   ]
  },
  {
   "cell_type": "code",
   "execution_count": null,
   "metadata": {
    "collapsed": false
   },
   "outputs": [],
   "source": [
    "KudosData_search(['Animal', 'Sky'])"
   ]
  },
  {
   "cell_type": "code",
   "execution_count": null,
   "metadata": {
    "collapsed": false
   },
   "outputs": [],
   "source": [
    "KudosData_search(['Animal', 'Grassland'])"
   ]
  },
  {
   "cell_type": "markdown",
   "metadata": {},
   "source": [
    "<font color='blue'>\n",
    "[提问] 如果是三个或更多关键词呢，怎么处理？ \n",
    "[Question] Which video shot is most relvant for: Animal, Sky, and Grassland? And why?\n",
    "</font>"
   ]
  },
  {
   "cell_type": "code",
   "execution_count": null,
   "metadata": {
    "collapsed": false,
    "scrolled": true
   },
   "outputs": [],
   "source": [
    "HTML(data='''<video alt=\"test\" controls><source src=\"data:video/mp4;base64,{0}\" type=\"video/mp4\" /></video>'''\n",
    "     .format(encode_media(video_file)))"
   ]
  },
  {
   "cell_type": "code",
   "execution_count": null,
   "metadata": {
    "collapsed": false
   },
   "outputs": [],
   "source": [
    "KudosData_search(['Animal', 'SamGu'])"
   ]
  },
  {
   "cell_type": "markdown",
   "metadata": {},
   "source": [
    "<font color='blue'>< End of interactive demo ></font>"
   ]
  },
  {
   "cell_type": "markdown",
   "metadata": {},
   "source": [
    "### 定义一个输出为视频分析结果的文本消息的小功能，用于微信回复："
   ]
  },
  {
   "cell_type": "code",
   "execution_count": null,
   "metadata": {
    "collapsed": true
   },
   "outputs": [],
   "source": [
    "def KudosData_video_generate_reply(parm_video_response):\n",
    "    video_reply = u'[ Video Analysis 视频分析结果 ]'\n",
    "    \n",
    "    # 1. 识别视频的场景片段 (Detect shots change in video)\n",
    "    if parm_video_api_display_seconds: # our pre-defined control parm\n",
    "        parm_denominator = 1000000 # dispay results in seconds\n",
    "    else:\n",
    "        parm_denominator = 1  # dispay results in microseconds\n",
    "\n",
    "    video_reply += '\\n' + (u'\\n[ 视频场景片段 ]')\n",
    "    video_reply += '\\n' + ('Number of scenery/shot detected : {}'\n",
    "                           .format(len(parm_video_response['response']['annotationResults'][0]['shotAnnotations'])))\n",
    "    for i in range(len(parm_video_response['response']['annotationResults'][0]['shotAnnotations'])):\n",
    "    #     video_reply += (parm_video_response['response']['annotationResults'][0]['shotAnnotations'][i]) \n",
    "        if i == 0:\n",
    "            video_reply += '\\n' + ('Shot 1 : 0 ~ {} {}'\n",
    "                .format(\n",
    "                    int(parm_video_response['response']['annotationResults'][0]['shotAnnotations'][i]['endTimeOffset'])\n",
    "                    /parm_denominator\n",
    "                  , 'seconds' if parm_video_api_display_seconds else 'microseconds'\n",
    "                ))\n",
    "        else:\n",
    "            video_reply += '\\n' + ('Shot {} : {} ~ {} {}'\n",
    "                .format(i+1\n",
    "                  , int(parm_video_response['response']['annotationResults'][0]['shotAnnotations'][i]['startTimeOffset'])\n",
    "                        /parm_denominator\n",
    "                  , int(parm_video_response['response']['annotationResults'][0]['shotAnnotations'][i]['endTimeOffset'])\n",
    "                        /parm_denominator\n",
    "                  , 'seconds' if parm_video_api_display_seconds else 'microseconds'\n",
    "                ))\n",
    "\n",
    "    \n",
    "    # 2. 识别视频消息中的物体名字 (Recognize objects in video/shots)\n",
    "    \n",
    "    video_reply += '\\n' + (u'\\n[ 视频物体识别 ]')\n",
    "    video_reply += '\\n' + ('Number of objects detected : {}'\n",
    "                    .format(len(parm_video_response['response']['annotationResults'][0]['labelAnnotations'])))\n",
    "\n",
    "    for i in range(len(parm_video_response['response']['annotationResults'][0]['labelAnnotations'])):\n",
    "        # video_reply +=  each object's name:\n",
    "        video_reply += '\\n'\n",
    "        video_reply += '\\n' + ('Object {} : {}\\n    @  {} Locations: '.format(\n",
    "                  i+1\n",
    "                , parm_video_response['response']['annotationResults'][0]['labelAnnotations'][i]['description']\n",
    "                , len(parm_video_response['response']['annotationResults'][0]['labelAnnotations'][i]['locations'])\n",
    "            ))\n",
    "\n",
    "            # video_reply +=  each object's location in video:\n",
    "        for j in range(len(parm_video_response['response']['annotationResults'][0]['labelAnnotations'][i]['locations'])):\n",
    "    #         video_reply += (parm_video_response['response']['annotationResults'][0]['labelAnnotations'][i]['locations'][j])\n",
    "            video_reply += '\\n' + ('      [{}] Confidence : {} | {} | {} '.format(\n",
    "                  j+1\n",
    "                , parm_video_response['response']['annotationResults'][0]['labelAnnotations'][i]['locations'][j]['confidence']\n",
    "                , parm_video_response['response']['annotationResults'][0]['labelAnnotations'][i]['locations'][j]['segment']\n",
    "                , parm_video_response['response']['annotationResults'][0]['labelAnnotations'][i]['locations'][j]['level']\n",
    "                  ))\n",
    "\n",
    "    return video_reply"
   ]
  },
  {
   "cell_type": "code",
   "execution_count": null,
   "metadata": {
    "collapsed": false,
    "scrolled": false
   },
   "outputs": [],
   "source": [
    "print(KudosData_video_generate_reply(parm_video_response))"
   ]
  },
  {
   "cell_type": "markdown",
   "metadata": {},
   "source": [
    "### 用微信App扫QR码图片来自动登录"
   ]
  },
  {
   "cell_type": "code",
   "execution_count": null,
   "metadata": {
    "collapsed": false,
    "scrolled": true
   },
   "outputs": [],
   "source": [
    "itchat.auto_login(hotReload=True) # hotReload=True: 退出程序后暂存登陆状态。即使程序关闭，一定时间内重新开启也可以不用重新扫码。\n",
    "# itchat.auto_login(enableCmdQR=-2) # enableCmdQR=-2: 命令行显示QR图片"
   ]
  },
  {
   "cell_type": "code",
   "execution_count": null,
   "metadata": {
    "collapsed": true
   },
   "outputs": [],
   "source": [
    "# @itchat.msg_register([VIDEO], isGroupChat=True)\n",
    "@itchat.msg_register([VIDEO])\n",
    "def download_files(msg):\n",
    "    msg.download(msg.fileName)\n",
    "    print('\\nDownloaded video file name is: %s' % msg['FileName'])\n",
    "    ##############################################################################################################\n",
    "    #                                          call video analysis APIs                                          #\n",
    "    ##############################################################################################################\n",
    "    global parm_video_response # save into global variable, which can be accessed by next WeChat keyword search\n",
    "    parm_video_response = KudosData_VIDEO_DETECTION(encode_media(msg['FileName']))\n",
    "    ##############################################################################################################\n",
    "    #                                          format video API results                                          #\n",
    "    ##############################################################################################################\n",
    "    video_analysis_reply = KudosData_video_generate_reply(parm_video_response)\n",
    "    print ('')\n",
    "    print(video_analysis_reply)\n",
    "    return video_analysis_reply"
   ]
  },
  {
   "cell_type": "code",
   "execution_count": null,
   "metadata": {
    "collapsed": true
   },
   "outputs": [],
   "source": [
    "# 单聊模式，基于关键词进行视频搜索：\n",
    "@itchat.msg_register([TEXT])\n",
    "def text_reply(msg):\n",
    "#     if msg['isAt']:\n",
    "        list_keywords = [x.strip() for x in msg['Text'].split(',')]\n",
    "        # call video search function:\n",
    "        search_responses = KudosData_search(list_keywords) # return is a list\n",
    "        # Format search results:\n",
    "        search_reply = u'[ Video Search 视频搜索结果 ]' + '\\n'\n",
    "        if len(search_responses) == 0:\n",
    "            search_reply += u'[ Nill 无结果 ]'\n",
    "        else:\n",
    "            for i in range(len(search_responses)): search_reply += u'\\n' + str(search_responses[i])\n",
    "        print ('')\n",
    "        print (search_reply)\n",
    "        return search_reply"
   ]
  },
  {
   "cell_type": "code",
   "execution_count": null,
   "metadata": {
    "collapsed": false,
    "scrolled": false
   },
   "outputs": [
    {
     "name": "stderr",
     "output_type": "stream",
     "text": [
      "Bye~\n"
     ]
    }
   ],
   "source": [
    "itchat.run()"
   ]
  },
  {
   "cell_type": "markdown",
   "metadata": {},
   "source": [
    "<font color='blue'>\n",
    "<font color='blue'>\n",
    "[提问] 是不是可以用图片来搜索视频内容？需要怎么处理？ \n",
    "[Question] Can we use image as input to search video content? How?\n",
    "</font>\n"
   ]
  },
  {
   "cell_type": "code",
   "execution_count": null,
   "metadata": {
    "collapsed": false
   },
   "outputs": [],
   "source": [
    "# interupt kernel, then logout\n",
    "itchat.logout() # 安全退出"
   ]
  },
  {
   "cell_type": "markdown",
   "metadata": {},
   "source": [
    "### 恭喜您！已经完成了：\n",
    "### 第五课：视频识别和处理\n",
    "### Lesson 5: Video Recognition & Processing\n",
    "* 识别视频的场景片段 (Detect shots change in video)\n",
    "* 识别视频消息中的物体名字 (Recognize objects in video/shots)\n",
    "* 直接搜索视频内容 (Search content in video)"
   ]
  },
  {
   "cell_type": "markdown",
   "metadata": {},
   "source": [
    "### 下一课是:\n",
    "### 第六课：互动智能机器人应用\n",
    "### Lesson 6: Intelligent & Interactive Chat-bot Applications\n",
    "* 多语言翻译器 (Language translator)\n",
    "* 图文多媒体的订阅和点播 (Multi-media broadcast & on-demand subscription)\n",
    "* 文章的概括和缩写 (Automatic article summary)\n",
    "* 不良图片的识别；不良视频片段的自动识别和定位 (Explicit content detector: i.e. adult content or violent content)\n",
    "* 基于商品图片的搜索和商家价格比较 (Best retail price finder using an image of goods)"
   ]
  },
  {
   "cell_type": "markdown",
   "metadata": {},
   "source": [
    "<img src='http://www.kudosdata.com/wp-content/uploads/2016/11/cropped-KudosLogo1.png' width=30% style=\"float: right;\">\n",
    "<img src='reference/WeChat_SamGu_QR.png' width=10% style=\"float: left;\">\n",
    "\n"
   ]
  }
 ],
 "metadata": {
  "kernelspec": {
   "display_name": "Python 2",
   "language": "python",
   "name": "python2"
  },
  "language_info": {
   "codemirror_mode": {
    "name": "ipython",
    "version": 2
   },
   "file_extension": ".py",
   "mimetype": "text/x-python",
   "name": "python",
   "nbconvert_exporter": "python",
   "pygments_lexer": "ipython2",
   "version": "2.7.9"
  }
 },
 "nbformat": 4,
 "nbformat_minor": 2
}
