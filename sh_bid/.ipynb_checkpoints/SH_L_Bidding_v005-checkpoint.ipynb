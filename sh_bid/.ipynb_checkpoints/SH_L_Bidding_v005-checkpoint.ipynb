{
 "cells": [
  {
   "cell_type": "markdown",
   "metadata": {},
   "source": [
    "By: 顾 瞻 GU Zhan (Sam)\n",
    "\n",
    "July 2017"
   ]
  },
  {
   "cell_type": "markdown",
   "metadata": {},
   "source": [
    "# [2] Data pre-porcessing\n",
    "Explore and visualize data"
   ]
  },
  {
   "cell_type": "code",
   "execution_count": 1,
   "metadata": {},
   "outputs": [
    {
     "name": "stdout",
     "output_type": "stream",
     "text": [
      "Automatically created module for IPython interactive environment\n"
     ]
    }
   ],
   "source": [
    "# from __future__ import print_function, division\n",
    "%matplotlib inline\n",
    "import numpy as np\n",
    "import matplotlib.pyplot as plt\n",
    "import seaborn as sns; sns.set()\n",
    "import pandas as pd\n",
    "import operator\n",
    "from scipy import interp\n",
    "from itertools import cycle\n",
    "from sklearn import svm\n",
    "from sklearn.utils.validation import check_random_state\n",
    "from sklearn.model_selection import StratifiedKFold, cross_val_score\n",
    "from sklearn.preprocessing import StandardScaler\n",
    "\n",
    "from sklearn.ensemble import GradientBoostingRegressor\n",
    "from sklearn.ensemble import RandomForestRegressor\n",
    "from sklearn.ensemble import AdaBoostRegressor\n",
    "from sklearn.ensemble import ExtraTreesRegressor\n",
    "from sklearn.ensemble import BaggingRegressor\n",
    "from sklearn.linear_model import LinearRegression\n",
    "from sklearn.neighbors import KNeighborsRegressor\n",
    "from sklearn.ensemble import GradientBoostingClassifier\n",
    "from sklearn.ensemble import RandomForestClassifier\n",
    "from sklearn.ensemble import AdaBoostClassifier\n",
    "from sklearn.ensemble import ExtraTreesClassifier\n",
    "from sklearn.ensemble import BaggingClassifier\n",
    "from sklearn.linear_model import LogisticRegression\n",
    "from sklearn.neighbors import KNeighborsClassifier\n",
    "\n",
    "from sklearn.metrics import roc_curve, auc\n",
    "from statsmodels.graphics.mosaicplot import mosaic\n",
    "print(__doc__)"
   ]
  },
  {
   "cell_type": "markdown",
   "metadata": {},
   "source": [
    "### Read raw data"
   ]
  },
  {
   "cell_type": "code",
   "execution_count": 2,
   "metadata": {},
   "outputs": [
    {
     "data": {
      "text/html": [
       "<div>\n",
       "<style>\n",
       "    .dataframe thead tr:only-child th {\n",
       "        text-align: right;\n",
       "    }\n",
       "\n",
       "    .dataframe thead th {\n",
       "        text-align: left;\n",
       "    }\n",
       "\n",
       "    .dataframe tbody tr th {\n",
       "        vertical-align: top;\n",
       "    }\n",
       "</style>\n",
       "<table border=\"1\" class=\"dataframe\">\n",
       "  <thead>\n",
       "    <tr style=\"text-align: right;\">\n",
       "      <th></th>\n",
       "      <th>ccyy-mm</th>\n",
       "      <th>time</th>\n",
       "      <th>bid-price</th>\n",
       "    </tr>\n",
       "  </thead>\n",
       "  <tbody>\n",
       "    <tr>\n",
       "      <th>1886</th>\n",
       "      <td>2017-07</td>\n",
       "      <td>11:29:56</td>\n",
       "      <td>92100</td>\n",
       "    </tr>\n",
       "    <tr>\n",
       "      <th>1887</th>\n",
       "      <td>2017-07</td>\n",
       "      <td>11:29:57</td>\n",
       "      <td>92100</td>\n",
       "    </tr>\n",
       "    <tr>\n",
       "      <th>1888</th>\n",
       "      <td>2017-07</td>\n",
       "      <td>11:29:58</td>\n",
       "      <td>92100</td>\n",
       "    </tr>\n",
       "    <tr>\n",
       "      <th>1889</th>\n",
       "      <td>2017-07</td>\n",
       "      <td>11:29:59</td>\n",
       "      <td>92200</td>\n",
       "    </tr>\n",
       "    <tr>\n",
       "      <th>1890</th>\n",
       "      <td>2017-07</td>\n",
       "      <td>11:30:00</td>\n",
       "      <td>92200</td>\n",
       "    </tr>\n",
       "  </tbody>\n",
       "</table>\n",
       "</div>"
      ],
      "text/plain": [
       "      ccyy-mm      time  bid-price\n",
       "1886  2017-07  11:29:56      92100\n",
       "1887  2017-07  11:29:57      92100\n",
       "1888  2017-07  11:29:58      92100\n",
       "1889  2017-07  11:29:59      92200\n",
       "1890  2017-07  11:30:00      92200"
      ]
     },
     "execution_count": 2,
     "metadata": {},
     "output_type": "execute_result"
    }
   ],
   "source": [
    "df_history_ts = pd.read_csv('data/history_ts.csv') \n",
    "df_history_ts_process = df_history_ts.copy()\n",
    "df_history_ts_process.tail()"
   ]
  },
  {
   "cell_type": "code",
   "execution_count": 3,
   "metadata": {},
   "outputs": [
    {
     "data": {
      "text/html": [
       "<div>\n",
       "<style>\n",
       "    .dataframe thead tr:only-child th {\n",
       "        text-align: right;\n",
       "    }\n",
       "\n",
       "    .dataframe thead th {\n",
       "        text-align: left;\n",
       "    }\n",
       "\n",
       "    .dataframe tbody tr th {\n",
       "        vertical-align: top;\n",
       "    }\n",
       "</style>\n",
       "<table border=\"1\" class=\"dataframe\">\n",
       "  <thead>\n",
       "    <tr style=\"text-align: right;\">\n",
       "      <th></th>\n",
       "      <th>ccyy-mm</th>\n",
       "      <th>volume-plate</th>\n",
       "      <th>deal-price-low</th>\n",
       "      <th>deal-price-avg</th>\n",
       "      <th>deal-early-second</th>\n",
       "      <th>volume-bidder</th>\n",
       "    </tr>\n",
       "  </thead>\n",
       "  <tbody>\n",
       "    <tr>\n",
       "      <th>26</th>\n",
       "      <td>2017-03</td>\n",
       "      <td>10356</td>\n",
       "      <td>87800</td>\n",
       "      <td>87916</td>\n",
       "      <td>55</td>\n",
       "      <td>262010</td>\n",
       "    </tr>\n",
       "    <tr>\n",
       "      <th>27</th>\n",
       "      <td>2017-04</td>\n",
       "      <td>12196</td>\n",
       "      <td>89800</td>\n",
       "      <td>89850</td>\n",
       "      <td>59</td>\n",
       "      <td>252273</td>\n",
       "    </tr>\n",
       "    <tr>\n",
       "      <th>28</th>\n",
       "      <td>2017-05</td>\n",
       "      <td>10316</td>\n",
       "      <td>90100</td>\n",
       "      <td>90209</td>\n",
       "      <td>55</td>\n",
       "      <td>270197</td>\n",
       "    </tr>\n",
       "    <tr>\n",
       "      <th>29</th>\n",
       "      <td>2017-06</td>\n",
       "      <td>10312</td>\n",
       "      <td>89400</td>\n",
       "      <td>89532</td>\n",
       "      <td>45</td>\n",
       "      <td>244349</td>\n",
       "    </tr>\n",
       "    <tr>\n",
       "      <th>30</th>\n",
       "      <td>2017-07</td>\n",
       "      <td>10325</td>\n",
       "      <td>92200</td>\n",
       "      <td>92250</td>\n",
       "      <td>57</td>\n",
       "      <td>269189</td>\n",
       "    </tr>\n",
       "  </tbody>\n",
       "</table>\n",
       "</div>"
      ],
      "text/plain": [
       "    ccyy-mm  volume-plate  deal-price-low  deal-price-avg  deal-early-second  \\\n",
       "26  2017-03         10356           87800           87916                 55   \n",
       "27  2017-04         12196           89800           89850                 59   \n",
       "28  2017-05         10316           90100           90209                 55   \n",
       "29  2017-06         10312           89400           89532                 45   \n",
       "30  2017-07         10325           92200           92250                 57   \n",
       "\n",
       "    volume-bidder  \n",
       "26         262010  \n",
       "27         252273  \n",
       "28         270197  \n",
       "29         244349  \n",
       "30         269189  "
      ]
     },
     "execution_count": 3,
     "metadata": {},
     "output_type": "execute_result"
    }
   ],
   "source": [
    "df_history_table = pd.read_csv('data/history_table.csv') \n",
    "df_history_table_process = df_history_table.copy()\n",
    "df_history_table_process.tail()"
   ]
  },
  {
   "cell_type": "markdown",
   "metadata": {},
   "source": [
    "### Parameters"
   ]
  },
  {
   "cell_type": "code",
   "execution_count": 4,
   "metadata": {
    "scrolled": true
   },
   "outputs": [
    {
     "name": "stdout",
     "output_type": "stream",
     "text": [
      "parm_ts_cycle : 61 seconds\n",
      "parm_ts_month : 31 months\n",
      "parm_ts_valid_cycle : 39 seconds\n",
      "parm_ts_valid_month : 27 months\n",
      "parm_record_cut_ccyy : 2015-04-01 00:00:00\n",
      "parm_record_cut_month_head : 4 months\n",
      "parm_record_cut_row_head :  15 seconds\n",
      "parm_record_cut_row_tail :  7 seconds\n",
      " : \n",
      " : \n",
      " : \n"
     ]
    }
   ],
   "source": [
    "parm_ts_cycle = 61 # seconds/records per month\n",
    "print('parm_ts_cycle : %d seconds' % parm_ts_cycle)\n",
    "parm_ts_month = int(len(df_history_ts) / parm_ts_cycle)\n",
    "print('parm_ts_month : %d months' %  parm_ts_month)\n",
    "\n",
    "parm_calculate_base_price_second = 15 # Use the current month's bid-price as base-price at this seconds. Later to derive increment-price\n",
    "parm_calculate_prev_bp = 15 # Number of previous price/increment to include, i.e. previous 2sec, 3sec, 4sec, 5sec ... 15sec\n",
    "parm_calculate_mv = 15 # Number of  previous price/increment Moving Average to calculate, i.e. previous 2sec, 3sec, 4sec, 5sec ... 15sec\n",
    "parm_calculate_target_second = 7 # How many seconds in future to predict: target variable\n",
    "parm_calculate_prev_month = 3 # Number of previous month to include (need to remove earliest x month from training data)\n",
    "\n",
    "parm_record_cut_row_head = max(parm_calculate_base_price_second, parm_calculate_prev_bp, parm_calculate_mv)\n",
    "parm_record_cut_row_tail = parm_calculate_target_second\n",
    "parm_record_cut_month_head = parm_calculate_prev_month + 1\n",
    "\n",
    "parm_ts_valid_cycle = parm_ts_cycle - parm_record_cut_row_head - parm_record_cut_row_tail\n",
    "print('parm_ts_valid_cycle : %d seconds' % parm_ts_valid_cycle)\n",
    "parm_ts_valid_month = parm_ts_month - parm_record_cut_month_head\n",
    "print('parm_ts_valid_month : %d months' % parm_ts_valid_month)\n",
    "\n",
    "if parm_record_cut_month_head < 10:\n",
    "    parm_record_cut_ccyy = pd.to_datetime('2015-0'+str(parm_record_cut_month_head))\n",
    "else:\n",
    "    parm_record_cut_ccyy = pd.to_datetime('2015-'+str(parm_record_cut_month_head))\n",
    "\n",
    "print('parm_record_cut_ccyy : %s' % parm_record_cut_ccyy)\n",
    "\n",
    "print('parm_record_cut_month_head : %d months' % parm_record_cut_month_head)\n",
    "print('parm_record_cut_row_head :  %d seconds' % parm_record_cut_row_head)\n",
    "print('parm_record_cut_row_tail :  %d seconds' % parm_record_cut_row_tail)\n",
    "print(' : ' )\n",
    "print(' : ' )\n",
    "print(' : ' )\n",
    "\n"
   ]
  },
  {
   "cell_type": "code",
   "execution_count": 5,
   "metadata": {},
   "outputs": [
    {
     "data": {
      "text/html": [
       "<div>\n",
       "<style>\n",
       "    .dataframe thead tr:only-child th {\n",
       "        text-align: right;\n",
       "    }\n",
       "\n",
       "    .dataframe thead th {\n",
       "        text-align: left;\n",
       "    }\n",
       "\n",
       "    .dataframe tbody tr th {\n",
       "        vertical-align: top;\n",
       "    }\n",
       "</style>\n",
       "<table border=\"1\" class=\"dataframe\">\n",
       "  <thead>\n",
       "    <tr style=\"text-align: right;\">\n",
       "      <th></th>\n",
       "      <th>ccyy-mm</th>\n",
       "      <th>time</th>\n",
       "      <th>bid-price</th>\n",
       "    </tr>\n",
       "  </thead>\n",
       "  <tbody>\n",
       "    <tr>\n",
       "      <th>0</th>\n",
       "      <td>2015-01</td>\n",
       "      <td>11:29:00</td>\n",
       "      <td>74000</td>\n",
       "    </tr>\n",
       "    <tr>\n",
       "      <th>1</th>\n",
       "      <td>2015-01</td>\n",
       "      <td>11:29:01</td>\n",
       "      <td>74000</td>\n",
       "    </tr>\n",
       "    <tr>\n",
       "      <th>2</th>\n",
       "      <td>2015-01</td>\n",
       "      <td>11:29:02</td>\n",
       "      <td>74000</td>\n",
       "    </tr>\n",
       "    <tr>\n",
       "      <th>3</th>\n",
       "      <td>2015-01</td>\n",
       "      <td>11:29:03</td>\n",
       "      <td>74000</td>\n",
       "    </tr>\n",
       "    <tr>\n",
       "      <th>4</th>\n",
       "      <td>2015-01</td>\n",
       "      <td>11:29:04</td>\n",
       "      <td>74000</td>\n",
       "    </tr>\n",
       "  </tbody>\n",
       "</table>\n",
       "</div>"
      ],
      "text/plain": [
       "   ccyy-mm      time  bid-price\n",
       "0  2015-01  11:29:00      74000\n",
       "1  2015-01  11:29:01      74000\n",
       "2  2015-01  11:29:02      74000\n",
       "3  2015-01  11:29:03      74000\n",
       "4  2015-01  11:29:04      74000"
      ]
     },
     "execution_count": 5,
     "metadata": {},
     "output_type": "execute_result"
    }
   ],
   "source": [
    "df_history_ts_process.head()"
   ]
  },
  {
   "cell_type": "code",
   "execution_count": null,
   "metadata": {
    "collapsed": true
   },
   "outputs": [],
   "source": []
  },
  {
   "cell_type": "markdown",
   "metadata": {},
   "source": [
    "### Prepare derived features"
   ]
  },
  {
   "cell_type": "markdown",
   "metadata": {},
   "source": [
    "### Process: df_history_ts_process"
   ]
  },
  {
   "cell_type": "code",
   "execution_count": 6,
   "metadata": {
    "collapsed": true
   },
   "outputs": [],
   "source": [
    "# date of current month\n",
    "df_history_ts_process['date-curr'] = df_history_ts_process.apply(lambda row: pd.to_datetime(row['ccyy-mm']), axis=1)\n",
    "\n",
    "# date of previous month\n",
    "df_history_ts_process['date-prev'] = df_history_ts_process.apply(lambda row: row['date-curr'] - pd.offsets.MonthBegin(1), axis=1)\n",
    "\n",
    "\n",
    "# Year\n",
    "df_history_ts_process['year'] = df_history_ts_process.apply(lambda row: row['ccyy-mm'][0:4], axis=1)\n",
    "\n",
    "# Month\n",
    "df_history_ts_process['month'] = df_history_ts_process.apply(lambda row: row['ccyy-mm'][5:7], axis=1)\n",
    "\n",
    "# Hour\n",
    "df_history_ts_process['hour'] = df_history_ts_process.apply(lambda row: row['time'][0:2], axis=1)\n",
    "\n",
    "# Minute\n",
    "df_history_ts_process['minute'] = df_history_ts_process.apply(lambda row: row['time'][3:5], axis=1)\n",
    "\n",
    "# Second\n",
    "df_history_ts_process['second'] = df_history_ts_process.apply(lambda row: row['time'][6:8], axis=1)\n",
    "\n",
    "\n",
    "# datetime of current month\n",
    "df_history_ts_process['datetime-curr'] = df_history_ts_process.apply(lambda row: str(row['date-curr']) + ' ' + row['time'], axis=1)\n",
    "\n",
    "# datetime of previous month\n",
    "df_history_ts_process['datetime-prev'] = df_history_ts_process.apply(lambda row: str(row['date-prev']) + ' ' + row['time'], axis=1)\n"
   ]
  },
  {
   "cell_type": "code",
   "execution_count": 7,
   "metadata": {},
   "outputs": [
    {
     "data": {
      "text/html": [
       "<div>\n",
       "<style>\n",
       "    .dataframe thead tr:only-child th {\n",
       "        text-align: right;\n",
       "    }\n",
       "\n",
       "    .dataframe thead th {\n",
       "        text-align: left;\n",
       "    }\n",
       "\n",
       "    .dataframe tbody tr th {\n",
       "        vertical-align: top;\n",
       "    }\n",
       "</style>\n",
       "<table border=\"1\" class=\"dataframe\">\n",
       "  <thead>\n",
       "    <tr style=\"text-align: right;\">\n",
       "      <th></th>\n",
       "      <th>ccyy-mm</th>\n",
       "      <th>time</th>\n",
       "      <th>bid-price</th>\n",
       "      <th>date-curr</th>\n",
       "      <th>date-prev</th>\n",
       "      <th>year</th>\n",
       "      <th>month</th>\n",
       "      <th>hour</th>\n",
       "      <th>minute</th>\n",
       "      <th>second</th>\n",
       "      <th>datetime-curr</th>\n",
       "      <th>datetime-prev</th>\n",
       "    </tr>\n",
       "  </thead>\n",
       "  <tbody>\n",
       "    <tr>\n",
       "      <th>1886</th>\n",
       "      <td>2017-07</td>\n",
       "      <td>11:29:56</td>\n",
       "      <td>92100</td>\n",
       "      <td>2017-07-01</td>\n",
       "      <td>2017-06-01</td>\n",
       "      <td>2017</td>\n",
       "      <td>07</td>\n",
       "      <td>11</td>\n",
       "      <td>29</td>\n",
       "      <td>56</td>\n",
       "      <td>2017-07-01 00:00:00 11:29:56</td>\n",
       "      <td>2017-06-01 00:00:00 11:29:56</td>\n",
       "    </tr>\n",
       "    <tr>\n",
       "      <th>1887</th>\n",
       "      <td>2017-07</td>\n",
       "      <td>11:29:57</td>\n",
       "      <td>92100</td>\n",
       "      <td>2017-07-01</td>\n",
       "      <td>2017-06-01</td>\n",
       "      <td>2017</td>\n",
       "      <td>07</td>\n",
       "      <td>11</td>\n",
       "      <td>29</td>\n",
       "      <td>57</td>\n",
       "      <td>2017-07-01 00:00:00 11:29:57</td>\n",
       "      <td>2017-06-01 00:00:00 11:29:57</td>\n",
       "    </tr>\n",
       "    <tr>\n",
       "      <th>1888</th>\n",
       "      <td>2017-07</td>\n",
       "      <td>11:29:58</td>\n",
       "      <td>92100</td>\n",
       "      <td>2017-07-01</td>\n",
       "      <td>2017-06-01</td>\n",
       "      <td>2017</td>\n",
       "      <td>07</td>\n",
       "      <td>11</td>\n",
       "      <td>29</td>\n",
       "      <td>58</td>\n",
       "      <td>2017-07-01 00:00:00 11:29:58</td>\n",
       "      <td>2017-06-01 00:00:00 11:29:58</td>\n",
       "    </tr>\n",
       "    <tr>\n",
       "      <th>1889</th>\n",
       "      <td>2017-07</td>\n",
       "      <td>11:29:59</td>\n",
       "      <td>92200</td>\n",
       "      <td>2017-07-01</td>\n",
       "      <td>2017-06-01</td>\n",
       "      <td>2017</td>\n",
       "      <td>07</td>\n",
       "      <td>11</td>\n",
       "      <td>29</td>\n",
       "      <td>59</td>\n",
       "      <td>2017-07-01 00:00:00 11:29:59</td>\n",
       "      <td>2017-06-01 00:00:00 11:29:59</td>\n",
       "    </tr>\n",
       "    <tr>\n",
       "      <th>1890</th>\n",
       "      <td>2017-07</td>\n",
       "      <td>11:30:00</td>\n",
       "      <td>92200</td>\n",
       "      <td>2017-07-01</td>\n",
       "      <td>2017-06-01</td>\n",
       "      <td>2017</td>\n",
       "      <td>07</td>\n",
       "      <td>11</td>\n",
       "      <td>30</td>\n",
       "      <td>00</td>\n",
       "      <td>2017-07-01 00:00:00 11:30:00</td>\n",
       "      <td>2017-06-01 00:00:00 11:30:00</td>\n",
       "    </tr>\n",
       "  </tbody>\n",
       "</table>\n",
       "</div>"
      ],
      "text/plain": [
       "      ccyy-mm      time  bid-price  date-curr  date-prev  year month hour  \\\n",
       "1886  2017-07  11:29:56      92100 2017-07-01 2017-06-01  2017    07   11   \n",
       "1887  2017-07  11:29:57      92100 2017-07-01 2017-06-01  2017    07   11   \n",
       "1888  2017-07  11:29:58      92100 2017-07-01 2017-06-01  2017    07   11   \n",
       "1889  2017-07  11:29:59      92200 2017-07-01 2017-06-01  2017    07   11   \n",
       "1890  2017-07  11:30:00      92200 2017-07-01 2017-06-01  2017    07   11   \n",
       "\n",
       "     minute second                 datetime-curr                 datetime-prev  \n",
       "1886     29     56  2017-07-01 00:00:00 11:29:56  2017-06-01 00:00:00 11:29:56  \n",
       "1887     29     57  2017-07-01 00:00:00 11:29:57  2017-06-01 00:00:00 11:29:57  \n",
       "1888     29     58  2017-07-01 00:00:00 11:29:58  2017-06-01 00:00:00 11:29:58  \n",
       "1889     29     59  2017-07-01 00:00:00 11:29:59  2017-06-01 00:00:00 11:29:59  \n",
       "1890     30     00  2017-07-01 00:00:00 11:30:00  2017-06-01 00:00:00 11:30:00  "
      ]
     },
     "execution_count": 7,
     "metadata": {},
     "output_type": "execute_result"
    }
   ],
   "source": [
    "df_history_ts_process.tail()"
   ]
  },
  {
   "cell_type": "code",
   "execution_count": 8,
   "metadata": {
    "collapsed": true,
    "scrolled": true
   },
   "outputs": [],
   "source": [
    "# df_history_ts_process\n",
    "# df_history_ts_process[1768:]"
   ]
  },
  {
   "cell_type": "code",
   "execution_count": 9,
   "metadata": {
    "scrolled": false
   },
   "outputs": [
    {
     "name": "stdout",
     "output_type": "stream",
     "text": [
      "Creating :  base-price15sec\n",
      "Total records processed :  1891\n"
     ]
    }
   ],
   "source": [
    "# new ['base-price']\n",
    "gap = 1 # only one new feature/column\n",
    "\n",
    "for gap in range(1, gap+1):\n",
    "    col_name = 'base-price'+str(parm_calculate_base_price_second)+'sec'\n",
    "    col_name_base_price = col_name\n",
    "    col_data = pd.DataFrame(columns=[col_name])\n",
    "    print('Creating : ', col_name)  \n",
    "\n",
    "    for month in range(0, parm_ts_month):\n",
    "        for i in range(0, parm_ts_cycle):\n",
    "            col_data.loc[month*parm_ts_cycle+i] = df_history_ts_process['bid-price'][month*parm_ts_cycle+parm_calculate_base_price_second]\n",
    "  \n",
    "    df_history_ts_process[col_name] = col_data\n",
    "\n",
    "print('Total records processed : ', len(col_data))  "
   ]
  },
  {
   "cell_type": "code",
   "execution_count": 10,
   "metadata": {
    "collapsed": true,
    "scrolled": true
   },
   "outputs": [],
   "source": [
    "# df_history_ts_process\n",
    "# df_history_ts_process[1768:]"
   ]
  },
  {
   "cell_type": "code",
   "execution_count": 11,
   "metadata": {
    "collapsed": true
   },
   "outputs": [],
   "source": [
    "# new ['increment-price'] = ['bid-price'] - ['base-price']\n",
    "\n",
    "df_history_ts_process['increment-price'] = df_history_ts_process.apply(lambda row: row['bid-price'] - row[col_name_base_price], axis=1)"
   ]
  },
  {
   "cell_type": "code",
   "execution_count": 12,
   "metadata": {
    "collapsed": true,
    "scrolled": true
   },
   "outputs": [],
   "source": [
    "# df_history_ts_process\n",
    "# df_history_ts_process[1768:]"
   ]
  },
  {
   "cell_type": "code",
   "execution_count": 13,
   "metadata": {},
   "outputs": [
    {
     "data": {
      "text/plain": [
       "[]"
      ]
     },
     "execution_count": 13,
     "metadata": {},
     "output_type": "execute_result"
    },
    {
     "name": "stderr",
     "output_type": "stream",
     "text": [
      "/home/user/env_py3/lib/python3.5/site-packages/matplotlib/font_manager.py:1297: UserWarning: findfont: Font family ['sans-serif'] not found. Falling back to DejaVu Sans\n",
      "  (prop.get_family(), self.defaultFamily[fontext]))\n"
     ]
    },
    {
     "data": {
      "image/png": "[encoded data removed]",
      "text/plain": [
       "<matplotlib.figure.Figure at 0x7f2179ef9c88>"
      ]
     },
     "metadata": {},
     "output_type": "display_data"
    },
    {
     "data": {
      "image/png": "[encoded data removed]",
      "text/plain": [
       "<matplotlib.figure.Figure at 0x7f2179ea1518>"
      ]
     },
     "metadata": {},
     "output_type": "display_data"
    }
   ],
   "source": [
    "plt.figure()\n",
    "plt.plot(df_history_ts_process['bid-price'])\n",
    "plt.plot(df_history_ts_process[col_name_base_price])\n",
    "plt.plot()\n",
    "plt.figure()\n",
    "plt.plot(df_history_ts_process['increment-price'])\n",
    "plt.plot()"
   ]
  },
  {
   "cell_type": "markdown",
   "metadata": {
    "collapsed": true
   },
   "source": [
    "### ['increment-price-target']"
   ]
  },
  {
   "cell_type": "code",
   "execution_count": 14,
   "metadata": {},
   "outputs": [
    {
     "name": "stdout",
     "output_type": "stream",
     "text": [
      "Creating :  increment-price-target\n",
      "Total records processed :  1891\n"
     ]
    }
   ],
   "source": [
    "# previous N sec ['increment-price-target']\n",
    "\n",
    "for gap in range(1, 2):\n",
    "    col_name = 'increment-price-target'\n",
    "    col_data = pd.DataFrame(columns=[col_name])\n",
    "    print('Creating : ', col_name)  \n",
    "\n",
    "    for month in range(0, parm_ts_month):\n",
    "    #     print('month : ', month)\n",
    "        for i in range(0, (parm_ts_cycle - parm_calculate_target_second)):\n",
    "            col_data.loc[month*parm_ts_cycle+i] = df_history_ts_process['increment-price'][month*parm_ts_cycle+i+parm_calculate_target_second]\n",
    "        for i in range((parm_ts_cycle - parm_calculate_target_second), parm_ts_cycle):\n",
    "            col_data.loc[month*parm_ts_cycle+i] = 0\n",
    "  \n",
    "    df_history_ts_process[col_name] = col_data\n",
    "\n",
    "print('Total records processed : ', len(col_data))  "
   ]
  },
  {
   "cell_type": "code",
   "execution_count": 15,
   "metadata": {
    "scrolled": false
   },
   "outputs": [
    {
     "data": {
      "text/plain": [
       "[]"
      ]
     },
     "execution_count": 15,
     "metadata": {},
     "output_type": "execute_result"
    },
    {
     "name": "stderr",
     "output_type": "stream",
     "text": [
      "/home/user/env_py3/lib/python3.5/site-packages/matplotlib/font_manager.py:1297: UserWarning: findfont: Font family ['sans-serif'] not found. Falling back to DejaVu Sans\n",
      "  (prop.get_family(), self.defaultFamily[fontext]))\n"
     ]
    },
    {
     "data": {
      "image/png": "[encoded data removed]",
      "text/plain": [
       "<matplotlib.figure.Figure at 0x7f2179eeb470>"
      ]
     },
     "metadata": {},
     "output_type": "display_data"
    },
    {
     "data": {
      "image/png": "[encoded data removed]",
      "text/plain": [
       "<matplotlib.figure.Figure at 0x7f2177bd1e48>"
      ]
     },
     "metadata": {},
     "output_type": "display_data"
    }
   ],
   "source": [
    "plt.figure()\n",
    "plt.plot(df_history_ts_process['increment-price'])\n",
    "plt.plot(df_history_ts_process['increment-price-target'])\n",
    "plt.plot()\n",
    "\n",
    "plt.figure()\n",
    "plt.plot(df_history_ts_process['increment-price'][1768:])\n",
    "plt.plot(df_history_ts_process['increment-price-target'][1768:])\n",
    "plt.plot()"
   ]
  },
  {
   "cell_type": "code",
   "execution_count": null,
   "metadata": {
    "collapsed": true
   },
   "outputs": [],
   "source": []
  },
  {
   "cell_type": "code",
   "execution_count": 16,
   "metadata": {
    "scrolled": false
   },
   "outputs": [
    {
     "name": "stdout",
     "output_type": "stream",
     "text": [
      "Creating :  increment-price-prev1sec\n",
      "Creating :  increment-price-prev2sec\n",
      "Creating :  increment-price-prev3sec\n",
      "Creating :  increment-price-prev4sec\n",
      "Creating :  increment-price-prev5sec\n",
      "Creating :  increment-price-prev6sec\n",
      "Creating :  increment-price-prev7sec\n",
      "Creating :  increment-price-prev8sec\n",
      "Creating :  increment-price-prev9sec\n",
      "Creating :  increment-price-prev10sec\n",
      "Creating :  increment-price-prev11sec\n",
      "Creating :  increment-price-prev12sec\n",
      "Creating :  increment-price-prev13sec\n",
      "Creating :  increment-price-prev14sec\n",
      "Creating :  increment-price-prev15sec\n",
      "Total records processed :  1891\n"
     ]
    }
   ],
   "source": [
    "# previous 'parm_calculate_prev_bp' sec ['increment-price']\n",
    "gap = parm_calculate_prev_bp\n",
    "\n",
    "for gap in range(1, gap+1):\n",
    "    col_name = 'increment-price-prev'+str(gap)+'sec'\n",
    "    col_data = pd.DataFrame(columns=[col_name])\n",
    "#     col_data_zeros = pd.DataFrame({col_name: np.zeros(gap)})\n",
    "    print('Creating : ', col_name)  \n",
    "\n",
    "    for month in range(0, parm_ts_month):\n",
    "    #     print('month : ', month)\n",
    "#         col_data.append(col_data_zeros)\n",
    "        for i in range(0, gap):\n",
    "            col_data.loc[month*parm_ts_cycle+i] = 0\n",
    "        for i in range(gap, parm_ts_cycle):\n",
    "            col_data.loc[month*parm_ts_cycle+i] = df_history_ts_process['increment-price'][month*parm_ts_cycle+i-gap]\n",
    "  \n",
    "    df_history_ts_process[col_name] = col_data\n",
    "\n",
    "print('Total records processed : ', len(col_data))  "
   ]
  },
  {
   "cell_type": "code",
   "execution_count": 17,
   "metadata": {
    "scrolled": true
   },
   "outputs": [
    {
     "name": "stdout",
     "output_type": "stream",
     "text": [
      "Creating :  increment-price-mv2sec\n",
      "Creating :  increment-price-mv3sec\n",
      "Creating :  increment-price-mv4sec\n",
      "Creating :  increment-price-mv5sec\n",
      "Creating :  increment-price-mv6sec\n",
      "Creating :  increment-price-mv7sec\n",
      "Creating :  increment-price-mv8sec\n",
      "Creating :  increment-price-mv9sec\n",
      "Creating :  increment-price-mv10sec\n",
      "Creating :  increment-price-mv11sec\n",
      "Creating :  increment-price-mv12sec\n",
      "Creating :  increment-price-mv13sec\n",
      "Creating :  increment-price-mv14sec\n",
      "Creating :  increment-price-mv15sec\n",
      "Total records processed :  1891\n"
     ]
    }
   ],
   "source": [
    "# previous 'parm_calculate_mv' sec Moving Average ['increment-price']\n",
    "\n",
    "gap = parm_calculate_mv\n",
    "\n",
    "for gap in range(2, gap+1): # MV starts from 2 seconds, till parm_calculate_mv\n",
    "    col_name = 'increment-price-mv'+str(gap)+'sec'\n",
    "    col_data = pd.DataFrame(columns=[col_name])\n",
    "    print('Creating : ', col_name)  \n",
    "\n",
    "    for month in range(0, parm_ts_month):\n",
    "    #     print('month : ', month)\n",
    "        for i in range(0, gap):\n",
    "            col_data.loc[month*parm_ts_cycle+i] = 0\n",
    "        for i in range(gap, parm_ts_cycle):\n",
    "            col_data.loc[month*parm_ts_cycle+i] = \\\n",
    "            np.mean(df_history_ts_process['increment-price'][month*parm_ts_cycle+i-gap:month*parm_ts_cycle+i])\n",
    "  \n",
    "    df_history_ts_process[col_name] = col_data\n",
    "\n",
    "print('Total records processed : ', len(col_data)) "
   ]
  },
  {
   "cell_type": "code",
   "execution_count": 18,
   "metadata": {
    "collapsed": true,
    "scrolled": true
   },
   "outputs": [],
   "source": [
    "# df_history_ts_process[1768:]"
   ]
  },
  {
   "cell_type": "code",
   "execution_count": 19,
   "metadata": {},
   "outputs": [
    {
     "data": {
      "text/plain": [
       "[]"
      ]
     },
     "execution_count": 19,
     "metadata": {},
     "output_type": "execute_result"
    },
    {
     "name": "stderr",
     "output_type": "stream",
     "text": [
      "/home/user/env_py3/lib/python3.5/site-packages/matplotlib/font_manager.py:1297: UserWarning: findfont: Font family ['sans-serif'] not found. Falling back to DejaVu Sans\n",
      "  (prop.get_family(), self.defaultFamily[fontext]))\n"
     ]
    },
    {
     "data": {
      "image/png": "[encoded data removed]",
      "text/plain": [
       "<matplotlib.figure.Figure at 0x7f2177b70d68>"
      ]
     },
     "metadata": {},
     "output_type": "display_data"
    }
   ],
   "source": [
    "plt.figure()\n",
    "plt.plot(df_history_ts_process['increment-price'][1768:])\n",
    "plt.plot(df_history_ts_process['increment-price-prev3sec'][1768:])\n",
    "plt.plot(df_history_ts_process['increment-price-prev7sec'][1768:])\n",
    "plt.plot(df_history_ts_process['increment-price-prev11sec'][1768:])\n",
    "plt.plot(df_history_ts_process['increment-price-prev15sec'][1768:])\n",
    "plt.plot()"
   ]
  },
  {
   "cell_type": "code",
   "execution_count": 20,
   "metadata": {},
   "outputs": [
    {
     "data": {
      "text/plain": [
       "[]"
      ]
     },
     "execution_count": 20,
     "metadata": {},
     "output_type": "execute_result"
    },
    {
     "name": "stderr",
     "output_type": "stream",
     "text": [
      "/home/user/env_py3/lib/python3.5/site-packages/matplotlib/font_manager.py:1297: UserWarning: findfont: Font family ['sans-serif'] not found. Falling back to DejaVu Sans\n",
      "  (prop.get_family(), self.defaultFamily[fontext]))\n"
     ]
    },
    {
     "data": {
      "image/png": "[encoded data removed]",
      "text/plain": [
       "<matplotlib.figure.Figure at 0x7f2179d7cba8>"
      ]
     },
     "metadata": {},
     "output_type": "display_data"
    }
   ],
   "source": [
    "plt.figure()\n",
    "plt.plot(df_history_ts_process['increment-price'][1768:])\n",
    "plt.plot(df_history_ts_process['increment-price-mv3sec'][1768:])\n",
    "plt.plot(df_history_ts_process['increment-price-mv7sec'][1768:])\n",
    "plt.plot(df_history_ts_process['increment-price-mv11sec'][1768:])\n",
    "plt.plot(df_history_ts_process['increment-price-mv15sec'][1768:])\n",
    "plt.plot()"
   ]
  },
  {
   "cell_type": "code",
   "execution_count": null,
   "metadata": {
    "collapsed": true
   },
   "outputs": [],
   "source": []
  },
  {
   "cell_type": "markdown",
   "metadata": {
    "collapsed": true
   },
   "source": [
    "### Process: df_history_table_process"
   ]
  },
  {
   "cell_type": "code",
   "execution_count": 21,
   "metadata": {},
   "outputs": [
    {
     "data": {
      "text/html": [
       "<div>\n",
       "<style>\n",
       "    .dataframe thead tr:only-child th {\n",
       "        text-align: right;\n",
       "    }\n",
       "\n",
       "    .dataframe thead th {\n",
       "        text-align: left;\n",
       "    }\n",
       "\n",
       "    .dataframe tbody tr th {\n",
       "        vertical-align: top;\n",
       "    }\n",
       "</style>\n",
       "<table border=\"1\" class=\"dataframe\">\n",
       "  <thead>\n",
       "    <tr style=\"text-align: right;\">\n",
       "      <th></th>\n",
       "      <th>ccyy-mm</th>\n",
       "      <th>volume-plate</th>\n",
       "      <th>deal-price-low</th>\n",
       "      <th>deal-price-avg</th>\n",
       "      <th>deal-early-second</th>\n",
       "      <th>volume-bidder</th>\n",
       "    </tr>\n",
       "  </thead>\n",
       "  <tbody>\n",
       "    <tr>\n",
       "      <th>26</th>\n",
       "      <td>2017-03</td>\n",
       "      <td>10356</td>\n",
       "      <td>87800</td>\n",
       "      <td>87916</td>\n",
       "      <td>55</td>\n",
       "      <td>262010</td>\n",
       "    </tr>\n",
       "    <tr>\n",
       "      <th>27</th>\n",
       "      <td>2017-04</td>\n",
       "      <td>12196</td>\n",
       "      <td>89800</td>\n",
       "      <td>89850</td>\n",
       "      <td>59</td>\n",
       "      <td>252273</td>\n",
       "    </tr>\n",
       "    <tr>\n",
       "      <th>28</th>\n",
       "      <td>2017-05</td>\n",
       "      <td>10316</td>\n",
       "      <td>90100</td>\n",
       "      <td>90209</td>\n",
       "      <td>55</td>\n",
       "      <td>270197</td>\n",
       "    </tr>\n",
       "    <tr>\n",
       "      <th>29</th>\n",
       "      <td>2017-06</td>\n",
       "      <td>10312</td>\n",
       "      <td>89400</td>\n",
       "      <td>89532</td>\n",
       "      <td>45</td>\n",
       "      <td>244349</td>\n",
       "    </tr>\n",
       "    <tr>\n",
       "      <th>30</th>\n",
       "      <td>2017-07</td>\n",
       "      <td>10325</td>\n",
       "      <td>92200</td>\n",
       "      <td>92250</td>\n",
       "      <td>57</td>\n",
       "      <td>269189</td>\n",
       "    </tr>\n",
       "  </tbody>\n",
       "</table>\n",
       "</div>"
      ],
      "text/plain": [
       "    ccyy-mm  volume-plate  deal-price-low  deal-price-avg  deal-early-second  \\\n",
       "26  2017-03         10356           87800           87916                 55   \n",
       "27  2017-04         12196           89800           89850                 59   \n",
       "28  2017-05         10316           90100           90209                 55   \n",
       "29  2017-06         10312           89400           89532                 45   \n",
       "30  2017-07         10325           92200           92250                 57   \n",
       "\n",
       "    volume-bidder  \n",
       "26         262010  \n",
       "27         252273  \n",
       "28         270197  \n",
       "29         244349  \n",
       "30         269189  "
      ]
     },
     "execution_count": 21,
     "metadata": {},
     "output_type": "execute_result"
    }
   ],
   "source": [
    "df_history_table_process.tail()"
   ]
  },
  {
   "cell_type": "code",
   "execution_count": 22,
   "metadata": {
    "collapsed": true
   },
   "outputs": [],
   "source": [
    "# date of current month\n",
    "df_history_table_process['date-curr'] = df_history_table_process.apply(lambda row: pd.to_datetime(row['ccyy-mm']), axis=1)\n",
    "df_history_table_process['d-avg-low-price'] = df_history_table_process.apply(lambda row: row['deal-price-avg'] - row['deal-price-low'], axis=1)\n",
    "df_history_table_process['ratio-bid'] = df_history_table_process.apply(lambda row: row['volume-plate'] / row['volume-bidder'], axis=1)"
   ]
  },
  {
   "cell_type": "markdown",
   "metadata": {},
   "source": [
    "### Merge dataframe"
   ]
  },
  {
   "cell_type": "code",
   "execution_count": 23,
   "metadata": {
    "collapsed": true
   },
   "outputs": [],
   "source": [
    "df_history_ts_process_tmp2 = df_history_ts_process.copy()"
   ]
  },
  {
   "cell_type": "code",
   "execution_count": 41,
   "metadata": {
    "collapsed": true
   },
   "outputs": [],
   "source": [
    "df_history_ts_process = df_history_ts_process_tmp2.copy()"
   ]
  },
  {
   "cell_type": "code",
   "execution_count": 42,
   "metadata": {
    "collapsed": true
   },
   "outputs": [],
   "source": [
    "df_history_ts_process = pd.merge(df_history_ts_process, df_history_table_process[['date-curr', 'volume-plate', 'ratio-bid']], how = 'left', left_on = 'date-curr', right_on = 'date-curr', suffixes=['', '_table'])"
   ]
  },
  {
   "cell_type": "code",
   "execution_count": 43,
   "metadata": {},
   "outputs": [
    {
     "data": {
      "text/plain": [
       "Index(['ccyy-mm', 'time', 'bid-price', 'date-curr', 'date-prev', 'year',\n",
       "       'month', 'hour', 'minute', 'second', 'datetime-curr', 'datetime-prev',\n",
       "       'base-price15sec', 'increment-price', 'increment-price-target',\n",
       "       'increment-price-prev1sec', 'increment-price-prev2sec',\n",
       "       'increment-price-prev3sec', 'increment-price-prev4sec',\n",
       "       'increment-price-prev5sec', 'increment-price-prev6sec',\n",
       "       'increment-price-prev7sec', 'increment-price-prev8sec',\n",
       "       'increment-price-prev9sec', 'increment-price-prev10sec',\n",
       "       'increment-price-prev11sec', 'increment-price-prev12sec',\n",
       "       'increment-price-prev13sec', 'increment-price-prev14sec',\n",
       "       'increment-price-prev15sec', 'increment-price-mv2sec',\n",
       "       'increment-price-mv3sec', 'increment-price-mv4sec',\n",
       "       'increment-price-mv5sec', 'increment-price-mv6sec',\n",
       "       'increment-price-mv7sec', 'increment-price-mv8sec',\n",
       "       'increment-price-mv9sec', 'increment-price-mv10sec',\n",
       "       'increment-price-mv11sec', 'increment-price-mv12sec',\n",
       "       'increment-price-mv13sec', 'increment-price-mv14sec',\n",
       "       'increment-price-mv15sec', 'volume-plate', 'ratio-bid'],\n",
       "      dtype='object')"
      ]
     },
     "execution_count": 43,
     "metadata": {},
     "output_type": "execute_result"
    }
   ],
   "source": [
    "df_history_ts_process.columns"
   ]
  },
  {
   "cell_type": "code",
   "execution_count": 44,
   "metadata": {
    "collapsed": true
   },
   "outputs": [],
   "source": [
    "df_history_ts_process = pd.merge(df_history_ts_process, df_history_table_process[['date-curr', 'volume-plate', 'ratio-bid', 'deal-early-second', 'deal-price-avg']], how = 'left', left_on = 'date-prev', right_on = 'date-curr', suffixes=['', '_m0'])"
   ]
  },
  {
   "cell_type": "code",
   "execution_count": 45,
   "metadata": {},
   "outputs": [
    {
     "data": {
      "text/plain": [
       "Index(['ccyy-mm', 'time', 'bid-price', 'date-curr', 'date-prev', 'year',\n",
       "       'month', 'hour', 'minute', 'second', 'datetime-curr', 'datetime-prev',\n",
       "       'base-price15sec', 'increment-price', 'increment-price-target',\n",
       "       'increment-price-prev1sec', 'increment-price-prev2sec',\n",
       "       'increment-price-prev3sec', 'increment-price-prev4sec',\n",
       "       'increment-price-prev5sec', 'increment-price-prev6sec',\n",
       "       'increment-price-prev7sec', 'increment-price-prev8sec',\n",
       "       'increment-price-prev9sec', 'increment-price-prev10sec',\n",
       "       'increment-price-prev11sec', 'increment-price-prev12sec',\n",
       "       'increment-price-prev13sec', 'increment-price-prev14sec',\n",
       "       'increment-price-prev15sec', 'increment-price-mv2sec',\n",
       "       'increment-price-mv3sec', 'increment-price-mv4sec',\n",
       "       'increment-price-mv5sec', 'increment-price-mv6sec',\n",
       "       'increment-price-mv7sec', 'increment-price-mv8sec',\n",
       "       'increment-price-mv9sec', 'increment-price-mv10sec',\n",
       "       'increment-price-mv11sec', 'increment-price-mv12sec',\n",
       "       'increment-price-mv13sec', 'increment-price-mv14sec',\n",
       "       'increment-price-mv15sec', 'volume-plate', 'ratio-bid', 'date-curr_m0',\n",
       "       'volume-plate_m0', 'ratio-bid_m0', 'deal-early-second',\n",
       "       'deal-price-avg'],\n",
       "      dtype='object')"
      ]
     },
     "execution_count": 45,
     "metadata": {},
     "output_type": "execute_result"
    }
   ],
   "source": [
    "df_history_ts_process.columns"
   ]
  },
  {
   "cell_type": "markdown",
   "metadata": {},
   "source": [
    "### Shift to copy previous 'parm_calculate_prev_month' month's data into current row"
   ]
  },
  {
   "cell_type": "code",
   "execution_count": 81,
   "metadata": {
    "collapsed": true
   },
   "outputs": [],
   "source": [
    "# df_history_ts_process = df_history_ts_process_lookup.copy()"
   ]
  },
  {
   "cell_type": "code",
   "execution_count": 82,
   "metadata": {},
   "outputs": [
    {
     "data": {
      "text/html": [
       "<div>\n",
       "<style>\n",
       "    .dataframe thead tr:only-child th {\n",
       "        text-align: right;\n",
       "    }\n",
       "\n",
       "    .dataframe thead th {\n",
       "        text-align: left;\n",
       "    }\n",
       "\n",
       "    .dataframe tbody tr th {\n",
       "        vertical-align: top;\n",
       "    }\n",
       "</style>\n",
       "<table border=\"1\" class=\"dataframe\">\n",
       "  <thead>\n",
       "    <tr style=\"text-align: right;\">\n",
       "      <th></th>\n",
       "      <th>ccyy-mm</th>\n",
       "      <th>time</th>\n",
       "      <th>bid-price</th>\n",
       "      <th>date-curr</th>\n",
       "      <th>date-prev</th>\n",
       "      <th>year</th>\n",
       "      <th>month</th>\n",
       "      <th>hour</th>\n",
       "      <th>minute</th>\n",
       "      <th>second</th>\n",
       "      <th>...</th>\n",
       "      <th>increment-price-mv13sec</th>\n",
       "      <th>increment-price-mv14sec</th>\n",
       "      <th>increment-price-mv15sec</th>\n",
       "      <th>volume-plate</th>\n",
       "      <th>ratio-bid</th>\n",
       "      <th>date-curr_m0</th>\n",
       "      <th>volume-plate_m0</th>\n",
       "      <th>ratio-bid_m0</th>\n",
       "      <th>deal-early-second</th>\n",
       "      <th>deal-price-avg</th>\n",
       "    </tr>\n",
       "  </thead>\n",
       "  <tbody>\n",
       "    <tr>\n",
       "      <th>1886</th>\n",
       "      <td>2017-07</td>\n",
       "      <td>11:29:56</td>\n",
       "      <td>92100</td>\n",
       "      <td>2017-07-01</td>\n",
       "      <td>2017-06-01</td>\n",
       "      <td>2017</td>\n",
       "      <td>07</td>\n",
       "      <td>11</td>\n",
       "      <td>29</td>\n",
       "      <td>56</td>\n",
       "      <td>...</td>\n",
       "      <td>861.538</td>\n",
       "      <td>828.571</td>\n",
       "      <td>800</td>\n",
       "      <td>10325</td>\n",
       "      <td>0.038356</td>\n",
       "      <td>2017-06-01</td>\n",
       "      <td>10312.0</td>\n",
       "      <td>0.042202</td>\n",
       "      <td>45.0</td>\n",
       "      <td>89532.0</td>\n",
       "    </tr>\n",
       "    <tr>\n",
       "      <th>1887</th>\n",
       "      <td>2017-07</td>\n",
       "      <td>11:29:57</td>\n",
       "      <td>92100</td>\n",
       "      <td>2017-07-01</td>\n",
       "      <td>2017-06-01</td>\n",
       "      <td>2017</td>\n",
       "      <td>07</td>\n",
       "      <td>11</td>\n",
       "      <td>29</td>\n",
       "      <td>57</td>\n",
       "      <td>...</td>\n",
       "      <td>946.154</td>\n",
       "      <td>907.143</td>\n",
       "      <td>873.333</td>\n",
       "      <td>10325</td>\n",
       "      <td>0.038356</td>\n",
       "      <td>2017-06-01</td>\n",
       "      <td>10312.0</td>\n",
       "      <td>0.042202</td>\n",
       "      <td>45.0</td>\n",
       "      <td>89532.0</td>\n",
       "    </tr>\n",
       "    <tr>\n",
       "      <th>1888</th>\n",
       "      <td>2017-07</td>\n",
       "      <td>11:29:58</td>\n",
       "      <td>92100</td>\n",
       "      <td>2017-07-01</td>\n",
       "      <td>2017-06-01</td>\n",
       "      <td>2017</td>\n",
       "      <td>07</td>\n",
       "      <td>11</td>\n",
       "      <td>29</td>\n",
       "      <td>58</td>\n",
       "      <td>...</td>\n",
       "      <td>1023.08</td>\n",
       "      <td>985.714</td>\n",
       "      <td>946.667</td>\n",
       "      <td>10325</td>\n",
       "      <td>0.038356</td>\n",
       "      <td>2017-06-01</td>\n",
       "      <td>10312.0</td>\n",
       "      <td>0.042202</td>\n",
       "      <td>45.0</td>\n",
       "      <td>89532.0</td>\n",
       "    </tr>\n",
       "    <tr>\n",
       "      <th>1889</th>\n",
       "      <td>2017-07</td>\n",
       "      <td>11:29:59</td>\n",
       "      <td>92200</td>\n",
       "      <td>2017-07-01</td>\n",
       "      <td>2017-06-01</td>\n",
       "      <td>2017</td>\n",
       "      <td>07</td>\n",
       "      <td>11</td>\n",
       "      <td>29</td>\n",
       "      <td>59</td>\n",
       "      <td>...</td>\n",
       "      <td>1100</td>\n",
       "      <td>1057.14</td>\n",
       "      <td>1020</td>\n",
       "      <td>10325</td>\n",
       "      <td>0.038356</td>\n",
       "      <td>2017-06-01</td>\n",
       "      <td>10312.0</td>\n",
       "      <td>0.042202</td>\n",
       "      <td>45.0</td>\n",
       "      <td>89532.0</td>\n",
       "    </tr>\n",
       "    <tr>\n",
       "      <th>1890</th>\n",
       "      <td>2017-07</td>\n",
       "      <td>11:30:00</td>\n",
       "      <td>92200</td>\n",
       "      <td>2017-07-01</td>\n",
       "      <td>2017-06-01</td>\n",
       "      <td>2017</td>\n",
       "      <td>07</td>\n",
       "      <td>11</td>\n",
       "      <td>30</td>\n",
       "      <td>00</td>\n",
       "      <td>...</td>\n",
       "      <td>1176.92</td>\n",
       "      <td>1135.71</td>\n",
       "      <td>1093.33</td>\n",
       "      <td>10325</td>\n",
       "      <td>0.038356</td>\n",
       "      <td>2017-06-01</td>\n",
       "      <td>10312.0</td>\n",
       "      <td>0.042202</td>\n",
       "      <td>45.0</td>\n",
       "      <td>89532.0</td>\n",
       "    </tr>\n",
       "  </tbody>\n",
       "</table>\n",
       "<p>5 rows × 51 columns</p>\n",
       "</div>"
      ],
      "text/plain": [
       "      ccyy-mm      time  bid-price  date-curr  date-prev  year month hour  \\\n",
       "1886  2017-07  11:29:56      92100 2017-07-01 2017-06-01  2017    07   11   \n",
       "1887  2017-07  11:29:57      92100 2017-07-01 2017-06-01  2017    07   11   \n",
       "1888  2017-07  11:29:58      92100 2017-07-01 2017-06-01  2017    07   11   \n",
       "1889  2017-07  11:29:59      92200 2017-07-01 2017-06-01  2017    07   11   \n",
       "1890  2017-07  11:30:00      92200 2017-07-01 2017-06-01  2017    07   11   \n",
       "\n",
       "     minute second      ...       increment-price-mv13sec  \\\n",
       "1886     29     56      ...                       861.538   \n",
       "1887     29     57      ...                       946.154   \n",
       "1888     29     58      ...                       1023.08   \n",
       "1889     29     59      ...                          1100   \n",
       "1890     30     00      ...                       1176.92   \n",
       "\n",
       "     increment-price-mv14sec increment-price-mv15sec  volume-plate ratio-bid  \\\n",
       "1886                 828.571                     800         10325  0.038356   \n",
       "1887                 907.143                 873.333         10325  0.038356   \n",
       "1888                 985.714                 946.667         10325  0.038356   \n",
       "1889                 1057.14                    1020         10325  0.038356   \n",
       "1890                 1135.71                 1093.33         10325  0.038356   \n",
       "\n",
       "     date-curr_m0 volume-plate_m0 ratio-bid_m0 deal-early-second  \\\n",
       "1886   2017-06-01         10312.0     0.042202              45.0   \n",
       "1887   2017-06-01         10312.0     0.042202              45.0   \n",
       "1888   2017-06-01         10312.0     0.042202              45.0   \n",
       "1889   2017-06-01         10312.0     0.042202              45.0   \n",
       "1890   2017-06-01         10312.0     0.042202              45.0   \n",
       "\n",
       "     deal-price-avg  \n",
       "1886        89532.0  \n",
       "1887        89532.0  \n",
       "1888        89532.0  \n",
       "1889        89532.0  \n",
       "1890        89532.0  \n",
       "\n",
       "[5 rows x 51 columns]"
      ]
     },
     "execution_count": 82,
     "metadata": {},
     "output_type": "execute_result"
    }
   ],
   "source": [
    "df_history_ts_process_lookup = df_history_ts_process.copy()\n",
    "df_history_ts_process_lookup.tail()"
   ]
  },
  {
   "cell_type": "code",
   "execution_count": 83,
   "metadata": {
    "scrolled": false
   },
   "outputs": [
    {
     "data": {
      "text/html": [
       "<div>\n",
       "<style>\n",
       "    .dataframe thead tr:only-child th {\n",
       "        text-align: right;\n",
       "    }\n",
       "\n",
       "    .dataframe thead th {\n",
       "        text-align: left;\n",
       "    }\n",
       "\n",
       "    .dataframe tbody tr th {\n",
       "        vertical-align: top;\n",
       "    }\n",
       "</style>\n",
       "<table border=\"1\" class=\"dataframe\">\n",
       "  <thead>\n",
       "    <tr style=\"text-align: right;\">\n",
       "      <th></th>\n",
       "      <th>ccyy-mm</th>\n",
       "      <th>time</th>\n",
       "      <th>bid-price</th>\n",
       "      <th>date-curr</th>\n",
       "      <th>date-prev</th>\n",
       "      <th>year</th>\n",
       "      <th>month</th>\n",
       "      <th>hour</th>\n",
       "      <th>minute</th>\n",
       "      <th>second</th>\n",
       "      <th>...</th>\n",
       "      <th>increment-price-mv10sec_m1</th>\n",
       "      <th>increment-price-mv11sec_m1</th>\n",
       "      <th>increment-price-mv12sec_m1</th>\n",
       "      <th>increment-price-mv13sec_m1</th>\n",
       "      <th>increment-price-mv14sec_m1</th>\n",
       "      <th>increment-price-mv15sec_m1</th>\n",
       "      <th>volume-plate_m0_m1</th>\n",
       "      <th>ratio-bid_m0_m1</th>\n",
       "      <th>deal-early-second_m1</th>\n",
       "      <th>deal-price-avg_m1</th>\n",
       "    </tr>\n",
       "  </thead>\n",
       "  <tbody>\n",
       "    <tr>\n",
       "      <th>1886</th>\n",
       "      <td>2017-07</td>\n",
       "      <td>11:29:56</td>\n",
       "      <td>92100</td>\n",
       "      <td>2017-07-01</td>\n",
       "      <td>2017-06-01</td>\n",
       "      <td>2017</td>\n",
       "      <td>07</td>\n",
       "      <td>11</td>\n",
       "      <td>29</td>\n",
       "      <td>56</td>\n",
       "      <td>...</td>\n",
       "      <td>630</td>\n",
       "      <td>627.273</td>\n",
       "      <td>616.667</td>\n",
       "      <td>607.692</td>\n",
       "      <td>592.857</td>\n",
       "      <td>580</td>\n",
       "      <td>10316.0</td>\n",
       "      <td>0.03818</td>\n",
       "      <td>55.0</td>\n",
       "      <td>90209.0</td>\n",
       "    </tr>\n",
       "    <tr>\n",
       "      <th>1887</th>\n",
       "      <td>2017-07</td>\n",
       "      <td>11:29:57</td>\n",
       "      <td>92100</td>\n",
       "      <td>2017-07-01</td>\n",
       "      <td>2017-06-01</td>\n",
       "      <td>2017</td>\n",
       "      <td>07</td>\n",
       "      <td>11</td>\n",
       "      <td>29</td>\n",
       "      <td>57</td>\n",
       "      <td>...</td>\n",
       "      <td>640</td>\n",
       "      <td>636.364</td>\n",
       "      <td>633.333</td>\n",
       "      <td>623.077</td>\n",
       "      <td>614.286</td>\n",
       "      <td>600</td>\n",
       "      <td>10316.0</td>\n",
       "      <td>0.03818</td>\n",
       "      <td>55.0</td>\n",
       "      <td>90209.0</td>\n",
       "    </tr>\n",
       "    <tr>\n",
       "      <th>1888</th>\n",
       "      <td>2017-07</td>\n",
       "      <td>11:29:58</td>\n",
       "      <td>92100</td>\n",
       "      <td>2017-07-01</td>\n",
       "      <td>2017-06-01</td>\n",
       "      <td>2017</td>\n",
       "      <td>07</td>\n",
       "      <td>11</td>\n",
       "      <td>29</td>\n",
       "      <td>58</td>\n",
       "      <td>...</td>\n",
       "      <td>660</td>\n",
       "      <td>654.545</td>\n",
       "      <td>650</td>\n",
       "      <td>646.154</td>\n",
       "      <td>635.714</td>\n",
       "      <td>626.667</td>\n",
       "      <td>10316.0</td>\n",
       "      <td>0.03818</td>\n",
       "      <td>55.0</td>\n",
       "      <td>90209.0</td>\n",
       "    </tr>\n",
       "    <tr>\n",
       "      <th>1889</th>\n",
       "      <td>2017-07</td>\n",
       "      <td>11:29:59</td>\n",
       "      <td>92200</td>\n",
       "      <td>2017-07-01</td>\n",
       "      <td>2017-06-01</td>\n",
       "      <td>2017</td>\n",
       "      <td>07</td>\n",
       "      <td>11</td>\n",
       "      <td>29</td>\n",
       "      <td>59</td>\n",
       "      <td>...</td>\n",
       "      <td>680</td>\n",
       "      <td>672.727</td>\n",
       "      <td>666.667</td>\n",
       "      <td>661.538</td>\n",
       "      <td>657.143</td>\n",
       "      <td>646.667</td>\n",
       "      <td>10316.0</td>\n",
       "      <td>0.03818</td>\n",
       "      <td>55.0</td>\n",
       "      <td>90209.0</td>\n",
       "    </tr>\n",
       "    <tr>\n",
       "      <th>1890</th>\n",
       "      <td>2017-07</td>\n",
       "      <td>11:30:00</td>\n",
       "      <td>92200</td>\n",
       "      <td>2017-07-01</td>\n",
       "      <td>2017-06-01</td>\n",
       "      <td>2017</td>\n",
       "      <td>07</td>\n",
       "      <td>11</td>\n",
       "      <td>30</td>\n",
       "      <td>00</td>\n",
       "      <td>...</td>\n",
       "      <td>700</td>\n",
       "      <td>690.909</td>\n",
       "      <td>683.333</td>\n",
       "      <td>676.923</td>\n",
       "      <td>671.429</td>\n",
       "      <td>666.667</td>\n",
       "      <td>10316.0</td>\n",
       "      <td>0.03818</td>\n",
       "      <td>55.0</td>\n",
       "      <td>90209.0</td>\n",
       "    </tr>\n",
       "  </tbody>\n",
       "</table>\n",
       "<p>5 rows × 89 columns</p>\n",
       "</div>"
      ],
      "text/plain": [
       "      ccyy-mm      time  bid-price  date-curr  date-prev  year month hour  \\\n",
       "1886  2017-07  11:29:56      92100 2017-07-01 2017-06-01  2017    07   11   \n",
       "1887  2017-07  11:29:57      92100 2017-07-01 2017-06-01  2017    07   11   \n",
       "1888  2017-07  11:29:58      92100 2017-07-01 2017-06-01  2017    07   11   \n",
       "1889  2017-07  11:29:59      92200 2017-07-01 2017-06-01  2017    07   11   \n",
       "1890  2017-07  11:30:00      92200 2017-07-01 2017-06-01  2017    07   11   \n",
       "\n",
       "     minute second        ...        increment-price-mv10sec_m1  \\\n",
       "1886     29     56        ...                               630   \n",
       "1887     29     57        ...                               640   \n",
       "1888     29     58        ...                               660   \n",
       "1889     29     59        ...                               680   \n",
       "1890     30     00        ...                               700   \n",
       "\n",
       "     increment-price-mv11sec_m1 increment-price-mv12sec_m1  \\\n",
       "1886                    627.273                    616.667   \n",
       "1887                    636.364                    633.333   \n",
       "1888                    654.545                        650   \n",
       "1889                    672.727                    666.667   \n",
       "1890                    690.909                    683.333   \n",
       "\n",
       "      increment-price-mv13sec_m1 increment-price-mv14sec_m1  \\\n",
       "1886                     607.692                    592.857   \n",
       "1887                     623.077                    614.286   \n",
       "1888                     646.154                    635.714   \n",
       "1889                     661.538                    657.143   \n",
       "1890                     676.923                    671.429   \n",
       "\n",
       "     increment-price-mv15sec_m1 volume-plate_m0_m1 ratio-bid_m0_m1  \\\n",
       "1886                        580            10316.0         0.03818   \n",
       "1887                        600            10316.0         0.03818   \n",
       "1888                    626.667            10316.0         0.03818   \n",
       "1889                    646.667            10316.0         0.03818   \n",
       "1890                    666.667            10316.0         0.03818   \n",
       "\n",
       "     deal-early-second_m1 deal-price-avg_m1  \n",
       "1886                 55.0           90209.0  \n",
       "1887                 55.0           90209.0  \n",
       "1888                 55.0           90209.0  \n",
       "1889                 55.0           90209.0  \n",
       "1890                 55.0           90209.0  \n",
       "\n",
       "[5 rows x 89 columns]"
      ]
     },
     "execution_count": 83,
     "metadata": {},
     "output_type": "execute_result"
    }
   ],
   "source": [
    "# _m1\n",
    "df_history_ts_process = pd.merge(df_history_ts_process, df_history_ts_process_lookup[[ \\\n",
    "        'datetime-curr', 'datetime-prev', \n",
    "        'base-price15sec', 'increment-price', 'increment-price-target',\n",
    "        'increment-price-prev1sec', 'increment-price-prev2sec',\n",
    "        'increment-price-prev3sec', 'increment-price-prev4sec',\n",
    "        'increment-price-prev5sec', 'increment-price-prev6sec',\n",
    "        'increment-price-prev7sec', 'increment-price-prev8sec',\n",
    "        'increment-price-prev9sec', 'increment-price-prev10sec',\n",
    "        'increment-price-prev11sec', 'increment-price-prev12sec',\n",
    "        'increment-price-prev13sec', 'increment-price-prev14sec',\n",
    "        'increment-price-prev15sec', \n",
    "        'increment-price-mv2sec',\n",
    "        'increment-price-mv3sec', 'increment-price-mv4sec',\n",
    "        'increment-price-mv5sec', 'increment-price-mv6sec',\n",
    "        'increment-price-mv7sec', 'increment-price-mv8sec',\n",
    "        'increment-price-mv9sec', 'increment-price-mv10sec',\n",
    "        'increment-price-mv11sec', 'increment-price-mv12sec',\n",
    "        'increment-price-mv13sec', 'increment-price-mv14sec',\n",
    "        'increment-price-mv15sec', \n",
    "        'volume-plate_m0', \n",
    "        'ratio-bid_m0', \n",
    "        'deal-early-second',\n",
    "        'deal-price-avg'                                                                                      \n",
    "        ]], how = 'left', left_on = 'datetime-prev', right_on = 'datetime-curr', suffixes=['', '_m1'])\n",
    "df_history_ts_process.tail()"
   ]
  },
  {
   "cell_type": "code",
   "execution_count": 84,
   "metadata": {},
   "outputs": [
    {
     "data": {
      "text/html": [
       "<div>\n",
       "<style>\n",
       "    .dataframe thead tr:only-child th {\n",
       "        text-align: right;\n",
       "    }\n",
       "\n",
       "    .dataframe thead th {\n",
       "        text-align: left;\n",
       "    }\n",
       "\n",
       "    .dataframe tbody tr th {\n",
       "        vertical-align: top;\n",
       "    }\n",
       "</style>\n",
       "<table border=\"1\" class=\"dataframe\">\n",
       "  <thead>\n",
       "    <tr style=\"text-align: right;\">\n",
       "      <th></th>\n",
       "      <th>ccyy-mm</th>\n",
       "      <th>time</th>\n",
       "      <th>bid-price</th>\n",
       "      <th>date-curr</th>\n",
       "      <th>date-prev</th>\n",
       "      <th>year</th>\n",
       "      <th>month</th>\n",
       "      <th>hour</th>\n",
       "      <th>minute</th>\n",
       "      <th>second</th>\n",
       "      <th>...</th>\n",
       "      <th>increment-price-mv10sec_m2</th>\n",
       "      <th>increment-price-mv11sec_m2</th>\n",
       "      <th>increment-price-mv12sec_m2</th>\n",
       "      <th>increment-price-mv13sec_m2</th>\n",
       "      <th>increment-price-mv14sec_m2</th>\n",
       "      <th>increment-price-mv15sec_m2</th>\n",
       "      <th>volume-plate_m0_m2</th>\n",
       "      <th>ratio-bid_m0_m2</th>\n",
       "      <th>deal-early-second_m2</th>\n",
       "      <th>deal-price-avg_m2</th>\n",
       "    </tr>\n",
       "  </thead>\n",
       "  <tbody>\n",
       "    <tr>\n",
       "      <th>1886</th>\n",
       "      <td>2017-07</td>\n",
       "      <td>11:29:56</td>\n",
       "      <td>92100</td>\n",
       "      <td>2017-07-01</td>\n",
       "      <td>2017-06-01</td>\n",
       "      <td>2017</td>\n",
       "      <td>07</td>\n",
       "      <td>11</td>\n",
       "      <td>29</td>\n",
       "      <td>56</td>\n",
       "      <td>...</td>\n",
       "      <td>710</td>\n",
       "      <td>681.818</td>\n",
       "      <td>658.333</td>\n",
       "      <td>630.769</td>\n",
       "      <td>607.143</td>\n",
       "      <td>586.667</td>\n",
       "      <td>12196.0</td>\n",
       "      <td>0.048344</td>\n",
       "      <td>59.0</td>\n",
       "      <td>89850.0</td>\n",
       "    </tr>\n",
       "    <tr>\n",
       "      <th>1887</th>\n",
       "      <td>2017-07</td>\n",
       "      <td>11:29:57</td>\n",
       "      <td>92100</td>\n",
       "      <td>2017-07-01</td>\n",
       "      <td>2017-06-01</td>\n",
       "      <td>2017</td>\n",
       "      <td>07</td>\n",
       "      <td>11</td>\n",
       "      <td>29</td>\n",
       "      <td>57</td>\n",
       "      <td>...</td>\n",
       "      <td>770</td>\n",
       "      <td>745.455</td>\n",
       "      <td>716.667</td>\n",
       "      <td>692.308</td>\n",
       "      <td>664.286</td>\n",
       "      <td>640</td>\n",
       "      <td>12196.0</td>\n",
       "      <td>0.048344</td>\n",
       "      <td>59.0</td>\n",
       "      <td>89850.0</td>\n",
       "    </tr>\n",
       "    <tr>\n",
       "      <th>1888</th>\n",
       "      <td>2017-07</td>\n",
       "      <td>11:29:58</td>\n",
       "      <td>92100</td>\n",
       "      <td>2017-07-01</td>\n",
       "      <td>2017-06-01</td>\n",
       "      <td>2017</td>\n",
       "      <td>07</td>\n",
       "      <td>11</td>\n",
       "      <td>29</td>\n",
       "      <td>58</td>\n",
       "      <td>...</td>\n",
       "      <td>840</td>\n",
       "      <td>809.091</td>\n",
       "      <td>783.333</td>\n",
       "      <td>753.846</td>\n",
       "      <td>728.571</td>\n",
       "      <td>700</td>\n",
       "      <td>12196.0</td>\n",
       "      <td>0.048344</td>\n",
       "      <td>59.0</td>\n",
       "      <td>89850.0</td>\n",
       "    </tr>\n",
       "    <tr>\n",
       "      <th>1889</th>\n",
       "      <td>2017-07</td>\n",
       "      <td>11:29:59</td>\n",
       "      <td>92200</td>\n",
       "      <td>2017-07-01</td>\n",
       "      <td>2017-06-01</td>\n",
       "      <td>2017</td>\n",
       "      <td>07</td>\n",
       "      <td>11</td>\n",
       "      <td>29</td>\n",
       "      <td>59</td>\n",
       "      <td>...</td>\n",
       "      <td>910</td>\n",
       "      <td>881.818</td>\n",
       "      <td>850</td>\n",
       "      <td>823.077</td>\n",
       "      <td>792.857</td>\n",
       "      <td>766.667</td>\n",
       "      <td>12196.0</td>\n",
       "      <td>0.048344</td>\n",
       "      <td>59.0</td>\n",
       "      <td>89850.0</td>\n",
       "    </tr>\n",
       "    <tr>\n",
       "      <th>1890</th>\n",
       "      <td>2017-07</td>\n",
       "      <td>11:30:00</td>\n",
       "      <td>92200</td>\n",
       "      <td>2017-07-01</td>\n",
       "      <td>2017-06-01</td>\n",
       "      <td>2017</td>\n",
       "      <td>07</td>\n",
       "      <td>11</td>\n",
       "      <td>30</td>\n",
       "      <td>00</td>\n",
       "      <td>...</td>\n",
       "      <td>980</td>\n",
       "      <td>945.455</td>\n",
       "      <td>916.667</td>\n",
       "      <td>884.615</td>\n",
       "      <td>857.143</td>\n",
       "      <td>826.667</td>\n",
       "      <td>12196.0</td>\n",
       "      <td>0.048344</td>\n",
       "      <td>59.0</td>\n",
       "      <td>89850.0</td>\n",
       "    </tr>\n",
       "  </tbody>\n",
       "</table>\n",
       "<p>5 rows × 127 columns</p>\n",
       "</div>"
      ],
      "text/plain": [
       "      ccyy-mm      time  bid-price  date-curr  date-prev  year month hour  \\\n",
       "1886  2017-07  11:29:56      92100 2017-07-01 2017-06-01  2017    07   11   \n",
       "1887  2017-07  11:29:57      92100 2017-07-01 2017-06-01  2017    07   11   \n",
       "1888  2017-07  11:29:58      92100 2017-07-01 2017-06-01  2017    07   11   \n",
       "1889  2017-07  11:29:59      92200 2017-07-01 2017-06-01  2017    07   11   \n",
       "1890  2017-07  11:30:00      92200 2017-07-01 2017-06-01  2017    07   11   \n",
       "\n",
       "     minute second        ...        increment-price-mv10sec_m2  \\\n",
       "1886     29     56        ...                               710   \n",
       "1887     29     57        ...                               770   \n",
       "1888     29     58        ...                               840   \n",
       "1889     29     59        ...                               910   \n",
       "1890     30     00        ...                               980   \n",
       "\n",
       "     increment-price-mv11sec_m2 increment-price-mv12sec_m2  \\\n",
       "1886                    681.818                    658.333   \n",
       "1887                    745.455                    716.667   \n",
       "1888                    809.091                    783.333   \n",
       "1889                    881.818                        850   \n",
       "1890                    945.455                    916.667   \n",
       "\n",
       "      increment-price-mv13sec_m2 increment-price-mv14sec_m2  \\\n",
       "1886                     630.769                    607.143   \n",
       "1887                     692.308                    664.286   \n",
       "1888                     753.846                    728.571   \n",
       "1889                     823.077                    792.857   \n",
       "1890                     884.615                    857.143   \n",
       "\n",
       "     increment-price-mv15sec_m2 volume-plate_m0_m2 ratio-bid_m0_m2  \\\n",
       "1886                    586.667            12196.0        0.048344   \n",
       "1887                        640            12196.0        0.048344   \n",
       "1888                        700            12196.0        0.048344   \n",
       "1889                    766.667            12196.0        0.048344   \n",
       "1890                    826.667            12196.0        0.048344   \n",
       "\n",
       "     deal-early-second_m2 deal-price-avg_m2  \n",
       "1886                 59.0           89850.0  \n",
       "1887                 59.0           89850.0  \n",
       "1888                 59.0           89850.0  \n",
       "1889                 59.0           89850.0  \n",
       "1890                 59.0           89850.0  \n",
       "\n",
       "[5 rows x 127 columns]"
      ]
     },
     "execution_count": 84,
     "metadata": {},
     "output_type": "execute_result"
    }
   ],
   "source": [
    "# _m2\n",
    "df_history_ts_process = pd.merge(df_history_ts_process, df_history_ts_process_lookup[[ \\\n",
    "        'datetime-curr', 'datetime-prev', \n",
    "        'base-price15sec', 'increment-price', 'increment-price-target',\n",
    "        'increment-price-prev1sec', 'increment-price-prev2sec',\n",
    "        'increment-price-prev3sec', 'increment-price-prev4sec',\n",
    "        'increment-price-prev5sec', 'increment-price-prev6sec',\n",
    "        'increment-price-prev7sec', 'increment-price-prev8sec',\n",
    "        'increment-price-prev9sec', 'increment-price-prev10sec',\n",
    "        'increment-price-prev11sec', 'increment-price-prev12sec',\n",
    "        'increment-price-prev13sec', 'increment-price-prev14sec',\n",
    "        'increment-price-prev15sec', \n",
    "        'increment-price-mv2sec',\n",
    "        'increment-price-mv3sec', 'increment-price-mv4sec',\n",
    "        'increment-price-mv5sec', 'increment-price-mv6sec',\n",
    "        'increment-price-mv7sec', 'increment-price-mv8sec',\n",
    "        'increment-price-mv9sec', 'increment-price-mv10sec',\n",
    "        'increment-price-mv11sec', 'increment-price-mv12sec',\n",
    "        'increment-price-mv13sec', 'increment-price-mv14sec',\n",
    "        'increment-price-mv15sec', \n",
    "        'volume-plate_m0', \n",
    "        'ratio-bid_m0', \n",
    "        'deal-early-second',\n",
    "        'deal-price-avg'                                                                                      \n",
    "        ]], how = 'left', left_on = 'datetime-prev_m1', right_on = 'datetime-curr', suffixes=['', '_m2'])\n",
    "df_history_ts_process.tail()"
   ]
  },
  {
   "cell_type": "code",
   "execution_count": 85,
   "metadata": {},
   "outputs": [
    {
     "data": {
      "text/html": [
       "<div>\n",
       "<style>\n",
       "    .dataframe thead tr:only-child th {\n",
       "        text-align: right;\n",
       "    }\n",
       "\n",
       "    .dataframe thead th {\n",
       "        text-align: left;\n",
       "    }\n",
       "\n",
       "    .dataframe tbody tr th {\n",
       "        vertical-align: top;\n",
       "    }\n",
       "</style>\n",
       "<table border=\"1\" class=\"dataframe\">\n",
       "  <thead>\n",
       "    <tr style=\"text-align: right;\">\n",
       "      <th></th>\n",
       "      <th>ccyy-mm</th>\n",
       "      <th>time</th>\n",
       "      <th>bid-price</th>\n",
       "      <th>date-curr</th>\n",
       "      <th>date-prev</th>\n",
       "      <th>year</th>\n",
       "      <th>month</th>\n",
       "      <th>hour</th>\n",
       "      <th>minute</th>\n",
       "      <th>second</th>\n",
       "      <th>...</th>\n",
       "      <th>increment-price-mv10sec_m3</th>\n",
       "      <th>increment-price-mv11sec_m3</th>\n",
       "      <th>increment-price-mv12sec_m3</th>\n",
       "      <th>increment-price-mv13sec_m3</th>\n",
       "      <th>increment-price-mv14sec_m3</th>\n",
       "      <th>increment-price-mv15sec_m3</th>\n",
       "      <th>volume-plate_m0_m3</th>\n",
       "      <th>ratio-bid_m0_m3</th>\n",
       "      <th>deal-early-second_m3</th>\n",
       "      <th>deal-price-avg_m3</th>\n",
       "    </tr>\n",
       "  </thead>\n",
       "  <tbody>\n",
       "    <tr>\n",
       "      <th>1886</th>\n",
       "      <td>2017-07</td>\n",
       "      <td>11:29:56</td>\n",
       "      <td>92100</td>\n",
       "      <td>2017-07-01</td>\n",
       "      <td>2017-06-01</td>\n",
       "      <td>2017</td>\n",
       "      <td>07</td>\n",
       "      <td>11</td>\n",
       "      <td>29</td>\n",
       "      <td>56</td>\n",
       "      <td>...</td>\n",
       "      <td>720</td>\n",
       "      <td>709.091</td>\n",
       "      <td>691.667</td>\n",
       "      <td>669.231</td>\n",
       "      <td>650</td>\n",
       "      <td>626.667</td>\n",
       "      <td>10356.0</td>\n",
       "      <td>0.039525</td>\n",
       "      <td>55.0</td>\n",
       "      <td>87916.0</td>\n",
       "    </tr>\n",
       "    <tr>\n",
       "      <th>1887</th>\n",
       "      <td>2017-07</td>\n",
       "      <td>11:29:57</td>\n",
       "      <td>92100</td>\n",
       "      <td>2017-07-01</td>\n",
       "      <td>2017-06-01</td>\n",
       "      <td>2017</td>\n",
       "      <td>07</td>\n",
       "      <td>11</td>\n",
       "      <td>29</td>\n",
       "      <td>57</td>\n",
       "      <td>...</td>\n",
       "      <td>750</td>\n",
       "      <td>736.364</td>\n",
       "      <td>725</td>\n",
       "      <td>707.692</td>\n",
       "      <td>685.714</td>\n",
       "      <td>666.667</td>\n",
       "      <td>10356.0</td>\n",
       "      <td>0.039525</td>\n",
       "      <td>55.0</td>\n",
       "      <td>87916.0</td>\n",
       "    </tr>\n",
       "    <tr>\n",
       "      <th>1888</th>\n",
       "      <td>2017-07</td>\n",
       "      <td>11:29:58</td>\n",
       "      <td>92100</td>\n",
       "      <td>2017-07-01</td>\n",
       "      <td>2017-06-01</td>\n",
       "      <td>2017</td>\n",
       "      <td>07</td>\n",
       "      <td>11</td>\n",
       "      <td>29</td>\n",
       "      <td>58</td>\n",
       "      <td>...</td>\n",
       "      <td>790</td>\n",
       "      <td>772.727</td>\n",
       "      <td>758.333</td>\n",
       "      <td>746.154</td>\n",
       "      <td>728.571</td>\n",
       "      <td>706.667</td>\n",
       "      <td>10356.0</td>\n",
       "      <td>0.039525</td>\n",
       "      <td>55.0</td>\n",
       "      <td>87916.0</td>\n",
       "    </tr>\n",
       "    <tr>\n",
       "      <th>1889</th>\n",
       "      <td>2017-07</td>\n",
       "      <td>11:29:59</td>\n",
       "      <td>92200</td>\n",
       "      <td>2017-07-01</td>\n",
       "      <td>2017-06-01</td>\n",
       "      <td>2017</td>\n",
       "      <td>07</td>\n",
       "      <td>11</td>\n",
       "      <td>29</td>\n",
       "      <td>59</td>\n",
       "      <td>...</td>\n",
       "      <td>820</td>\n",
       "      <td>809.091</td>\n",
       "      <td>791.667</td>\n",
       "      <td>776.923</td>\n",
       "      <td>764.286</td>\n",
       "      <td>746.667</td>\n",
       "      <td>10356.0</td>\n",
       "      <td>0.039525</td>\n",
       "      <td>55.0</td>\n",
       "      <td>87916.0</td>\n",
       "    </tr>\n",
       "    <tr>\n",
       "      <th>1890</th>\n",
       "      <td>2017-07</td>\n",
       "      <td>11:30:00</td>\n",
       "      <td>92200</td>\n",
       "      <td>2017-07-01</td>\n",
       "      <td>2017-06-01</td>\n",
       "      <td>2017</td>\n",
       "      <td>07</td>\n",
       "      <td>11</td>\n",
       "      <td>30</td>\n",
       "      <td>00</td>\n",
       "      <td>...</td>\n",
       "      <td>860</td>\n",
       "      <td>845.455</td>\n",
       "      <td>833.333</td>\n",
       "      <td>815.385</td>\n",
       "      <td>800</td>\n",
       "      <td>786.667</td>\n",
       "      <td>10356.0</td>\n",
       "      <td>0.039525</td>\n",
       "      <td>55.0</td>\n",
       "      <td>87916.0</td>\n",
       "    </tr>\n",
       "  </tbody>\n",
       "</table>\n",
       "<p>5 rows × 165 columns</p>\n",
       "</div>"
      ],
      "text/plain": [
       "      ccyy-mm      time  bid-price  date-curr  date-prev  year month hour  \\\n",
       "1886  2017-07  11:29:56      92100 2017-07-01 2017-06-01  2017    07   11   \n",
       "1887  2017-07  11:29:57      92100 2017-07-01 2017-06-01  2017    07   11   \n",
       "1888  2017-07  11:29:58      92100 2017-07-01 2017-06-01  2017    07   11   \n",
       "1889  2017-07  11:29:59      92200 2017-07-01 2017-06-01  2017    07   11   \n",
       "1890  2017-07  11:30:00      92200 2017-07-01 2017-06-01  2017    07   11   \n",
       "\n",
       "     minute second        ...        increment-price-mv10sec_m3  \\\n",
       "1886     29     56        ...                               720   \n",
       "1887     29     57        ...                               750   \n",
       "1888     29     58        ...                               790   \n",
       "1889     29     59        ...                               820   \n",
       "1890     30     00        ...                               860   \n",
       "\n",
       "     increment-price-mv11sec_m3 increment-price-mv12sec_m3  \\\n",
       "1886                    709.091                    691.667   \n",
       "1887                    736.364                        725   \n",
       "1888                    772.727                    758.333   \n",
       "1889                    809.091                    791.667   \n",
       "1890                    845.455                    833.333   \n",
       "\n",
       "      increment-price-mv13sec_m3 increment-price-mv14sec_m3  \\\n",
       "1886                     669.231                        650   \n",
       "1887                     707.692                    685.714   \n",
       "1888                     746.154                    728.571   \n",
       "1889                     776.923                    764.286   \n",
       "1890                     815.385                        800   \n",
       "\n",
       "     increment-price-mv15sec_m3 volume-plate_m0_m3 ratio-bid_m0_m3  \\\n",
       "1886                    626.667            10356.0        0.039525   \n",
       "1887                    666.667            10356.0        0.039525   \n",
       "1888                    706.667            10356.0        0.039525   \n",
       "1889                    746.667            10356.0        0.039525   \n",
       "1890                    786.667            10356.0        0.039525   \n",
       "\n",
       "     deal-early-second_m3 deal-price-avg_m3  \n",
       "1886                 55.0           87916.0  \n",
       "1887                 55.0           87916.0  \n",
       "1888                 55.0           87916.0  \n",
       "1889                 55.0           87916.0  \n",
       "1890                 55.0           87916.0  \n",
       "\n",
       "[5 rows x 165 columns]"
      ]
     },
     "execution_count": 85,
     "metadata": {},
     "output_type": "execute_result"
    }
   ],
   "source": [
    "# _m3\n",
    "df_history_ts_process = pd.merge(df_history_ts_process, df_history_ts_process_lookup[[ \\\n",
    "        'datetime-curr', 'datetime-prev', \n",
    "        'base-price15sec', 'increment-price', 'increment-price-target',\n",
    "        'increment-price-prev1sec', 'increment-price-prev2sec',\n",
    "        'increment-price-prev3sec', 'increment-price-prev4sec',\n",
    "        'increment-price-prev5sec', 'increment-price-prev6sec',\n",
    "        'increment-price-prev7sec', 'increment-price-prev8sec',\n",
    "        'increment-price-prev9sec', 'increment-price-prev10sec',\n",
    "        'increment-price-prev11sec', 'increment-price-prev12sec',\n",
    "        'increment-price-prev13sec', 'increment-price-prev14sec',\n",
    "        'increment-price-prev15sec', \n",
    "        'increment-price-mv2sec',\n",
    "        'increment-price-mv3sec', 'increment-price-mv4sec',\n",
    "        'increment-price-mv5sec', 'increment-price-mv6sec',\n",
    "        'increment-price-mv7sec', 'increment-price-mv8sec',\n",
    "        'increment-price-mv9sec', 'increment-price-mv10sec',\n",
    "        'increment-price-mv11sec', 'increment-price-mv12sec',\n",
    "        'increment-price-mv13sec', 'increment-price-mv14sec',\n",
    "        'increment-price-mv15sec', \n",
    "        'volume-plate_m0', \n",
    "        'ratio-bid_m0', \n",
    "        'deal-early-second',\n",
    "        'deal-price-avg'                                                                                      \n",
    "        ]], how = 'left', left_on = 'datetime-prev_m2', right_on = 'datetime-curr', suffixes=['', '_m3'])\n",
    "df_history_ts_process.tail()"
   ]
  },
  {
   "cell_type": "code",
   "execution_count": 86,
   "metadata": {
    "scrolled": false
   },
   "outputs": [
    {
     "data": {
      "text/plain": [
       "[]"
      ]
     },
     "execution_count": 86,
     "metadata": {},
     "output_type": "execute_result"
    },
    {
     "name": "stderr",
     "output_type": "stream",
     "text": [
      "/home/user/env_py3/lib/python3.5/site-packages/matplotlib/font_manager.py:1297: UserWarning: findfont: Font family ['sans-serif'] not found. Falling back to DejaVu Sans\n",
      "  (prop.get_family(), self.defaultFamily[fontext]))\n"
     ]
    },
    {
     "data": {
      "image/png": "[encoded data removed]",
      "text/plain": [
       "<matplotlib.figure.Figure at 0x7f217745fe10>"
      ]
     },
     "metadata": {},
     "output_type": "display_data"
    },
    {
     "data": {
      "image/png": "[encoded data removed]",
      "text/plain": [
       "<matplotlib.figure.Figure at 0x7f217744f6a0>"
      ]
     },
     "metadata": {},
     "output_type": "display_data"
    },
    {
     "data": {
      "image/png": "[encoded data removed]",
      "text/plain": [
       "<matplotlib.figure.Figure at 0x7f2177583fd0>"
      ]
     },
     "metadata": {},
     "output_type": "display_data"
    },
    {
     "data": {
      "image/png": "[encoded data removed]",
      "text/plain": [
       "<matplotlib.figure.Figure at 0x7f21776785f8>"
      ]
     },
     "metadata": {},
     "output_type": "display_data"
    }
   ],
   "source": [
    "plt.figure()\n",
    "plt.plot(df_history_ts_process['increment-price-mv10sec'][1768:])\n",
    "plt.plot(df_history_ts_process['increment-price-mv10sec_m1'][1768:])\n",
    "plt.plot(df_history_ts_process['increment-price-mv10sec_m2'][1768:])\n",
    "plt.plot(df_history_ts_process['increment-price-mv10sec_m3'][1768:])\n",
    "plt.figure()\n",
    "plt.plot(df_history_ts_process['increment-price-prev10sec'][1768:])\n",
    "plt.plot(df_history_ts_process['increment-price-prev10sec_m1'][1768:])\n",
    "plt.plot(df_history_ts_process['increment-price-prev10sec_m2'][1768:])\n",
    "plt.plot(df_history_ts_process['increment-price-prev10sec_m3'][1768:])\n",
    "plt.figure()\n",
    "plt.plot(df_history_ts_process['increment-price'][1768:])\n",
    "plt.plot(df_history_ts_process['increment-price_m1'][1768:])\n",
    "plt.plot(df_history_ts_process['increment-price_m2'][1768:])\n",
    "plt.plot(df_history_ts_process['increment-price_m3'][1768:])\n",
    "plt.figure()\n",
    "plt.plot(df_history_ts_process['increment-price-target'][1768:])\n",
    "plt.plot(df_history_ts_process['increment-price-target_m1'][1768:])\n",
    "plt.plot(df_history_ts_process['increment-price-target_m2'][1768:])\n",
    "plt.plot(df_history_ts_process['increment-price-target_m3'][1768:])\n",
    "\n",
    "plt.plot()"
   ]
  },
  {
   "cell_type": "code",
   "execution_count": null,
   "metadata": {
    "collapsed": true
   },
   "outputs": [],
   "source": []
  },
  {
   "cell_type": "markdown",
   "metadata": {},
   "source": [
    "### Housekeeping to remove some invald data during pre-processing"
   ]
  },
  {
   "cell_type": "code",
   "execution_count": 87,
   "metadata": {
    "scrolled": false
   },
   "outputs": [
    {
     "name": "stdout",
     "output_type": "stream",
     "text": [
      "ccyy-mm\n",
      "time\n",
      "bid-price\n",
      "date-curr\n",
      "date-prev\n",
      "year\n",
      "month\n",
      "hour\n",
      "minute\n",
      "second\n",
      "datetime-curr\n",
      "datetime-prev\n",
      "base-price15sec\n",
      "increment-price\n",
      "increment-price-target\n",
      "increment-price-prev1sec\n",
      "increment-price-prev2sec\n",
      "increment-price-prev3sec\n",
      "increment-price-prev4sec\n",
      "increment-price-prev5sec\n",
      "increment-price-prev6sec\n",
      "increment-price-prev7sec\n",
      "increment-price-prev8sec\n",
      "increment-price-prev9sec\n",
      "increment-price-prev10sec\n",
      "increment-price-prev11sec\n",
      "increment-price-prev12sec\n",
      "increment-price-prev13sec\n",
      "increment-price-prev14sec\n",
      "increment-price-prev15sec\n",
      "increment-price-mv2sec\n",
      "increment-price-mv3sec\n",
      "increment-price-mv4sec\n",
      "increment-price-mv5sec\n",
      "increment-price-mv6sec\n",
      "increment-price-mv7sec\n",
      "increment-price-mv8sec\n",
      "increment-price-mv9sec\n",
      "increment-price-mv10sec\n",
      "increment-price-mv11sec\n",
      "increment-price-mv12sec\n",
      "increment-price-mv13sec\n",
      "increment-price-mv14sec\n",
      "increment-price-mv15sec\n",
      "volume-plate\n",
      "ratio-bid\n",
      "date-curr_m0\n",
      "volume-plate_m0\n",
      "ratio-bid_m0\n",
      "deal-early-second\n",
      "deal-price-avg\n",
      "datetime-curr_m1\n",
      "datetime-prev_m1\n",
      "base-price15sec_m1\n",
      "increment-price_m1\n",
      "increment-price-target_m1\n",
      "increment-price-prev1sec_m1\n",
      "increment-price-prev2sec_m1\n",
      "increment-price-prev3sec_m1\n",
      "increment-price-prev4sec_m1\n",
      "increment-price-prev5sec_m1\n",
      "increment-price-prev6sec_m1\n",
      "increment-price-prev7sec_m1\n",
      "increment-price-prev8sec_m1\n",
      "increment-price-prev9sec_m1\n",
      "increment-price-prev10sec_m1\n",
      "increment-price-prev11sec_m1\n",
      "increment-price-prev12sec_m1\n",
      "increment-price-prev13sec_m1\n",
      "increment-price-prev14sec_m1\n",
      "increment-price-prev15sec_m1\n",
      "increment-price-mv2sec_m1\n",
      "increment-price-mv3sec_m1\n",
      "increment-price-mv4sec_m1\n",
      "increment-price-mv5sec_m1\n",
      "increment-price-mv6sec_m1\n",
      "increment-price-mv7sec_m1\n",
      "increment-price-mv8sec_m1\n",
      "increment-price-mv9sec_m1\n",
      "increment-price-mv10sec_m1\n",
      "increment-price-mv11sec_m1\n",
      "increment-price-mv12sec_m1\n",
      "increment-price-mv13sec_m1\n",
      "increment-price-mv14sec_m1\n",
      "increment-price-mv15sec_m1\n",
      "volume-plate_m0_m1\n",
      "ratio-bid_m0_m1\n",
      "deal-early-second_m1\n",
      "deal-price-avg_m1\n",
      "datetime-curr_m2\n",
      "datetime-prev_m2\n",
      "base-price15sec_m2\n",
      "increment-price_m2\n",
      "increment-price-target_m2\n",
      "increment-price-prev1sec_m2\n",
      "increment-price-prev2sec_m2\n",
      "increment-price-prev3sec_m2\n",
      "increment-price-prev4sec_m2\n",
      "increment-price-prev5sec_m2\n",
      "increment-price-prev6sec_m2\n",
      "increment-price-prev7sec_m2\n",
      "increment-price-prev8sec_m2\n",
      "increment-price-prev9sec_m2\n",
      "increment-price-prev10sec_m2\n",
      "increment-price-prev11sec_m2\n",
      "increment-price-prev12sec_m2\n",
      "increment-price-prev13sec_m2\n",
      "increment-price-prev14sec_m2\n",
      "increment-price-prev15sec_m2\n",
      "increment-price-mv2sec_m2\n",
      "increment-price-mv3sec_m2\n",
      "increment-price-mv4sec_m2\n",
      "increment-price-mv5sec_m2\n",
      "increment-price-mv6sec_m2\n",
      "increment-price-mv7sec_m2\n",
      "increment-price-mv8sec_m2\n",
      "increment-price-mv9sec_m2\n",
      "increment-price-mv10sec_m2\n",
      "increment-price-mv11sec_m2\n",
      "increment-price-mv12sec_m2\n",
      "increment-price-mv13sec_m2\n",
      "increment-price-mv14sec_m2\n",
      "increment-price-mv15sec_m2\n",
      "volume-plate_m0_m2\n",
      "ratio-bid_m0_m2\n",
      "deal-early-second_m2\n",
      "deal-price-avg_m2\n",
      "datetime-curr_m3\n",
      "datetime-prev_m3\n",
      "base-price15sec_m3\n",
      "increment-price_m3\n",
      "increment-price-target_m3\n",
      "increment-price-prev1sec_m3\n",
      "increment-price-prev2sec_m3\n",
      "increment-price-prev3sec_m3\n",
      "increment-price-prev4sec_m3\n",
      "increment-price-prev5sec_m3\n",
      "increment-price-prev6sec_m3\n",
      "increment-price-prev7sec_m3\n",
      "increment-price-prev8sec_m3\n",
      "increment-price-prev9sec_m3\n",
      "increment-price-prev10sec_m3\n",
      "increment-price-prev11sec_m3\n",
      "increment-price-prev12sec_m3\n",
      "increment-price-prev13sec_m3\n",
      "increment-price-prev14sec_m3\n",
      "increment-price-prev15sec_m3\n",
      "increment-price-mv2sec_m3\n",
      "increment-price-mv3sec_m3\n",
      "increment-price-mv4sec_m3\n",
      "increment-price-mv5sec_m3\n",
      "increment-price-mv6sec_m3\n",
      "increment-price-mv7sec_m3\n",
      "increment-price-mv8sec_m3\n",
      "increment-price-mv9sec_m3\n",
      "increment-price-mv10sec_m3\n",
      "increment-price-mv11sec_m3\n",
      "increment-price-mv12sec_m3\n",
      "increment-price-mv13sec_m3\n",
      "increment-price-mv14sec_m3\n",
      "increment-price-mv15sec_m3\n",
      "volume-plate_m0_m3\n",
      "ratio-bid_m0_m3\n",
      "deal-early-second_m3\n",
      "deal-price-avg_m3\n"
     ]
    }
   ],
   "source": [
    "for i in range(0, len(df_history_ts_process.columns)): print(df_history_ts_process.columns[i])"
   ]
  },
  {
   "cell_type": "code",
   "execution_count": 88,
   "metadata": {
    "collapsed": true
   },
   "outputs": [],
   "source": [
    "# housekeeping: delete some columns\n",
    "# df_history_ts_process.drop('date-curr_y', axis=1, inplace=True)"
   ]
  },
  {
   "cell_type": "code",
   "execution_count": 89,
   "metadata": {},
   "outputs": [
    {
     "data": {
      "text/plain": [
       "Timestamp('2015-04-01 00:00:00')"
      ]
     },
     "execution_count": 89,
     "metadata": {},
     "output_type": "execute_result"
    }
   ],
   "source": [
    "parm_record_cut_ccyy"
   ]
  },
  {
   "cell_type": "code",
   "execution_count": 90,
   "metadata": {
    "collapsed": true
   },
   "outputs": [],
   "source": [
    "# remove first 'parm_record_cut_ccyy' months from dataset\n",
    "df_history_ts_process = df_history_ts_process[df_history_ts_process['date-curr'] > parm_record_cut_ccyy]"
   ]
  },
  {
   "cell_type": "code",
   "execution_count": 91,
   "metadata": {
    "collapsed": true
   },
   "outputs": [],
   "source": [
    "# total 61 seconds/rows per month:\n",
    "# remove first 'parm_record_cut_row_head' reconds\n",
    "# remove last 'parm_record_cut_row_tail' reconds\n",
    "df_history_ts_process = df_history_ts_process[df_history_ts_process['second'] >= str(parm_record_cut_row_head) ]\n",
    "df_history_ts_process = df_history_ts_process[df_history_ts_process['second'] <= str(60 - parm_record_cut_row_tail) ]\n",
    "# df_history_ts_process = df_history_ts_process[df_history_ts_process['second'] > parm_record_cut_row_head ]"
   ]
  },
  {
   "cell_type": "code",
   "execution_count": 92,
   "metadata": {
    "collapsed": true
   },
   "outputs": [],
   "source": [
    "# Reset index after housekeeping\n",
    "df_history_ts_process = df_history_ts_process.reset_index(drop=True)"
   ]
  },
  {
   "cell_type": "code",
   "execution_count": 93,
   "metadata": {},
   "outputs": [
    {
     "data": {
      "text/html": [
       "<div>\n",
       "<style>\n",
       "    .dataframe thead tr:only-child th {\n",
       "        text-align: right;\n",
       "    }\n",
       "\n",
       "    .dataframe thead th {\n",
       "        text-align: left;\n",
       "    }\n",
       "\n",
       "    .dataframe tbody tr th {\n",
       "        vertical-align: top;\n",
       "    }\n",
       "</style>\n",
       "<table border=\"1\" class=\"dataframe\">\n",
       "  <thead>\n",
       "    <tr style=\"text-align: right;\">\n",
       "      <th></th>\n",
       "      <th>ccyy-mm</th>\n",
       "      <th>time</th>\n",
       "      <th>bid-price</th>\n",
       "      <th>date-curr</th>\n",
       "      <th>date-prev</th>\n",
       "      <th>year</th>\n",
       "      <th>month</th>\n",
       "      <th>hour</th>\n",
       "      <th>minute</th>\n",
       "      <th>second</th>\n",
       "      <th>...</th>\n",
       "      <th>increment-price-mv10sec_m3</th>\n",
       "      <th>increment-price-mv11sec_m3</th>\n",
       "      <th>increment-price-mv12sec_m3</th>\n",
       "      <th>increment-price-mv13sec_m3</th>\n",
       "      <th>increment-price-mv14sec_m3</th>\n",
       "      <th>increment-price-mv15sec_m3</th>\n",
       "      <th>volume-plate_m0_m3</th>\n",
       "      <th>ratio-bid_m0_m3</th>\n",
       "      <th>deal-early-second_m3</th>\n",
       "      <th>deal-price-avg_m3</th>\n",
       "    </tr>\n",
       "  </thead>\n",
       "  <tbody>\n",
       "    <tr>\n",
       "      <th>0</th>\n",
       "      <td>2015-05</td>\n",
       "      <td>11:29:15</td>\n",
       "      <td>78400</td>\n",
       "      <td>2015-05-01</td>\n",
       "      <td>2015-04-01</td>\n",
       "      <td>2015</td>\n",
       "      <td>05</td>\n",
       "      <td>11</td>\n",
       "      <td>29</td>\n",
       "      <td>15</td>\n",
       "      <td>...</td>\n",
       "      <td>0</td>\n",
       "      <td>0</td>\n",
       "      <td>0</td>\n",
       "      <td>0</td>\n",
       "      <td>0</td>\n",
       "      <td>-6.66667</td>\n",
       "      <td>7990.0</td>\n",
       "      <td>0.081362</td>\n",
       "      <td>48.0</td>\n",
       "      <td>74216.0</td>\n",
       "    </tr>\n",
       "    <tr>\n",
       "      <th>1</th>\n",
       "      <td>2015-05</td>\n",
       "      <td>11:29:16</td>\n",
       "      <td>78400</td>\n",
       "      <td>2015-05-01</td>\n",
       "      <td>2015-04-01</td>\n",
       "      <td>2015</td>\n",
       "      <td>05</td>\n",
       "      <td>11</td>\n",
       "      <td>29</td>\n",
       "      <td>16</td>\n",
       "      <td>...</td>\n",
       "      <td>0</td>\n",
       "      <td>0</td>\n",
       "      <td>0</td>\n",
       "      <td>0</td>\n",
       "      <td>0</td>\n",
       "      <td>0</td>\n",
       "      <td>7990.0</td>\n",
       "      <td>0.081362</td>\n",
       "      <td>48.0</td>\n",
       "      <td>74216.0</td>\n",
       "    </tr>\n",
       "    <tr>\n",
       "      <th>2</th>\n",
       "      <td>2015-05</td>\n",
       "      <td>11:29:17</td>\n",
       "      <td>78400</td>\n",
       "      <td>2015-05-01</td>\n",
       "      <td>2015-04-01</td>\n",
       "      <td>2015</td>\n",
       "      <td>05</td>\n",
       "      <td>11</td>\n",
       "      <td>29</td>\n",
       "      <td>17</td>\n",
       "      <td>...</td>\n",
       "      <td>0</td>\n",
       "      <td>0</td>\n",
       "      <td>0</td>\n",
       "      <td>0</td>\n",
       "      <td>0</td>\n",
       "      <td>0</td>\n",
       "      <td>7990.0</td>\n",
       "      <td>0.081362</td>\n",
       "      <td>48.0</td>\n",
       "      <td>74216.0</td>\n",
       "    </tr>\n",
       "    <tr>\n",
       "      <th>3</th>\n",
       "      <td>2015-05</td>\n",
       "      <td>11:29:18</td>\n",
       "      <td>78400</td>\n",
       "      <td>2015-05-01</td>\n",
       "      <td>2015-04-01</td>\n",
       "      <td>2015</td>\n",
       "      <td>05</td>\n",
       "      <td>11</td>\n",
       "      <td>29</td>\n",
       "      <td>18</td>\n",
       "      <td>...</td>\n",
       "      <td>0</td>\n",
       "      <td>0</td>\n",
       "      <td>0</td>\n",
       "      <td>0</td>\n",
       "      <td>0</td>\n",
       "      <td>0</td>\n",
       "      <td>7990.0</td>\n",
       "      <td>0.081362</td>\n",
       "      <td>48.0</td>\n",
       "      <td>74216.0</td>\n",
       "    </tr>\n",
       "    <tr>\n",
       "      <th>4</th>\n",
       "      <td>2015-05</td>\n",
       "      <td>11:29:19</td>\n",
       "      <td>78500</td>\n",
       "      <td>2015-05-01</td>\n",
       "      <td>2015-04-01</td>\n",
       "      <td>2015</td>\n",
       "      <td>05</td>\n",
       "      <td>11</td>\n",
       "      <td>29</td>\n",
       "      <td>19</td>\n",
       "      <td>...</td>\n",
       "      <td>0</td>\n",
       "      <td>0</td>\n",
       "      <td>0</td>\n",
       "      <td>0</td>\n",
       "      <td>0</td>\n",
       "      <td>0</td>\n",
       "      <td>7990.0</td>\n",
       "      <td>0.081362</td>\n",
       "      <td>48.0</td>\n",
       "      <td>74216.0</td>\n",
       "    </tr>\n",
       "  </tbody>\n",
       "</table>\n",
       "<p>5 rows × 165 columns</p>\n",
       "</div>"
      ],
      "text/plain": [
       "   ccyy-mm      time  bid-price  date-curr  date-prev  year month hour minute  \\\n",
       "0  2015-05  11:29:15      78400 2015-05-01 2015-04-01  2015    05   11     29   \n",
       "1  2015-05  11:29:16      78400 2015-05-01 2015-04-01  2015    05   11     29   \n",
       "2  2015-05  11:29:17      78400 2015-05-01 2015-04-01  2015    05   11     29   \n",
       "3  2015-05  11:29:18      78400 2015-05-01 2015-04-01  2015    05   11     29   \n",
       "4  2015-05  11:29:19      78500 2015-05-01 2015-04-01  2015    05   11     29   \n",
       "\n",
       "  second        ...        increment-price-mv10sec_m3  \\\n",
       "0     15        ...                                 0   \n",
       "1     16        ...                                 0   \n",
       "2     17        ...                                 0   \n",
       "3     18        ...                                 0   \n",
       "4     19        ...                                 0   \n",
       "\n",
       "  increment-price-mv11sec_m3 increment-price-mv12sec_m3  \\\n",
       "0                          0                          0   \n",
       "1                          0                          0   \n",
       "2                          0                          0   \n",
       "3                          0                          0   \n",
       "4                          0                          0   \n",
       "\n",
       "   increment-price-mv13sec_m3 increment-price-mv14sec_m3  \\\n",
       "0                           0                          0   \n",
       "1                           0                          0   \n",
       "2                           0                          0   \n",
       "3                           0                          0   \n",
       "4                           0                          0   \n",
       "\n",
       "  increment-price-mv15sec_m3 volume-plate_m0_m3 ratio-bid_m0_m3  \\\n",
       "0                   -6.66667             7990.0        0.081362   \n",
       "1                          0             7990.0        0.081362   \n",
       "2                          0             7990.0        0.081362   \n",
       "3                          0             7990.0        0.081362   \n",
       "4                          0             7990.0        0.081362   \n",
       "\n",
       "  deal-early-second_m3 deal-price-avg_m3  \n",
       "0                 48.0           74216.0  \n",
       "1                 48.0           74216.0  \n",
       "2                 48.0           74216.0  \n",
       "3                 48.0           74216.0  \n",
       "4                 48.0           74216.0  \n",
       "\n",
       "[5 rows x 165 columns]"
      ]
     },
     "execution_count": 93,
     "metadata": {},
     "output_type": "execute_result"
    }
   ],
   "source": [
    "df_history_ts_process.head()"
   ]
  },
  {
   "cell_type": "code",
   "execution_count": 94,
   "metadata": {},
   "outputs": [
    {
     "data": {
      "text/html": [
       "<div>\n",
       "<style>\n",
       "    .dataframe thead tr:only-child th {\n",
       "        text-align: right;\n",
       "    }\n",
       "\n",
       "    .dataframe thead th {\n",
       "        text-align: left;\n",
       "    }\n",
       "\n",
       "    .dataframe tbody tr th {\n",
       "        vertical-align: top;\n",
       "    }\n",
       "</style>\n",
       "<table border=\"1\" class=\"dataframe\">\n",
       "  <thead>\n",
       "    <tr style=\"text-align: right;\">\n",
       "      <th></th>\n",
       "      <th>ccyy-mm</th>\n",
       "      <th>time</th>\n",
       "      <th>bid-price</th>\n",
       "      <th>date-curr</th>\n",
       "      <th>date-prev</th>\n",
       "      <th>year</th>\n",
       "      <th>month</th>\n",
       "      <th>hour</th>\n",
       "      <th>minute</th>\n",
       "      <th>second</th>\n",
       "      <th>...</th>\n",
       "      <th>increment-price-mv10sec_m3</th>\n",
       "      <th>increment-price-mv11sec_m3</th>\n",
       "      <th>increment-price-mv12sec_m3</th>\n",
       "      <th>increment-price-mv13sec_m3</th>\n",
       "      <th>increment-price-mv14sec_m3</th>\n",
       "      <th>increment-price-mv15sec_m3</th>\n",
       "      <th>volume-plate_m0_m3</th>\n",
       "      <th>ratio-bid_m0_m3</th>\n",
       "      <th>deal-early-second_m3</th>\n",
       "      <th>deal-price-avg_m3</th>\n",
       "    </tr>\n",
       "  </thead>\n",
       "  <tbody>\n",
       "    <tr>\n",
       "      <th>1048</th>\n",
       "      <td>2017-07</td>\n",
       "      <td>11:29:49</td>\n",
       "      <td>91400</td>\n",
       "      <td>2017-07-01</td>\n",
       "      <td>2017-06-01</td>\n",
       "      <td>2017</td>\n",
       "      <td>07</td>\n",
       "      <td>11</td>\n",
       "      <td>29</td>\n",
       "      <td>49</td>\n",
       "      <td>...</td>\n",
       "      <td>470</td>\n",
       "      <td>454.545</td>\n",
       "      <td>441.667</td>\n",
       "      <td>430.769</td>\n",
       "      <td>421.429</td>\n",
       "      <td>413.333</td>\n",
       "      <td>10356.0</td>\n",
       "      <td>0.039525</td>\n",
       "      <td>55.0</td>\n",
       "      <td>87916.0</td>\n",
       "    </tr>\n",
       "    <tr>\n",
       "      <th>1049</th>\n",
       "      <td>2017-07</td>\n",
       "      <td>11:29:50</td>\n",
       "      <td>91500</td>\n",
       "      <td>2017-07-01</td>\n",
       "      <td>2017-06-01</td>\n",
       "      <td>2017</td>\n",
       "      <td>07</td>\n",
       "      <td>11</td>\n",
       "      <td>29</td>\n",
       "      <td>50</td>\n",
       "      <td>...</td>\n",
       "      <td>510</td>\n",
       "      <td>490.909</td>\n",
       "      <td>475</td>\n",
       "      <td>461.538</td>\n",
       "      <td>450</td>\n",
       "      <td>440</td>\n",
       "      <td>10356.0</td>\n",
       "      <td>0.039525</td>\n",
       "      <td>55.0</td>\n",
       "      <td>87916.0</td>\n",
       "    </tr>\n",
       "    <tr>\n",
       "      <th>1050</th>\n",
       "      <td>2017-07</td>\n",
       "      <td>11:29:51</td>\n",
       "      <td>91600</td>\n",
       "      <td>2017-07-01</td>\n",
       "      <td>2017-06-01</td>\n",
       "      <td>2017</td>\n",
       "      <td>07</td>\n",
       "      <td>11</td>\n",
       "      <td>29</td>\n",
       "      <td>51</td>\n",
       "      <td>...</td>\n",
       "      <td>550</td>\n",
       "      <td>527.273</td>\n",
       "      <td>508.333</td>\n",
       "      <td>492.308</td>\n",
       "      <td>478.571</td>\n",
       "      <td>466.667</td>\n",
       "      <td>10356.0</td>\n",
       "      <td>0.039525</td>\n",
       "      <td>55.0</td>\n",
       "      <td>87916.0</td>\n",
       "    </tr>\n",
       "    <tr>\n",
       "      <th>1051</th>\n",
       "      <td>2017-07</td>\n",
       "      <td>11:29:52</td>\n",
       "      <td>91700</td>\n",
       "      <td>2017-07-01</td>\n",
       "      <td>2017-06-01</td>\n",
       "      <td>2017</td>\n",
       "      <td>07</td>\n",
       "      <td>11</td>\n",
       "      <td>29</td>\n",
       "      <td>52</td>\n",
       "      <td>...</td>\n",
       "      <td>590</td>\n",
       "      <td>563.636</td>\n",
       "      <td>541.667</td>\n",
       "      <td>523.077</td>\n",
       "      <td>507.143</td>\n",
       "      <td>493.333</td>\n",
       "      <td>10356.0</td>\n",
       "      <td>0.039525</td>\n",
       "      <td>55.0</td>\n",
       "      <td>87916.0</td>\n",
       "    </tr>\n",
       "    <tr>\n",
       "      <th>1052</th>\n",
       "      <td>2017-07</td>\n",
       "      <td>11:29:53</td>\n",
       "      <td>91800</td>\n",
       "      <td>2017-07-01</td>\n",
       "      <td>2017-06-01</td>\n",
       "      <td>2017</td>\n",
       "      <td>07</td>\n",
       "      <td>11</td>\n",
       "      <td>29</td>\n",
       "      <td>53</td>\n",
       "      <td>...</td>\n",
       "      <td>620</td>\n",
       "      <td>600</td>\n",
       "      <td>575</td>\n",
       "      <td>553.846</td>\n",
       "      <td>535.714</td>\n",
       "      <td>520</td>\n",
       "      <td>10356.0</td>\n",
       "      <td>0.039525</td>\n",
       "      <td>55.0</td>\n",
       "      <td>87916.0</td>\n",
       "    </tr>\n",
       "  </tbody>\n",
       "</table>\n",
       "<p>5 rows × 165 columns</p>\n",
       "</div>"
      ],
      "text/plain": [
       "      ccyy-mm      time  bid-price  date-curr  date-prev  year month hour  \\\n",
       "1048  2017-07  11:29:49      91400 2017-07-01 2017-06-01  2017    07   11   \n",
       "1049  2017-07  11:29:50      91500 2017-07-01 2017-06-01  2017    07   11   \n",
       "1050  2017-07  11:29:51      91600 2017-07-01 2017-06-01  2017    07   11   \n",
       "1051  2017-07  11:29:52      91700 2017-07-01 2017-06-01  2017    07   11   \n",
       "1052  2017-07  11:29:53      91800 2017-07-01 2017-06-01  2017    07   11   \n",
       "\n",
       "     minute second        ...        increment-price-mv10sec_m3  \\\n",
       "1048     29     49        ...                               470   \n",
       "1049     29     50        ...                               510   \n",
       "1050     29     51        ...                               550   \n",
       "1051     29     52        ...                               590   \n",
       "1052     29     53        ...                               620   \n",
       "\n",
       "     increment-price-mv11sec_m3 increment-price-mv12sec_m3  \\\n",
       "1048                    454.545                    441.667   \n",
       "1049                    490.909                        475   \n",
       "1050                    527.273                    508.333   \n",
       "1051                    563.636                    541.667   \n",
       "1052                        600                        575   \n",
       "\n",
       "      increment-price-mv13sec_m3 increment-price-mv14sec_m3  \\\n",
       "1048                     430.769                    421.429   \n",
       "1049                     461.538                        450   \n",
       "1050                     492.308                    478.571   \n",
       "1051                     523.077                    507.143   \n",
       "1052                     553.846                    535.714   \n",
       "\n",
       "     increment-price-mv15sec_m3 volume-plate_m0_m3 ratio-bid_m0_m3  \\\n",
       "1048                    413.333            10356.0        0.039525   \n",
       "1049                        440            10356.0        0.039525   \n",
       "1050                    466.667            10356.0        0.039525   \n",
       "1051                    493.333            10356.0        0.039525   \n",
       "1052                        520            10356.0        0.039525   \n",
       "\n",
       "     deal-early-second_m3 deal-price-avg_m3  \n",
       "1048                 55.0           87916.0  \n",
       "1049                 55.0           87916.0  \n",
       "1050                 55.0           87916.0  \n",
       "1051                 55.0           87916.0  \n",
       "1052                 55.0           87916.0  \n",
       "\n",
       "[5 rows x 165 columns]"
      ]
     },
     "execution_count": 94,
     "metadata": {},
     "output_type": "execute_result"
    }
   ],
   "source": [
    "df_history_ts_process.tail()"
   ]
  },
  {
   "cell_type": "code",
   "execution_count": 96,
   "metadata": {
    "scrolled": false
   },
   "outputs": [
    {
     "data": {
      "text/plain": [
       "[]"
      ]
     },
     "execution_count": 96,
     "metadata": {},
     "output_type": "execute_result"
    },
    {
     "name": "stderr",
     "output_type": "stream",
     "text": [
      "/home/user/env_py3/lib/python3.5/site-packages/matplotlib/font_manager.py:1297: UserWarning: findfont: Font family ['sans-serif'] not found. Falling back to DejaVu Sans\n",
      "  (prop.get_family(), self.defaultFamily[fontext]))\n"
     ]
    },
    {
     "data": {
      "image/png": "[encoded data removed]",
      "text/plain": [
       "<matplotlib.figure.Figure at 0x7f21775c2c18>"
      ]
     },
     "metadata": {},
     "output_type": "display_data"
    },
    {
     "data": {
      "image/png": "[encoded data removed]",
      "text/plain": [
       "<matplotlib.figure.Figure at 0x7f21775c27b8>"
      ]
     },
     "metadata": {},
     "output_type": "display_data"
    }
   ],
   "source": [
    "plt.figure()\n",
    "plt.plot(df_history_ts_process['increment-price'][974:])\n",
    "plt.plot(df_history_ts_process['increment-price-mv3sec'][974:])\n",
    "plt.plot(df_history_ts_process['increment-price-mv7sec'][974:])\n",
    "plt.plot(df_history_ts_process['increment-price-mv11sec'][974:])\n",
    "plt.plot(df_history_ts_process['increment-price-mv15sec'][974:])\n",
    "plt.figure()\n",
    "plt.plot(df_history_ts_process['increment-price-mv15sec'][974:])\n",
    "plt.plot(df_history_ts_process['increment-price-mv15sec_m1'][974:])\n",
    "plt.plot(df_history_ts_process['increment-price-mv15sec_m2'][974:])\n",
    "plt.plot(df_history_ts_process['increment-price-mv15sec_m3'][974:])\n",
    "plt.plot()"
   ]
  },
  {
   "cell_type": "code",
   "execution_count": null,
   "metadata": {
    "collapsed": true
   },
   "outputs": [],
   "source": []
  },
  {
   "cell_type": "markdown",
   "metadata": {},
   "source": [
    "# [3] Modeling Part 2: Python scikit-learn"
   ]
  },
  {
   "cell_type": "markdown",
   "metadata": {},
   "source": [
    "### Models to use:\n",
    "\n",
    "* GradientBoostingClassifier\n",
    "* RandomForestClassifier\n",
    "* AdaBoostClassifier\n",
    "* ExtraTreesClassifier\n",
    "* BaggingClassifier\n",
    "* LogisticRegression\n",
    "* SVM kernal RBF\n",
    "* SVM kernal Linear\n",
    "* KNeighborsClassifier\n"
   ]
  },
  {
   "cell_type": "markdown",
   "metadata": {},
   "source": [
    "### Import pre-processed data"
   ]
  },
  {
   "cell_type": "code",
   "execution_count": 97,
   "metadata": {},
   "outputs": [
    {
     "data": {
      "text/html": [
       "<div>\n",
       "<style>\n",
       "    .dataframe thead tr:only-child th {\n",
       "        text-align: right;\n",
       "    }\n",
       "\n",
       "    .dataframe thead th {\n",
       "        text-align: left;\n",
       "    }\n",
       "\n",
       "    .dataframe tbody tr th {\n",
       "        vertical-align: top;\n",
       "    }\n",
       "</style>\n",
       "<table border=\"1\" class=\"dataframe\">\n",
       "  <thead>\n",
       "    <tr style=\"text-align: right;\">\n",
       "      <th></th>\n",
       "      <th>ccyy-mm</th>\n",
       "      <th>time</th>\n",
       "      <th>bid-price</th>\n",
       "      <th>date-curr</th>\n",
       "      <th>date-prev</th>\n",
       "      <th>year</th>\n",
       "      <th>month</th>\n",
       "      <th>hour</th>\n",
       "      <th>minute</th>\n",
       "      <th>second</th>\n",
       "      <th>...</th>\n",
       "      <th>increment-price-mv10sec_m3</th>\n",
       "      <th>increment-price-mv11sec_m3</th>\n",
       "      <th>increment-price-mv12sec_m3</th>\n",
       "      <th>increment-price-mv13sec_m3</th>\n",
       "      <th>increment-price-mv14sec_m3</th>\n",
       "      <th>increment-price-mv15sec_m3</th>\n",
       "      <th>volume-plate_m0_m3</th>\n",
       "      <th>ratio-bid_m0_m3</th>\n",
       "      <th>deal-early-second_m3</th>\n",
       "      <th>deal-price-avg_m3</th>\n",
       "    </tr>\n",
       "  </thead>\n",
       "  <tbody>\n",
       "    <tr>\n",
       "      <th>0</th>\n",
       "      <td>2015-05</td>\n",
       "      <td>11:29:15</td>\n",
       "      <td>78400</td>\n",
       "      <td>2015-05-01</td>\n",
       "      <td>2015-04-01</td>\n",
       "      <td>2015</td>\n",
       "      <td>05</td>\n",
       "      <td>11</td>\n",
       "      <td>29</td>\n",
       "      <td>15</td>\n",
       "      <td>...</td>\n",
       "      <td>0</td>\n",
       "      <td>0</td>\n",
       "      <td>0</td>\n",
       "      <td>0</td>\n",
       "      <td>0</td>\n",
       "      <td>-6.66667</td>\n",
       "      <td>7990.0</td>\n",
       "      <td>0.081362</td>\n",
       "      <td>48.0</td>\n",
       "      <td>74216.0</td>\n",
       "    </tr>\n",
       "    <tr>\n",
       "      <th>1</th>\n",
       "      <td>2015-05</td>\n",
       "      <td>11:29:16</td>\n",
       "      <td>78400</td>\n",
       "      <td>2015-05-01</td>\n",
       "      <td>2015-04-01</td>\n",
       "      <td>2015</td>\n",
       "      <td>05</td>\n",
       "      <td>11</td>\n",
       "      <td>29</td>\n",
       "      <td>16</td>\n",
       "      <td>...</td>\n",
       "      <td>0</td>\n",
       "      <td>0</td>\n",
       "      <td>0</td>\n",
       "      <td>0</td>\n",
       "      <td>0</td>\n",
       "      <td>0</td>\n",
       "      <td>7990.0</td>\n",
       "      <td>0.081362</td>\n",
       "      <td>48.0</td>\n",
       "      <td>74216.0</td>\n",
       "    </tr>\n",
       "    <tr>\n",
       "      <th>2</th>\n",
       "      <td>2015-05</td>\n",
       "      <td>11:29:17</td>\n",
       "      <td>78400</td>\n",
       "      <td>2015-05-01</td>\n",
       "      <td>2015-04-01</td>\n",
       "      <td>2015</td>\n",
       "      <td>05</td>\n",
       "      <td>11</td>\n",
       "      <td>29</td>\n",
       "      <td>17</td>\n",
       "      <td>...</td>\n",
       "      <td>0</td>\n",
       "      <td>0</td>\n",
       "      <td>0</td>\n",
       "      <td>0</td>\n",
       "      <td>0</td>\n",
       "      <td>0</td>\n",
       "      <td>7990.0</td>\n",
       "      <td>0.081362</td>\n",
       "      <td>48.0</td>\n",
       "      <td>74216.0</td>\n",
       "    </tr>\n",
       "    <tr>\n",
       "      <th>3</th>\n",
       "      <td>2015-05</td>\n",
       "      <td>11:29:18</td>\n",
       "      <td>78400</td>\n",
       "      <td>2015-05-01</td>\n",
       "      <td>2015-04-01</td>\n",
       "      <td>2015</td>\n",
       "      <td>05</td>\n",
       "      <td>11</td>\n",
       "      <td>29</td>\n",
       "      <td>18</td>\n",
       "      <td>...</td>\n",
       "      <td>0</td>\n",
       "      <td>0</td>\n",
       "      <td>0</td>\n",
       "      <td>0</td>\n",
       "      <td>0</td>\n",
       "      <td>0</td>\n",
       "      <td>7990.0</td>\n",
       "      <td>0.081362</td>\n",
       "      <td>48.0</td>\n",
       "      <td>74216.0</td>\n",
       "    </tr>\n",
       "    <tr>\n",
       "      <th>4</th>\n",
       "      <td>2015-05</td>\n",
       "      <td>11:29:19</td>\n",
       "      <td>78500</td>\n",
       "      <td>2015-05-01</td>\n",
       "      <td>2015-04-01</td>\n",
       "      <td>2015</td>\n",
       "      <td>05</td>\n",
       "      <td>11</td>\n",
       "      <td>29</td>\n",
       "      <td>19</td>\n",
       "      <td>...</td>\n",
       "      <td>0</td>\n",
       "      <td>0</td>\n",
       "      <td>0</td>\n",
       "      <td>0</td>\n",
       "      <td>0</td>\n",
       "      <td>0</td>\n",
       "      <td>7990.0</td>\n",
       "      <td>0.081362</td>\n",
       "      <td>48.0</td>\n",
       "      <td>74216.0</td>\n",
       "    </tr>\n",
       "  </tbody>\n",
       "</table>\n",
       "<p>5 rows × 165 columns</p>\n",
       "</div>"
      ],
      "text/plain": [
       "   ccyy-mm      time  bid-price  date-curr  date-prev  year month hour minute  \\\n",
       "0  2015-05  11:29:15      78400 2015-05-01 2015-04-01  2015    05   11     29   \n",
       "1  2015-05  11:29:16      78400 2015-05-01 2015-04-01  2015    05   11     29   \n",
       "2  2015-05  11:29:17      78400 2015-05-01 2015-04-01  2015    05   11     29   \n",
       "3  2015-05  11:29:18      78400 2015-05-01 2015-04-01  2015    05   11     29   \n",
       "4  2015-05  11:29:19      78500 2015-05-01 2015-04-01  2015    05   11     29   \n",
       "\n",
       "  second        ...        increment-price-mv10sec_m3  \\\n",
       "0     15        ...                                 0   \n",
       "1     16        ...                                 0   \n",
       "2     17        ...                                 0   \n",
       "3     18        ...                                 0   \n",
       "4     19        ...                                 0   \n",
       "\n",
       "  increment-price-mv11sec_m3 increment-price-mv12sec_m3  \\\n",
       "0                          0                          0   \n",
       "1                          0                          0   \n",
       "2                          0                          0   \n",
       "3                          0                          0   \n",
       "4                          0                          0   \n",
       "\n",
       "   increment-price-mv13sec_m3 increment-price-mv14sec_m3  \\\n",
       "0                           0                          0   \n",
       "1                           0                          0   \n",
       "2                           0                          0   \n",
       "3                           0                          0   \n",
       "4                           0                          0   \n",
       "\n",
       "  increment-price-mv15sec_m3 volume-plate_m0_m3 ratio-bid_m0_m3  \\\n",
       "0                   -6.66667             7990.0        0.081362   \n",
       "1                          0             7990.0        0.081362   \n",
       "2                          0             7990.0        0.081362   \n",
       "3                          0             7990.0        0.081362   \n",
       "4                          0             7990.0        0.081362   \n",
       "\n",
       "  deal-early-second_m3 deal-price-avg_m3  \n",
       "0                 48.0           74216.0  \n",
       "1                 48.0           74216.0  \n",
       "2                 48.0           74216.0  \n",
       "3                 48.0           74216.0  \n",
       "4                 48.0           74216.0  \n",
       "\n",
       "[5 rows x 165 columns]"
      ]
     },
     "execution_count": 97,
     "metadata": {},
     "output_type": "execute_result"
    }
   ],
   "source": [
    "df_history_ts_process.head()"
   ]
  },
  {
   "cell_type": "markdown",
   "metadata": {},
   "source": [
    "### Include relevant features"
   ]
  },
  {
   "cell_type": "code",
   "execution_count": null,
   "metadata": {
    "collapsed": true
   },
   "outputs": [],
   "source": [
    "X = df_history_ts_process[[\n",
    "# 'ccyy-mm', 'time', 'bid-price', 'date-curr_x', 'date-prev', 'year',\n",
    "       'month', \n",
    "#     'hour', 'minute', \n",
    "    'second', 'base-price15sec',\n",
    "       'increment-price', \n",
    "#     'increment-price-target', \n",
    "    'increment-price-prev1sec',\n",
    "       'increment-price-prev2sec', 'increment-price-prev3sec',\n",
    "       'increment-price-prev4sec', 'increment-price-prev5sec',\n",
    "       'increment-price-prev6sec', 'increment-price-prev7sec',\n",
    "       'increment-price-prev8sec', 'increment-price-prev9sec',\n",
    "       'increment-price-prev10sec', 'increment-price-prev11sec',\n",
    "       'increment-price-prev12sec', 'increment-price-prev13sec',\n",
    "       'increment-price-prev14sec', 'increment-price-prev15sec',\n",
    "       'increment-price-mv2sec', 'increment-price-mv3sec',\n",
    "       'increment-price-mv4sec', 'increment-price-mv5sec',\n",
    "       'increment-price-mv6sec', 'increment-price-mv7sec',\n",
    "       'increment-price-mv8sec', 'increment-price-mv9sec',\n",
    "       'increment-price-mv10sec', 'increment-price-mv11sec',\n",
    "       'increment-price-mv12sec', 'increment-price-mv13sec',\n",
    "       'increment-price-mv14sec', 'increment-price-mv15sec', 'volume-plate_x',\n",
    "       'ratio-bid_x', 'volume-plate_y', 'ratio-bid_y', 'deal-early-second',\n",
    "       'deal-price-avg', 'deal-price-avg'    \n",
    "        ]]\n",
    "\n",
    "X_col = X.columns # get the column list\n",
    "\n",
    "# X = StandardScaler().fit_transform(X.as_matrix())\n",
    "X = X.as_matrix()\n",
    "\n",
    "# y = StandardScaler().fit_transform(df_wnv_raw[['increment-price-target']].as_matrix()).reshape(len(df_wnv_raw),)\n",
    "y = df_history_ts_process[['increment-price-target']].as_matrix().reshape(len(df_history_ts_process),)\n"
   ]
  },
  {
   "cell_type": "code",
   "execution_count": null,
   "metadata": {
    "scrolled": true
   },
   "outputs": [],
   "source": [
    "X_col"
   ]
  },
  {
   "cell_type": "code",
   "execution_count": null,
   "metadata": {},
   "outputs": [],
   "source": [
    "plt.figure()\n",
    "plt.plot(X)\n",
    "plt.figure()\n",
    "plt.plot(y)\n"
   ]
  },
  {
   "cell_type": "code",
   "execution_count": null,
   "metadata": {
    "collapsed": true
   },
   "outputs": [],
   "source": []
  },
  {
   "cell_type": "markdown",
   "metadata": {},
   "source": [
    "# [4] Evaluation\n",
    "### K-fold Cross-Validation"
   ]
  },
  {
   "cell_type": "code",
   "execution_count": null,
   "metadata": {
    "collapsed": true
   },
   "outputs": [],
   "source": [
    "rng = check_random_state(0)"
   ]
  },
  {
   "cell_type": "code",
   "execution_count": null,
   "metadata": {
    "collapsed": true,
    "scrolled": true
   },
   "outputs": [],
   "source": [
    "# GB\n",
    "classifier_GB = GradientBoostingRegressor(n_estimators=1500, # score: 0.94608 (AUC 0.81419), learning_rate=0.001, max_features=8 <<< Best\n",
    "#                                    loss='deviance',\n",
    "#                                    subsample=1,\n",
    "#                                    max_depth=5,\n",
    "#                                    min_samples_split=20,\n",
    "                                   learning_rate=0.002,\n",
    "#                                    max_features=10,\n",
    "                                   random_state=rng)"
   ]
  },
  {
   "cell_type": "code",
   "execution_count": null,
   "metadata": {
    "collapsed": true
   },
   "outputs": [],
   "source": [
    "# AB\n",
    "classifier_AB = AdaBoostRegressor(n_estimators=1500, # score: 0.93948 (AUC 0.88339), learning_rate=0.004 <<< Best\n",
    "                                   learning_rate=0.002,\n",
    "                                   random_state=rng)"
   ]
  },
  {
   "cell_type": "code",
   "execution_count": null,
   "metadata": {
    "collapsed": true
   },
   "outputs": [],
   "source": [
    "# RF\n",
    "classifier_RF = RandomForestRegressor(n_estimators=1500, # score: 0.94207 (AUC 0.81870), max_depth=3, min_samples_split=20, <<< Best\n",
    "#                                     max_features=10,\n",
    "#                                     max_depth=3,\n",
    "#                                     min_samples_split=20,\n",
    "                                    random_state=rng)"
   ]
  },
  {
   "cell_type": "code",
   "execution_count": null,
   "metadata": {
    "collapsed": true
   },
   "outputs": [],
   "source": [
    "# ET\n",
    "classifier_ET = ExtraTreesRegressor(n_estimators=1000, # score: 0.94655 (AUC 0.84364), max_depth=3, min_samples_split=20, max_features=10 <<< Best\n",
    "#                                     max_depth=3,\n",
    "#                                     min_samples_split=20,\n",
    "#                                     max_features=10,\n",
    "                                    random_state=rng)"
   ]
  },
  {
   "cell_type": "code",
   "execution_count": null,
   "metadata": {
    "collapsed": true
   },
   "outputs": [],
   "source": [
    "# BG\n",
    "classifier_BG = BaggingRegressor(n_estimators=500, # score: 0.70725 (AUC 0.63729) <<< Best\n",
    "#                                     max_features=10,\n",
    "                                    random_state=rng)"
   ]
  },
  {
   "cell_type": "markdown",
   "metadata": {},
   "source": [
    "### LR"
   ]
  },
  {
   "cell_type": "code",
   "execution_count": null,
   "metadata": {
    "collapsed": true
   },
   "outputs": [],
   "source": [
    "classifier_LR = LinearRegression() # score: 0.90199 (AUC 0.80569)"
   ]
  },
  {
   "cell_type": "markdown",
   "metadata": {},
   "source": [
    "### SVM Linear"
   ]
  },
  {
   "cell_type": "code",
   "execution_count": null,
   "metadata": {
    "collapsed": true
   },
   "outputs": [],
   "source": [
    "# classifier_SVCL = svm.SVC(kernel='linear', probability=True, random_state=rng) # score: 0.89976 (AUC 0.70524)\n",
    "classifier_SVRL = svm.SVR() # score: 0.89976 (AUC 0.70524)"
   ]
  },
  {
   "cell_type": "markdown",
   "metadata": {},
   "source": [
    "### SVM"
   ]
  },
  {
   "cell_type": "code",
   "execution_count": null,
   "metadata": {
    "collapsed": true
   },
   "outputs": [],
   "source": [
    "classifier_SVRR = svm.SVR(kernel='rbf') # score: 0.80188 (AUC 0.50050)\n",
    "# classifier_SVRR = svm.SVR(kernel='poly') # score: 0.80188 (AUC 0.50050)"
   ]
  },
  {
   "cell_type": "markdown",
   "metadata": {},
   "source": [
    "### KNN"
   ]
  },
  {
   "cell_type": "code",
   "execution_count": null,
   "metadata": {},
   "outputs": [],
   "source": [
    "classifier_KNN = KNeighborsRegressor(n_neighbors=2) # score: 0.94018 (AUC 0.72792)\n",
    "cv = cross_val_score(classifier_KNN,\n",
    "                            X,\n",
    "                            y,\n",
    "                            cv=StratifiedKFold(parm_ts_valid_month))\n",
    "print('KNN CV score: {0:.5f}'.format(cv.mean()))"
   ]
  },
  {
   "cell_type": "code",
   "execution_count": null,
   "metadata": {
    "collapsed": true
   },
   "outputs": [],
   "source": []
  },
  {
   "cell_type": "markdown",
   "metadata": {},
   "source": [
    "### Select Model"
   ]
  },
  {
   "cell_type": "code",
   "execution_count": null,
   "metadata": {
    "collapsed": true
   },
   "outputs": [],
   "source": [
    "# classifier = classifier_GB   # 324.632308296\n",
    "classifier = classifier_AB   # 429.646733221\n",
    "# classifier = classifier_RF   # 175.504322802\n",
    "# classifier = classifier_ET   # 172.097916817, 0.0724812030075\n",
    "# classifier = classifier_BG   # 175.451381872\n",
    "# classifier = classifier_LR     # 128.465059749, 0.11\n",
    "# classifier = classifier_SVRL # 3789.82169312\n",
    "# classifier = classifier_SVRR # 3789.82169312, 0.10754224349"
   ]
  },
  {
   "cell_type": "markdown",
   "metadata": {},
   "source": [
    "### Split Data"
   ]
  },
  {
   "cell_type": "code",
   "execution_count": null,
   "metadata": {},
   "outputs": [],
   "source": [
    "n_splits = parm_ts_valid_cycle\n",
    "print(n_splits)\n",
    "# n_splits=54 # 19 seconds/records for each bidding month\n",
    "# n_splits=19 # 19 seconds/records for each bidding month\n",
    "n_fold = parm_ts_valid_month\n",
    "print(n_fold)\n",
    "\n",
    "\n",
    "# X_train_1 = X[0:(len(X)-batch*n_splits)]\n",
    "# y_train_1 = y[0:(len(X)-batch*n_splits)]\n",
    "\n",
    "# X_test_1 = X[(len(X)-batch*n_splits):((len(X)-batch*n_splits)+n_splits)]\n",
    "# y_test_1 = y[(len(X)-batch*n_splits):((len(X)-batch*n_splits)+n_splits)]\n"
   ]
  },
  {
   "cell_type": "markdown",
   "metadata": {},
   "source": [
    "### CV"
   ]
  },
  {
   "cell_type": "code",
   "execution_count": null,
   "metadata": {
    "collapsed": true
   },
   "outputs": [],
   "source": [
    "n_fold=5"
   ]
  },
  {
   "cell_type": "code",
   "execution_count": null,
   "metadata": {
    "scrolled": false
   },
   "outputs": [],
   "source": [
    "y_pred = {}\n",
    "y_test = {}\n",
    "\n",
    "y_pred_org = {}\n",
    "y_test_org = {}\n",
    "\n",
    "i = 0\n",
    "for batch in range(1, n_fold):\n",
    "    X_train_1 = X[0:(len(X)-batch*n_splits)]\n",
    "    y_train_1 = y[0:(len(X)-batch*n_splits)]\n",
    "    X_test_1  = X[(len(X)-batch*n_splits):((len(X)-batch*n_splits)+n_splits)]\n",
    "    y_test_1  = y[(len(X)-batch*n_splits):((len(X)-batch*n_splits)+n_splits)]\n",
    "    print(len(X_train_1))\n",
    "    \n",
    "    # ReScale\n",
    "    ScalerX = StandardScaler()\n",
    "    ScalerX.fit(X_train_1)\n",
    "    X_train_1 = ScalerX.transform(X_train_1)\n",
    "    X_test_1  = ScalerX.transform(X_test_1)\n",
    "    \n",
    "    ScalerY = StandardScaler()\n",
    "    ScalerY.fit(y_train_1.reshape(-1, 1))\n",
    "    y_train_1 = ScalerY.transform(y_train_1.reshape(-1, 1))\n",
    "    y_test_1  = ScalerY.transform(y_test_1.reshape(-1, 1))\n",
    "    \n",
    "    y_pred[i] = classifier.fit(X_train_1, y_train_1).predict(X_test_1)\n",
    "    y_test[i] = y_test_1  \n",
    "\n",
    "    y_pred_org[i] = ScalerY.inverse_transform(y_pred[i])\n",
    "    y_test_org[i] = ScalerY.inverse_transform(y_test[i])\n",
    "    \n",
    "    plt.figure()\n",
    "    plt.plot(y_train_1)\n",
    "    plt.plot()\n",
    "    plt.figure()\n",
    "    plt.plot(y_test[i])\n",
    "    plt.plot(y_pred[i])\n",
    "    plt.plot()\n",
    "    i += 1"
   ]
  },
  {
   "cell_type": "markdown",
   "metadata": {},
   "source": [
    "### no inverse-scale"
   ]
  },
  {
   "cell_type": "code",
   "execution_count": null,
   "metadata": {
    "scrolled": true
   },
   "outputs": [],
   "source": [
    "k = []\n",
    "for i in range(0, len(y_test)):\n",
    "    k.append(np.mean(np.sqrt(np.square(y_test[i] - y_pred[i]))))\n",
    "\n",
    "k_mean = np.mean(k)\n",
    "\n",
    "print(k_mean)\n",
    "print()\n",
    "print(k)"
   ]
  },
  {
   "cell_type": "code",
   "execution_count": null,
   "metadata": {},
   "outputs": [],
   "source": [
    "k = []\n",
    "for i in range(0, len(y_test)):\n",
    "    k.append(np.mean(np.sqrt(np.square(y_test[i][35:37] - y_pred[i][35:37]))))\n",
    "\n",
    "k_mean = np.mean(k)\n",
    "\n",
    "print(k_mean)\n",
    "print()\n",
    "print(k)"
   ]
  },
  {
   "cell_type": "markdown",
   "metadata": {},
   "source": [
    "### inverse-scale"
   ]
  },
  {
   "cell_type": "code",
   "execution_count": null,
   "metadata": {},
   "outputs": [],
   "source": [
    "k = []\n",
    "for i in range(0, len(y_test)):\n",
    "    k.append(np.mean(np.sqrt(np.square(y_test_org[i] - y_pred_org[i]))))\n",
    "\n",
    "k_mean = np.mean(k)\n",
    "\n",
    "print(k_mean)\n",
    "print()\n",
    "print(k)"
   ]
  },
  {
   "cell_type": "code",
   "execution_count": null,
   "metadata": {},
   "outputs": [],
   "source": [
    "k = []\n",
    "for i in range(0, len(y_test)):\n",
    "    k.append(np.mean(np.sqrt(np.square(y_test_org[i][35:37] - y_pred_org[i][35:37]))))\n",
    "\n",
    "k_mean = np.mean(k)\n",
    "\n",
    "print(k_mean)\n",
    "print()\n",
    "print(k)"
   ]
  },
  {
   "cell_type": "code",
   "execution_count": null,
   "metadata": {},
   "outputs": [],
   "source": [
    "# 50 second predicts 57 second\n",
    "k = []\n",
    "for i in range(0, len(y_test)):\n",
    "    k.append(np.mean(np.sqrt(np.square(y_test_org[i][35:36] - y_pred_org[i][35:36]))))\n",
    "\n",
    "k_mean = np.mean(k)\n",
    "\n",
    "print(k_mean)\n",
    "print()\n",
    "print(k)"
   ]
  },
  {
   "cell_type": "code",
   "execution_count": null,
   "metadata": {},
   "outputs": [],
   "source": [
    "plt.plot(y_test_org[0])\n",
    "plt.plot(y_pred_org[0])"
   ]
  },
  {
   "cell_type": "code",
   "execution_count": null,
   "metadata": {},
   "outputs": [],
   "source": [
    "plt.plot(k)"
   ]
  },
  {
   "cell_type": "code",
   "execution_count": null,
   "metadata": {
    "collapsed": true
   },
   "outputs": [],
   "source": []
  },
  {
   "cell_type": "code",
   "execution_count": null,
   "metadata": {
    "collapsed": true
   },
   "outputs": [],
   "source": []
  },
  {
   "cell_type": "code",
   "execution_count": null,
   "metadata": {
    "collapsed": true
   },
   "outputs": [],
   "source": []
  },
  {
   "cell_type": "code",
   "execution_count": null,
   "metadata": {
    "collapsed": true
   },
   "outputs": [],
   "source": []
  },
  {
   "cell_type": "code",
   "execution_count": null,
   "metadata": {
    "collapsed": true
   },
   "outputs": [],
   "source": []
  },
  {
   "cell_type": "code",
   "execution_count": null,
   "metadata": {
    "collapsed": true
   },
   "outputs": [],
   "source": []
  },
  {
   "cell_type": "code",
   "execution_count": null,
   "metadata": {
    "collapsed": true
   },
   "outputs": [],
   "source": []
  },
  {
   "cell_type": "code",
   "execution_count": null,
   "metadata": {
    "collapsed": true
   },
   "outputs": [],
   "source": []
  },
  {
   "cell_type": "code",
   "execution_count": null,
   "metadata": {
    "collapsed": true
   },
   "outputs": [],
   "source": []
  },
  {
   "cell_type": "code",
   "execution_count": null,
   "metadata": {
    "collapsed": true
   },
   "outputs": [],
   "source": []
  },
  {
   "cell_type": "code",
   "execution_count": null,
   "metadata": {
    "collapsed": true
   },
   "outputs": [],
   "source": []
  },
  {
   "cell_type": "code",
   "execution_count": null,
   "metadata": {
    "collapsed": true
   },
   "outputs": [],
   "source": []
  },
  {
   "cell_type": "code",
   "execution_count": null,
   "metadata": {
    "collapsed": true
   },
   "outputs": [],
   "source": [
    "y_test[1][13:]"
   ]
  },
  {
   "cell_type": "code",
   "execution_count": null,
   "metadata": {
    "collapsed": true,
    "scrolled": true
   },
   "outputs": [],
   "source": [
    "y_pred[1][13:]"
   ]
  },
  {
   "cell_type": "code",
   "execution_count": null,
   "metadata": {
    "collapsed": true
   },
   "outputs": [],
   "source": [
    "np.mean(np.sqrt(np.square(y_test[4] - y_pred[4])))"
   ]
  },
  {
   "cell_type": "code",
   "execution_count": null,
   "metadata": {
    "collapsed": true
   },
   "outputs": [],
   "source": [
    "np.mean(np.sqrt(np.square(y_test[4][13:16] - y_pred[4][13:16])))"
   ]
  },
  {
   "cell_type": "code",
   "execution_count": null,
   "metadata": {
    "collapsed": true
   },
   "outputs": [],
   "source": []
  },
  {
   "cell_type": "code",
   "execution_count": null,
   "metadata": {
    "collapsed": true
   },
   "outputs": [],
   "source": [
    "y_pred_df = pd.DataFrame.from_dict(y_pred)"
   ]
  },
  {
   "cell_type": "code",
   "execution_count": null,
   "metadata": {
    "collapsed": true
   },
   "outputs": [],
   "source": [
    "y_pred_df.columns=['month 7','month 6','month 5','month 4','month 3','month 2','month 1']"
   ]
  },
  {
   "cell_type": "code",
   "execution_count": null,
   "metadata": {
    "collapsed": true
   },
   "outputs": [],
   "source": [
    "y_pred_df.to_csv('bid_results_v001.csv', index=False)"
   ]
  },
  {
   "cell_type": "code",
   "execution_count": null,
   "metadata": {
    "collapsed": true
   },
   "outputs": [],
   "source": [
    "y_pred_df"
   ]
  },
  {
   "cell_type": "code",
   "execution_count": null,
   "metadata": {
    "collapsed": true
   },
   "outputs": [],
   "source": []
  },
  {
   "cell_type": "code",
   "execution_count": null,
   "metadata": {
    "collapsed": true,
    "scrolled": true
   },
   "outputs": [],
   "source": [
    "# previous N sec ['bid-price']\n",
    "gap = parm_calculate_prev_bp\n",
    "\n",
    "for gap in range(1, gap+1):\n",
    "    col_name = 'bid-price-prev'+str(gap)+'sec'\n",
    "    col_data = pd.DataFrame(columns=[col_name])\n",
    "    col_data_zeros = pd.DataFrame({col_name: np.zeros(gap)})\n",
    "    print('Creating : ', col_name)  \n",
    "\n",
    "    for month in range(0, parm_ts_month):\n",
    "    #     print('month : ', month)\n",
    "        col_data.append(col_data_zeros)\n",
    "        for i in range(0, gap):\n",
    "            col_data.loc[month*parm_ts_cycle+i] = 0\n",
    "        for i in range(gap, parm_ts_cycle):\n",
    "            col_data.loc[month*parm_ts_cycle+i] = df_history_ts_process['bid-price'][month*parm_ts_cycle+i-gap]\n",
    "  \n",
    "    df_history_ts_process[col_name] = col_data\n",
    "\n",
    "print('Total records processed : ', len(col_data))  "
   ]
  },
  {
   "cell_type": "code",
   "execution_count": null,
   "metadata": {
    "collapsed": true,
    "scrolled": true
   },
   "outputs": [],
   "source": [
    "# previous 2 sec Moving Average ['bid-price']\n",
    "\n",
    "gap = parm_calculate_mv\n",
    "\n",
    "for gap in range(2, gap+1): # MV starts from 2 seconds, till parm_calculate_mv\n",
    "    col_name = 'bid-price-mv'+str(gap)+'sec'\n",
    "    col_data = pd.DataFrame(columns=[col_name])\n",
    "    col_data_zeros = pd.DataFrame({col_name: np.zeros(gap)})\n",
    "    print('Creating : ', col_name)  \n",
    "\n",
    "    for month in range(0, parm_ts_month):\n",
    "    #     print('month : ', month)\n",
    "        col_data.append(col_data_zeros)\n",
    "        for i in range(0, gap):\n",
    "            col_data.loc[month*parm_ts_cycle+i] = 0\n",
    "        for i in range(gap, parm_ts_cycle):\n",
    "            col_data.loc[month*parm_ts_cycle+i] = \\\n",
    "            np.mean(df_history_ts_process['bid-price'][month*parm_ts_cycle+i-gap:month*parm_ts_cycle+i])\n",
    "  \n",
    "    df_history_ts_process[col_name] = col_data\n",
    "\n",
    "print('Total records processed : ', len(col_data)) "
   ]
  },
  {
   "cell_type": "code",
   "execution_count": null,
   "metadata": {
    "collapsed": true,
    "scrolled": false
   },
   "outputs": [],
   "source": [
    "df_history_ts_process[1768:]"
   ]
  },
  {
   "cell_type": "code",
   "execution_count": null,
   "metadata": {
    "collapsed": true
   },
   "outputs": [],
   "source": []
  },
  {
   "cell_type": "code",
   "execution_count": null,
   "metadata": {
    "collapsed": true
   },
   "outputs": [],
   "source": []
  },
  {
   "cell_type": "code",
   "execution_count": null,
   "metadata": {
    "collapsed": true
   },
   "outputs": [],
   "source": []
  },
  {
   "cell_type": "code",
   "execution_count": null,
   "metadata": {
    "collapsed": true,
    "scrolled": true
   },
   "outputs": [],
   "source": [
    "# previous 2 sec Moving Average ['bid-price']\n",
    "\n",
    "gap = parm_calculate_mv\n",
    "\n",
    "for gap in range(1, gap+1):\n",
    "    col_name = 'bid-price-mv'+str(gap)+'sec'\n",
    "    col_data = pd.DataFrame(columns=[col_name])\n",
    "    print('Creating : ', col_name)  \n",
    "\n",
    "    for month in range(0, parm_ts_month):\n",
    "    #     print('month : ', month)\n",
    "        col_data.append(col_data_zeros)\n",
    "        for i in range(0, gap):\n",
    "            col_data.loc[month*parm_ts_cycle+i] = 0\n",
    "        for i in range(gap, parm_ts_cycle):\n",
    "            col_data.loc[month*parm_ts_cycle+i] = df_history_ts_process['bid-price'][month*parm_ts_cycle+i-gap]\n",
    "  \n",
    "    df_history_ts_process[col_name] = col_data\n",
    "\n",
    "print('len : ', len(col_data)) "
   ]
  },
  {
   "cell_type": "code",
   "execution_count": null,
   "metadata": {
    "collapsed": true
   },
   "outputs": [],
   "source": []
  },
  {
   "cell_type": "code",
   "execution_count": null,
   "metadata": {
    "collapsed": true
   },
   "outputs": [],
   "source": []
  },
  {
   "cell_type": "code",
   "execution_count": null,
   "metadata": {
    "collapsed": true,
    "scrolled": true
   },
   "outputs": [],
   "source": [
    "# previous N sec\n",
    "gap = 1\n",
    "gap = 2\n",
    "gap = 3\n",
    "gap = 4\n",
    "gap = 5\n",
    "gap = 6\n",
    "gap = 7\n",
    "gap = 8\n",
    "gap = 9\n",
    "gap = 10\n",
    "\n",
    "col_name = 'bid-price-prev'+str(gap)+'sec'\n",
    "col_data = pd.DataFrame(columns=[col_name])\n",
    "\n",
    "for month in range(0, parm_ts_month):\n",
    "#     print('month : ', month)\n",
    "    col_data.append(col_data_zeros)\n",
    "    for i in range(0, gap):\n",
    "        col_data.loc[month*parm_ts_cycle+i] = 0\n",
    "    for i in range(gap, parm_ts_cycle):\n",
    "        col_data.loc[month*parm_ts_cycle+i] = df_history_ts_process['bid-price'][month*parm_ts_cycle+i]\n",
    "    \n",
    "print('len : ', len(col_data))    \n",
    "df_history_ts_process[col_name] = col_data"
   ]
  },
  {
   "cell_type": "code",
   "execution_count": null,
   "metadata": {
    "collapsed": true
   },
   "outputs": [],
   "source": [
    "len(col_data)"
   ]
  },
  {
   "cell_type": "code",
   "execution_count": null,
   "metadata": {
    "collapsed": true
   },
   "outputs": [],
   "source": []
  },
  {
   "cell_type": "code",
   "execution_count": null,
   "metadata": {
    "collapsed": true
   },
   "outputs": [],
   "source": []
  },
  {
   "cell_type": "code",
   "execution_count": null,
   "metadata": {
    "collapsed": true
   },
   "outputs": [],
   "source": []
  },
  {
   "cell_type": "code",
   "execution_count": null,
   "metadata": {
    "collapsed": true
   },
   "outputs": [],
   "source": []
  },
  {
   "cell_type": "code",
   "execution_count": null,
   "metadata": {
    "collapsed": true
   },
   "outputs": [],
   "source": []
  },
  {
   "cell_type": "code",
   "execution_count": null,
   "metadata": {
    "collapsed": true
   },
   "outputs": [],
   "source": []
  },
  {
   "cell_type": "code",
   "execution_count": null,
   "metadata": {
    "collapsed": true
   },
   "outputs": [],
   "source": []
  },
  {
   "cell_type": "code",
   "execution_count": null,
   "metadata": {
    "collapsed": true
   },
   "outputs": [],
   "source": []
  },
  {
   "cell_type": "code",
   "execution_count": null,
   "metadata": {
    "collapsed": true,
    "scrolled": false
   },
   "outputs": [],
   "source": [
    "# previous 1 sec\n",
    "gap = 10\n",
    "\n",
    "col_data = pd.DataFrame({'bid-price-prev'+str(gap)+'sec': np.zeros(gap)})\n",
    "\n",
    "# for i in range(gap, len(df_history_ts)-1768):\n",
    "for i in range(gap, parm_ts_cycle):\n",
    "#     print(df_history_ts['bid-price'][i])\n",
    "    col_data.loc[i] = df_history_ts['bid-price'][i]\n",
    "\n",
    "print(len(col_data))"
   ]
  },
  {
   "cell_type": "code",
   "execution_count": null,
   "metadata": {
    "collapsed": true
   },
   "outputs": [],
   "source": []
  },
  {
   "cell_type": "code",
   "execution_count": null,
   "metadata": {
    "collapsed": true
   },
   "outputs": [],
   "source": [
    "df_history_ts_process = df_history_ts.copy()"
   ]
  },
  {
   "cell_type": "code",
   "execution_count": null,
   "metadata": {
    "collapsed": true
   },
   "outputs": [],
   "source": [
    "df_history_table_process['tmp'] = col_data['bid-price-prev'+str(gap)+'sec']"
   ]
  },
  {
   "cell_type": "code",
   "execution_count": null,
   "metadata": {
    "collapsed": true
   },
   "outputs": [],
   "source": [
    "df_history_table_process.tail()"
   ]
  },
  {
   "cell_type": "code",
   "execution_count": null,
   "metadata": {
    "collapsed": true
   },
   "outputs": [],
   "source": []
  },
  {
   "cell_type": "code",
   "execution_count": null,
   "metadata": {
    "collapsed": true
   },
   "outputs": [],
   "source": []
  },
  {
   "cell_type": "code",
   "execution_count": null,
   "metadata": {
    "collapsed": true,
    "scrolled": true
   },
   "outputs": [],
   "source": [
    "col_data"
   ]
  },
  {
   "cell_type": "code",
   "execution_count": null,
   "metadata": {
    "collapsed": true
   },
   "outputs": [],
   "source": []
  },
  {
   "cell_type": "code",
   "execution_count": null,
   "metadata": {
    "collapsed": true
   },
   "outputs": [],
   "source": []
  },
  {
   "cell_type": "code",
   "execution_count": null,
   "metadata": {
    "collapsed": true
   },
   "outputs": [],
   "source": []
  },
  {
   "cell_type": "markdown",
   "metadata": {},
   "source": [
    "---"
   ]
  },
  {
   "cell_type": "markdown",
   "metadata": {},
   "source": [
    "### The End"
   ]
  }
 ],
 "metadata": {
  "kernelspec": {
   "display_name": "Python 3",
   "language": "python",
   "name": "python3"
  },
  "language_info": {
   "codemirror_mode": {
    "name": "ipython",
    "version": 3
   },
   "file_extension": ".py",
   "mimetype": "text/x-python",
   "name": "python",
   "nbconvert_exporter": "python",
   "pygments_lexer": "ipython3",
   "version": "3.5.3"
  }
 },
 "nbformat": 4,
 "nbformat_minor": 1
}
